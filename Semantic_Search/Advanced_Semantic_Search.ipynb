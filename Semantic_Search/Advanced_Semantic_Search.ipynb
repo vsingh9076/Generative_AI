{
  "cells": [
    {
      "cell_type": "markdown",
      "source": [
        "**Credit : [YouTube](https://www.youtube.com/watch?v=frnKiugyFRI&t=531s)**"
      ],
      "metadata": {
        "id": "8lwWlvb54bTr"
      }
    },
    {
      "cell_type": "code",
      "execution_count": null,
      "metadata": {
        "id": "u2soKt414PYX"
      },
      "outputs": [],
      "source": [
        "# pip install pandas, openai, elasticsearch\n",
        "import pandas as pd"
      ]
    },
    {
      "cell_type": "code",
      "execution_count": null,
      "metadata": {
        "colab": {
          "base_uri": "https://localhost:8080/",
          "height": 310
        },
        "id": "cruLmEc14PYX",
        "outputId": "1d94b860-1f32-4f4c-ab19-82c688464a43"
      },
      "outputs": [
        {
          "output_type": "execute_result",
          "data": {
            "text/plain": [
              "   ProductID                                        ProductName ProductBrand  \\\n",
              "0   10017413  DKNY Unisex Black & Grey Printed Medium Trolle...         DKNY   \n",
              "1   10016283  EthnoVogue Women Beige & Grey Made to Measure ...   EthnoVogue   \n",
              "2   10009781  SPYKAR Women Pink Alexa Super Skinny Fit High-...       SPYKAR   \n",
              "3   10015921  Raymond Men Blue Self-Design Single-Breasted B...      Raymond   \n",
              "4   10017833  Parx Men Brown & Off-White Slim Fit Printed Ca...         Parx   \n",
              "\n",
              "   Gender  Price (INR)  NumImages  \\\n",
              "0  Unisex        11745          7   \n",
              "1   Women         5810          7   \n",
              "2   Women          899          7   \n",
              "3     Men         5599          5   \n",
              "4     Men          759          5   \n",
              "\n",
              "                                         Description PrimaryColor  \n",
              "0  Black and grey printed medium trolley bag, sec...        Black  \n",
              "1  Beige & Grey made to measure kurta with churid...        Beige  \n",
              "2  Pink coloured wash 5-pocket high-rise cropped ...         Pink  \n",
              "3  Blue self-design bandhgala suitBlue self-desig...         Blue  \n",
              "4  Brown and off-white printed casual shirt, has ...        White  "
            ],
            "text/html": [
              "\n",
              "  <div id=\"df-3f5d9232-0259-4762-b79c-ed4dbb0d337f\" class=\"colab-df-container\">\n",
              "    <div>\n",
              "<style scoped>\n",
              "    .dataframe tbody tr th:only-of-type {\n",
              "        vertical-align: middle;\n",
              "    }\n",
              "\n",
              "    .dataframe tbody tr th {\n",
              "        vertical-align: top;\n",
              "    }\n",
              "\n",
              "    .dataframe thead th {\n",
              "        text-align: right;\n",
              "    }\n",
              "</style>\n",
              "<table border=\"1\" class=\"dataframe\">\n",
              "  <thead>\n",
              "    <tr style=\"text-align: right;\">\n",
              "      <th></th>\n",
              "      <th>ProductID</th>\n",
              "      <th>ProductName</th>\n",
              "      <th>ProductBrand</th>\n",
              "      <th>Gender</th>\n",
              "      <th>Price (INR)</th>\n",
              "      <th>NumImages</th>\n",
              "      <th>Description</th>\n",
              "      <th>PrimaryColor</th>\n",
              "    </tr>\n",
              "  </thead>\n",
              "  <tbody>\n",
              "    <tr>\n",
              "      <th>0</th>\n",
              "      <td>10017413</td>\n",
              "      <td>DKNY Unisex Black &amp; Grey Printed Medium Trolle...</td>\n",
              "      <td>DKNY</td>\n",
              "      <td>Unisex</td>\n",
              "      <td>11745</td>\n",
              "      <td>7</td>\n",
              "      <td>Black and grey printed medium trolley bag, sec...</td>\n",
              "      <td>Black</td>\n",
              "    </tr>\n",
              "    <tr>\n",
              "      <th>1</th>\n",
              "      <td>10016283</td>\n",
              "      <td>EthnoVogue Women Beige &amp; Grey Made to Measure ...</td>\n",
              "      <td>EthnoVogue</td>\n",
              "      <td>Women</td>\n",
              "      <td>5810</td>\n",
              "      <td>7</td>\n",
              "      <td>Beige &amp; Grey made to measure kurta with churid...</td>\n",
              "      <td>Beige</td>\n",
              "    </tr>\n",
              "    <tr>\n",
              "      <th>2</th>\n",
              "      <td>10009781</td>\n",
              "      <td>SPYKAR Women Pink Alexa Super Skinny Fit High-...</td>\n",
              "      <td>SPYKAR</td>\n",
              "      <td>Women</td>\n",
              "      <td>899</td>\n",
              "      <td>7</td>\n",
              "      <td>Pink coloured wash 5-pocket high-rise cropped ...</td>\n",
              "      <td>Pink</td>\n",
              "    </tr>\n",
              "    <tr>\n",
              "      <th>3</th>\n",
              "      <td>10015921</td>\n",
              "      <td>Raymond Men Blue Self-Design Single-Breasted B...</td>\n",
              "      <td>Raymond</td>\n",
              "      <td>Men</td>\n",
              "      <td>5599</td>\n",
              "      <td>5</td>\n",
              "      <td>Blue self-design bandhgala suitBlue self-desig...</td>\n",
              "      <td>Blue</td>\n",
              "    </tr>\n",
              "    <tr>\n",
              "      <th>4</th>\n",
              "      <td>10017833</td>\n",
              "      <td>Parx Men Brown &amp; Off-White Slim Fit Printed Ca...</td>\n",
              "      <td>Parx</td>\n",
              "      <td>Men</td>\n",
              "      <td>759</td>\n",
              "      <td>5</td>\n",
              "      <td>Brown and off-white printed casual shirt, has ...</td>\n",
              "      <td>White</td>\n",
              "    </tr>\n",
              "  </tbody>\n",
              "</table>\n",
              "</div>\n",
              "    <div class=\"colab-df-buttons\">\n",
              "\n",
              "  <div class=\"colab-df-container\">\n",
              "    <button class=\"colab-df-convert\" onclick=\"convertToInteractive('df-3f5d9232-0259-4762-b79c-ed4dbb0d337f')\"\n",
              "            title=\"Convert this dataframe to an interactive table.\"\n",
              "            style=\"display:none;\">\n",
              "\n",
              "  <svg xmlns=\"http://www.w3.org/2000/svg\" height=\"24px\" viewBox=\"0 -960 960 960\">\n",
              "    <path d=\"M120-120v-720h720v720H120Zm60-500h600v-160H180v160Zm220 220h160v-160H400v160Zm0 220h160v-160H400v160ZM180-400h160v-160H180v160Zm440 0h160v-160H620v160ZM180-180h160v-160H180v160Zm440 0h160v-160H620v160Z\"/>\n",
              "  </svg>\n",
              "    </button>\n",
              "\n",
              "  <style>\n",
              "    .colab-df-container {\n",
              "      display:flex;\n",
              "      gap: 12px;\n",
              "    }\n",
              "\n",
              "    .colab-df-convert {\n",
              "      background-color: #E8F0FE;\n",
              "      border: none;\n",
              "      border-radius: 50%;\n",
              "      cursor: pointer;\n",
              "      display: none;\n",
              "      fill: #1967D2;\n",
              "      height: 32px;\n",
              "      padding: 0 0 0 0;\n",
              "      width: 32px;\n",
              "    }\n",
              "\n",
              "    .colab-df-convert:hover {\n",
              "      background-color: #E2EBFA;\n",
              "      box-shadow: 0px 1px 2px rgba(60, 64, 67, 0.3), 0px 1px 3px 1px rgba(60, 64, 67, 0.15);\n",
              "      fill: #174EA6;\n",
              "    }\n",
              "\n",
              "    .colab-df-buttons div {\n",
              "      margin-bottom: 4px;\n",
              "    }\n",
              "\n",
              "    [theme=dark] .colab-df-convert {\n",
              "      background-color: #3B4455;\n",
              "      fill: #D2E3FC;\n",
              "    }\n",
              "\n",
              "    [theme=dark] .colab-df-convert:hover {\n",
              "      background-color: #434B5C;\n",
              "      box-shadow: 0px 1px 3px 1px rgba(0, 0, 0, 0.15);\n",
              "      filter: drop-shadow(0px 1px 2px rgba(0, 0, 0, 0.3));\n",
              "      fill: #FFFFFF;\n",
              "    }\n",
              "  </style>\n",
              "\n",
              "    <script>\n",
              "      const buttonEl =\n",
              "        document.querySelector('#df-3f5d9232-0259-4762-b79c-ed4dbb0d337f button.colab-df-convert');\n",
              "      buttonEl.style.display =\n",
              "        google.colab.kernel.accessAllowed ? 'block' : 'none';\n",
              "\n",
              "      async function convertToInteractive(key) {\n",
              "        const element = document.querySelector('#df-3f5d9232-0259-4762-b79c-ed4dbb0d337f');\n",
              "        const dataTable =\n",
              "          await google.colab.kernel.invokeFunction('convertToInteractive',\n",
              "                                                    [key], {});\n",
              "        if (!dataTable) return;\n",
              "\n",
              "        const docLinkHtml = 'Like what you see? Visit the ' +\n",
              "          '<a target=\"_blank\" href=https://colab.research.google.com/notebooks/data_table.ipynb>data table notebook</a>'\n",
              "          + ' to learn more about interactive tables.';\n",
              "        element.innerHTML = '';\n",
              "        dataTable['output_type'] = 'display_data';\n",
              "        await google.colab.output.renderOutput(dataTable, element);\n",
              "        const docLink = document.createElement('div');\n",
              "        docLink.innerHTML = docLinkHtml;\n",
              "        element.appendChild(docLink);\n",
              "      }\n",
              "    </script>\n",
              "  </div>\n",
              "\n",
              "\n",
              "<div id=\"df-34f15b95-2a4b-4034-b4fd-f38f71d4a0ee\">\n",
              "  <button class=\"colab-df-quickchart\" onclick=\"quickchart('df-34f15b95-2a4b-4034-b4fd-f38f71d4a0ee')\"\n",
              "            title=\"Suggest charts\"\n",
              "            style=\"display:none;\">\n",
              "\n",
              "<svg xmlns=\"http://www.w3.org/2000/svg\" height=\"24px\"viewBox=\"0 0 24 24\"\n",
              "     width=\"24px\">\n",
              "    <g>\n",
              "        <path d=\"M19 3H5c-1.1 0-2 .9-2 2v14c0 1.1.9 2 2 2h14c1.1 0 2-.9 2-2V5c0-1.1-.9-2-2-2zM9 17H7v-7h2v7zm4 0h-2V7h2v10zm4 0h-2v-4h2v4z\"/>\n",
              "    </g>\n",
              "</svg>\n",
              "  </button>\n",
              "\n",
              "<style>\n",
              "  .colab-df-quickchart {\n",
              "      --bg-color: #E8F0FE;\n",
              "      --fill-color: #1967D2;\n",
              "      --hover-bg-color: #E2EBFA;\n",
              "      --hover-fill-color: #174EA6;\n",
              "      --disabled-fill-color: #AAA;\n",
              "      --disabled-bg-color: #DDD;\n",
              "  }\n",
              "\n",
              "  [theme=dark] .colab-df-quickchart {\n",
              "      --bg-color: #3B4455;\n",
              "      --fill-color: #D2E3FC;\n",
              "      --hover-bg-color: #434B5C;\n",
              "      --hover-fill-color: #FFFFFF;\n",
              "      --disabled-bg-color: #3B4455;\n",
              "      --disabled-fill-color: #666;\n",
              "  }\n",
              "\n",
              "  .colab-df-quickchart {\n",
              "    background-color: var(--bg-color);\n",
              "    border: none;\n",
              "    border-radius: 50%;\n",
              "    cursor: pointer;\n",
              "    display: none;\n",
              "    fill: var(--fill-color);\n",
              "    height: 32px;\n",
              "    padding: 0;\n",
              "    width: 32px;\n",
              "  }\n",
              "\n",
              "  .colab-df-quickchart:hover {\n",
              "    background-color: var(--hover-bg-color);\n",
              "    box-shadow: 0 1px 2px rgba(60, 64, 67, 0.3), 0 1px 3px 1px rgba(60, 64, 67, 0.15);\n",
              "    fill: var(--button-hover-fill-color);\n",
              "  }\n",
              "\n",
              "  .colab-df-quickchart-complete:disabled,\n",
              "  .colab-df-quickchart-complete:disabled:hover {\n",
              "    background-color: var(--disabled-bg-color);\n",
              "    fill: var(--disabled-fill-color);\n",
              "    box-shadow: none;\n",
              "  }\n",
              "\n",
              "  .colab-df-spinner {\n",
              "    border: 2px solid var(--fill-color);\n",
              "    border-color: transparent;\n",
              "    border-bottom-color: var(--fill-color);\n",
              "    animation:\n",
              "      spin 1s steps(1) infinite;\n",
              "  }\n",
              "\n",
              "  @keyframes spin {\n",
              "    0% {\n",
              "      border-color: transparent;\n",
              "      border-bottom-color: var(--fill-color);\n",
              "      border-left-color: var(--fill-color);\n",
              "    }\n",
              "    20% {\n",
              "      border-color: transparent;\n",
              "      border-left-color: var(--fill-color);\n",
              "      border-top-color: var(--fill-color);\n",
              "    }\n",
              "    30% {\n",
              "      border-color: transparent;\n",
              "      border-left-color: var(--fill-color);\n",
              "      border-top-color: var(--fill-color);\n",
              "      border-right-color: var(--fill-color);\n",
              "    }\n",
              "    40% {\n",
              "      border-color: transparent;\n",
              "      border-right-color: var(--fill-color);\n",
              "      border-top-color: var(--fill-color);\n",
              "    }\n",
              "    60% {\n",
              "      border-color: transparent;\n",
              "      border-right-color: var(--fill-color);\n",
              "    }\n",
              "    80% {\n",
              "      border-color: transparent;\n",
              "      border-right-color: var(--fill-color);\n",
              "      border-bottom-color: var(--fill-color);\n",
              "    }\n",
              "    90% {\n",
              "      border-color: transparent;\n",
              "      border-bottom-color: var(--fill-color);\n",
              "    }\n",
              "  }\n",
              "</style>\n",
              "\n",
              "  <script>\n",
              "    async function quickchart(key) {\n",
              "      const quickchartButtonEl =\n",
              "        document.querySelector('#' + key + ' button');\n",
              "      quickchartButtonEl.disabled = true;  // To prevent multiple clicks.\n",
              "      quickchartButtonEl.classList.add('colab-df-spinner');\n",
              "      try {\n",
              "        const charts = await google.colab.kernel.invokeFunction(\n",
              "            'suggestCharts', [key], {});\n",
              "      } catch (error) {\n",
              "        console.error('Error during call to suggestCharts:', error);\n",
              "      }\n",
              "      quickchartButtonEl.classList.remove('colab-df-spinner');\n",
              "      quickchartButtonEl.classList.add('colab-df-quickchart-complete');\n",
              "    }\n",
              "    (() => {\n",
              "      let quickchartButtonEl =\n",
              "        document.querySelector('#df-34f15b95-2a4b-4034-b4fd-f38f71d4a0ee button');\n",
              "      quickchartButtonEl.style.display =\n",
              "        google.colab.kernel.accessAllowed ? 'block' : 'none';\n",
              "    })();\n",
              "  </script>\n",
              "</div>\n",
              "\n",
              "    </div>\n",
              "  </div>\n"
            ]
          },
          "metadata": {},
          "execution_count": 2
        }
      ],
      "source": [
        "df = pd.read_csv(\"/content/myntra_products_catalog.csv\")[:500]\n",
        "df.head()"
      ]
    },
    {
      "cell_type": "code",
      "execution_count": null,
      "metadata": {
        "colab": {
          "base_uri": "https://localhost:8080/"
        },
        "id": "vR5r8M_Z4PYY",
        "outputId": "b6c26dbc-1bea-4922-92cd-bb6922f45580"
      },
      "outputs": [
        {
          "output_type": "execute_result",
          "data": {
            "text/plain": [
              "(468, 8)"
            ]
          },
          "metadata": {},
          "execution_count": 3
        }
      ],
      "source": [
        "df.dropna(inplace=True)\n",
        "df.shape"
      ]
    },
    {
      "cell_type": "code",
      "execution_count": null,
      "metadata": {
        "colab": {
          "base_uri": "https://localhost:8080/",
          "height": 199
        },
        "id": "e5uriWJj4PYY",
        "outputId": "5119f274-edaa-4d35-9ce0-f07bd2c6011f"
      },
      "outputs": [
        {
          "output_type": "execute_result",
          "data": {
            "text/plain": [
              "   ProductID                                        ProductName ProductBrand  \\\n",
              "0   10017413  DKNY Unisex Black & Grey Printed Medium Trolle...         DKNY   \n",
              "1   10016283  EthnoVogue Women Beige & Grey Made to Measure ...   EthnoVogue   \n",
              "\n",
              "   Gender  Price (INR)  NumImages  \\\n",
              "0  Unisex        11745          7   \n",
              "1   Women         5810          7   \n",
              "\n",
              "                                         Description PrimaryColor  \\\n",
              "0  Black and grey printed medium trolley bag, sec...        Black   \n",
              "1  Beige & Grey made to measure kurta with churid...        Beige   \n",
              "\n",
              "                                     NameDescription  \n",
              "0  DKNY Unisex Black & Grey Printed Medium Trolle...  \n",
              "1  EthnoVogue Women Beige & Grey Made to Measure ...  "
            ],
            "text/html": [
              "\n",
              "  <div id=\"df-03b1f5e3-e760-4a80-9c82-2f0a08f36d7c\" class=\"colab-df-container\">\n",
              "    <div>\n",
              "<style scoped>\n",
              "    .dataframe tbody tr th:only-of-type {\n",
              "        vertical-align: middle;\n",
              "    }\n",
              "\n",
              "    .dataframe tbody tr th {\n",
              "        vertical-align: top;\n",
              "    }\n",
              "\n",
              "    .dataframe thead th {\n",
              "        text-align: right;\n",
              "    }\n",
              "</style>\n",
              "<table border=\"1\" class=\"dataframe\">\n",
              "  <thead>\n",
              "    <tr style=\"text-align: right;\">\n",
              "      <th></th>\n",
              "      <th>ProductID</th>\n",
              "      <th>ProductName</th>\n",
              "      <th>ProductBrand</th>\n",
              "      <th>Gender</th>\n",
              "      <th>Price (INR)</th>\n",
              "      <th>NumImages</th>\n",
              "      <th>Description</th>\n",
              "      <th>PrimaryColor</th>\n",
              "      <th>NameDescription</th>\n",
              "    </tr>\n",
              "  </thead>\n",
              "  <tbody>\n",
              "    <tr>\n",
              "      <th>0</th>\n",
              "      <td>10017413</td>\n",
              "      <td>DKNY Unisex Black &amp; Grey Printed Medium Trolle...</td>\n",
              "      <td>DKNY</td>\n",
              "      <td>Unisex</td>\n",
              "      <td>11745</td>\n",
              "      <td>7</td>\n",
              "      <td>Black and grey printed medium trolley bag, sec...</td>\n",
              "      <td>Black</td>\n",
              "      <td>DKNY Unisex Black &amp; Grey Printed Medium Trolle...</td>\n",
              "    </tr>\n",
              "    <tr>\n",
              "      <th>1</th>\n",
              "      <td>10016283</td>\n",
              "      <td>EthnoVogue Women Beige &amp; Grey Made to Measure ...</td>\n",
              "      <td>EthnoVogue</td>\n",
              "      <td>Women</td>\n",
              "      <td>5810</td>\n",
              "      <td>7</td>\n",
              "      <td>Beige &amp; Grey made to measure kurta with churid...</td>\n",
              "      <td>Beige</td>\n",
              "      <td>EthnoVogue Women Beige &amp; Grey Made to Measure ...</td>\n",
              "    </tr>\n",
              "  </tbody>\n",
              "</table>\n",
              "</div>\n",
              "    <div class=\"colab-df-buttons\">\n",
              "\n",
              "  <div class=\"colab-df-container\">\n",
              "    <button class=\"colab-df-convert\" onclick=\"convertToInteractive('df-03b1f5e3-e760-4a80-9c82-2f0a08f36d7c')\"\n",
              "            title=\"Convert this dataframe to an interactive table.\"\n",
              "            style=\"display:none;\">\n",
              "\n",
              "  <svg xmlns=\"http://www.w3.org/2000/svg\" height=\"24px\" viewBox=\"0 -960 960 960\">\n",
              "    <path d=\"M120-120v-720h720v720H120Zm60-500h600v-160H180v160Zm220 220h160v-160H400v160Zm0 220h160v-160H400v160ZM180-400h160v-160H180v160Zm440 0h160v-160H620v160ZM180-180h160v-160H180v160Zm440 0h160v-160H620v160Z\"/>\n",
              "  </svg>\n",
              "    </button>\n",
              "\n",
              "  <style>\n",
              "    .colab-df-container {\n",
              "      display:flex;\n",
              "      gap: 12px;\n",
              "    }\n",
              "\n",
              "    .colab-df-convert {\n",
              "      background-color: #E8F0FE;\n",
              "      border: none;\n",
              "      border-radius: 50%;\n",
              "      cursor: pointer;\n",
              "      display: none;\n",
              "      fill: #1967D2;\n",
              "      height: 32px;\n",
              "      padding: 0 0 0 0;\n",
              "      width: 32px;\n",
              "    }\n",
              "\n",
              "    .colab-df-convert:hover {\n",
              "      background-color: #E2EBFA;\n",
              "      box-shadow: 0px 1px 2px rgba(60, 64, 67, 0.3), 0px 1px 3px 1px rgba(60, 64, 67, 0.15);\n",
              "      fill: #174EA6;\n",
              "    }\n",
              "\n",
              "    .colab-df-buttons div {\n",
              "      margin-bottom: 4px;\n",
              "    }\n",
              "\n",
              "    [theme=dark] .colab-df-convert {\n",
              "      background-color: #3B4455;\n",
              "      fill: #D2E3FC;\n",
              "    }\n",
              "\n",
              "    [theme=dark] .colab-df-convert:hover {\n",
              "      background-color: #434B5C;\n",
              "      box-shadow: 0px 1px 3px 1px rgba(0, 0, 0, 0.15);\n",
              "      filter: drop-shadow(0px 1px 2px rgba(0, 0, 0, 0.3));\n",
              "      fill: #FFFFFF;\n",
              "    }\n",
              "  </style>\n",
              "\n",
              "    <script>\n",
              "      const buttonEl =\n",
              "        document.querySelector('#df-03b1f5e3-e760-4a80-9c82-2f0a08f36d7c button.colab-df-convert');\n",
              "      buttonEl.style.display =\n",
              "        google.colab.kernel.accessAllowed ? 'block' : 'none';\n",
              "\n",
              "      async function convertToInteractive(key) {\n",
              "        const element = document.querySelector('#df-03b1f5e3-e760-4a80-9c82-2f0a08f36d7c');\n",
              "        const dataTable =\n",
              "          await google.colab.kernel.invokeFunction('convertToInteractive',\n",
              "                                                    [key], {});\n",
              "        if (!dataTable) return;\n",
              "\n",
              "        const docLinkHtml = 'Like what you see? Visit the ' +\n",
              "          '<a target=\"_blank\" href=https://colab.research.google.com/notebooks/data_table.ipynb>data table notebook</a>'\n",
              "          + ' to learn more about interactive tables.';\n",
              "        element.innerHTML = '';\n",
              "        dataTable['output_type'] = 'display_data';\n",
              "        await google.colab.output.renderOutput(dataTable, element);\n",
              "        const docLink = document.createElement('div');\n",
              "        docLink.innerHTML = docLinkHtml;\n",
              "        element.appendChild(docLink);\n",
              "      }\n",
              "    </script>\n",
              "  </div>\n",
              "\n",
              "\n",
              "<div id=\"df-1d1c45e7-e285-4707-8f00-f19edaba266a\">\n",
              "  <button class=\"colab-df-quickchart\" onclick=\"quickchart('df-1d1c45e7-e285-4707-8f00-f19edaba266a')\"\n",
              "            title=\"Suggest charts\"\n",
              "            style=\"display:none;\">\n",
              "\n",
              "<svg xmlns=\"http://www.w3.org/2000/svg\" height=\"24px\"viewBox=\"0 0 24 24\"\n",
              "     width=\"24px\">\n",
              "    <g>\n",
              "        <path d=\"M19 3H5c-1.1 0-2 .9-2 2v14c0 1.1.9 2 2 2h14c1.1 0 2-.9 2-2V5c0-1.1-.9-2-2-2zM9 17H7v-7h2v7zm4 0h-2V7h2v10zm4 0h-2v-4h2v4z\"/>\n",
              "    </g>\n",
              "</svg>\n",
              "  </button>\n",
              "\n",
              "<style>\n",
              "  .colab-df-quickchart {\n",
              "      --bg-color: #E8F0FE;\n",
              "      --fill-color: #1967D2;\n",
              "      --hover-bg-color: #E2EBFA;\n",
              "      --hover-fill-color: #174EA6;\n",
              "      --disabled-fill-color: #AAA;\n",
              "      --disabled-bg-color: #DDD;\n",
              "  }\n",
              "\n",
              "  [theme=dark] .colab-df-quickchart {\n",
              "      --bg-color: #3B4455;\n",
              "      --fill-color: #D2E3FC;\n",
              "      --hover-bg-color: #434B5C;\n",
              "      --hover-fill-color: #FFFFFF;\n",
              "      --disabled-bg-color: #3B4455;\n",
              "      --disabled-fill-color: #666;\n",
              "  }\n",
              "\n",
              "  .colab-df-quickchart {\n",
              "    background-color: var(--bg-color);\n",
              "    border: none;\n",
              "    border-radius: 50%;\n",
              "    cursor: pointer;\n",
              "    display: none;\n",
              "    fill: var(--fill-color);\n",
              "    height: 32px;\n",
              "    padding: 0;\n",
              "    width: 32px;\n",
              "  }\n",
              "\n",
              "  .colab-df-quickchart:hover {\n",
              "    background-color: var(--hover-bg-color);\n",
              "    box-shadow: 0 1px 2px rgba(60, 64, 67, 0.3), 0 1px 3px 1px rgba(60, 64, 67, 0.15);\n",
              "    fill: var(--button-hover-fill-color);\n",
              "  }\n",
              "\n",
              "  .colab-df-quickchart-complete:disabled,\n",
              "  .colab-df-quickchart-complete:disabled:hover {\n",
              "    background-color: var(--disabled-bg-color);\n",
              "    fill: var(--disabled-fill-color);\n",
              "    box-shadow: none;\n",
              "  }\n",
              "\n",
              "  .colab-df-spinner {\n",
              "    border: 2px solid var(--fill-color);\n",
              "    border-color: transparent;\n",
              "    border-bottom-color: var(--fill-color);\n",
              "    animation:\n",
              "      spin 1s steps(1) infinite;\n",
              "  }\n",
              "\n",
              "  @keyframes spin {\n",
              "    0% {\n",
              "      border-color: transparent;\n",
              "      border-bottom-color: var(--fill-color);\n",
              "      border-left-color: var(--fill-color);\n",
              "    }\n",
              "    20% {\n",
              "      border-color: transparent;\n",
              "      border-left-color: var(--fill-color);\n",
              "      border-top-color: var(--fill-color);\n",
              "    }\n",
              "    30% {\n",
              "      border-color: transparent;\n",
              "      border-left-color: var(--fill-color);\n",
              "      border-top-color: var(--fill-color);\n",
              "      border-right-color: var(--fill-color);\n",
              "    }\n",
              "    40% {\n",
              "      border-color: transparent;\n",
              "      border-right-color: var(--fill-color);\n",
              "      border-top-color: var(--fill-color);\n",
              "    }\n",
              "    60% {\n",
              "      border-color: transparent;\n",
              "      border-right-color: var(--fill-color);\n",
              "    }\n",
              "    80% {\n",
              "      border-color: transparent;\n",
              "      border-right-color: var(--fill-color);\n",
              "      border-bottom-color: var(--fill-color);\n",
              "    }\n",
              "    90% {\n",
              "      border-color: transparent;\n",
              "      border-bottom-color: var(--fill-color);\n",
              "    }\n",
              "  }\n",
              "</style>\n",
              "\n",
              "  <script>\n",
              "    async function quickchart(key) {\n",
              "      const quickchartButtonEl =\n",
              "        document.querySelector('#' + key + ' button');\n",
              "      quickchartButtonEl.disabled = true;  // To prevent multiple clicks.\n",
              "      quickchartButtonEl.classList.add('colab-df-spinner');\n",
              "      try {\n",
              "        const charts = await google.colab.kernel.invokeFunction(\n",
              "            'suggestCharts', [key], {});\n",
              "      } catch (error) {\n",
              "        console.error('Error during call to suggestCharts:', error);\n",
              "      }\n",
              "      quickchartButtonEl.classList.remove('colab-df-spinner');\n",
              "      quickchartButtonEl.classList.add('colab-df-quickchart-complete');\n",
              "    }\n",
              "    (() => {\n",
              "      let quickchartButtonEl =\n",
              "        document.querySelector('#df-1d1c45e7-e285-4707-8f00-f19edaba266a button');\n",
              "      quickchartButtonEl.style.display =\n",
              "        google.colab.kernel.accessAllowed ? 'block' : 'none';\n",
              "    })();\n",
              "  </script>\n",
              "</div>\n",
              "\n",
              "    </div>\n",
              "  </div>\n"
            ]
          },
          "metadata": {},
          "execution_count": 4
        }
      ],
      "source": [
        "df[\"NameDescription\"] = df[\"ProductName\"] + df[\"Description\"]\n",
        "df.head(2)"
      ]
    },
    {
      "cell_type": "code",
      "execution_count": null,
      "metadata": {
        "colab": {
          "base_uri": "https://localhost:8080/"
        },
        "id": "svW1T7qA4PYY",
        "outputId": "bde53dc7-d046-41b0-9a1c-5f9fefe9838b"
      },
      "outputs": [
        {
          "output_type": "stream",
          "name": "stdout",
          "text": [
            "DKNY Unisex Black & Grey Printed Medium Trolley Bag\n",
            "Unisex\n",
            "11745\n",
            " Black\n",
            "EthnoVogue Women Beige & Grey Made to Measure Custom Made Kurta Set with Jacket\n",
            "Women\n",
            "5810\n",
            " Beige\n",
            "SPYKAR Women Pink Alexa Super Skinny Fit High-Rise Clean Look Stretchable Cropped Jeans\n",
            "Women\n",
            "899\n",
            " Pink\n"
          ]
        }
      ],
      "source": [
        "for i in range(3):\n",
        "    print(df[\"ProductName\"].iloc[i])\n",
        "    print(df[\"Gender\"].iloc[i])\n",
        "    print(df[\"Price (INR)\"].iloc[i])\n",
        "    print(df[\"PrimaryColor\"].iloc[i])"
      ]
    },
    {
      "cell_type": "code",
      "execution_count": null,
      "metadata": {
        "colab": {
          "base_uri": "https://localhost:8080/"
        },
        "id": "PXiMrDxS4PYY",
        "outputId": "36596052-1774-4b24-be16-278efaabd8f3"
      },
      "outputs": [
        {
          "output_type": "stream",
          "name": "stdout",
          "text": [
            "Collecting openai\n",
            "  Downloading openai-1.5.0-py3-none-any.whl (223 kB)\n",
            "\u001b[2K     \u001b[90m━━━━━━━━━━━━━━━━━━━━━━━━━━━━━━━━━━━━━━━━\u001b[0m \u001b[32m223.7/223.7 kB\u001b[0m \u001b[31m2.8 MB/s\u001b[0m eta \u001b[36m0:00:00\u001b[0m\n",
            "\u001b[?25hRequirement already satisfied: anyio<5,>=3.5.0 in /usr/local/lib/python3.10/dist-packages (from openai) (3.7.1)\n",
            "Requirement already satisfied: distro<2,>=1.7.0 in /usr/lib/python3/dist-packages (from openai) (1.7.0)\n",
            "Collecting httpx<1,>=0.23.0 (from openai)\n",
            "  Downloading httpx-0.25.2-py3-none-any.whl (74 kB)\n",
            "\u001b[2K     \u001b[90m━━━━━━━━━━━━━━━━━━━━━━━━━━━━━━━━━━━━━━━━\u001b[0m \u001b[32m75.0/75.0 kB\u001b[0m \u001b[31m10.1 MB/s\u001b[0m eta \u001b[36m0:00:00\u001b[0m\n",
            "\u001b[?25hRequirement already satisfied: pydantic<3,>=1.9.0 in /usr/local/lib/python3.10/dist-packages (from openai) (1.10.13)\n",
            "Requirement already satisfied: sniffio in /usr/local/lib/python3.10/dist-packages (from openai) (1.3.0)\n",
            "Requirement already satisfied: tqdm>4 in /usr/local/lib/python3.10/dist-packages (from openai) (4.66.1)\n",
            "Requirement already satisfied: typing-extensions<5,>=4.5 in /usr/local/lib/python3.10/dist-packages (from openai) (4.5.0)\n",
            "Requirement already satisfied: idna>=2.8 in /usr/local/lib/python3.10/dist-packages (from anyio<5,>=3.5.0->openai) (3.6)\n",
            "Requirement already satisfied: exceptiongroup in /usr/local/lib/python3.10/dist-packages (from anyio<5,>=3.5.0->openai) (1.2.0)\n",
            "Requirement already satisfied: certifi in /usr/local/lib/python3.10/dist-packages (from httpx<1,>=0.23.0->openai) (2023.11.17)\n",
            "Collecting httpcore==1.* (from httpx<1,>=0.23.0->openai)\n",
            "  Downloading httpcore-1.0.2-py3-none-any.whl (76 kB)\n",
            "\u001b[2K     \u001b[90m━━━━━━━━━━━━━━━━━━━━━━━━━━━━━━━━━━━━━━━━\u001b[0m \u001b[32m76.9/76.9 kB\u001b[0m \u001b[31m11.3 MB/s\u001b[0m eta \u001b[36m0:00:00\u001b[0m\n",
            "\u001b[?25hCollecting h11<0.15,>=0.13 (from httpcore==1.*->httpx<1,>=0.23.0->openai)\n",
            "  Downloading h11-0.14.0-py3-none-any.whl (58 kB)\n",
            "\u001b[2K     \u001b[90m━━━━━━━━━━━━━━━━━━━━━━━━━━━━━━━━━━━━━━━━\u001b[0m \u001b[32m58.3/58.3 kB\u001b[0m \u001b[31m8.5 MB/s\u001b[0m eta \u001b[36m0:00:00\u001b[0m\n",
            "\u001b[?25hInstalling collected packages: h11, httpcore, httpx, openai\n",
            "\u001b[31mERROR: pip's dependency resolver does not currently take into account all the packages that are installed. This behaviour is the source of the following dependency conflicts.\n",
            "llmx 0.0.15a0 requires cohere, which is not installed.\n",
            "llmx 0.0.15a0 requires tiktoken, which is not installed.\u001b[0m\u001b[31m\n",
            "\u001b[0mSuccessfully installed h11-0.14.0 httpcore-1.0.2 httpx-0.25.2 openai-1.5.0\n"
          ]
        }
      ],
      "source": [
        "!pip install openai"
      ]
    },
    {
      "cell_type": "markdown",
      "metadata": {
        "id": "X1H2LyF94PYY"
      },
      "source": [
        "### GET EMBEDDINGS OF TEXT USING OPENAI's text-embedding-ada-002 MODEL"
      ]
    },
    {
      "cell_type": "markdown",
      "metadata": {
        "id": "QsDnGDSY4PYZ"
      },
      "source": []
    },
    {
      "cell_type": "code",
      "execution_count": null,
      "metadata": {
        "id": "J5dsU6HO4PYZ"
      },
      "outputs": [],
      "source": [
        "from openai import OpenAI\n",
        "\n",
        "from google.colab import userdata\n",
        "open_ai_key = userdata.get('open_ai_key')\n",
        "\n",
        "client = OpenAI(api_key=open_ai_key)\n",
        "\n",
        "def get_embedding(text, model=\"text-embedding-ada-002\"):\n",
        "   text = text.replace(\"\\n\", \" \")\n",
        "   return client.embeddings.create(input = [text], model=model).data[0].embedding\n",
        "\n",
        "# df['ada_embedding'] = df.combined.apply(lambda x: get_embedding(x, model='text-embedding-ada-002'))\n",
        "# df.to_csv('output/embedded_1k_reviews.csv', index=False)\n"
      ]
    },
    {
      "cell_type": "code",
      "execution_count": null,
      "metadata": {
        "colab": {
          "base_uri": "https://localhost:8080/",
          "height": 356
        },
        "id": "rAQdFGJV4PYZ",
        "outputId": "ab89a3a6-1a9c-400e-8799-4248bf409b3b"
      },
      "outputs": [
        {
          "output_type": "error",
          "ename": "RateLimitError",
          "evalue": "ignored",
          "traceback": [
            "\u001b[0;31m---------------------------------------------------------------------------\u001b[0m",
            "\u001b[0;31mRateLimitError\u001b[0m                            Traceback (most recent call last)",
            "\u001b[0;32m<ipython-input-9-9144bca59027>\u001b[0m in \u001b[0;36m<cell line: 1>\u001b[0;34m()\u001b[0m\n\u001b[0;32m----> 1\u001b[0;31m \u001b[0msample_embedding\u001b[0m \u001b[0;34m=\u001b[0m \u001b[0mget_embedding\u001b[0m\u001b[0;34m(\u001b[0m\u001b[0;34m\"magic\"\u001b[0m\u001b[0;34m)\u001b[0m\u001b[0;34m\u001b[0m\u001b[0;34m\u001b[0m\u001b[0m\n\u001b[0m",
            "\u001b[0;32m<ipython-input-8-1cc2b9f024dc>\u001b[0m in \u001b[0;36mget_embedding\u001b[0;34m(text, model)\u001b[0m\n\u001b[1;32m      4\u001b[0m \u001b[0;32mdef\u001b[0m \u001b[0mget_embedding\u001b[0m\u001b[0;34m(\u001b[0m\u001b[0mtext\u001b[0m\u001b[0;34m,\u001b[0m \u001b[0mmodel\u001b[0m\u001b[0;34m=\u001b[0m\u001b[0;34m\"text-embedding-ada-002\"\u001b[0m\u001b[0;34m)\u001b[0m\u001b[0;34m:\u001b[0m\u001b[0;34m\u001b[0m\u001b[0;34m\u001b[0m\u001b[0m\n\u001b[1;32m      5\u001b[0m    \u001b[0mtext\u001b[0m \u001b[0;34m=\u001b[0m \u001b[0mtext\u001b[0m\u001b[0;34m.\u001b[0m\u001b[0mreplace\u001b[0m\u001b[0;34m(\u001b[0m\u001b[0;34m\"\\n\"\u001b[0m\u001b[0;34m,\u001b[0m \u001b[0;34m\" \"\u001b[0m\u001b[0;34m)\u001b[0m\u001b[0;34m\u001b[0m\u001b[0;34m\u001b[0m\u001b[0m\n\u001b[0;32m----> 6\u001b[0;31m    \u001b[0;32mreturn\u001b[0m \u001b[0mclient\u001b[0m\u001b[0;34m.\u001b[0m\u001b[0membeddings\u001b[0m\u001b[0;34m.\u001b[0m\u001b[0mcreate\u001b[0m\u001b[0;34m(\u001b[0m\u001b[0minput\u001b[0m \u001b[0;34m=\u001b[0m \u001b[0;34m[\u001b[0m\u001b[0mtext\u001b[0m\u001b[0;34m]\u001b[0m\u001b[0;34m,\u001b[0m \u001b[0mmodel\u001b[0m\u001b[0;34m=\u001b[0m\u001b[0mmodel\u001b[0m\u001b[0;34m)\u001b[0m\u001b[0;34m.\u001b[0m\u001b[0mdata\u001b[0m\u001b[0;34m[\u001b[0m\u001b[0;36m0\u001b[0m\u001b[0;34m]\u001b[0m\u001b[0;34m.\u001b[0m\u001b[0membedding\u001b[0m\u001b[0;34m\u001b[0m\u001b[0;34m\u001b[0m\u001b[0m\n\u001b[0m\u001b[1;32m      7\u001b[0m \u001b[0;34m\u001b[0m\u001b[0m\n\u001b[1;32m      8\u001b[0m \u001b[0;31m# df['ada_embedding'] = df.combined.apply(lambda x: get_embedding(x, model='text-embedding-ada-002'))\u001b[0m\u001b[0;34m\u001b[0m\u001b[0;34m\u001b[0m\u001b[0m\n",
            "\u001b[0;32m/usr/local/lib/python3.10/dist-packages/openai/resources/embeddings.py\u001b[0m in \u001b[0;36mcreate\u001b[0;34m(self, input, model, encoding_format, user, extra_headers, extra_query, extra_body, timeout)\u001b[0m\n\u001b[1;32m    104\u001b[0m             \u001b[0;32mreturn\u001b[0m \u001b[0mobj\u001b[0m\u001b[0;34m\u001b[0m\u001b[0;34m\u001b[0m\u001b[0m\n\u001b[1;32m    105\u001b[0m \u001b[0;34m\u001b[0m\u001b[0m\n\u001b[0;32m--> 106\u001b[0;31m         return self._post(\n\u001b[0m\u001b[1;32m    107\u001b[0m             \u001b[0;34m\"/embeddings\"\u001b[0m\u001b[0;34m,\u001b[0m\u001b[0;34m\u001b[0m\u001b[0;34m\u001b[0m\u001b[0m\n\u001b[1;32m    108\u001b[0m             \u001b[0mbody\u001b[0m\u001b[0;34m=\u001b[0m\u001b[0mmaybe_transform\u001b[0m\u001b[0;34m(\u001b[0m\u001b[0mparams\u001b[0m\u001b[0;34m,\u001b[0m \u001b[0membedding_create_params\u001b[0m\u001b[0;34m.\u001b[0m\u001b[0mEmbeddingCreateParams\u001b[0m\u001b[0;34m)\u001b[0m\u001b[0;34m,\u001b[0m\u001b[0;34m\u001b[0m\u001b[0;34m\u001b[0m\u001b[0m\n",
            "\u001b[0;32m/usr/local/lib/python3.10/dist-packages/openai/_base_client.py\u001b[0m in \u001b[0;36mpost\u001b[0;34m(self, path, cast_to, body, options, files, stream, stream_cls)\u001b[0m\n\u001b[1;32m   1086\u001b[0m             \u001b[0mmethod\u001b[0m\u001b[0;34m=\u001b[0m\u001b[0;34m\"post\"\u001b[0m\u001b[0;34m,\u001b[0m \u001b[0murl\u001b[0m\u001b[0;34m=\u001b[0m\u001b[0mpath\u001b[0m\u001b[0;34m,\u001b[0m \u001b[0mjson_data\u001b[0m\u001b[0;34m=\u001b[0m\u001b[0mbody\u001b[0m\u001b[0;34m,\u001b[0m \u001b[0mfiles\u001b[0m\u001b[0;34m=\u001b[0m\u001b[0mto_httpx_files\u001b[0m\u001b[0;34m(\u001b[0m\u001b[0mfiles\u001b[0m\u001b[0;34m)\u001b[0m\u001b[0;34m,\u001b[0m \u001b[0;34m**\u001b[0m\u001b[0moptions\u001b[0m\u001b[0;34m\u001b[0m\u001b[0;34m\u001b[0m\u001b[0m\n\u001b[1;32m   1087\u001b[0m         )\n\u001b[0;32m-> 1088\u001b[0;31m         \u001b[0;32mreturn\u001b[0m \u001b[0mcast\u001b[0m\u001b[0;34m(\u001b[0m\u001b[0mResponseT\u001b[0m\u001b[0;34m,\u001b[0m \u001b[0mself\u001b[0m\u001b[0;34m.\u001b[0m\u001b[0mrequest\u001b[0m\u001b[0;34m(\u001b[0m\u001b[0mcast_to\u001b[0m\u001b[0;34m,\u001b[0m \u001b[0mopts\u001b[0m\u001b[0;34m,\u001b[0m \u001b[0mstream\u001b[0m\u001b[0;34m=\u001b[0m\u001b[0mstream\u001b[0m\u001b[0;34m,\u001b[0m \u001b[0mstream_cls\u001b[0m\u001b[0;34m=\u001b[0m\u001b[0mstream_cls\u001b[0m\u001b[0;34m)\u001b[0m\u001b[0;34m)\u001b[0m\u001b[0;34m\u001b[0m\u001b[0;34m\u001b[0m\u001b[0m\n\u001b[0m\u001b[1;32m   1089\u001b[0m \u001b[0;34m\u001b[0m\u001b[0m\n\u001b[1;32m   1090\u001b[0m     def patch(\n",
            "\u001b[0;32m/usr/local/lib/python3.10/dist-packages/openai/_base_client.py\u001b[0m in \u001b[0;36mrequest\u001b[0;34m(self, cast_to, options, remaining_retries, stream, stream_cls)\u001b[0m\n\u001b[1;32m    851\u001b[0m         \u001b[0mstream_cls\u001b[0m\u001b[0;34m:\u001b[0m \u001b[0mtype\u001b[0m\u001b[0;34m[\u001b[0m\u001b[0m_StreamT\u001b[0m\u001b[0;34m]\u001b[0m \u001b[0;34m|\u001b[0m \u001b[0;32mNone\u001b[0m \u001b[0;34m=\u001b[0m \u001b[0;32mNone\u001b[0m\u001b[0;34m,\u001b[0m\u001b[0;34m\u001b[0m\u001b[0;34m\u001b[0m\u001b[0m\n\u001b[1;32m    852\u001b[0m     ) -> ResponseT | _StreamT:\n\u001b[0;32m--> 853\u001b[0;31m         return self._request(\n\u001b[0m\u001b[1;32m    854\u001b[0m             \u001b[0mcast_to\u001b[0m\u001b[0;34m=\u001b[0m\u001b[0mcast_to\u001b[0m\u001b[0;34m,\u001b[0m\u001b[0;34m\u001b[0m\u001b[0;34m\u001b[0m\u001b[0m\n\u001b[1;32m    855\u001b[0m             \u001b[0moptions\u001b[0m\u001b[0;34m=\u001b[0m\u001b[0moptions\u001b[0m\u001b[0;34m,\u001b[0m\u001b[0;34m\u001b[0m\u001b[0;34m\u001b[0m\u001b[0m\n",
            "\u001b[0;32m/usr/local/lib/python3.10/dist-packages/openai/_base_client.py\u001b[0m in \u001b[0;36m_request\u001b[0;34m(self, cast_to, options, remaining_retries, stream, stream_cls)\u001b[0m\n\u001b[1;32m    914\u001b[0m             \u001b[0;32mif\u001b[0m \u001b[0mretries\u001b[0m \u001b[0;34m>\u001b[0m \u001b[0;36m0\u001b[0m \u001b[0;32mand\u001b[0m \u001b[0mself\u001b[0m\u001b[0;34m.\u001b[0m\u001b[0m_should_retry\u001b[0m\u001b[0;34m(\u001b[0m\u001b[0merr\u001b[0m\u001b[0;34m.\u001b[0m\u001b[0mresponse\u001b[0m\u001b[0;34m)\u001b[0m\u001b[0;34m:\u001b[0m\u001b[0;34m\u001b[0m\u001b[0;34m\u001b[0m\u001b[0m\n\u001b[1;32m    915\u001b[0m                 \u001b[0merr\u001b[0m\u001b[0;34m.\u001b[0m\u001b[0mresponse\u001b[0m\u001b[0;34m.\u001b[0m\u001b[0mclose\u001b[0m\u001b[0;34m(\u001b[0m\u001b[0;34m)\u001b[0m\u001b[0;34m\u001b[0m\u001b[0;34m\u001b[0m\u001b[0m\n\u001b[0;32m--> 916\u001b[0;31m                 return self._retry_request(\n\u001b[0m\u001b[1;32m    917\u001b[0m                     \u001b[0moptions\u001b[0m\u001b[0;34m,\u001b[0m\u001b[0;34m\u001b[0m\u001b[0;34m\u001b[0m\u001b[0m\n\u001b[1;32m    918\u001b[0m                     \u001b[0mcast_to\u001b[0m\u001b[0;34m,\u001b[0m\u001b[0;34m\u001b[0m\u001b[0;34m\u001b[0m\u001b[0m\n",
            "\u001b[0;32m/usr/local/lib/python3.10/dist-packages/openai/_base_client.py\u001b[0m in \u001b[0;36m_retry_request\u001b[0;34m(self, options, cast_to, remaining_retries, response_headers, stream, stream_cls)\u001b[0m\n\u001b[1;32m    956\u001b[0m         \u001b[0mtime\u001b[0m\u001b[0;34m.\u001b[0m\u001b[0msleep\u001b[0m\u001b[0;34m(\u001b[0m\u001b[0mtimeout\u001b[0m\u001b[0;34m)\u001b[0m\u001b[0;34m\u001b[0m\u001b[0;34m\u001b[0m\u001b[0m\n\u001b[1;32m    957\u001b[0m \u001b[0;34m\u001b[0m\u001b[0m\n\u001b[0;32m--> 958\u001b[0;31m         return self._request(\n\u001b[0m\u001b[1;32m    959\u001b[0m             \u001b[0moptions\u001b[0m\u001b[0;34m=\u001b[0m\u001b[0moptions\u001b[0m\u001b[0;34m,\u001b[0m\u001b[0;34m\u001b[0m\u001b[0;34m\u001b[0m\u001b[0m\n\u001b[1;32m    960\u001b[0m             \u001b[0mcast_to\u001b[0m\u001b[0;34m=\u001b[0m\u001b[0mcast_to\u001b[0m\u001b[0;34m,\u001b[0m\u001b[0;34m\u001b[0m\u001b[0;34m\u001b[0m\u001b[0m\n",
            "\u001b[0;32m/usr/local/lib/python3.10/dist-packages/openai/_base_client.py\u001b[0m in \u001b[0;36m_request\u001b[0;34m(self, cast_to, options, remaining_retries, stream, stream_cls)\u001b[0m\n\u001b[1;32m    914\u001b[0m             \u001b[0;32mif\u001b[0m \u001b[0mretries\u001b[0m \u001b[0;34m>\u001b[0m \u001b[0;36m0\u001b[0m \u001b[0;32mand\u001b[0m \u001b[0mself\u001b[0m\u001b[0;34m.\u001b[0m\u001b[0m_should_retry\u001b[0m\u001b[0;34m(\u001b[0m\u001b[0merr\u001b[0m\u001b[0;34m.\u001b[0m\u001b[0mresponse\u001b[0m\u001b[0;34m)\u001b[0m\u001b[0;34m:\u001b[0m\u001b[0;34m\u001b[0m\u001b[0;34m\u001b[0m\u001b[0m\n\u001b[1;32m    915\u001b[0m                 \u001b[0merr\u001b[0m\u001b[0;34m.\u001b[0m\u001b[0mresponse\u001b[0m\u001b[0;34m.\u001b[0m\u001b[0mclose\u001b[0m\u001b[0;34m(\u001b[0m\u001b[0;34m)\u001b[0m\u001b[0;34m\u001b[0m\u001b[0;34m\u001b[0m\u001b[0m\n\u001b[0;32m--> 916\u001b[0;31m                 return self._retry_request(\n\u001b[0m\u001b[1;32m    917\u001b[0m                     \u001b[0moptions\u001b[0m\u001b[0;34m,\u001b[0m\u001b[0;34m\u001b[0m\u001b[0;34m\u001b[0m\u001b[0m\n\u001b[1;32m    918\u001b[0m                     \u001b[0mcast_to\u001b[0m\u001b[0;34m,\u001b[0m\u001b[0;34m\u001b[0m\u001b[0;34m\u001b[0m\u001b[0m\n",
            "\u001b[0;32m/usr/local/lib/python3.10/dist-packages/openai/_base_client.py\u001b[0m in \u001b[0;36m_retry_request\u001b[0;34m(self, options, cast_to, remaining_retries, response_headers, stream, stream_cls)\u001b[0m\n\u001b[1;32m    956\u001b[0m         \u001b[0mtime\u001b[0m\u001b[0;34m.\u001b[0m\u001b[0msleep\u001b[0m\u001b[0;34m(\u001b[0m\u001b[0mtimeout\u001b[0m\u001b[0;34m)\u001b[0m\u001b[0;34m\u001b[0m\u001b[0;34m\u001b[0m\u001b[0m\n\u001b[1;32m    957\u001b[0m \u001b[0;34m\u001b[0m\u001b[0m\n\u001b[0;32m--> 958\u001b[0;31m         return self._request(\n\u001b[0m\u001b[1;32m    959\u001b[0m             \u001b[0moptions\u001b[0m\u001b[0;34m=\u001b[0m\u001b[0moptions\u001b[0m\u001b[0;34m,\u001b[0m\u001b[0;34m\u001b[0m\u001b[0;34m\u001b[0m\u001b[0m\n\u001b[1;32m    960\u001b[0m             \u001b[0mcast_to\u001b[0m\u001b[0;34m=\u001b[0m\u001b[0mcast_to\u001b[0m\u001b[0;34m,\u001b[0m\u001b[0;34m\u001b[0m\u001b[0;34m\u001b[0m\u001b[0m\n",
            "\u001b[0;32m/usr/local/lib/python3.10/dist-packages/openai/_base_client.py\u001b[0m in \u001b[0;36m_request\u001b[0;34m(self, cast_to, options, remaining_retries, stream, stream_cls)\u001b[0m\n\u001b[1;32m    928\u001b[0m                 \u001b[0merr\u001b[0m\u001b[0;34m.\u001b[0m\u001b[0mresponse\u001b[0m\u001b[0;34m.\u001b[0m\u001b[0mread\u001b[0m\u001b[0;34m(\u001b[0m\u001b[0;34m)\u001b[0m\u001b[0;34m\u001b[0m\u001b[0;34m\u001b[0m\u001b[0m\n\u001b[1;32m    929\u001b[0m \u001b[0;34m\u001b[0m\u001b[0m\n\u001b[0;32m--> 930\u001b[0;31m             \u001b[0;32mraise\u001b[0m \u001b[0mself\u001b[0m\u001b[0;34m.\u001b[0m\u001b[0m_make_status_error_from_response\u001b[0m\u001b[0;34m(\u001b[0m\u001b[0merr\u001b[0m\u001b[0;34m.\u001b[0m\u001b[0mresponse\u001b[0m\u001b[0;34m)\u001b[0m \u001b[0;32mfrom\u001b[0m \u001b[0;32mNone\u001b[0m\u001b[0;34m\u001b[0m\u001b[0;34m\u001b[0m\u001b[0m\n\u001b[0m\u001b[1;32m    931\u001b[0m \u001b[0;34m\u001b[0m\u001b[0m\n\u001b[1;32m    932\u001b[0m         return self._process_response(\n",
            "\u001b[0;31mRateLimitError\u001b[0m: Error code: 429 - {'error': {'message': 'You exceeded your current quota, please check your plan and billing details. For more information on this error, read the docs: https://platform.openai.com/docs/guides/error-codes/api-errors.', 'type': 'insufficient_quota', 'param': None, 'code': 'insufficient_quota'}}"
          ]
        }
      ],
      "source": [
        "sample_embedding = get_embedding(\"magic\")"
      ]
    },
    {
      "cell_type": "code",
      "execution_count": null,
      "metadata": {
        "id": "VFdyohzl4PYZ",
        "outputId": "1d7abd5a-16bf-48b6-d631-90427cf63a9f"
      },
      "outputs": [
        {
          "data": {
            "text/plain": [
              "1536"
            ]
          },
          "execution_count": 7,
          "metadata": {},
          "output_type": "execute_result"
        }
      ],
      "source": [
        "len(sample_embedding)"
      ]
    },
    {
      "cell_type": "code",
      "execution_count": null,
      "metadata": {
        "id": "Gah-0gFg4PYZ"
      },
      "outputs": [],
      "source": [
        "# df[\"NameDescriptionVector\"] = df[\"NameDescription\"].apply(lambda x: get_embedding(x, model='text-embedding-ada-002') )\n",
        "# df.to_csv(\"embedded.csv\")"
      ]
    },
    {
      "cell_type": "markdown",
      "metadata": {
        "id": "ZIjsd5oo4PYa"
      },
      "source": []
    },
    {
      "cell_type": "markdown",
      "metadata": {
        "id": "K2fQfmAD4PYa"
      },
      "source": [
        "### Insert data in elasticsearch index"
      ]
    },
    {
      "cell_type": "code",
      "execution_count": null,
      "metadata": {
        "id": "CGd4F2Ez4PYa",
        "outputId": "3ff397f9-4131-4c3d-c486-f3e0a5b97643"
      },
      "outputs": [
        {
          "data": {
            "text/plain": [
              "True"
            ]
          },
          "execution_count": 11,
          "metadata": {},
          "output_type": "execute_result"
        }
      ],
      "source": [
        "# Connecing to Elasticsearch\n",
        "from elasticsearch import Elasticsearch\n",
        "\n",
        "es = Elasticsearch(\n",
        "    \"https://localhost:9200\",\n",
        "    basic_auth=(\"elastic\",\"nakVe=bPePShh=hIYXLI\"),\n",
        "    ca_certs=\"/Users/abidsaudagar/Downloads/elasticsearch-8.11.1/config/certs/http_ca.crt\"\n",
        ")\n",
        "es.ping()"
      ]
    },
    {
      "cell_type": "code",
      "execution_count": null,
      "metadata": {
        "id": "yxF7zQC84PYa"
      },
      "outputs": [],
      "source": [
        "from indexMapping import indexMapping\n",
        "import numpy as np"
      ]
    },
    {
      "cell_type": "code",
      "execution_count": null,
      "metadata": {
        "id": "BvDnvA4G4PYa",
        "outputId": "5d207767-7258-438a-abe3-af1076792efd"
      },
      "outputs": [
        {
          "data": {
            "text/plain": [
              "ObjectApiResponse({'acknowledged': True, 'shards_acknowledged': True, 'index': 'my_products'})"
            ]
          },
          "execution_count": 56,
          "metadata": {},
          "output_type": "execute_result"
        }
      ],
      "source": [
        "es.indices.create(index=\"my_products\", mappings=indexMapping)"
      ]
    },
    {
      "cell_type": "code",
      "execution_count": null,
      "metadata": {
        "id": "lIWCpUE04PYa"
      },
      "outputs": [],
      "source": [
        "embedding_df = pd.read_csv(\"embedded.csv\",index_col=0)\n",
        "# embedding_df['NameDescriptionVector'] = embedding_df.NameDescriptionVector.apply(eval).apply(np.array)"
      ]
    },
    {
      "cell_type": "code",
      "execution_count": null,
      "metadata": {
        "id": "4XcHANBd4PYa",
        "outputId": "c175ae46-7cda-42a0-9bf3-e4717b6675a1"
      },
      "outputs": [
        {
          "data": {
            "text/plain": [
              "[{'ProductID': 10017413,\n",
              "  'ProductName': 'DKNY Unisex Black & Grey Printed Medium Trolley Bag',\n",
              "  'ProductBrand': 'DKNY',\n",
              "  'Gender': 'Unisex',\n",
              "  'Price (INR)': 11745,\n",
              "  'NumImages': 7,\n",
              "  'Description': 'Black and grey printed medium trolley bag, secured with a TSA lockOne handle on the top and one on the side, has a trolley with a retractable handle on the top and four corner mounted inline skate wheelsOne main zip compartment, zip lining, two compression straps with click clasps, one zip compartment on the flap with three zip pocketsWarranty: 5 yearsWarranty provided by Brand Owner / Manufacturer',\n",
              "  'PrimaryColor': ' Black',\n",
              "  'NameDescription': 'DKNY Unisex Black & Grey Printed Medium Trolley BagBlack and grey printed medium trolley bag, secured with a TSA lockOne handle on the top and one on the side, has a trolley with a retractable handle on the top and four corner mounted inline skate wheelsOne main zip compartment, zip lining, two compression straps with click clasps, one zip compartment on the flap with three zip pocketsWarranty: 5 yearsWarranty provided by Brand Owner / Manufacturer',\n",
              "  'NameDescriptionVector': array([ 0.00081929,  0.00621943,  0.01336323, ...,  0.00440417,\n",
              "         -0.00277312, -0.02118021])},\n",
              " {'ProductID': 10016283,\n",
              "  'ProductName': 'EthnoVogue Women Beige & Grey Made to Measure Custom Made Kurta Set with Jacket',\n",
              "  'ProductBrand': 'EthnoVogue',\n",
              "  'Gender': 'Women',\n",
              "  'Price (INR)': 5810,\n",
              "  'NumImages': 7,\n",
              "  'Description': 'Beige & Grey made to measure kurta with churidar and\\xa0dupattaBeige made to measure calf\\xa0length kurta, has a V-neck, three-quarter sleeves, lightly padded on bust, flared hem, concealed zip closureGrey solid made to measure churidar, drawstring closureGrey net sequined dupatta, has printed tapingWhat is Made to Measure?Customised Kurta Set according to your Bust and Length. So please refer to the Size Chart to pick your perfect size.How to measure bust?Measure under your arms and around your chest to find your bust size in inchesHow to measure Kurta length?Measure from shoulder till barefoot to find kurta length in',\n",
              "  'PrimaryColor': ' Beige',\n",
              "  'NameDescription': 'EthnoVogue Women Beige & Grey Made to Measure Custom Made Kurta Set with JacketBeige & Grey made to measure kurta with churidar and\\xa0dupattaBeige made to measure calf\\xa0length kurta, has a V-neck, three-quarter sleeves, lightly padded on bust, flared hem, concealed zip closureGrey solid made to measure churidar, drawstring closureGrey net sequined dupatta, has printed tapingWhat is Made to Measure?Customised Kurta Set according to your Bust and Length. So please refer to the Size Chart to pick your perfect size.How to measure bust?Measure under your arms and around your chest to find your bust size in inchesHow to measure Kurta length?Measure from shoulder till barefoot to find kurta length in',\n",
              "  'NameDescriptionVector': array([-0.0036404 , -0.01336824,  0.01255703, ...,  0.00684838,\n",
              "         -0.0009872 , -0.01688126])},\n",
              " {'ProductID': 10009781,\n",
              "  'ProductName': 'SPYKAR Women Pink Alexa Super Skinny Fit High-Rise Clean Look Stretchable Cropped Jeans',\n",
              "  'ProductBrand': 'SPYKAR',\n",
              "  'Gender': 'Women',\n",
              "  'Price (INR)': 899,\n",
              "  'NumImages': 7,\n",
              "  'Description': 'Pink coloured wash 5-pocket high-rise cropped jeans, clean look, no fade, has a button and zip closure, and waistband with belt loops',\n",
              "  'PrimaryColor': ' Pink',\n",
              "  'NameDescription': 'SPYKAR Women Pink Alexa Super Skinny Fit High-Rise Clean Look Stretchable Cropped JeansPink coloured wash 5-pocket high-rise cropped jeans, clean look, no fade, has a button and zip closure, and waistband with belt loops',\n",
              "  'NameDescriptionVector': array([-0.02304309, -0.01207571,  0.00012525, ...,  0.01022634,\n",
              "         -0.00602819, -0.00835119])}]"
            ]
          },
          "execution_count": 71,
          "metadata": {},
          "output_type": "execute_result"
        }
      ],
      "source": [
        "# docs = embedding_df.to_dict(\"records\")\n",
        "# docs[:3]"
      ]
    },
    {
      "cell_type": "code",
      "execution_count": null,
      "metadata": {
        "id": "-Xom1IfI4PYa"
      },
      "outputs": [],
      "source": [
        "for doc in docs:\n",
        "    try:\n",
        "        es.index(index=\"my_products\", document=doc, id=doc[\"ProductID\"])\n",
        "    except Exception as e:\n",
        "        print(e)"
      ]
    },
    {
      "cell_type": "code",
      "execution_count": null,
      "metadata": {
        "id": "4QWSHMZs4PYa",
        "outputId": "b8ea1c9d-4604-4bdf-fbce-0b70600c220c"
      },
      "outputs": [
        {
          "data": {
            "text/plain": [
              "ObjectApiResponse({'count': 468, '_shards': {'total': 1, 'successful': 1, 'skipped': 0, 'failed': 0}})"
            ]
          },
          "execution_count": 13,
          "metadata": {},
          "output_type": "execute_result"
        }
      ],
      "source": [
        "es.count(index=\"my_products\")"
      ]
    },
    {
      "cell_type": "code",
      "execution_count": null,
      "metadata": {
        "id": "Dzom1mLo4PYa"
      },
      "outputs": [],
      "source": []
    },
    {
      "cell_type": "markdown",
      "metadata": {
        "id": "lrHiiQC44PYa"
      },
      "source": [
        "### Search data from index"
      ]
    },
    {
      "cell_type": "code",
      "execution_count": null,
      "metadata": {
        "id": "u45Fhmvm4PYa"
      },
      "outputs": [],
      "source": [
        "input_keyword = \"Blue Shoes for men under 2k\"\n",
        "vector_of_input_keyword = get_embedding(input_keyword)"
      ]
    },
    {
      "cell_type": "code",
      "execution_count": null,
      "metadata": {
        "id": "2_nIA-zK4PYa",
        "outputId": "03f11a35-264d-4ea8-dc16-e991caecde8b"
      },
      "outputs": [
        {
          "name": "stderr",
          "output_type": "stream",
          "text": [
            "/var/folders/3k/901cf0jd1lngqxfl_y527qp00000gn/T/ipykernel_96516/1881674628.py:8: ElasticsearchWarning: The kNN search API has been replaced by the `knn` option in the search API.\n",
            "  res = es.knn_search(index=\"my_products\", knn=query , source=[\"ProductName\",\"Description\",\"PrimaryColor\",\"Price (INR)\",\"Gender\"])\n"
          ]
        },
        {
          "data": {
            "text/plain": [
              "[{'_index': 'my_products',\n",
              "  '_id': '10005997',\n",
              "  '_score': 0.7492948,\n",
              "  '_source': {'ProductName': 'ID Men Navy Blue Solid Leather Mid-Top Sneakers',\n",
              "   'Gender': 'Men',\n",
              "   'Price (INR)': 1286,\n",
              "   'Description': 'A pair of round-toe navy blue sneakers, has mid-top styling, lace-up detailLeather upperCushioned footbedTextured and patterned outsoleWarranty: 3 monthsWarranty provided by brand/manufacturer',\n",
              "   'PrimaryColor': 'Blue'}},\n",
              " {'_index': 'my_products',\n",
              "  '_id': '10018075',\n",
              "  '_score': 0.7472657,\n",
              "  '_source': {'ProductName': 'Puma Men Blue Sneakers',\n",
              "   'Gender': 'Men',\n",
              "   'Price (INR)': 1749,\n",
              "   'Description': 'A pair of round-toe blue sneakers, has regular styling, lace-up detailTextile upperCushioned footbedTextured and patterned outsoleWarranty: 3 monthsWarranty provided by brand/manufacturer',\n",
              "   'PrimaryColor': 'Blue'}},\n",
              " {'_index': 'my_products',\n",
              "  '_id': '10018013',\n",
              "  '_score': 0.7472377,\n",
              "  '_source': {'ProductName': 'Puma Men Blue Sneakers',\n",
              "   'Gender': 'Men',\n",
              "   'Price (INR)': 1799,\n",
              "   'Description': 'A pair of round-toe blue sneakers, has regular styling, lace-up detailTextile upperCushioned footbedTextured and patterned outsoleWarranty: 3 monthsWarranty provided by brand/manufacturer',\n",
              "   'PrimaryColor': 'Blue'}},\n",
              " {'_index': 'my_products',\n",
              "  '_id': '10006087',\n",
              "  '_score': 0.74446684,\n",
              "  '_source': {'ProductName': 'ID Men Navy Blue Leather Derbys',\n",
              "   'Gender': 'Men',\n",
              "   'Price (INR)': 2685,\n",
              "   'Description': 'A pair of round-toe navy blue derbys, has regular styling, lace-up detailLeather upperCushioned footbedTextured and patterned outsoleWarranty: 3 monthsWarranty provided by brand/manufacturer',\n",
              "   'PrimaryColor': 'Blue'}},\n",
              " {'_index': 'my_products',\n",
              "  '_id': '10006031',\n",
              "  '_score': 0.73941416,\n",
              "  '_source': {'ProductName': 'ID Men Brown Solid Leather Mid-Top Sneakers',\n",
              "   'Gender': 'Men',\n",
              "   'Price (INR)': 1286,\n",
              "   'Description': 'A pair of round-toe brown sneakers, has mid-top styling, lace-up detailLeather upperCushioned footbedTextured and patterned outsoleWarranty: 3 monthsWarranty provided by brand/manufacturer',\n",
              "   'PrimaryColor': ' Brown'}},\n",
              " {'_index': 'my_products',\n",
              "  '_id': '10018011',\n",
              "  '_score': 0.73855746,\n",
              "  '_source': {'ProductName': 'Puma Men Navy Blue Sneakers',\n",
              "   'Gender': 'Men',\n",
              "   'Price (INR)': 1959,\n",
              "   'Description': 'A pair of round-toe navy blue & white sneakers, has regular styling, lace-up detailTextile upperCushioned footbedTextured and patterned outsoleWarranty: 3 monthsWarranty provided by brand/manufacturer',\n",
              "   'PrimaryColor': 'Blue'}},\n",
              " {'_index': 'my_products',\n",
              "  '_id': '10015929',\n",
              "  '_score': 0.7336286,\n",
              "  '_source': {'ProductName': 'ColorPlus Men Blue Regular Fit Checked Formal Trousers',\n",
              "   'Gender': 'Men',\n",
              "   'Price (INR)': 1199,\n",
              "   'Description': 'Blue checked mid-rise formal trousers, has a button closure, four pockets',\n",
              "   'PrimaryColor': 'Blue'}},\n",
              " {'_index': 'my_products',\n",
              "  '_id': '10006041',\n",
              "  '_score': 0.7334776,\n",
              "  '_source': {'ProductName': 'ID Men Beige Leather Derbys',\n",
              "   'Gender': 'Men',\n",
              "   'Price (INR)': 2685,\n",
              "   'Description': 'A pair of round-toe beige derbys, has regular styling, lace-up detailLeather upperCushioned footbedTextured and patterned outsoleWarranty: 3 monthsWarranty provided by brand/manufacturer',\n",
              "   'PrimaryColor': ' Beige'}},\n",
              " {'_index': 'my_products',\n",
              "  '_id': '10006049',\n",
              "  '_score': 0.7334776,\n",
              "  '_source': {'ProductName': 'ID Men Beige Leather Derbys',\n",
              "   'Gender': 'Men',\n",
              "   'Price (INR)': 2985,\n",
              "   'Description': 'A pair of round-toe beige derbys, has regular styling, lace-up detailLeather upperCushioned footbedTextured and patterned outsoleWarranty: 3 monthsWarranty provided by brand/manufacturer',\n",
              "   'PrimaryColor': ' Beige'}},\n",
              " {'_index': 'my_products',\n",
              "  '_id': '10006045',\n",
              "  '_score': 0.73244864,\n",
              "  '_source': {'ProductName': 'ID Men Tan Brown Leather Sneakers',\n",
              "   'Gender': 'Men',\n",
              "   'Price (INR)': 2685,\n",
              "   'Description': 'A pair of round-toe tan brown sneakers, has regular styling, lace-up detailLeather upperCushioned footbedTextured and patterned outsoleWarranty: 3 monthsWarranty provided by brand/manufacturer',\n",
              "   'PrimaryColor': ' Brown'}}]"
            ]
          },
          "execution_count": 15,
          "metadata": {},
          "output_type": "execute_result"
        }
      ],
      "source": [
        "query = {\n",
        "    \"field\" : \"NameDescriptionVector\",\n",
        "    \"query_vector\" : vector_of_input_keyword,\n",
        "    \"k\" : 10,\n",
        "    \"num_candidates\" : 500,\n",
        "}\n",
        "\n",
        "res = es.knn_search(index=\"my_products\", knn=query , source=[\"ProductName\",\"Description\",\"PrimaryColor\",\"Price (INR)\",\"Gender\"])\n",
        "res[\"hits\"][\"hits\"]"
      ]
    },
    {
      "cell_type": "code",
      "execution_count": null,
      "metadata": {
        "id": "SeNdtN294PYb",
        "outputId": "2a4d40ca-9481-400b-b528-0a9c46dd234e"
      },
      "outputs": [
        {
          "name": "stderr",
          "output_type": "stream",
          "text": [
            "/var/folders/3k/901cf0jd1lngqxfl_y527qp00000gn/T/ipykernel_96516/2612073556.py:42: DeprecationWarning: Passing transport options in the API method is deprecated. Use 'Elasticsearch.options()' instead.\n",
            "  res = es.knn_search(index=\"my_products\",  # change index name here.\n",
            "/var/folders/3k/901cf0jd1lngqxfl_y527qp00000gn/T/ipykernel_96516/2612073556.py:42: ElasticsearchWarning: The kNN search API has been replaced by the `knn` option in the search API.\n",
            "  res = es.knn_search(index=\"my_products\",  # change index name here.\n"
          ]
        },
        {
          "data": {
            "text/plain": [
              "[{'_index': 'my_products',\n",
              "  '_id': '10005997',\n",
              "  '_score': 0.7492948,\n",
              "  '_source': {'ProductName': 'ID Men Navy Blue Solid Leather Mid-Top Sneakers',\n",
              "   'ProductBrand': 'ID',\n",
              "   'Gender': 'Men',\n",
              "   'Price (INR)': 1286,\n",
              "   'Description': 'A pair of round-toe navy blue sneakers, has mid-top styling, lace-up detailLeather upperCushioned footbedTextured and patterned outsoleWarranty: 3 monthsWarranty provided by brand/manufacturer',\n",
              "   'PrimaryColor': 'Blue'}},\n",
              " {'_index': 'my_products',\n",
              "  '_id': '10018075',\n",
              "  '_score': 0.7472657,\n",
              "  '_source': {'ProductName': 'Puma Men Blue Sneakers',\n",
              "   'ProductBrand': 'Puma',\n",
              "   'Gender': 'Men',\n",
              "   'Price (INR)': 1749,\n",
              "   'Description': 'A pair of round-toe blue sneakers, has regular styling, lace-up detailTextile upperCushioned footbedTextured and patterned outsoleWarranty: 3 monthsWarranty provided by brand/manufacturer',\n",
              "   'PrimaryColor': 'Blue'}},\n",
              " {'_index': 'my_products',\n",
              "  '_id': '10018013',\n",
              "  '_score': 0.7472377,\n",
              "  '_source': {'ProductName': 'Puma Men Blue Sneakers',\n",
              "   'ProductBrand': 'Puma',\n",
              "   'Gender': 'Men',\n",
              "   'Price (INR)': 1799,\n",
              "   'Description': 'A pair of round-toe blue sneakers, has regular styling, lace-up detailTextile upperCushioned footbedTextured and patterned outsoleWarranty: 3 monthsWarranty provided by brand/manufacturer',\n",
              "   'PrimaryColor': 'Blue'}},\n",
              " {'_index': 'my_products',\n",
              "  '_id': '10006031',\n",
              "  '_score': 0.73941416,\n",
              "  '_source': {'ProductName': 'ID Men Brown Solid Leather Mid-Top Sneakers',\n",
              "   'ProductBrand': 'ID',\n",
              "   'Gender': 'Men',\n",
              "   'Price (INR)': 1286,\n",
              "   'Description': 'A pair of round-toe brown sneakers, has mid-top styling, lace-up detailLeather upperCushioned footbedTextured and patterned outsoleWarranty: 3 monthsWarranty provided by brand/manufacturer',\n",
              "   'PrimaryColor': ' Brown'}},\n",
              " {'_index': 'my_products',\n",
              "  '_id': '10018011',\n",
              "  '_score': 0.73855746,\n",
              "  '_source': {'ProductName': 'Puma Men Navy Blue Sneakers',\n",
              "   'ProductBrand': 'Puma',\n",
              "   'Gender': 'Men',\n",
              "   'Price (INR)': 1959,\n",
              "   'Description': 'A pair of round-toe navy blue & white sneakers, has regular styling, lace-up detailTextile upperCushioned footbedTextured and patterned outsoleWarranty: 3 monthsWarranty provided by brand/manufacturer',\n",
              "   'PrimaryColor': 'Blue'}},\n",
              " {'_index': 'my_products',\n",
              "  '_id': '10015929',\n",
              "  '_score': 0.7336286,\n",
              "  '_source': {'ProductName': 'ColorPlus Men Blue Regular Fit Checked Formal Trousers',\n",
              "   'ProductBrand': 'ColorPlus',\n",
              "   'Gender': 'Men',\n",
              "   'Price (INR)': 1199,\n",
              "   'Description': 'Blue checked mid-rise formal trousers, has a button closure, four pockets',\n",
              "   'PrimaryColor': 'Blue'}},\n",
              " {'_index': 'my_products',\n",
              "  '_id': '10006029',\n",
              "  '_score': 0.73195255,\n",
              "  '_source': {'ProductName': 'ID Men Brown Leather Formal Slip-Ons',\n",
              "   'ProductBrand': 'ID',\n",
              "   'Gender': 'Men',\n",
              "   'Price (INR)': 956,\n",
              "   'Description': 'A pair of brown square-toed formal slip-on shoes, has elasticated gussets on both sidesLeather upper, has a textured detailCushioned footbedTextured TPR outsoleWarranty: 3 months against manufacturing defect onlyWarranty provided by the brand owner / manufacturer',\n",
              "   'PrimaryColor': ' Brown'}},\n",
              " {'_index': 'my_products',\n",
              "  '_id': '10006073',\n",
              "  '_score': 0.7309584,\n",
              "  '_source': {'ProductName': 'ID Men Brown Leather Loafers',\n",
              "   'ProductBrand': 'ID',\n",
              "   'Gender': 'Men',\n",
              "   'Price (INR)': 1218,\n",
              "   'Description': 'A pair of square toe brown loafers, has regular styling, slip-on detailLeather upperCushioned footbedTextured and patterned outsoleWarranty: 3 monthsWarranty provided by brand/manufacturer',\n",
              "   'PrimaryColor': ' Brown'}},\n",
              " {'_index': 'my_products',\n",
              "  '_id': '10006069',\n",
              "  '_score': 0.7294342,\n",
              "  '_source': {'ProductName': 'ID Men Black Leather Formal Derbys',\n",
              "   'ProductBrand': 'ID',\n",
              "   'Gender': 'Men',\n",
              "   'Price (INR)': 1627,\n",
              "   'Description': 'A pair of black round-toed formal derbys, has central lace-upsLeather upperCushioned footbedTextured PU outsole, has a stacked heelWarranty: 3 months against manufacturing defect onlyWarranty provided by the brand owner / manufacturer',\n",
              "   'PrimaryColor': ' Black'}},\n",
              " {'_index': 'my_products',\n",
              "  '_id': '10015161',\n",
              "  '_score': 0.72923595,\n",
              "  '_source': {'ProductName': 'Urban Dog Men Navy Blue Printed Regular Fit Sports Shorts',\n",
              "   'ProductBrand': 'Urban Dog',\n",
              "   'Gender': 'Men',\n",
              "   'Price (INR)': 399,\n",
              "   'Description': 'Navy Blue printed mid-rise sports shorts, has two pockets, a drawstring closure',\n",
              "   'PrimaryColor': 'Blue'}}]"
            ]
          },
          "execution_count": 16,
          "metadata": {},
          "output_type": "execute_result"
        }
      ],
      "source": [
        "# Apply filter on semantic search results\n",
        "\n",
        "q1 = {\n",
        "    \"knn\": {\n",
        "        \"field\": \"NameDescriptionVector\",\n",
        "        \"query_vector\": vector_of_input_keyword,\n",
        "        \"k\": 10,\n",
        "        \"num_candidates\": 10000\n",
        "    },\n",
        "    \"_source\": [\"ProductName\",\"Description\",\"PrimaryColor\",\"Price (INR)\",\"ProductBrand\",\"Gender\"]\n",
        "}\n",
        "\n",
        "# Add Price greater than and less than filters\n",
        "min_price = 0\n",
        "max_price = 2000\n",
        "Gender = \"Men\"\n",
        "\n",
        "filter_query = {\n",
        "    \"bool\": {\n",
        "        \"must\": [\n",
        "            {\n",
        "                \"match\": {\n",
        "                    \"Gender\": {\n",
        "                        \"query\": Gender,\n",
        "                        \"fuzzy_transpositions\": \"false\",\n",
        "                        \"fuzziness\": 0\n",
        "                    }\n",
        "                }\n",
        "            },\n",
        "            {\n",
        "                \"range\": {\n",
        "                    \"Price (INR)\": {\n",
        "                        \"gte\": min_price,\n",
        "                        \"lte\": max_price\n",
        "                    }\n",
        "                }\n",
        "            }\n",
        "        ]\n",
        "    }\n",
        "}\n",
        "\n",
        "res = es.knn_search(index=\"my_products\",  # change index name here.\n",
        "                    body=q1,\n",
        "                    request_timeout=5000,\n",
        "                    filter=filter_query)\n",
        "\n",
        "res[\"hits\"][\"hits\"]"
      ]
    },
    {
      "cell_type": "code",
      "execution_count": null,
      "metadata": {
        "id": "LHkBKkSz4PYb"
      },
      "outputs": [],
      "source": []
    },
    {
      "cell_type": "markdown",
      "metadata": {
        "id": "EVgU4_2w4PYb"
      },
      "source": [
        "### Understanding intent of user\n",
        "\n",
        "##### And getting filters from the search query"
      ]
    },
    {
      "cell_type": "code",
      "execution_count": null,
      "metadata": {
        "id": "SitjLD4X4PYb",
        "outputId": "be4f05d9-6cd0-4fbb-a8a1-5302638305b4"
      },
      "outputs": [
        {
          "name": "stdout",
          "output_type": "stream",
          "text": [
            "[' Black', ' Beige', ' Pink', 'Blue', ' White', ' Brown', ' Burgundy', ' Red', ' Green', ' Maroon', ' Navy', ' Gold', ' Yellow', ' Grey', ' Platinum', ' Silver', ' Khaki', ' Mustard', ' Lavender', ' Matte', ' Rose', ' Charcoal', ' Purple']\n",
            "['Unisex', 'Women', 'Men', 'Boys', 'Girls']\n"
          ]
        }
      ],
      "source": [
        "color_list = embedding_df[\"PrimaryColor\"].drop_duplicates().to_list()\n",
        "print(color_list)\n",
        "gender_list = embedding_df[\"Gender\"].drop_duplicates().to_list()\n",
        "print(gender_list)"
      ]
    },
    {
      "cell_type": "code",
      "execution_count": null,
      "metadata": {
        "id": "acQ1V9dN4PYb"
      },
      "outputs": [],
      "source": [
        "input_keyword = \"brown Shoes for men under 1500\"\n",
        "vector_of_input_keyword = get_embedding(input_keyword)\n"
      ]
    },
    {
      "cell_type": "code",
      "execution_count": null,
      "metadata": {
        "id": "2ZPBRQDc4PYb",
        "outputId": "63b870d0-e7bf-4888-e5d0-42d55906e911"
      },
      "outputs": [
        {
          "data": {
            "text/plain": [
              "'I have data in elastic search of all clothing products with their description, color, price and the gender they belongs to.\\ngenders are [\\'Unisex\\', \\'Women\\', \\'Men\\', \\'Boys\\', \\'Girls\\']\\ncolors are [\\' Black\\', \\' Beige\\', \\' Pink\\', \\'Blue\\', \\' White\\', \\' Brown\\', \\' Burgundy\\', \\' Red\\', \\' Green\\', \\' Maroon\\', \\' Navy\\', \\' Gold\\', \\' Yellow\\', \\' Grey\\', \\' Platinum\\', \\' Silver\\', \\' Khaki\\', \\' Mustard\\', \\' Lavender\\', \\' Matte\\', \\' Rose\\', \\' Charcoal\\', \\' Purple\\']\\nprice can be anything from 0 to 100k\\nbased on user\\'s search query. give me json output as follows\\n{\\n\"color\": \"it should be what users want. give Not-Mentioned if user did not explicitly mentioned the color in query. If the color mentioned by user is not present in above color list, give Not-Found\",\\n\"gender\": \"gender should be from above list only. if not specified give Not-Mentioned.\"\\n\"max_price\":\\n\"min_price\":\\n}\\n\\nusers query : brown Shoes for men under 1500\\n'"
            ]
          },
          "execution_count": 36,
          "metadata": {},
          "output_type": "execute_result"
        }
      ],
      "source": [
        "my_prompt = f\"\"\"I have data in elastic search of all clothing products with their description, color, price and the gender they belongs to.\n",
        "genders are {gender_list}\n",
        "colors are {color_list}\n",
        "price can be anything from 0 to 100k\n",
        "based on user's search query. give me json output as follows\n",
        "{{\n",
        "\"color\": \"it should be what users want. give Not-Mentioned if user did not explicitly mentioned the color in query. If the color mentioned by user is not present in above color list, give Not-Found\",\n",
        "\"gender\": \"gender should be from above list only. if not specified give Not-Mentioned.\"\n",
        "\"max_price\":\n",
        "\"min_price\":\n",
        "}}\n",
        "\n",
        "users query : {input_keyword}\n",
        "\"\"\"\n",
        "my_prompt"
      ]
    },
    {
      "cell_type": "code",
      "execution_count": null,
      "metadata": {
        "id": "CB8jxr0H4PYb",
        "outputId": "36c47a07-f601-4e73-cddd-38966874b5bf"
      },
      "outputs": [
        {
          "data": {
            "text/plain": [
              "ChatCompletion(id='chatcmpl-8TqrOBIjWZcGYty2SaU4EBLxUwGdo', choices=[Choice(finish_reason='stop', index=0, message=ChatCompletionMessage(content='{\\n  \"color\": \"Brown\",\\n  \"gender\": \"Men\",\\n  \"max_price\": 1500,\\n  \"min_price\": 0\\n}', role='assistant', function_call=None, tool_calls=None))], created=1702125398, model='gpt-3.5-turbo-1106', object='chat.completion', system_fingerprint='fp_eeff13170a', usage=CompletionUsage(completion_tokens=33, prompt_tokens=268, total_tokens=301))"
            ]
          },
          "execution_count": 37,
          "metadata": {},
          "output_type": "execute_result"
        }
      ],
      "source": [
        "\n",
        "response = client.chat.completions.create(\n",
        "  model=\"gpt-3.5-turbo-1106\",\n",
        "  response_format={ \"type\": \"json_object\" },\n",
        "  messages=[\n",
        "    {\"role\": \"system\", \"content\": \"You are a helpful assistant designed to output only in JSON format. No other text or explaination.\"},\n",
        "    {\"role\": \"user\", \"content\": my_prompt}\n",
        "  ]\n",
        ")\n",
        "\n",
        "response"
      ]
    },
    {
      "cell_type": "code",
      "execution_count": null,
      "metadata": {
        "id": "nK_v7wbr4PYb",
        "outputId": "610a4c12-11f5-4169-815e-ddeaf0065de4"
      },
      "outputs": [
        {
          "data": {
            "text/plain": [
              "'{\\n  \"color\": \"Brown\",\\n  \"gender\": \"Men\",\\n  \"max_price\": 1500,\\n  \"min_price\": 0\\n}'"
            ]
          },
          "execution_count": 38,
          "metadata": {},
          "output_type": "execute_result"
        }
      ],
      "source": [
        "response.choices[0].message.content"
      ]
    },
    {
      "cell_type": "code",
      "execution_count": null,
      "metadata": {
        "id": "Mj2bzlLN4PYb",
        "outputId": "f4fd39d9-924b-4a0a-8ba1-a7dbb3a6a850"
      },
      "outputs": [
        {
          "data": {
            "text/plain": [
              "{'color': 'Brown', 'gender': 'Men', 'max_price': 1500, 'min_price': 0}"
            ]
          },
          "execution_count": 39,
          "metadata": {},
          "output_type": "execute_result"
        }
      ],
      "source": [
        "import json\n",
        "filter_map = json.loads(response.choices[0].message.content)\n",
        "filter_map"
      ]
    },
    {
      "cell_type": "code",
      "execution_count": null,
      "metadata": {
        "id": "c12ngu7Q4PYb",
        "outputId": "4bb6ce05-e44e-48c6-b9ba-aebc21a6171f"
      },
      "outputs": [
        {
          "name": "stderr",
          "output_type": "stream",
          "text": [
            "/var/folders/3k/901cf0jd1lngqxfl_y527qp00000gn/T/ipykernel_96516/3685903562.py:36: DeprecationWarning: Passing transport options in the API method is deprecated. Use 'Elasticsearch.options()' instead.\n",
            "  res = es.knn_search(index=\"my_products\",\n",
            "/var/folders/3k/901cf0jd1lngqxfl_y527qp00000gn/T/ipykernel_96516/3685903562.py:36: ElasticsearchWarning: The kNN search API has been replaced by the `knn` option in the search API.\n",
            "  res = es.knn_search(index=\"my_products\",\n"
          ]
        },
        {
          "data": {
            "text/plain": [
              "[{'_index': 'my_products',\n",
              "  '_id': '10006031',\n",
              "  '_score': 0.75574964,\n",
              "  '_source': {'ProductName': 'ID Men Brown Solid Leather Mid-Top Sneakers',\n",
              "   'ProductBrand': 'ID',\n",
              "   'Gender': 'Men',\n",
              "   'Price (INR)': 1286,\n",
              "   'Description': 'A pair of round-toe brown sneakers, has mid-top styling, lace-up detailLeather upperCushioned footbedTextured and patterned outsoleWarranty: 3 monthsWarranty provided by brand/manufacturer',\n",
              "   'PrimaryColor': ' Brown'}},\n",
              " {'_index': 'my_products',\n",
              "  '_id': '10006073',\n",
              "  '_score': 0.7465898,\n",
              "  '_source': {'ProductName': 'ID Men Brown Leather Loafers',\n",
              "   'ProductBrand': 'ID',\n",
              "   'Gender': 'Men',\n",
              "   'Price (INR)': 1218,\n",
              "   'Description': 'A pair of square toe brown loafers, has regular styling, slip-on detailLeather upperCushioned footbedTextured and patterned outsoleWarranty: 3 monthsWarranty provided by brand/manufacturer',\n",
              "   'PrimaryColor': ' Brown'}},\n",
              " {'_index': 'my_products',\n",
              "  '_id': '10006083',\n",
              "  '_score': 0.74521184,\n",
              "  '_source': {'ProductName': 'ID Men Tan Brown Leather Loafers',\n",
              "   'ProductBrand': 'ID',\n",
              "   'Gender': 'Men',\n",
              "   'Price (INR)': 1218,\n",
              "   'Description': 'A pair of square toe tan loafers, has regular styling, slip-on detailLeather upperCushioned footbedTextured and patterned outsoleWarranty: 3 monthsWarranty provided by brand/manufacturer',\n",
              "   'PrimaryColor': ' Brown'}},\n",
              " {'_index': 'my_products',\n",
              "  '_id': '10006029',\n",
              "  '_score': 0.7421721,\n",
              "  '_source': {'ProductName': 'ID Men Brown Leather Formal Slip-Ons',\n",
              "   'ProductBrand': 'ID',\n",
              "   'Gender': 'Men',\n",
              "   'Price (INR)': 956,\n",
              "   'Description': 'A pair of brown square-toed formal slip-on shoes, has elasticated gussets on both sidesLeather upper, has a textured detailCushioned footbedTextured TPR outsoleWarranty: 3 months against manufacturing defect onlyWarranty provided by the brand owner / manufacturer',\n",
              "   'PrimaryColor': ' Brown'}},\n",
              " {'_index': 'my_products',\n",
              "  '_id': '10006019',\n",
              "  '_score': 0.7388859,\n",
              "  '_source': {'ProductName': 'ID Men Tan Brown Formal Leather Oxfords',\n",
              "   'ProductBrand': 'ID',\n",
              "   'Gender': 'Men',\n",
              "   'Price (INR)': 1432,\n",
              "   'Description': 'A pair of tan brown square-toed formal oxfords, has central lace-upsLeather upperCushioned footbedTextured TPU outsole, has a stacked heelWarranty: 3 months against manufacturing defect onlyWarranty provided by the brand owner / manufacturer',\n",
              "   'PrimaryColor': ' Brown'}},\n",
              " {'_index': 'my_products',\n",
              "  '_id': '10006059',\n",
              "  '_score': 0.7294855,\n",
              "  '_source': {'ProductName': 'ID Men Brown Fisherman Leather Sandals',\n",
              "   'ProductBrand': 'ID',\n",
              "   'Gender': 'Men',\n",
              "   'Price (INR)': 1197,\n",
              "   'Description': 'A pair of brown fisherman sandalsLeather upper with velcro closureCushioned footbedPatterned synthetic outsoleWarranty: 3 monthsWarranty provided by brand/manufacturer',\n",
              "   'PrimaryColor': ' Brown'}},\n",
              " {'_index': 'my_products',\n",
              "  '_id': '10014361',\n",
              "  '_score': 0.7212268,\n",
              "  '_source': {'ProductName': 'SHOWOFF Men Brown Solid Slim Fit Regular Shorts',\n",
              "   'ProductBrand': 'SHOWOFF',\n",
              "   'Gender': 'Men',\n",
              "   'Price (INR)': 791,\n",
              "   'Description': 'Brown solid low-rise regular shorts, has four pockets, a button closure',\n",
              "   'PrimaryColor': ' Brown'}},\n",
              " {'_index': 'my_products',\n",
              "  '_id': '10000595',\n",
              "  '_score': 0.7157342,\n",
              "  '_source': {'ProductName': 'Parx Men Brown Original Slim Fit Solid Regular Trousers',\n",
              "   'ProductBrand': 'Parx',\n",
              "   'Gender': 'Men',\n",
              "   'Price (INR)': 874,\n",
              "   'Description': 'Brown solid mid-rise regular trousers, has a button closure, four pockets',\n",
              "   'PrimaryColor': ' Brown'}},\n",
              " {'_index': 'my_products',\n",
              "  '_id': '10007811',\n",
              "  '_score': 0.7087305,\n",
              "  '_source': {'ProductName': 'her by invictus Women Tan Brown Cushioned Slip-on Shoes',\n",
              "   'ProductBrand': 'her by invictus',\n",
              "   'Gender': 'Women',\n",
              "   'Price (INR)': 949,\n",
              "   'Description': 'A pair of pointed closed toe tan brown slip-on shoes with cushioned footbed and comfortable lining, has regular styling, and closed backSynthetic upperFoam Cushioned footbedTextured and patterned outsole',\n",
              "   'PrimaryColor': ' Brown'}},\n",
              " {'_index': 'my_products',\n",
              "  '_id': '10002785',\n",
              "  '_score': 0.70150924,\n",
              "  '_source': {'ProductName': 'JBN Creation Boys Maroon & Brown Sherwani Set',\n",
              "   'ProductBrand': 'JBN Creation',\n",
              "   'Gender': 'Boys',\n",
              "   'Price (INR)': 1154,\n",
              "   'Description': 'Maroon and brown sherwaniMaroon woven design sherwani, has a mandarin collar, a full button placket, a welt pocket, multipple slitsComes with a pocket squareA pair of brown mid-rise pyjama with gathers and pleats, has an elasticated waistband',\n",
              "   'PrimaryColor': ' Brown'}}]"
            ]
          },
          "execution_count": 40,
          "metadata": {},
          "output_type": "execute_result"
        }
      ],
      "source": [
        "\n",
        "q1 = {\n",
        "    \"knn\": {\n",
        "        \"field\": \"NameDescriptionVector\",\n",
        "        \"query_vector\": vector_of_input_keyword,\n",
        "        \"k\": 10,\n",
        "        \"num_candidates\": 10000\n",
        "    },\n",
        "    \"_source\": [\"ProductName\",\"Description\",\"PrimaryColor\",\"Price (INR)\",\"ProductBrand\",\"Gender\"]\n",
        "}\n",
        "\n",
        "\n",
        "filter_query = {\n",
        "    \"bool\": {\n",
        "        \"must\": [\n",
        "            {\n",
        "                \"match\": {\n",
        "                    \"PrimaryColor\": {\n",
        "                        \"query\": filter_map[\"color\"],\n",
        "                        \"fuzzy_transpositions\": \"false\",\n",
        "                        \"fuzziness\": 0\n",
        "                    }\n",
        "                }\n",
        "            },\n",
        "            {\n",
        "                \"range\": {\n",
        "                    \"Price (INR)\": {\n",
        "                        \"gte\": filter_map[\"min_price\"],\n",
        "                        \"lte\": filter_map[\"max_price\"]\n",
        "                    }\n",
        "                }\n",
        "            }\n",
        "        ]\n",
        "    }\n",
        "}\n",
        "\n",
        "res = es.knn_search(index=\"my_products\",\n",
        "                    body=q1,\n",
        "                    request_timeout=5000,\n",
        "                    filter=filter_query)\n",
        "\n",
        "res[\"hits\"][\"hits\"]"
      ]
    },
    {
      "cell_type": "code",
      "execution_count": null,
      "metadata": {
        "id": "k31M0NUJ4PYb"
      },
      "outputs": [],
      "source": []
    }
  ],
  "metadata": {
    "kernelspec": {
      "display_name": "Python 3",
      "language": "python",
      "name": "python3"
    },
    "language_info": {
      "codemirror_mode": {
        "name": "ipython",
        "version": 3
      },
      "file_extension": ".py",
      "mimetype": "text/x-python",
      "name": "python",
      "nbconvert_exporter": "python",
      "pygments_lexer": "ipython3",
      "version": "3.11.5"
    },
    "colab": {
      "provenance": []
    }
  },
  "nbformat": 4,
  "nbformat_minor": 0
}