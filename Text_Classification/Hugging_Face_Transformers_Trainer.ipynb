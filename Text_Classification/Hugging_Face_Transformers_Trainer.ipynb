{
  "nbformat": 4,
  "nbformat_minor": 0,
  "metadata": {
    "colab": {
      "provenance": [],
      "include_colab_link": true
    },
    "kernelspec": {
      "name": "python3",
      "display_name": "Python 3"
    },
    "language_info": {
      "name": "python"
    },
    "gpuClass": "standard",
    "widgets": {
      "application/vnd.jupyter.widget-state+json": {
        "953726f15c7d4f2ab88ee4873cb52ba5": {
          "model_module": "@jupyter-widgets/controls",
          "model_name": "HBoxModel",
          "model_module_version": "1.5.0",
          "state": {
            "_dom_classes": [],
            "_model_module": "@jupyter-widgets/controls",
            "_model_module_version": "1.5.0",
            "_model_name": "HBoxModel",
            "_view_count": null,
            "_view_module": "@jupyter-widgets/controls",
            "_view_module_version": "1.5.0",
            "_view_name": "HBoxView",
            "box_style": "",
            "children": [
              "IPY_MODEL_04922e33b4af409d868062828c984875",
              "IPY_MODEL_a2b134e9425b4929906926e010f8da36",
              "IPY_MODEL_1b52568617844f6f86cda7f8c4c7b550"
            ],
            "layout": "IPY_MODEL_41e34e91aa1f4f5d9dad352a9d933edb"
          }
        },
        "04922e33b4af409d868062828c984875": {
          "model_module": "@jupyter-widgets/controls",
          "model_name": "HTMLModel",
          "model_module_version": "1.5.0",
          "state": {
            "_dom_classes": [],
            "_model_module": "@jupyter-widgets/controls",
            "_model_module_version": "1.5.0",
            "_model_name": "HTMLModel",
            "_view_count": null,
            "_view_module": "@jupyter-widgets/controls",
            "_view_module_version": "1.5.0",
            "_view_name": "HTMLView",
            "description": "",
            "description_tooltip": null,
            "layout": "IPY_MODEL_8a7852d2062948738f6787942cdf927d",
            "placeholder": "​",
            "style": "IPY_MODEL_4c0c5bd7a9d04eec8dd3ee1add53aa2b",
            "value": "Downloading builder script: 100%"
          }
        },
        "a2b134e9425b4929906926e010f8da36": {
          "model_module": "@jupyter-widgets/controls",
          "model_name": "FloatProgressModel",
          "model_module_version": "1.5.0",
          "state": {
            "_dom_classes": [],
            "_model_module": "@jupyter-widgets/controls",
            "_model_module_version": "1.5.0",
            "_model_name": "FloatProgressModel",
            "_view_count": null,
            "_view_module": "@jupyter-widgets/controls",
            "_view_module_version": "1.5.0",
            "_view_name": "ProgressView",
            "bar_style": "success",
            "description": "",
            "description_tooltip": null,
            "layout": "IPY_MODEL_e313002f7d694984a704ce1cdbf2bc4e",
            "max": 6771,
            "min": 0,
            "orientation": "horizontal",
            "style": "IPY_MODEL_0e18d0d72bb841ba84463115614158ac",
            "value": 6771
          }
        },
        "1b52568617844f6f86cda7f8c4c7b550": {
          "model_module": "@jupyter-widgets/controls",
          "model_name": "HTMLModel",
          "model_module_version": "1.5.0",
          "state": {
            "_dom_classes": [],
            "_model_module": "@jupyter-widgets/controls",
            "_model_module_version": "1.5.0",
            "_model_name": "HTMLModel",
            "_view_count": null,
            "_view_module": "@jupyter-widgets/controls",
            "_view_module_version": "1.5.0",
            "_view_name": "HTMLView",
            "description": "",
            "description_tooltip": null,
            "layout": "IPY_MODEL_7ad1f3547acb4834bc93e6fc5dc4ab1b",
            "placeholder": "​",
            "style": "IPY_MODEL_86f218d5b73f4cf985e875212a72a2cf",
            "value": " 6.77k/6.77k [00:00&lt;00:00, 306kB/s]"
          }
        },
        "41e34e91aa1f4f5d9dad352a9d933edb": {
          "model_module": "@jupyter-widgets/base",
          "model_name": "LayoutModel",
          "model_module_version": "1.2.0",
          "state": {
            "_model_module": "@jupyter-widgets/base",
            "_model_module_version": "1.2.0",
            "_model_name": "LayoutModel",
            "_view_count": null,
            "_view_module": "@jupyter-widgets/base",
            "_view_module_version": "1.2.0",
            "_view_name": "LayoutView",
            "align_content": null,
            "align_items": null,
            "align_self": null,
            "border": null,
            "bottom": null,
            "display": null,
            "flex": null,
            "flex_flow": null,
            "grid_area": null,
            "grid_auto_columns": null,
            "grid_auto_flow": null,
            "grid_auto_rows": null,
            "grid_column": null,
            "grid_gap": null,
            "grid_row": null,
            "grid_template_areas": null,
            "grid_template_columns": null,
            "grid_template_rows": null,
            "height": null,
            "justify_content": null,
            "justify_items": null,
            "left": null,
            "margin": null,
            "max_height": null,
            "max_width": null,
            "min_height": null,
            "min_width": null,
            "object_fit": null,
            "object_position": null,
            "order": null,
            "overflow": null,
            "overflow_x": null,
            "overflow_y": null,
            "padding": null,
            "right": null,
            "top": null,
            "visibility": null,
            "width": null
          }
        },
        "8a7852d2062948738f6787942cdf927d": {
          "model_module": "@jupyter-widgets/base",
          "model_name": "LayoutModel",
          "model_module_version": "1.2.0",
          "state": {
            "_model_module": "@jupyter-widgets/base",
            "_model_module_version": "1.2.0",
            "_model_name": "LayoutModel",
            "_view_count": null,
            "_view_module": "@jupyter-widgets/base",
            "_view_module_version": "1.2.0",
            "_view_name": "LayoutView",
            "align_content": null,
            "align_items": null,
            "align_self": null,
            "border": null,
            "bottom": null,
            "display": null,
            "flex": null,
            "flex_flow": null,
            "grid_area": null,
            "grid_auto_columns": null,
            "grid_auto_flow": null,
            "grid_auto_rows": null,
            "grid_column": null,
            "grid_gap": null,
            "grid_row": null,
            "grid_template_areas": null,
            "grid_template_columns": null,
            "grid_template_rows": null,
            "height": null,
            "justify_content": null,
            "justify_items": null,
            "left": null,
            "margin": null,
            "max_height": null,
            "max_width": null,
            "min_height": null,
            "min_width": null,
            "object_fit": null,
            "object_position": null,
            "order": null,
            "overflow": null,
            "overflow_x": null,
            "overflow_y": null,
            "padding": null,
            "right": null,
            "top": null,
            "visibility": null,
            "width": null
          }
        },
        "4c0c5bd7a9d04eec8dd3ee1add53aa2b": {
          "model_module": "@jupyter-widgets/controls",
          "model_name": "DescriptionStyleModel",
          "model_module_version": "1.5.0",
          "state": {
            "_model_module": "@jupyter-widgets/controls",
            "_model_module_version": "1.5.0",
            "_model_name": "DescriptionStyleModel",
            "_view_count": null,
            "_view_module": "@jupyter-widgets/base",
            "_view_module_version": "1.2.0",
            "_view_name": "StyleView",
            "description_width": ""
          }
        },
        "e313002f7d694984a704ce1cdbf2bc4e": {
          "model_module": "@jupyter-widgets/base",
          "model_name": "LayoutModel",
          "model_module_version": "1.2.0",
          "state": {
            "_model_module": "@jupyter-widgets/base",
            "_model_module_version": "1.2.0",
            "_model_name": "LayoutModel",
            "_view_count": null,
            "_view_module": "@jupyter-widgets/base",
            "_view_module_version": "1.2.0",
            "_view_name": "LayoutView",
            "align_content": null,
            "align_items": null,
            "align_self": null,
            "border": null,
            "bottom": null,
            "display": null,
            "flex": null,
            "flex_flow": null,
            "grid_area": null,
            "grid_auto_columns": null,
            "grid_auto_flow": null,
            "grid_auto_rows": null,
            "grid_column": null,
            "grid_gap": null,
            "grid_row": null,
            "grid_template_areas": null,
            "grid_template_columns": null,
            "grid_template_rows": null,
            "height": null,
            "justify_content": null,
            "justify_items": null,
            "left": null,
            "margin": null,
            "max_height": null,
            "max_width": null,
            "min_height": null,
            "min_width": null,
            "object_fit": null,
            "object_position": null,
            "order": null,
            "overflow": null,
            "overflow_x": null,
            "overflow_y": null,
            "padding": null,
            "right": null,
            "top": null,
            "visibility": null,
            "width": null
          }
        },
        "0e18d0d72bb841ba84463115614158ac": {
          "model_module": "@jupyter-widgets/controls",
          "model_name": "ProgressStyleModel",
          "model_module_version": "1.5.0",
          "state": {
            "_model_module": "@jupyter-widgets/controls",
            "_model_module_version": "1.5.0",
            "_model_name": "ProgressStyleModel",
            "_view_count": null,
            "_view_module": "@jupyter-widgets/base",
            "_view_module_version": "1.2.0",
            "_view_name": "StyleView",
            "bar_color": null,
            "description_width": ""
          }
        },
        "7ad1f3547acb4834bc93e6fc5dc4ab1b": {
          "model_module": "@jupyter-widgets/base",
          "model_name": "LayoutModel",
          "model_module_version": "1.2.0",
          "state": {
            "_model_module": "@jupyter-widgets/base",
            "_model_module_version": "1.2.0",
            "_model_name": "LayoutModel",
            "_view_count": null,
            "_view_module": "@jupyter-widgets/base",
            "_view_module_version": "1.2.0",
            "_view_name": "LayoutView",
            "align_content": null,
            "align_items": null,
            "align_self": null,
            "border": null,
            "bottom": null,
            "display": null,
            "flex": null,
            "flex_flow": null,
            "grid_area": null,
            "grid_auto_columns": null,
            "grid_auto_flow": null,
            "grid_auto_rows": null,
            "grid_column": null,
            "grid_gap": null,
            "grid_row": null,
            "grid_template_areas": null,
            "grid_template_columns": null,
            "grid_template_rows": null,
            "height": null,
            "justify_content": null,
            "justify_items": null,
            "left": null,
            "margin": null,
            "max_height": null,
            "max_width": null,
            "min_height": null,
            "min_width": null,
            "object_fit": null,
            "object_position": null,
            "order": null,
            "overflow": null,
            "overflow_x": null,
            "overflow_y": null,
            "padding": null,
            "right": null,
            "top": null,
            "visibility": null,
            "width": null
          }
        },
        "86f218d5b73f4cf985e875212a72a2cf": {
          "model_module": "@jupyter-widgets/controls",
          "model_name": "DescriptionStyleModel",
          "model_module_version": "1.5.0",
          "state": {
            "_model_module": "@jupyter-widgets/controls",
            "_model_module_version": "1.5.0",
            "_model_name": "DescriptionStyleModel",
            "_view_count": null,
            "_view_module": "@jupyter-widgets/base",
            "_view_module_version": "1.2.0",
            "_view_name": "StyleView",
            "description_width": ""
          }
        },
        "5f1fb97e83454bb486f06ac3f7db6c88": {
          "model_module": "@jupyter-widgets/controls",
          "model_name": "HBoxModel",
          "model_module_version": "1.5.0",
          "state": {
            "_dom_classes": [],
            "_model_module": "@jupyter-widgets/controls",
            "_model_module_version": "1.5.0",
            "_model_name": "HBoxModel",
            "_view_count": null,
            "_view_module": "@jupyter-widgets/controls",
            "_view_module_version": "1.5.0",
            "_view_name": "HBoxView",
            "box_style": "",
            "children": [
              "IPY_MODEL_d5d3098cfb5b4f01822adfc41d07601c",
              "IPY_MODEL_28e4f4576d8348fd92846060f1227fc3",
              "IPY_MODEL_b4cb374717854a73a89cb3c4116dee71"
            ],
            "layout": "IPY_MODEL_dc9b2eda24bc4587bca075d78fe6c643"
          }
        },
        "d5d3098cfb5b4f01822adfc41d07601c": {
          "model_module": "@jupyter-widgets/controls",
          "model_name": "HTMLModel",
          "model_module_version": "1.5.0",
          "state": {
            "_dom_classes": [],
            "_model_module": "@jupyter-widgets/controls",
            "_model_module_version": "1.5.0",
            "_model_name": "HTMLModel",
            "_view_count": null,
            "_view_module": "@jupyter-widgets/controls",
            "_view_module_version": "1.5.0",
            "_view_name": "HTMLView",
            "description": "",
            "description_tooltip": null,
            "layout": "IPY_MODEL_409c36f8e06b4f5887cadc21cc56a522",
            "placeholder": "​",
            "style": "IPY_MODEL_fc1aa380c15840eca647d82a19a57120",
            "value": "Downloading builder script: 100%"
          }
        },
        "28e4f4576d8348fd92846060f1227fc3": {
          "model_module": "@jupyter-widgets/controls",
          "model_name": "FloatProgressModel",
          "model_module_version": "1.5.0",
          "state": {
            "_dom_classes": [],
            "_model_module": "@jupyter-widgets/controls",
            "_model_module_version": "1.5.0",
            "_model_name": "FloatProgressModel",
            "_view_count": null,
            "_view_module": "@jupyter-widgets/controls",
            "_view_module_version": "1.5.0",
            "_view_name": "ProgressView",
            "bar_style": "success",
            "description": "",
            "description_tooltip": null,
            "layout": "IPY_MODEL_029ad69de8b24430a3e490b3f116e9e3",
            "max": 7363,
            "min": 0,
            "orientation": "horizontal",
            "style": "IPY_MODEL_9488dec93e494582821ee6fb822499db",
            "value": 7363
          }
        },
        "b4cb374717854a73a89cb3c4116dee71": {
          "model_module": "@jupyter-widgets/controls",
          "model_name": "HTMLModel",
          "model_module_version": "1.5.0",
          "state": {
            "_dom_classes": [],
            "_model_module": "@jupyter-widgets/controls",
            "_model_module_version": "1.5.0",
            "_model_name": "HTMLModel",
            "_view_count": null,
            "_view_module": "@jupyter-widgets/controls",
            "_view_module_version": "1.5.0",
            "_view_name": "HTMLView",
            "description": "",
            "description_tooltip": null,
            "layout": "IPY_MODEL_d98965efb46e4156bca0d975f68d74bf",
            "placeholder": "​",
            "style": "IPY_MODEL_60078afb49694287b68500e3350dc913",
            "value": " 7.36k/7.36k [00:00&lt;00:00, 314kB/s]"
          }
        },
        "dc9b2eda24bc4587bca075d78fe6c643": {
          "model_module": "@jupyter-widgets/base",
          "model_name": "LayoutModel",
          "model_module_version": "1.2.0",
          "state": {
            "_model_module": "@jupyter-widgets/base",
            "_model_module_version": "1.2.0",
            "_model_name": "LayoutModel",
            "_view_count": null,
            "_view_module": "@jupyter-widgets/base",
            "_view_module_version": "1.2.0",
            "_view_name": "LayoutView",
            "align_content": null,
            "align_items": null,
            "align_self": null,
            "border": null,
            "bottom": null,
            "display": null,
            "flex": null,
            "flex_flow": null,
            "grid_area": null,
            "grid_auto_columns": null,
            "grid_auto_flow": null,
            "grid_auto_rows": null,
            "grid_column": null,
            "grid_gap": null,
            "grid_row": null,
            "grid_template_areas": null,
            "grid_template_columns": null,
            "grid_template_rows": null,
            "height": null,
            "justify_content": null,
            "justify_items": null,
            "left": null,
            "margin": null,
            "max_height": null,
            "max_width": null,
            "min_height": null,
            "min_width": null,
            "object_fit": null,
            "object_position": null,
            "order": null,
            "overflow": null,
            "overflow_x": null,
            "overflow_y": null,
            "padding": null,
            "right": null,
            "top": null,
            "visibility": null,
            "width": null
          }
        },
        "409c36f8e06b4f5887cadc21cc56a522": {
          "model_module": "@jupyter-widgets/base",
          "model_name": "LayoutModel",
          "model_module_version": "1.2.0",
          "state": {
            "_model_module": "@jupyter-widgets/base",
            "_model_module_version": "1.2.0",
            "_model_name": "LayoutModel",
            "_view_count": null,
            "_view_module": "@jupyter-widgets/base",
            "_view_module_version": "1.2.0",
            "_view_name": "LayoutView",
            "align_content": null,
            "align_items": null,
            "align_self": null,
            "border": null,
            "bottom": null,
            "display": null,
            "flex": null,
            "flex_flow": null,
            "grid_area": null,
            "grid_auto_columns": null,
            "grid_auto_flow": null,
            "grid_auto_rows": null,
            "grid_column": null,
            "grid_gap": null,
            "grid_row": null,
            "grid_template_areas": null,
            "grid_template_columns": null,
            "grid_template_rows": null,
            "height": null,
            "justify_content": null,
            "justify_items": null,
            "left": null,
            "margin": null,
            "max_height": null,
            "max_width": null,
            "min_height": null,
            "min_width": null,
            "object_fit": null,
            "object_position": null,
            "order": null,
            "overflow": null,
            "overflow_x": null,
            "overflow_y": null,
            "padding": null,
            "right": null,
            "top": null,
            "visibility": null,
            "width": null
          }
        },
        "fc1aa380c15840eca647d82a19a57120": {
          "model_module": "@jupyter-widgets/controls",
          "model_name": "DescriptionStyleModel",
          "model_module_version": "1.5.0",
          "state": {
            "_model_module": "@jupyter-widgets/controls",
            "_model_module_version": "1.5.0",
            "_model_name": "DescriptionStyleModel",
            "_view_count": null,
            "_view_module": "@jupyter-widgets/base",
            "_view_module_version": "1.2.0",
            "_view_name": "StyleView",
            "description_width": ""
          }
        },
        "029ad69de8b24430a3e490b3f116e9e3": {
          "model_module": "@jupyter-widgets/base",
          "model_name": "LayoutModel",
          "model_module_version": "1.2.0",
          "state": {
            "_model_module": "@jupyter-widgets/base",
            "_model_module_version": "1.2.0",
            "_model_name": "LayoutModel",
            "_view_count": null,
            "_view_module": "@jupyter-widgets/base",
            "_view_module_version": "1.2.0",
            "_view_name": "LayoutView",
            "align_content": null,
            "align_items": null,
            "align_self": null,
            "border": null,
            "bottom": null,
            "display": null,
            "flex": null,
            "flex_flow": null,
            "grid_area": null,
            "grid_auto_columns": null,
            "grid_auto_flow": null,
            "grid_auto_rows": null,
            "grid_column": null,
            "grid_gap": null,
            "grid_row": null,
            "grid_template_areas": null,
            "grid_template_columns": null,
            "grid_template_rows": null,
            "height": null,
            "justify_content": null,
            "justify_items": null,
            "left": null,
            "margin": null,
            "max_height": null,
            "max_width": null,
            "min_height": null,
            "min_width": null,
            "object_fit": null,
            "object_position": null,
            "order": null,
            "overflow": null,
            "overflow_x": null,
            "overflow_y": null,
            "padding": null,
            "right": null,
            "top": null,
            "visibility": null,
            "width": null
          }
        },
        "9488dec93e494582821ee6fb822499db": {
          "model_module": "@jupyter-widgets/controls",
          "model_name": "ProgressStyleModel",
          "model_module_version": "1.5.0",
          "state": {
            "_model_module": "@jupyter-widgets/controls",
            "_model_module_version": "1.5.0",
            "_model_name": "ProgressStyleModel",
            "_view_count": null,
            "_view_module": "@jupyter-widgets/base",
            "_view_module_version": "1.2.0",
            "_view_name": "StyleView",
            "bar_color": null,
            "description_width": ""
          }
        },
        "d98965efb46e4156bca0d975f68d74bf": {
          "model_module": "@jupyter-widgets/base",
          "model_name": "LayoutModel",
          "model_module_version": "1.2.0",
          "state": {
            "_model_module": "@jupyter-widgets/base",
            "_model_module_version": "1.2.0",
            "_model_name": "LayoutModel",
            "_view_count": null,
            "_view_module": "@jupyter-widgets/base",
            "_view_module_version": "1.2.0",
            "_view_name": "LayoutView",
            "align_content": null,
            "align_items": null,
            "align_self": null,
            "border": null,
            "bottom": null,
            "display": null,
            "flex": null,
            "flex_flow": null,
            "grid_area": null,
            "grid_auto_columns": null,
            "grid_auto_flow": null,
            "grid_auto_rows": null,
            "grid_column": null,
            "grid_gap": null,
            "grid_row": null,
            "grid_template_areas": null,
            "grid_template_columns": null,
            "grid_template_rows": null,
            "height": null,
            "justify_content": null,
            "justify_items": null,
            "left": null,
            "margin": null,
            "max_height": null,
            "max_width": null,
            "min_height": null,
            "min_width": null,
            "object_fit": null,
            "object_position": null,
            "order": null,
            "overflow": null,
            "overflow_x": null,
            "overflow_y": null,
            "padding": null,
            "right": null,
            "top": null,
            "visibility": null,
            "width": null
          }
        },
        "60078afb49694287b68500e3350dc913": {
          "model_module": "@jupyter-widgets/controls",
          "model_name": "DescriptionStyleModel",
          "model_module_version": "1.5.0",
          "state": {
            "_model_module": "@jupyter-widgets/controls",
            "_model_module_version": "1.5.0",
            "_model_name": "DescriptionStyleModel",
            "_view_count": null,
            "_view_module": "@jupyter-widgets/base",
            "_view_module_version": "1.2.0",
            "_view_name": "StyleView",
            "description_width": ""
          }
        },
        "6aef6fc818dc403cb33d20376e468e7d": {
          "model_module": "@jupyter-widgets/controls",
          "model_name": "HBoxModel",
          "model_module_version": "1.5.0",
          "state": {
            "_dom_classes": [],
            "_model_module": "@jupyter-widgets/controls",
            "_model_module_version": "1.5.0",
            "_model_name": "HBoxModel",
            "_view_count": null,
            "_view_module": "@jupyter-widgets/controls",
            "_view_module_version": "1.5.0",
            "_view_name": "HBoxView",
            "box_style": "",
            "children": [
              "IPY_MODEL_6a9f04a739e34846b6af33ba6712de90",
              "IPY_MODEL_77d45bd92bd74c7fbcb354ac4b8a818e",
              "IPY_MODEL_49f1ad75d52e49c98ca112b2600deb7b"
            ],
            "layout": "IPY_MODEL_ad6dd14ffd364fd4949641cfcf0fd38a"
          }
        },
        "6a9f04a739e34846b6af33ba6712de90": {
          "model_module": "@jupyter-widgets/controls",
          "model_name": "HTMLModel",
          "model_module_version": "1.5.0",
          "state": {
            "_dom_classes": [],
            "_model_module": "@jupyter-widgets/controls",
            "_model_module_version": "1.5.0",
            "_model_name": "HTMLModel",
            "_view_count": null,
            "_view_module": "@jupyter-widgets/controls",
            "_view_module_version": "1.5.0",
            "_view_name": "HTMLView",
            "description": "",
            "description_tooltip": null,
            "layout": "IPY_MODEL_787e32a060e64c06abe4cc89e6bba73a",
            "placeholder": "​",
            "style": "IPY_MODEL_ed87e30e3e50413d91b8a7267a020696",
            "value": "Map: 100%"
          }
        },
        "77d45bd92bd74c7fbcb354ac4b8a818e": {
          "model_module": "@jupyter-widgets/controls",
          "model_name": "FloatProgressModel",
          "model_module_version": "1.5.0",
          "state": {
            "_dom_classes": [],
            "_model_module": "@jupyter-widgets/controls",
            "_model_module_version": "1.5.0",
            "_model_name": "FloatProgressModel",
            "_view_count": null,
            "_view_module": "@jupyter-widgets/controls",
            "_view_module_version": "1.5.0",
            "_view_name": "ProgressView",
            "bar_style": "success",
            "description": "",
            "description_tooltip": null,
            "layout": "IPY_MODEL_75234461ba9e4c308b56973d350614cd",
            "max": 800,
            "min": 0,
            "orientation": "horizontal",
            "style": "IPY_MODEL_ef71e88392fc4bbfb8d4a3ee4c8e4bbd",
            "value": 800
          }
        },
        "49f1ad75d52e49c98ca112b2600deb7b": {
          "model_module": "@jupyter-widgets/controls",
          "model_name": "HTMLModel",
          "model_module_version": "1.5.0",
          "state": {
            "_dom_classes": [],
            "_model_module": "@jupyter-widgets/controls",
            "_model_module_version": "1.5.0",
            "_model_name": "HTMLModel",
            "_view_count": null,
            "_view_module": "@jupyter-widgets/controls",
            "_view_module_version": "1.5.0",
            "_view_name": "HTMLView",
            "description": "",
            "description_tooltip": null,
            "layout": "IPY_MODEL_aa50fb6e65a340f1840c768036c221ad",
            "placeholder": "​",
            "style": "IPY_MODEL_7f6b9643259f4a35a6b842913694dd96",
            "value": " 800/800 [00:00&lt;00:00, 3227.81 examples/s]"
          }
        },
        "ad6dd14ffd364fd4949641cfcf0fd38a": {
          "model_module": "@jupyter-widgets/base",
          "model_name": "LayoutModel",
          "model_module_version": "1.2.0",
          "state": {
            "_model_module": "@jupyter-widgets/base",
            "_model_module_version": "1.2.0",
            "_model_name": "LayoutModel",
            "_view_count": null,
            "_view_module": "@jupyter-widgets/base",
            "_view_module_version": "1.2.0",
            "_view_name": "LayoutView",
            "align_content": null,
            "align_items": null,
            "align_self": null,
            "border": null,
            "bottom": null,
            "display": null,
            "flex": null,
            "flex_flow": null,
            "grid_area": null,
            "grid_auto_columns": null,
            "grid_auto_flow": null,
            "grid_auto_rows": null,
            "grid_column": null,
            "grid_gap": null,
            "grid_row": null,
            "grid_template_areas": null,
            "grid_template_columns": null,
            "grid_template_rows": null,
            "height": null,
            "justify_content": null,
            "justify_items": null,
            "left": null,
            "margin": null,
            "max_height": null,
            "max_width": null,
            "min_height": null,
            "min_width": null,
            "object_fit": null,
            "object_position": null,
            "order": null,
            "overflow": null,
            "overflow_x": null,
            "overflow_y": null,
            "padding": null,
            "right": null,
            "top": null,
            "visibility": null,
            "width": null
          }
        },
        "787e32a060e64c06abe4cc89e6bba73a": {
          "model_module": "@jupyter-widgets/base",
          "model_name": "LayoutModel",
          "model_module_version": "1.2.0",
          "state": {
            "_model_module": "@jupyter-widgets/base",
            "_model_module_version": "1.2.0",
            "_model_name": "LayoutModel",
            "_view_count": null,
            "_view_module": "@jupyter-widgets/base",
            "_view_module_version": "1.2.0",
            "_view_name": "LayoutView",
            "align_content": null,
            "align_items": null,
            "align_self": null,
            "border": null,
            "bottom": null,
            "display": null,
            "flex": null,
            "flex_flow": null,
            "grid_area": null,
            "grid_auto_columns": null,
            "grid_auto_flow": null,
            "grid_auto_rows": null,
            "grid_column": null,
            "grid_gap": null,
            "grid_row": null,
            "grid_template_areas": null,
            "grid_template_columns": null,
            "grid_template_rows": null,
            "height": null,
            "justify_content": null,
            "justify_items": null,
            "left": null,
            "margin": null,
            "max_height": null,
            "max_width": null,
            "min_height": null,
            "min_width": null,
            "object_fit": null,
            "object_position": null,
            "order": null,
            "overflow": null,
            "overflow_x": null,
            "overflow_y": null,
            "padding": null,
            "right": null,
            "top": null,
            "visibility": null,
            "width": null
          }
        },
        "ed87e30e3e50413d91b8a7267a020696": {
          "model_module": "@jupyter-widgets/controls",
          "model_name": "DescriptionStyleModel",
          "model_module_version": "1.5.0",
          "state": {
            "_model_module": "@jupyter-widgets/controls",
            "_model_module_version": "1.5.0",
            "_model_name": "DescriptionStyleModel",
            "_view_count": null,
            "_view_module": "@jupyter-widgets/base",
            "_view_module_version": "1.2.0",
            "_view_name": "StyleView",
            "description_width": ""
          }
        },
        "75234461ba9e4c308b56973d350614cd": {
          "model_module": "@jupyter-widgets/base",
          "model_name": "LayoutModel",
          "model_module_version": "1.2.0",
          "state": {
            "_model_module": "@jupyter-widgets/base",
            "_model_module_version": "1.2.0",
            "_model_name": "LayoutModel",
            "_view_count": null,
            "_view_module": "@jupyter-widgets/base",
            "_view_module_version": "1.2.0",
            "_view_name": "LayoutView",
            "align_content": null,
            "align_items": null,
            "align_self": null,
            "border": null,
            "bottom": null,
            "display": null,
            "flex": null,
            "flex_flow": null,
            "grid_area": null,
            "grid_auto_columns": null,
            "grid_auto_flow": null,
            "grid_auto_rows": null,
            "grid_column": null,
            "grid_gap": null,
            "grid_row": null,
            "grid_template_areas": null,
            "grid_template_columns": null,
            "grid_template_rows": null,
            "height": null,
            "justify_content": null,
            "justify_items": null,
            "left": null,
            "margin": null,
            "max_height": null,
            "max_width": null,
            "min_height": null,
            "min_width": null,
            "object_fit": null,
            "object_position": null,
            "order": null,
            "overflow": null,
            "overflow_x": null,
            "overflow_y": null,
            "padding": null,
            "right": null,
            "top": null,
            "visibility": null,
            "width": null
          }
        },
        "ef71e88392fc4bbfb8d4a3ee4c8e4bbd": {
          "model_module": "@jupyter-widgets/controls",
          "model_name": "ProgressStyleModel",
          "model_module_version": "1.5.0",
          "state": {
            "_model_module": "@jupyter-widgets/controls",
            "_model_module_version": "1.5.0",
            "_model_name": "ProgressStyleModel",
            "_view_count": null,
            "_view_module": "@jupyter-widgets/base",
            "_view_module_version": "1.2.0",
            "_view_name": "StyleView",
            "bar_color": null,
            "description_width": ""
          }
        },
        "aa50fb6e65a340f1840c768036c221ad": {
          "model_module": "@jupyter-widgets/base",
          "model_name": "LayoutModel",
          "model_module_version": "1.2.0",
          "state": {
            "_model_module": "@jupyter-widgets/base",
            "_model_module_version": "1.2.0",
            "_model_name": "LayoutModel",
            "_view_count": null,
            "_view_module": "@jupyter-widgets/base",
            "_view_module_version": "1.2.0",
            "_view_name": "LayoutView",
            "align_content": null,
            "align_items": null,
            "align_self": null,
            "border": null,
            "bottom": null,
            "display": null,
            "flex": null,
            "flex_flow": null,
            "grid_area": null,
            "grid_auto_columns": null,
            "grid_auto_flow": null,
            "grid_auto_rows": null,
            "grid_column": null,
            "grid_gap": null,
            "grid_row": null,
            "grid_template_areas": null,
            "grid_template_columns": null,
            "grid_template_rows": null,
            "height": null,
            "justify_content": null,
            "justify_items": null,
            "left": null,
            "margin": null,
            "max_height": null,
            "max_width": null,
            "min_height": null,
            "min_width": null,
            "object_fit": null,
            "object_position": null,
            "order": null,
            "overflow": null,
            "overflow_x": null,
            "overflow_y": null,
            "padding": null,
            "right": null,
            "top": null,
            "visibility": null,
            "width": null
          }
        },
        "7f6b9643259f4a35a6b842913694dd96": {
          "model_module": "@jupyter-widgets/controls",
          "model_name": "DescriptionStyleModel",
          "model_module_version": "1.5.0",
          "state": {
            "_model_module": "@jupyter-widgets/controls",
            "_model_module_version": "1.5.0",
            "_model_name": "DescriptionStyleModel",
            "_view_count": null,
            "_view_module": "@jupyter-widgets/base",
            "_view_module_version": "1.2.0",
            "_view_name": "StyleView",
            "description_width": ""
          }
        },
        "acfe7aeb80224b15ba584af7eb6a096d": {
          "model_module": "@jupyter-widgets/controls",
          "model_name": "HBoxModel",
          "model_module_version": "1.5.0",
          "state": {
            "_dom_classes": [],
            "_model_module": "@jupyter-widgets/controls",
            "_model_module_version": "1.5.0",
            "_model_name": "HBoxModel",
            "_view_count": null,
            "_view_module": "@jupyter-widgets/controls",
            "_view_module_version": "1.5.0",
            "_view_name": "HBoxView",
            "box_style": "",
            "children": [
              "IPY_MODEL_3e0c96d5ced345a480e38df180ce104e",
              "IPY_MODEL_3176fa6f7a5f402cb362682b71be2797",
              "IPY_MODEL_f753a362734342bca61127eb08acb5e5"
            ],
            "layout": "IPY_MODEL_4c9c7270951f40f09f33b2139b51a431"
          }
        },
        "3e0c96d5ced345a480e38df180ce104e": {
          "model_module": "@jupyter-widgets/controls",
          "model_name": "HTMLModel",
          "model_module_version": "1.5.0",
          "state": {
            "_dom_classes": [],
            "_model_module": "@jupyter-widgets/controls",
            "_model_module_version": "1.5.0",
            "_model_name": "HTMLModel",
            "_view_count": null,
            "_view_module": "@jupyter-widgets/controls",
            "_view_module_version": "1.5.0",
            "_view_name": "HTMLView",
            "description": "",
            "description_tooltip": null,
            "layout": "IPY_MODEL_17a30a8b8989401886a0560adac198fb",
            "placeholder": "​",
            "style": "IPY_MODEL_74e268a06f3149cc99650996ed7a8842",
            "value": "Map: 100%"
          }
        },
        "3176fa6f7a5f402cb362682b71be2797": {
          "model_module": "@jupyter-widgets/controls",
          "model_name": "FloatProgressModel",
          "model_module_version": "1.5.0",
          "state": {
            "_dom_classes": [],
            "_model_module": "@jupyter-widgets/controls",
            "_model_module_version": "1.5.0",
            "_model_name": "FloatProgressModel",
            "_view_count": null,
            "_view_module": "@jupyter-widgets/controls",
            "_view_module_version": "1.5.0",
            "_view_name": "ProgressView",
            "bar_style": "success",
            "description": "",
            "description_tooltip": null,
            "layout": "IPY_MODEL_8e3e87efa9114ef09606780d81e6d8db",
            "max": 200,
            "min": 0,
            "orientation": "horizontal",
            "style": "IPY_MODEL_b2bd440d16a5487c90476eee0b449769",
            "value": 200
          }
        },
        "f753a362734342bca61127eb08acb5e5": {
          "model_module": "@jupyter-widgets/controls",
          "model_name": "HTMLModel",
          "model_module_version": "1.5.0",
          "state": {
            "_dom_classes": [],
            "_model_module": "@jupyter-widgets/controls",
            "_model_module_version": "1.5.0",
            "_model_name": "HTMLModel",
            "_view_count": null,
            "_view_module": "@jupyter-widgets/controls",
            "_view_module_version": "1.5.0",
            "_view_name": "HTMLView",
            "description": "",
            "description_tooltip": null,
            "layout": "IPY_MODEL_9b5f6407ea6641d4922c3daf232fd770",
            "placeholder": "​",
            "style": "IPY_MODEL_78127b214f824058bb92ab2336a063af",
            "value": " 200/200 [00:00&lt;00:00, 1621.55 examples/s]"
          }
        },
        "4c9c7270951f40f09f33b2139b51a431": {
          "model_module": "@jupyter-widgets/base",
          "model_name": "LayoutModel",
          "model_module_version": "1.2.0",
          "state": {
            "_model_module": "@jupyter-widgets/base",
            "_model_module_version": "1.2.0",
            "_model_name": "LayoutModel",
            "_view_count": null,
            "_view_module": "@jupyter-widgets/base",
            "_view_module_version": "1.2.0",
            "_view_name": "LayoutView",
            "align_content": null,
            "align_items": null,
            "align_self": null,
            "border": null,
            "bottom": null,
            "display": null,
            "flex": null,
            "flex_flow": null,
            "grid_area": null,
            "grid_auto_columns": null,
            "grid_auto_flow": null,
            "grid_auto_rows": null,
            "grid_column": null,
            "grid_gap": null,
            "grid_row": null,
            "grid_template_areas": null,
            "grid_template_columns": null,
            "grid_template_rows": null,
            "height": null,
            "justify_content": null,
            "justify_items": null,
            "left": null,
            "margin": null,
            "max_height": null,
            "max_width": null,
            "min_height": null,
            "min_width": null,
            "object_fit": null,
            "object_position": null,
            "order": null,
            "overflow": null,
            "overflow_x": null,
            "overflow_y": null,
            "padding": null,
            "right": null,
            "top": null,
            "visibility": null,
            "width": null
          }
        },
        "17a30a8b8989401886a0560adac198fb": {
          "model_module": "@jupyter-widgets/base",
          "model_name": "LayoutModel",
          "model_module_version": "1.2.0",
          "state": {
            "_model_module": "@jupyter-widgets/base",
            "_model_module_version": "1.2.0",
            "_model_name": "LayoutModel",
            "_view_count": null,
            "_view_module": "@jupyter-widgets/base",
            "_view_module_version": "1.2.0",
            "_view_name": "LayoutView",
            "align_content": null,
            "align_items": null,
            "align_self": null,
            "border": null,
            "bottom": null,
            "display": null,
            "flex": null,
            "flex_flow": null,
            "grid_area": null,
            "grid_auto_columns": null,
            "grid_auto_flow": null,
            "grid_auto_rows": null,
            "grid_column": null,
            "grid_gap": null,
            "grid_row": null,
            "grid_template_areas": null,
            "grid_template_columns": null,
            "grid_template_rows": null,
            "height": null,
            "justify_content": null,
            "justify_items": null,
            "left": null,
            "margin": null,
            "max_height": null,
            "max_width": null,
            "min_height": null,
            "min_width": null,
            "object_fit": null,
            "object_position": null,
            "order": null,
            "overflow": null,
            "overflow_x": null,
            "overflow_y": null,
            "padding": null,
            "right": null,
            "top": null,
            "visibility": null,
            "width": null
          }
        },
        "74e268a06f3149cc99650996ed7a8842": {
          "model_module": "@jupyter-widgets/controls",
          "model_name": "DescriptionStyleModel",
          "model_module_version": "1.5.0",
          "state": {
            "_model_module": "@jupyter-widgets/controls",
            "_model_module_version": "1.5.0",
            "_model_name": "DescriptionStyleModel",
            "_view_count": null,
            "_view_module": "@jupyter-widgets/base",
            "_view_module_version": "1.2.0",
            "_view_name": "StyleView",
            "description_width": ""
          }
        },
        "8e3e87efa9114ef09606780d81e6d8db": {
          "model_module": "@jupyter-widgets/base",
          "model_name": "LayoutModel",
          "model_module_version": "1.2.0",
          "state": {
            "_model_module": "@jupyter-widgets/base",
            "_model_module_version": "1.2.0",
            "_model_name": "LayoutModel",
            "_view_count": null,
            "_view_module": "@jupyter-widgets/base",
            "_view_module_version": "1.2.0",
            "_view_name": "LayoutView",
            "align_content": null,
            "align_items": null,
            "align_self": null,
            "border": null,
            "bottom": null,
            "display": null,
            "flex": null,
            "flex_flow": null,
            "grid_area": null,
            "grid_auto_columns": null,
            "grid_auto_flow": null,
            "grid_auto_rows": null,
            "grid_column": null,
            "grid_gap": null,
            "grid_row": null,
            "grid_template_areas": null,
            "grid_template_columns": null,
            "grid_template_rows": null,
            "height": null,
            "justify_content": null,
            "justify_items": null,
            "left": null,
            "margin": null,
            "max_height": null,
            "max_width": null,
            "min_height": null,
            "min_width": null,
            "object_fit": null,
            "object_position": null,
            "order": null,
            "overflow": null,
            "overflow_x": null,
            "overflow_y": null,
            "padding": null,
            "right": null,
            "top": null,
            "visibility": null,
            "width": null
          }
        },
        "b2bd440d16a5487c90476eee0b449769": {
          "model_module": "@jupyter-widgets/controls",
          "model_name": "ProgressStyleModel",
          "model_module_version": "1.5.0",
          "state": {
            "_model_module": "@jupyter-widgets/controls",
            "_model_module_version": "1.5.0",
            "_model_name": "ProgressStyleModel",
            "_view_count": null,
            "_view_module": "@jupyter-widgets/base",
            "_view_module_version": "1.2.0",
            "_view_name": "StyleView",
            "bar_color": null,
            "description_width": ""
          }
        },
        "9b5f6407ea6641d4922c3daf232fd770": {
          "model_module": "@jupyter-widgets/base",
          "model_name": "LayoutModel",
          "model_module_version": "1.2.0",
          "state": {
            "_model_module": "@jupyter-widgets/base",
            "_model_module_version": "1.2.0",
            "_model_name": "LayoutModel",
            "_view_count": null,
            "_view_module": "@jupyter-widgets/base",
            "_view_module_version": "1.2.0",
            "_view_name": "LayoutView",
            "align_content": null,
            "align_items": null,
            "align_self": null,
            "border": null,
            "bottom": null,
            "display": null,
            "flex": null,
            "flex_flow": null,
            "grid_area": null,
            "grid_auto_columns": null,
            "grid_auto_flow": null,
            "grid_auto_rows": null,
            "grid_column": null,
            "grid_gap": null,
            "grid_row": null,
            "grid_template_areas": null,
            "grid_template_columns": null,
            "grid_template_rows": null,
            "height": null,
            "justify_content": null,
            "justify_items": null,
            "left": null,
            "margin": null,
            "max_height": null,
            "max_width": null,
            "min_height": null,
            "min_width": null,
            "object_fit": null,
            "object_position": null,
            "order": null,
            "overflow": null,
            "overflow_x": null,
            "overflow_y": null,
            "padding": null,
            "right": null,
            "top": null,
            "visibility": null,
            "width": null
          }
        },
        "78127b214f824058bb92ab2336a063af": {
          "model_module": "@jupyter-widgets/controls",
          "model_name": "DescriptionStyleModel",
          "model_module_version": "1.5.0",
          "state": {
            "_model_module": "@jupyter-widgets/controls",
            "_model_module_version": "1.5.0",
            "_model_name": "DescriptionStyleModel",
            "_view_count": null,
            "_view_module": "@jupyter-widgets/base",
            "_view_module_version": "1.2.0",
            "_view_name": "StyleView",
            "description_width": ""
          }
        },
        "f8ddd3505f5e41e3af6d8827a1c22e70": {
          "model_module": "@jupyter-widgets/controls",
          "model_name": "HBoxModel",
          "model_module_version": "1.5.0",
          "state": {
            "_dom_classes": [],
            "_model_module": "@jupyter-widgets/controls",
            "_model_module_version": "1.5.0",
            "_model_name": "HBoxModel",
            "_view_count": null,
            "_view_module": "@jupyter-widgets/controls",
            "_view_module_version": "1.5.0",
            "_view_name": "HBoxView",
            "box_style": "",
            "children": [
              "IPY_MODEL_bb6f013412624da7a3a3440c2f15db79",
              "IPY_MODEL_31b7ec336c314980b3cb27ae4964cf99",
              "IPY_MODEL_2362a2ce89ac484d9addb635c7375663"
            ],
            "layout": "IPY_MODEL_33f3d86f3db449e79b71ad84df9921ff"
          }
        },
        "bb6f013412624da7a3a3440c2f15db79": {
          "model_module": "@jupyter-widgets/controls",
          "model_name": "HTMLModel",
          "model_module_version": "1.5.0",
          "state": {
            "_dom_classes": [],
            "_model_module": "@jupyter-widgets/controls",
            "_model_module_version": "1.5.0",
            "_model_name": "HTMLModel",
            "_view_count": null,
            "_view_module": "@jupyter-widgets/controls",
            "_view_module_version": "1.5.0",
            "_view_name": "HTMLView",
            "description": "",
            "description_tooltip": null,
            "layout": "IPY_MODEL_90677684fbf447a19204d941d3c404d0",
            "placeholder": "​",
            "style": "IPY_MODEL_6b325e3b2b944313a699434243d9b0b0",
            "value": "Downloading builder script: 100%"
          }
        },
        "31b7ec336c314980b3cb27ae4964cf99": {
          "model_module": "@jupyter-widgets/controls",
          "model_name": "FloatProgressModel",
          "model_module_version": "1.5.0",
          "state": {
            "_dom_classes": [],
            "_model_module": "@jupyter-widgets/controls",
            "_model_module_version": "1.5.0",
            "_model_name": "FloatProgressModel",
            "_view_count": null,
            "_view_module": "@jupyter-widgets/controls",
            "_view_module_version": "1.5.0",
            "_view_name": "ProgressView",
            "bar_style": "success",
            "description": "",
            "description_tooltip": null,
            "layout": "IPY_MODEL_40b6acc2e14246d185e19944b854ce67",
            "max": 4203,
            "min": 0,
            "orientation": "horizontal",
            "style": "IPY_MODEL_295c4e9dca254df8a18f20fcfb493352",
            "value": 4203
          }
        },
        "2362a2ce89ac484d9addb635c7375663": {
          "model_module": "@jupyter-widgets/controls",
          "model_name": "HTMLModel",
          "model_module_version": "1.5.0",
          "state": {
            "_dom_classes": [],
            "_model_module": "@jupyter-widgets/controls",
            "_model_module_version": "1.5.0",
            "_model_name": "HTMLModel",
            "_view_count": null,
            "_view_module": "@jupyter-widgets/controls",
            "_view_module_version": "1.5.0",
            "_view_name": "HTMLView",
            "description": "",
            "description_tooltip": null,
            "layout": "IPY_MODEL_ae9b2a2ca0884ecc936264249e95f780",
            "placeholder": "​",
            "style": "IPY_MODEL_45760126a8ac4acea4d70a061ad28a8c",
            "value": " 4.20k/4.20k [00:00&lt;00:00, 122kB/s]"
          }
        },
        "33f3d86f3db449e79b71ad84df9921ff": {
          "model_module": "@jupyter-widgets/base",
          "model_name": "LayoutModel",
          "model_module_version": "1.2.0",
          "state": {
            "_model_module": "@jupyter-widgets/base",
            "_model_module_version": "1.2.0",
            "_model_name": "LayoutModel",
            "_view_count": null,
            "_view_module": "@jupyter-widgets/base",
            "_view_module_version": "1.2.0",
            "_view_name": "LayoutView",
            "align_content": null,
            "align_items": null,
            "align_self": null,
            "border": null,
            "bottom": null,
            "display": null,
            "flex": null,
            "flex_flow": null,
            "grid_area": null,
            "grid_auto_columns": null,
            "grid_auto_flow": null,
            "grid_auto_rows": null,
            "grid_column": null,
            "grid_gap": null,
            "grid_row": null,
            "grid_template_areas": null,
            "grid_template_columns": null,
            "grid_template_rows": null,
            "height": null,
            "justify_content": null,
            "justify_items": null,
            "left": null,
            "margin": null,
            "max_height": null,
            "max_width": null,
            "min_height": null,
            "min_width": null,
            "object_fit": null,
            "object_position": null,
            "order": null,
            "overflow": null,
            "overflow_x": null,
            "overflow_y": null,
            "padding": null,
            "right": null,
            "top": null,
            "visibility": null,
            "width": null
          }
        },
        "90677684fbf447a19204d941d3c404d0": {
          "model_module": "@jupyter-widgets/base",
          "model_name": "LayoutModel",
          "model_module_version": "1.2.0",
          "state": {
            "_model_module": "@jupyter-widgets/base",
            "_model_module_version": "1.2.0",
            "_model_name": "LayoutModel",
            "_view_count": null,
            "_view_module": "@jupyter-widgets/base",
            "_view_module_version": "1.2.0",
            "_view_name": "LayoutView",
            "align_content": null,
            "align_items": null,
            "align_self": null,
            "border": null,
            "bottom": null,
            "display": null,
            "flex": null,
            "flex_flow": null,
            "grid_area": null,
            "grid_auto_columns": null,
            "grid_auto_flow": null,
            "grid_auto_rows": null,
            "grid_column": null,
            "grid_gap": null,
            "grid_row": null,
            "grid_template_areas": null,
            "grid_template_columns": null,
            "grid_template_rows": null,
            "height": null,
            "justify_content": null,
            "justify_items": null,
            "left": null,
            "margin": null,
            "max_height": null,
            "max_width": null,
            "min_height": null,
            "min_width": null,
            "object_fit": null,
            "object_position": null,
            "order": null,
            "overflow": null,
            "overflow_x": null,
            "overflow_y": null,
            "padding": null,
            "right": null,
            "top": null,
            "visibility": null,
            "width": null
          }
        },
        "6b325e3b2b944313a699434243d9b0b0": {
          "model_module": "@jupyter-widgets/controls",
          "model_name": "DescriptionStyleModel",
          "model_module_version": "1.5.0",
          "state": {
            "_model_module": "@jupyter-widgets/controls",
            "_model_module_version": "1.5.0",
            "_model_name": "DescriptionStyleModel",
            "_view_count": null,
            "_view_module": "@jupyter-widgets/base",
            "_view_module_version": "1.2.0",
            "_view_name": "StyleView",
            "description_width": ""
          }
        },
        "40b6acc2e14246d185e19944b854ce67": {
          "model_module": "@jupyter-widgets/base",
          "model_name": "LayoutModel",
          "model_module_version": "1.2.0",
          "state": {
            "_model_module": "@jupyter-widgets/base",
            "_model_module_version": "1.2.0",
            "_model_name": "LayoutModel",
            "_view_count": null,
            "_view_module": "@jupyter-widgets/base",
            "_view_module_version": "1.2.0",
            "_view_name": "LayoutView",
            "align_content": null,
            "align_items": null,
            "align_self": null,
            "border": null,
            "bottom": null,
            "display": null,
            "flex": null,
            "flex_flow": null,
            "grid_area": null,
            "grid_auto_columns": null,
            "grid_auto_flow": null,
            "grid_auto_rows": null,
            "grid_column": null,
            "grid_gap": null,
            "grid_row": null,
            "grid_template_areas": null,
            "grid_template_columns": null,
            "grid_template_rows": null,
            "height": null,
            "justify_content": null,
            "justify_items": null,
            "left": null,
            "margin": null,
            "max_height": null,
            "max_width": null,
            "min_height": null,
            "min_width": null,
            "object_fit": null,
            "object_position": null,
            "order": null,
            "overflow": null,
            "overflow_x": null,
            "overflow_y": null,
            "padding": null,
            "right": null,
            "top": null,
            "visibility": null,
            "width": null
          }
        },
        "295c4e9dca254df8a18f20fcfb493352": {
          "model_module": "@jupyter-widgets/controls",
          "model_name": "ProgressStyleModel",
          "model_module_version": "1.5.0",
          "state": {
            "_model_module": "@jupyter-widgets/controls",
            "_model_module_version": "1.5.0",
            "_model_name": "ProgressStyleModel",
            "_view_count": null,
            "_view_module": "@jupyter-widgets/base",
            "_view_module_version": "1.2.0",
            "_view_name": "StyleView",
            "bar_color": null,
            "description_width": ""
          }
        },
        "ae9b2a2ca0884ecc936264249e95f780": {
          "model_module": "@jupyter-widgets/base",
          "model_name": "LayoutModel",
          "model_module_version": "1.2.0",
          "state": {
            "_model_module": "@jupyter-widgets/base",
            "_model_module_version": "1.2.0",
            "_model_name": "LayoutModel",
            "_view_count": null,
            "_view_module": "@jupyter-widgets/base",
            "_view_module_version": "1.2.0",
            "_view_name": "LayoutView",
            "align_content": null,
            "align_items": null,
            "align_self": null,
            "border": null,
            "bottom": null,
            "display": null,
            "flex": null,
            "flex_flow": null,
            "grid_area": null,
            "grid_auto_columns": null,
            "grid_auto_flow": null,
            "grid_auto_rows": null,
            "grid_column": null,
            "grid_gap": null,
            "grid_row": null,
            "grid_template_areas": null,
            "grid_template_columns": null,
            "grid_template_rows": null,
            "height": null,
            "justify_content": null,
            "justify_items": null,
            "left": null,
            "margin": null,
            "max_height": null,
            "max_width": null,
            "min_height": null,
            "min_width": null,
            "object_fit": null,
            "object_position": null,
            "order": null,
            "overflow": null,
            "overflow_x": null,
            "overflow_y": null,
            "padding": null,
            "right": null,
            "top": null,
            "visibility": null,
            "width": null
          }
        },
        "45760126a8ac4acea4d70a061ad28a8c": {
          "model_module": "@jupyter-widgets/controls",
          "model_name": "DescriptionStyleModel",
          "model_module_version": "1.5.0",
          "state": {
            "_model_module": "@jupyter-widgets/controls",
            "_model_module_version": "1.5.0",
            "_model_name": "DescriptionStyleModel",
            "_view_count": null,
            "_view_module": "@jupyter-widgets/base",
            "_view_module_version": "1.2.0",
            "_view_name": "StyleView",
            "description_width": ""
          }
        }
      }
    }
  },
  "cells": [
    {
      "cell_type": "markdown",
      "metadata": {
        "id": "view-in-github",
        "colab_type": "text"
      },
      "source": [
        "<a href=\"https://colab.research.google.com/github/vsingh9076/Generative_AI/blob/main/Text_Classification/Hugging_Face_Transformers_Trainer.ipynb\" target=\"_parent\"><img src=\"https://colab.research.google.com/assets/colab-badge.svg\" alt=\"Open In Colab\"/></a>"
      ]
    },
    {
      "cell_type": "markdown",
      "source": [
        "Fine-tuning a pretrained transformer BERT model for customized sentiment analysis using transformer PyTorch Trainer from Hugging Face"
      ],
      "metadata": {
        "id": "tQqHYsWVTV6D"
      }
    },
    {
      "cell_type": "markdown",
      "source": [
        "# Resources"
      ],
      "metadata": {
        "id": "blypgoj7ULQ4"
      }
    },
    {
      "cell_type": "markdown",
      "source": [
        "- [Blog post](https://medium.com/@AmyGrabNGoInfo/transfer-learning-for-text-classification-using-hugging-face-transformers-trainer-13407187cf89) for this tutorial\n",
        "- Video version of the tutorial on [YouTube](https://www.youtube.com/watch?v=nKA9XQLYYIw&list=PLVppujud2yJpx5r8GFeJ81fyek8dEDMX-&index=12)\n",
        "- More video tutorials on [NLP](https://www.youtube.com/playlist?list=PLVppujud2yJpx5r8GFeJ81fyek8dEDMX-)\n",
        "- More blog posts on [NLP](https://medium.com/@AmyGrabNGoInfo/list/nlp-49340193610f)\n",
        "\n",
        "\n",
        "For more information about data science and machine learning, please check out my [YouTube channel](https://www.youtube.com/@grabngoinfo), [Medium Page](https://medium.com/@AmyGrabNGoInfo) and [GrabNGoInfo.com](https://grabngoinfo.com/tutorials/), or follow GrabNGoInfo on [LinkedIn](https://www.linkedin.com/company/grabngoinfo/)."
      ],
      "metadata": {
        "id": "qYnTlARzz2Xa"
      }
    },
    {
      "cell_type": "markdown",
      "source": [
        "# Intro"
      ],
      "metadata": {
        "id": "TGIaWRymUQFN"
      }
    },
    {
      "cell_type": "markdown",
      "source": [
        "Hugging Face provides three ways to fine-tune a pretrained text classification model: Tensorflow Keras, PyTorch, and transformer trainer. Transformer trainer is an API for feature-complete training in PyTorch without writing all the loops. This tutorial will use the transformer trainer to fine-tune a text classification model. We will talk about the following:\n",
        "* How does transfer learning work?\n",
        "* How to convert a pandas dataframe into a Hugging Face Dataset?\n",
        "* How to tokenize text, load a pretrained model, set training arguments, and train a transfer learning model?\n",
        "* How to make predictions and evaluate the model performance of a fine-tuned transfer learning model for text classification?\n",
        "* How to save the model and re-load the model?\n",
        "\n",
        "If you are interested in learning how to implement transfer Learning Using Tensorflow, please check out my previous tutorial [Customized Sentiment Analysis: Transfer Learning Using Tensorflow with Hugging Face](https://medium.com/grabngoinfo/customized-sentiment-analysis-transfer-learning-using-tensorflow-with-hugging-face-1b439eedf167).\n",
        "\n",
        "Let's get started!"
      ],
      "metadata": {
        "id": "X_Pyb011wjC6"
      }
    },
    {
      "cell_type": "markdown",
      "source": [
        "# Step 0: Transfer Learning Algorithms"
      ],
      "metadata": {
        "id": "8O1mw8kqWC0H"
      }
    },
    {
      "cell_type": "markdown",
      "source": [
        "In step 0, we will talk about how transfer learning works.\n",
        "\n",
        "Transfer learning is a machine learning technique that reuses a pretrained large deep learning model on a new task. It usually includes the following steps:\n",
        "1. Select a pretrained model that is suitable for the new task. For example, if the new task includes text from different languages, a multi-language pretrained model needs to be selected.\n",
        "2. Keep all the weights and biases from the pretrained model except for the output layer. This is because the output layer for the pretrained model is for the pretrained tasks and it needs to be replaced with the new task.\n",
        "3. Feed randomly initialize weights and biases into the new head of the new task. For a sentiment analysis transfer learning (aka fine-tuning) model on a pretrained BERT model, we will remove the head that classifies mask words, and replace it with the two sentiment analysis labels, positive and negative.\n",
        "4. Retrain the model for the new task with the new data, utilizing the pretrained weights and biases. Because the weights and biases store the knowledge learned from the pretrained model, the fine-tuned transfer learning model can build on that knowledge and does not need to learn from scratch."
      ],
      "metadata": {
        "id": "9vtKX1QdQbP2"
      }
    },
    {
      "cell_type": "markdown",
      "source": [
        "# Step 1: Install And Import Python Libraries"
      ],
      "metadata": {
        "id": "RKQQXSGszh8z"
      }
    },
    {
      "cell_type": "markdown",
      "source": [
        "In step 1, we will install and import python libraries.\n",
        "\n",
        "Firstly, let's install `transformers`, `datasets`, and `evaluate`."
      ],
      "metadata": {
        "id": "H2NeMSfdXOAD"
      }
    },
    {
      "cell_type": "code",
      "source": [
        "# Install libraries\n",
        "!pip install datasets evaluate\n",
        "!pip install -U accelerate\n",
        "!pip install -U transformers"
      ],
      "metadata": {
        "colab": {
          "base_uri": "https://localhost:8080/"
        },
        "id": "zhlCxlYWFCHw",
        "outputId": "5fb8f1e6-fe6f-4f64-8538-f05d8b963264"
      },
      "execution_count": 1,
      "outputs": [
        {
          "output_type": "stream",
          "name": "stdout",
          "text": [
            "Requirement already satisfied: transformers in /usr/local/lib/python3.10/dist-packages (4.35.2)\n",
            "Collecting datasets\n",
            "  Downloading datasets-2.15.0-py3-none-any.whl (521 kB)\n",
            "\u001b[2K     \u001b[90m━━━━━━━━━━━━━━━━━━━━━━━━━━━━━━━━━━━━━━━━\u001b[0m \u001b[32m521.2/521.2 kB\u001b[0m \u001b[31m5.5 MB/s\u001b[0m eta \u001b[36m0:00:00\u001b[0m\n",
            "\u001b[?25hCollecting evaluate\n",
            "  Downloading evaluate-0.4.1-py3-none-any.whl (84 kB)\n",
            "\u001b[2K     \u001b[90m━━━━━━━━━━━━━━━━━━━━━━━━━━━━━━━━━━━━━━━━\u001b[0m \u001b[32m84.1/84.1 kB\u001b[0m \u001b[31m3.5 MB/s\u001b[0m eta \u001b[36m0:00:00\u001b[0m\n",
            "\u001b[?25hRequirement already satisfied: filelock in /usr/local/lib/python3.10/dist-packages (from transformers) (3.13.1)\n",
            "Requirement already satisfied: huggingface-hub<1.0,>=0.16.4 in /usr/local/lib/python3.10/dist-packages (from transformers) (0.19.4)\n",
            "Requirement already satisfied: numpy>=1.17 in /usr/local/lib/python3.10/dist-packages (from transformers) (1.23.5)\n",
            "Requirement already satisfied: packaging>=20.0 in /usr/local/lib/python3.10/dist-packages (from transformers) (23.2)\n",
            "Requirement already satisfied: pyyaml>=5.1 in /usr/local/lib/python3.10/dist-packages (from transformers) (6.0.1)\n",
            "Requirement already satisfied: regex!=2019.12.17 in /usr/local/lib/python3.10/dist-packages (from transformers) (2023.6.3)\n",
            "Requirement already satisfied: requests in /usr/local/lib/python3.10/dist-packages (from transformers) (2.31.0)\n",
            "Requirement already satisfied: tokenizers<0.19,>=0.14 in /usr/local/lib/python3.10/dist-packages (from transformers) (0.15.0)\n",
            "Requirement already satisfied: safetensors>=0.3.1 in /usr/local/lib/python3.10/dist-packages (from transformers) (0.4.0)\n",
            "Requirement already satisfied: tqdm>=4.27 in /usr/local/lib/python3.10/dist-packages (from transformers) (4.66.1)\n",
            "Requirement already satisfied: pyarrow>=8.0.0 in /usr/local/lib/python3.10/dist-packages (from datasets) (9.0.0)\n",
            "Collecting pyarrow-hotfix (from datasets)\n",
            "  Downloading pyarrow_hotfix-0.6-py3-none-any.whl (7.9 kB)\n",
            "Collecting dill<0.3.8,>=0.3.0 (from datasets)\n",
            "  Downloading dill-0.3.7-py3-none-any.whl (115 kB)\n",
            "\u001b[2K     \u001b[90m━━━━━━━━━━━━━━━━━━━━━━━━━━━━━━━━━━━━━━━━\u001b[0m \u001b[32m115.3/115.3 kB\u001b[0m \u001b[31m5.1 MB/s\u001b[0m eta \u001b[36m0:00:00\u001b[0m\n",
            "\u001b[?25hRequirement already satisfied: pandas in /usr/local/lib/python3.10/dist-packages (from datasets) (1.5.3)\n",
            "Requirement already satisfied: xxhash in /usr/local/lib/python3.10/dist-packages (from datasets) (3.4.1)\n",
            "Collecting multiprocess (from datasets)\n",
            "  Downloading multiprocess-0.70.15-py310-none-any.whl (134 kB)\n",
            "\u001b[2K     \u001b[90m━━━━━━━━━━━━━━━━━━━━━━━━━━━━━━━━━━━━━━━━\u001b[0m \u001b[32m134.8/134.8 kB\u001b[0m \u001b[31m15.0 MB/s\u001b[0m eta \u001b[36m0:00:00\u001b[0m\n",
            "\u001b[?25hRequirement already satisfied: fsspec[http]<=2023.10.0,>=2023.1.0 in /usr/local/lib/python3.10/dist-packages (from datasets) (2023.6.0)\n",
            "Requirement already satisfied: aiohttp in /usr/local/lib/python3.10/dist-packages (from datasets) (3.8.6)\n",
            "Collecting responses<0.19 (from evaluate)\n",
            "  Downloading responses-0.18.0-py3-none-any.whl (38 kB)\n",
            "Requirement already satisfied: attrs>=17.3.0 in /usr/local/lib/python3.10/dist-packages (from aiohttp->datasets) (23.1.0)\n",
            "Requirement already satisfied: charset-normalizer<4.0,>=2.0 in /usr/local/lib/python3.10/dist-packages (from aiohttp->datasets) (3.3.2)\n",
            "Requirement already satisfied: multidict<7.0,>=4.5 in /usr/local/lib/python3.10/dist-packages (from aiohttp->datasets) (6.0.4)\n",
            "Requirement already satisfied: async-timeout<5.0,>=4.0.0a3 in /usr/local/lib/python3.10/dist-packages (from aiohttp->datasets) (4.0.3)\n",
            "Requirement already satisfied: yarl<2.0,>=1.0 in /usr/local/lib/python3.10/dist-packages (from aiohttp->datasets) (1.9.2)\n",
            "Requirement already satisfied: frozenlist>=1.1.1 in /usr/local/lib/python3.10/dist-packages (from aiohttp->datasets) (1.4.0)\n",
            "Requirement already satisfied: aiosignal>=1.1.2 in /usr/local/lib/python3.10/dist-packages (from aiohttp->datasets) (1.3.1)\n",
            "Requirement already satisfied: typing-extensions>=3.7.4.3 in /usr/local/lib/python3.10/dist-packages (from huggingface-hub<1.0,>=0.16.4->transformers) (4.5.0)\n",
            "Requirement already satisfied: idna<4,>=2.5 in /usr/local/lib/python3.10/dist-packages (from requests->transformers) (3.4)\n",
            "Requirement already satisfied: urllib3<3,>=1.21.1 in /usr/local/lib/python3.10/dist-packages (from requests->transformers) (2.0.7)\n",
            "Requirement already satisfied: certifi>=2017.4.17 in /usr/local/lib/python3.10/dist-packages (from requests->transformers) (2023.7.22)\n",
            "Requirement already satisfied: python-dateutil>=2.8.1 in /usr/local/lib/python3.10/dist-packages (from pandas->datasets) (2.8.2)\n",
            "Requirement already satisfied: pytz>=2020.1 in /usr/local/lib/python3.10/dist-packages (from pandas->datasets) (2023.3.post1)\n",
            "Requirement already satisfied: six>=1.5 in /usr/local/lib/python3.10/dist-packages (from python-dateutil>=2.8.1->pandas->datasets) (1.16.0)\n",
            "Installing collected packages: pyarrow-hotfix, dill, responses, multiprocess, datasets, evaluate\n",
            "Successfully installed datasets-2.15.0 dill-0.3.7 evaluate-0.4.1 multiprocess-0.70.15 pyarrow-hotfix-0.6 responses-0.18.0\n"
          ]
        }
      ]
    },
    {
      "cell_type": "markdown",
      "source": [
        "After installing the python packages, we will import the python libraries.\n",
        "* `pandas` and `numpy` are imported for data processing.\n",
        "* `tensorflow` and `transformers` are imported for modeling.\n",
        "* `Dataset` is imported for the Hugging Face dataset format.\n",
        "* `evaluate` is imported for model performance evaluation."
      ],
      "metadata": {
        "id": "DNcfm6_xfvK4"
      }
    },
    {
      "cell_type": "code",
      "source": [
        "# Data processing\n",
        "import pandas as pd\n",
        "import numpy as np\n",
        "\n",
        "# Modeling\n",
        "import tensorflow as tf\n",
        "from transformers import AutoTokenizer, AutoModelForSequenceClassification, TrainingArguments, Trainer, EarlyStoppingCallback, TextClassificationPipeline\n",
        "\n",
        "# Hugging Face Dataset\n",
        "from datasets import Dataset\n",
        "\n",
        "# Model performance evaluation\n",
        "import evaluate"
      ],
      "metadata": {
        "id": "4diGKC0ZgETX"
      },
      "execution_count": 1,
      "outputs": []
    },
    {
      "cell_type": "markdown",
      "source": [
        "# Step 2: Download And Read Data"
      ],
      "metadata": {
        "id": "9zsSYMz72Pj3"
      }
    },
    {
      "cell_type": "markdown",
      "source": [
        "The second step is to download and read the dataset.\n",
        "\n",
        "The UCI Machine Learning Repository has the review data from three websites: imdb.com, amazon.com, and yelp.com. We will use the review data from amazon.com for this tutorial. Please follow these steps to download the data.\n",
        "1. Go to: https://archive.ics.uci.edu/ml/datasets/Sentiment+Labelled+Sentences\n",
        "2. Click \"Data Folder\"\n",
        "3. Download \"sentiment labeled sentences.zip\"\n",
        "4. Unzip \"sentiment labeled sentences.zip\"\n",
        "5. Copy the file \"amazon_cells_labelled.txt\" to your project folder"
      ],
      "metadata": {
        "id": "lf9nPi8-2UyC"
      }
    },
    {
      "cell_type": "markdown",
      "source": [
        "Those who are using Google Colab for this analysis need to mount Google Drive to read the dataset. You can ignore the code below if you are not using Google Colab.\n",
        "* `drive.mount` is used to mount to the Google drive so the colab notebook can access the data on the Google drive.\n",
        "* `os.chdir` is used to change the default directory on Google drive. I set the default directory to the folder where the review dataset is saved.\n",
        "* `!pwd` is used to print the current working directory.\n",
        "\n",
        "Please check out [Google Colab Tutorial for Beginners](https://medium.com/towards-artificial-intelligence/google-colab-tutorial-for-beginners-834595494d44) for details about using Google Colab for data science projects."
      ],
      "metadata": {
        "id": "GN_LPDCa2YTn"
      }
    },
    {
      "cell_type": "code",
      "source": [
        "# Mount Google Drive\n",
        "from google.colab import drive\n",
        "drive.mount('/content/drive')\n",
        "\n",
        "# Change directory\n",
        "import os\n",
        "os.chdir(\"drive/My Drive/contents/nlp\")\n",
        "\n",
        "# Print out the current directory\n",
        "!pwd"
      ],
      "metadata": {
        "id": "vD9lxrv52eKU",
        "colab": {
          "base_uri": "https://localhost:8080/",
          "height": 391
        },
        "outputId": "8a2503c1-273b-4c17-d949-60291ef07bcc"
      },
      "execution_count": 2,
      "outputs": [
        {
          "output_type": "error",
          "ename": "MessageError",
          "evalue": "ignored",
          "traceback": [
            "\u001b[0;31m---------------------------------------------------------------------------\u001b[0m",
            "\u001b[0;31mMessageError\u001b[0m                              Traceback (most recent call last)",
            "\u001b[0;32m<ipython-input-2-ee21159c40c0>\u001b[0m in \u001b[0;36m<cell line: 3>\u001b[0;34m()\u001b[0m\n\u001b[1;32m      1\u001b[0m \u001b[0;31m# Mount Google Drive\u001b[0m\u001b[0;34m\u001b[0m\u001b[0;34m\u001b[0m\u001b[0m\n\u001b[1;32m      2\u001b[0m \u001b[0;32mfrom\u001b[0m \u001b[0mgoogle\u001b[0m\u001b[0;34m.\u001b[0m\u001b[0mcolab\u001b[0m \u001b[0;32mimport\u001b[0m \u001b[0mdrive\u001b[0m\u001b[0;34m\u001b[0m\u001b[0;34m\u001b[0m\u001b[0m\n\u001b[0;32m----> 3\u001b[0;31m \u001b[0mdrive\u001b[0m\u001b[0;34m.\u001b[0m\u001b[0mmount\u001b[0m\u001b[0;34m(\u001b[0m\u001b[0;34m'/content/drive'\u001b[0m\u001b[0;34m)\u001b[0m\u001b[0;34m\u001b[0m\u001b[0;34m\u001b[0m\u001b[0m\n\u001b[0m\u001b[1;32m      4\u001b[0m \u001b[0;34m\u001b[0m\u001b[0m\n\u001b[1;32m      5\u001b[0m \u001b[0;31m# Change directory\u001b[0m\u001b[0;34m\u001b[0m\u001b[0;34m\u001b[0m\u001b[0m\n",
            "\u001b[0;32m/usr/local/lib/python3.10/dist-packages/google/colab/drive.py\u001b[0m in \u001b[0;36mmount\u001b[0;34m(mountpoint, force_remount, timeout_ms, readonly)\u001b[0m\n\u001b[1;32m    101\u001b[0m \u001b[0;32mdef\u001b[0m \u001b[0mmount\u001b[0m\u001b[0;34m(\u001b[0m\u001b[0mmountpoint\u001b[0m\u001b[0;34m,\u001b[0m \u001b[0mforce_remount\u001b[0m\u001b[0;34m=\u001b[0m\u001b[0;32mFalse\u001b[0m\u001b[0;34m,\u001b[0m \u001b[0mtimeout_ms\u001b[0m\u001b[0;34m=\u001b[0m\u001b[0;36m120000\u001b[0m\u001b[0;34m,\u001b[0m \u001b[0mreadonly\u001b[0m\u001b[0;34m=\u001b[0m\u001b[0;32mFalse\u001b[0m\u001b[0;34m)\u001b[0m\u001b[0;34m:\u001b[0m\u001b[0;34m\u001b[0m\u001b[0;34m\u001b[0m\u001b[0m\n\u001b[1;32m    102\u001b[0m   \u001b[0;34m\"\"\"Mount your Google Drive at the specified mountpoint path.\"\"\"\u001b[0m\u001b[0;34m\u001b[0m\u001b[0;34m\u001b[0m\u001b[0m\n\u001b[0;32m--> 103\u001b[0;31m   return _mount(\n\u001b[0m\u001b[1;32m    104\u001b[0m       \u001b[0mmountpoint\u001b[0m\u001b[0;34m,\u001b[0m\u001b[0;34m\u001b[0m\u001b[0;34m\u001b[0m\u001b[0m\n\u001b[1;32m    105\u001b[0m       \u001b[0mforce_remount\u001b[0m\u001b[0;34m=\u001b[0m\u001b[0mforce_remount\u001b[0m\u001b[0;34m,\u001b[0m\u001b[0;34m\u001b[0m\u001b[0;34m\u001b[0m\u001b[0m\n",
            "\u001b[0;32m/usr/local/lib/python3.10/dist-packages/google/colab/drive.py\u001b[0m in \u001b[0;36m_mount\u001b[0;34m(mountpoint, force_remount, timeout_ms, ephemeral, readonly)\u001b[0m\n\u001b[1;32m    130\u001b[0m   )\n\u001b[1;32m    131\u001b[0m   \u001b[0;32mif\u001b[0m \u001b[0mephemeral\u001b[0m\u001b[0;34m:\u001b[0m\u001b[0;34m\u001b[0m\u001b[0;34m\u001b[0m\u001b[0m\n\u001b[0;32m--> 132\u001b[0;31m     _message.blocking_request(\n\u001b[0m\u001b[1;32m    133\u001b[0m         \u001b[0;34m'request_auth'\u001b[0m\u001b[0;34m,\u001b[0m \u001b[0mrequest\u001b[0m\u001b[0;34m=\u001b[0m\u001b[0;34m{\u001b[0m\u001b[0;34m'authType'\u001b[0m\u001b[0;34m:\u001b[0m \u001b[0;34m'dfs_ephemeral'\u001b[0m\u001b[0;34m}\u001b[0m\u001b[0;34m,\u001b[0m \u001b[0mtimeout_sec\u001b[0m\u001b[0;34m=\u001b[0m\u001b[0;32mNone\u001b[0m\u001b[0;34m\u001b[0m\u001b[0;34m\u001b[0m\u001b[0m\n\u001b[1;32m    134\u001b[0m     )\n",
            "\u001b[0;32m/usr/local/lib/python3.10/dist-packages/google/colab/_message.py\u001b[0m in \u001b[0;36mblocking_request\u001b[0;34m(request_type, request, timeout_sec, parent)\u001b[0m\n\u001b[1;32m    174\u001b[0m       \u001b[0mrequest_type\u001b[0m\u001b[0;34m,\u001b[0m \u001b[0mrequest\u001b[0m\u001b[0;34m,\u001b[0m \u001b[0mparent\u001b[0m\u001b[0;34m=\u001b[0m\u001b[0mparent\u001b[0m\u001b[0;34m,\u001b[0m \u001b[0mexpect_reply\u001b[0m\u001b[0;34m=\u001b[0m\u001b[0;32mTrue\u001b[0m\u001b[0;34m\u001b[0m\u001b[0;34m\u001b[0m\u001b[0m\n\u001b[1;32m    175\u001b[0m   )\n\u001b[0;32m--> 176\u001b[0;31m   \u001b[0;32mreturn\u001b[0m \u001b[0mread_reply_from_input\u001b[0m\u001b[0;34m(\u001b[0m\u001b[0mrequest_id\u001b[0m\u001b[0;34m,\u001b[0m \u001b[0mtimeout_sec\u001b[0m\u001b[0;34m)\u001b[0m\u001b[0;34m\u001b[0m\u001b[0;34m\u001b[0m\u001b[0m\n\u001b[0m",
            "\u001b[0;32m/usr/local/lib/python3.10/dist-packages/google/colab/_message.py\u001b[0m in \u001b[0;36mread_reply_from_input\u001b[0;34m(message_id, timeout_sec)\u001b[0m\n\u001b[1;32m    101\u001b[0m     ):\n\u001b[1;32m    102\u001b[0m       \u001b[0;32mif\u001b[0m \u001b[0;34m'error'\u001b[0m \u001b[0;32min\u001b[0m \u001b[0mreply\u001b[0m\u001b[0;34m:\u001b[0m\u001b[0;34m\u001b[0m\u001b[0;34m\u001b[0m\u001b[0m\n\u001b[0;32m--> 103\u001b[0;31m         \u001b[0;32mraise\u001b[0m \u001b[0mMessageError\u001b[0m\u001b[0;34m(\u001b[0m\u001b[0mreply\u001b[0m\u001b[0;34m[\u001b[0m\u001b[0;34m'error'\u001b[0m\u001b[0;34m]\u001b[0m\u001b[0;34m)\u001b[0m\u001b[0;34m\u001b[0m\u001b[0;34m\u001b[0m\u001b[0m\n\u001b[0m\u001b[1;32m    104\u001b[0m       \u001b[0;32mreturn\u001b[0m \u001b[0mreply\u001b[0m\u001b[0;34m.\u001b[0m\u001b[0mget\u001b[0m\u001b[0;34m(\u001b[0m\u001b[0;34m'data'\u001b[0m\u001b[0;34m,\u001b[0m \u001b[0;32mNone\u001b[0m\u001b[0;34m)\u001b[0m\u001b[0;34m\u001b[0m\u001b[0;34m\u001b[0m\u001b[0m\n\u001b[1;32m    105\u001b[0m \u001b[0;34m\u001b[0m\u001b[0m\n",
            "\u001b[0;31mMessageError\u001b[0m: Error: credential propagation was unsuccessful"
          ]
        }
      ]
    },
    {
      "cell_type": "markdown",
      "source": [
        "Now let's read the data into a `pandas` dataframe and see what the dataset looks like.\n",
        "\n",
        "The dataset has two columns. One column contains the reviews and the other column contains the sentiment label for the review."
      ],
      "metadata": {
        "id": "KKQzJp0V3I2Y"
      }
    },
    {
      "cell_type": "code",
      "source": [
        "# Read in data\n",
        "amz_review = pd.read_csv('/content/amazon_cells_labelled.txt', sep='\\t', names=['review', 'label'])\n",
        "\n",
        "# Take a look at the data\n",
        "amz_review.head()"
      ],
      "metadata": {
        "colab": {
          "base_uri": "https://localhost:8080/",
          "height": 206
        },
        "id": "iHeaTdXC3KF0",
        "outputId": "bb396b6a-9f46-49e1-feed-e2dbda63a1b6"
      },
      "execution_count": 3,
      "outputs": [
        {
          "output_type": "execute_result",
          "data": {
            "text/plain": [
              "                                              review  label\n",
              "0  So there is no way for me to plug it in here i...      0\n",
              "1                        Good case, Excellent value.      1\n",
              "2                             Great for the jawbone.      1\n",
              "3  Tied to charger for conversations lasting more...      0\n",
              "4                                  The mic is great.      1"
            ],
            "text/html": [
              "\n",
              "  <div id=\"df-b2493498-813d-4431-a9e2-4f055aea3795\" class=\"colab-df-container\">\n",
              "    <div>\n",
              "<style scoped>\n",
              "    .dataframe tbody tr th:only-of-type {\n",
              "        vertical-align: middle;\n",
              "    }\n",
              "\n",
              "    .dataframe tbody tr th {\n",
              "        vertical-align: top;\n",
              "    }\n",
              "\n",
              "    .dataframe thead th {\n",
              "        text-align: right;\n",
              "    }\n",
              "</style>\n",
              "<table border=\"1\" class=\"dataframe\">\n",
              "  <thead>\n",
              "    <tr style=\"text-align: right;\">\n",
              "      <th></th>\n",
              "      <th>review</th>\n",
              "      <th>label</th>\n",
              "    </tr>\n",
              "  </thead>\n",
              "  <tbody>\n",
              "    <tr>\n",
              "      <th>0</th>\n",
              "      <td>So there is no way for me to plug it in here i...</td>\n",
              "      <td>0</td>\n",
              "    </tr>\n",
              "    <tr>\n",
              "      <th>1</th>\n",
              "      <td>Good case, Excellent value.</td>\n",
              "      <td>1</td>\n",
              "    </tr>\n",
              "    <tr>\n",
              "      <th>2</th>\n",
              "      <td>Great for the jawbone.</td>\n",
              "      <td>1</td>\n",
              "    </tr>\n",
              "    <tr>\n",
              "      <th>3</th>\n",
              "      <td>Tied to charger for conversations lasting more...</td>\n",
              "      <td>0</td>\n",
              "    </tr>\n",
              "    <tr>\n",
              "      <th>4</th>\n",
              "      <td>The mic is great.</td>\n",
              "      <td>1</td>\n",
              "    </tr>\n",
              "  </tbody>\n",
              "</table>\n",
              "</div>\n",
              "    <div class=\"colab-df-buttons\">\n",
              "\n",
              "  <div class=\"colab-df-container\">\n",
              "    <button class=\"colab-df-convert\" onclick=\"convertToInteractive('df-b2493498-813d-4431-a9e2-4f055aea3795')\"\n",
              "            title=\"Convert this dataframe to an interactive table.\"\n",
              "            style=\"display:none;\">\n",
              "\n",
              "  <svg xmlns=\"http://www.w3.org/2000/svg\" height=\"24px\" viewBox=\"0 -960 960 960\">\n",
              "    <path d=\"M120-120v-720h720v720H120Zm60-500h600v-160H180v160Zm220 220h160v-160H400v160Zm0 220h160v-160H400v160ZM180-400h160v-160H180v160Zm440 0h160v-160H620v160ZM180-180h160v-160H180v160Zm440 0h160v-160H620v160Z\"/>\n",
              "  </svg>\n",
              "    </button>\n",
              "\n",
              "  <style>\n",
              "    .colab-df-container {\n",
              "      display:flex;\n",
              "      gap: 12px;\n",
              "    }\n",
              "\n",
              "    .colab-df-convert {\n",
              "      background-color: #E8F0FE;\n",
              "      border: none;\n",
              "      border-radius: 50%;\n",
              "      cursor: pointer;\n",
              "      display: none;\n",
              "      fill: #1967D2;\n",
              "      height: 32px;\n",
              "      padding: 0 0 0 0;\n",
              "      width: 32px;\n",
              "    }\n",
              "\n",
              "    .colab-df-convert:hover {\n",
              "      background-color: #E2EBFA;\n",
              "      box-shadow: 0px 1px 2px rgba(60, 64, 67, 0.3), 0px 1px 3px 1px rgba(60, 64, 67, 0.15);\n",
              "      fill: #174EA6;\n",
              "    }\n",
              "\n",
              "    .colab-df-buttons div {\n",
              "      margin-bottom: 4px;\n",
              "    }\n",
              "\n",
              "    [theme=dark] .colab-df-convert {\n",
              "      background-color: #3B4455;\n",
              "      fill: #D2E3FC;\n",
              "    }\n",
              "\n",
              "    [theme=dark] .colab-df-convert:hover {\n",
              "      background-color: #434B5C;\n",
              "      box-shadow: 0px 1px 3px 1px rgba(0, 0, 0, 0.15);\n",
              "      filter: drop-shadow(0px 1px 2px rgba(0, 0, 0, 0.3));\n",
              "      fill: #FFFFFF;\n",
              "    }\n",
              "  </style>\n",
              "\n",
              "    <script>\n",
              "      const buttonEl =\n",
              "        document.querySelector('#df-b2493498-813d-4431-a9e2-4f055aea3795 button.colab-df-convert');\n",
              "      buttonEl.style.display =\n",
              "        google.colab.kernel.accessAllowed ? 'block' : 'none';\n",
              "\n",
              "      async function convertToInteractive(key) {\n",
              "        const element = document.querySelector('#df-b2493498-813d-4431-a9e2-4f055aea3795');\n",
              "        const dataTable =\n",
              "          await google.colab.kernel.invokeFunction('convertToInteractive',\n",
              "                                                    [key], {});\n",
              "        if (!dataTable) return;\n",
              "\n",
              "        const docLinkHtml = 'Like what you see? Visit the ' +\n",
              "          '<a target=\"_blank\" href=https://colab.research.google.com/notebooks/data_table.ipynb>data table notebook</a>'\n",
              "          + ' to learn more about interactive tables.';\n",
              "        element.innerHTML = '';\n",
              "        dataTable['output_type'] = 'display_data';\n",
              "        await google.colab.output.renderOutput(dataTable, element);\n",
              "        const docLink = document.createElement('div');\n",
              "        docLink.innerHTML = docLinkHtml;\n",
              "        element.appendChild(docLink);\n",
              "      }\n",
              "    </script>\n",
              "  </div>\n",
              "\n",
              "\n",
              "<div id=\"df-9b26ab48-2d16-4f0d-ba7b-2df9d0edddf8\">\n",
              "  <button class=\"colab-df-quickchart\" onclick=\"quickchart('df-9b26ab48-2d16-4f0d-ba7b-2df9d0edddf8')\"\n",
              "            title=\"Suggest charts\"\n",
              "            style=\"display:none;\">\n",
              "\n",
              "<svg xmlns=\"http://www.w3.org/2000/svg\" height=\"24px\"viewBox=\"0 0 24 24\"\n",
              "     width=\"24px\">\n",
              "    <g>\n",
              "        <path d=\"M19 3H5c-1.1 0-2 .9-2 2v14c0 1.1.9 2 2 2h14c1.1 0 2-.9 2-2V5c0-1.1-.9-2-2-2zM9 17H7v-7h2v7zm4 0h-2V7h2v10zm4 0h-2v-4h2v4z\"/>\n",
              "    </g>\n",
              "</svg>\n",
              "  </button>\n",
              "\n",
              "<style>\n",
              "  .colab-df-quickchart {\n",
              "      --bg-color: #E8F0FE;\n",
              "      --fill-color: #1967D2;\n",
              "      --hover-bg-color: #E2EBFA;\n",
              "      --hover-fill-color: #174EA6;\n",
              "      --disabled-fill-color: #AAA;\n",
              "      --disabled-bg-color: #DDD;\n",
              "  }\n",
              "\n",
              "  [theme=dark] .colab-df-quickchart {\n",
              "      --bg-color: #3B4455;\n",
              "      --fill-color: #D2E3FC;\n",
              "      --hover-bg-color: #434B5C;\n",
              "      --hover-fill-color: #FFFFFF;\n",
              "      --disabled-bg-color: #3B4455;\n",
              "      --disabled-fill-color: #666;\n",
              "  }\n",
              "\n",
              "  .colab-df-quickchart {\n",
              "    background-color: var(--bg-color);\n",
              "    border: none;\n",
              "    border-radius: 50%;\n",
              "    cursor: pointer;\n",
              "    display: none;\n",
              "    fill: var(--fill-color);\n",
              "    height: 32px;\n",
              "    padding: 0;\n",
              "    width: 32px;\n",
              "  }\n",
              "\n",
              "  .colab-df-quickchart:hover {\n",
              "    background-color: var(--hover-bg-color);\n",
              "    box-shadow: 0 1px 2px rgba(60, 64, 67, 0.3), 0 1px 3px 1px rgba(60, 64, 67, 0.15);\n",
              "    fill: var(--button-hover-fill-color);\n",
              "  }\n",
              "\n",
              "  .colab-df-quickchart-complete:disabled,\n",
              "  .colab-df-quickchart-complete:disabled:hover {\n",
              "    background-color: var(--disabled-bg-color);\n",
              "    fill: var(--disabled-fill-color);\n",
              "    box-shadow: none;\n",
              "  }\n",
              "\n",
              "  .colab-df-spinner {\n",
              "    border: 2px solid var(--fill-color);\n",
              "    border-color: transparent;\n",
              "    border-bottom-color: var(--fill-color);\n",
              "    animation:\n",
              "      spin 1s steps(1) infinite;\n",
              "  }\n",
              "\n",
              "  @keyframes spin {\n",
              "    0% {\n",
              "      border-color: transparent;\n",
              "      border-bottom-color: var(--fill-color);\n",
              "      border-left-color: var(--fill-color);\n",
              "    }\n",
              "    20% {\n",
              "      border-color: transparent;\n",
              "      border-left-color: var(--fill-color);\n",
              "      border-top-color: var(--fill-color);\n",
              "    }\n",
              "    30% {\n",
              "      border-color: transparent;\n",
              "      border-left-color: var(--fill-color);\n",
              "      border-top-color: var(--fill-color);\n",
              "      border-right-color: var(--fill-color);\n",
              "    }\n",
              "    40% {\n",
              "      border-color: transparent;\n",
              "      border-right-color: var(--fill-color);\n",
              "      border-top-color: var(--fill-color);\n",
              "    }\n",
              "    60% {\n",
              "      border-color: transparent;\n",
              "      border-right-color: var(--fill-color);\n",
              "    }\n",
              "    80% {\n",
              "      border-color: transparent;\n",
              "      border-right-color: var(--fill-color);\n",
              "      border-bottom-color: var(--fill-color);\n",
              "    }\n",
              "    90% {\n",
              "      border-color: transparent;\n",
              "      border-bottom-color: var(--fill-color);\n",
              "    }\n",
              "  }\n",
              "</style>\n",
              "\n",
              "  <script>\n",
              "    async function quickchart(key) {\n",
              "      const quickchartButtonEl =\n",
              "        document.querySelector('#' + key + ' button');\n",
              "      quickchartButtonEl.disabled = true;  // To prevent multiple clicks.\n",
              "      quickchartButtonEl.classList.add('colab-df-spinner');\n",
              "      try {\n",
              "        const charts = await google.colab.kernel.invokeFunction(\n",
              "            'suggestCharts', [key], {});\n",
              "      } catch (error) {\n",
              "        console.error('Error during call to suggestCharts:', error);\n",
              "      }\n",
              "      quickchartButtonEl.classList.remove('colab-df-spinner');\n",
              "      quickchartButtonEl.classList.add('colab-df-quickchart-complete');\n",
              "    }\n",
              "    (() => {\n",
              "      let quickchartButtonEl =\n",
              "        document.querySelector('#df-9b26ab48-2d16-4f0d-ba7b-2df9d0edddf8 button');\n",
              "      quickchartButtonEl.style.display =\n",
              "        google.colab.kernel.accessAllowed ? 'block' : 'none';\n",
              "    })();\n",
              "  </script>\n",
              "</div>\n",
              "    </div>\n",
              "  </div>\n"
            ]
          },
          "metadata": {},
          "execution_count": 3
        }
      ]
    },
    {
      "cell_type": "markdown",
      "source": [
        "`.info` helps us to get information about the dataset.\n",
        "\n",
        "From the output, we can see that this data set has 1000 records and no missing data. The `review` column is the `object` type and the `label` column is the `int64` type."
      ],
      "metadata": {
        "id": "yMI16IQ7Nnj6"
      }
    },
    {
      "cell_type": "code",
      "source": [
        "# Get the dataset information\n",
        "amz_review.info()"
      ],
      "metadata": {
        "colab": {
          "base_uri": "https://localhost:8080/"
        },
        "id": "FhFS5XPxNoRw",
        "outputId": "f7bc90ea-2f6b-4afd-f3d6-671a718fb306"
      },
      "execution_count": 4,
      "outputs": [
        {
          "output_type": "stream",
          "name": "stdout",
          "text": [
            "<class 'pandas.core.frame.DataFrame'>\n",
            "RangeIndex: 1000 entries, 0 to 999\n",
            "Data columns (total 2 columns):\n",
            " #   Column  Non-Null Count  Dtype \n",
            "---  ------  --------------  ----- \n",
            " 0   review  1000 non-null   object\n",
            " 1   label   1000 non-null   int64 \n",
            "dtypes: int64(1), object(1)\n",
            "memory usage: 15.8+ KB\n"
          ]
        }
      ]
    },
    {
      "cell_type": "markdown",
      "source": [
        "The label value of 0 represents negative reviews and the label value of 1 represents positive reviews. The dataset has 500 positive reviews and 500 negative reviews. It is well-balanced, so we can use  accuracy as the metric to evaluate the model performance."
      ],
      "metadata": {
        "id": "6VMuoMFwnMbV"
      }
    },
    {
      "cell_type": "code",
      "source": [
        "# Check the label distribution\n",
        "amz_review['label'].value_counts()"
      ],
      "metadata": {
        "colab": {
          "base_uri": "https://localhost:8080/"
        },
        "id": "16rB8tdEaYX1",
        "outputId": "7fb36163-bfd0-410c-abf6-29252869a7fc"
      },
      "execution_count": 5,
      "outputs": [
        {
          "output_type": "execute_result",
          "data": {
            "text/plain": [
              "0    500\n",
              "1    500\n",
              "Name: label, dtype: int64"
            ]
          },
          "metadata": {},
          "execution_count": 5
        }
      ]
    },
    {
      "cell_type": "markdown",
      "source": [
        "# Step 3: Train Test Split"
      ],
      "metadata": {
        "id": "J2rfMma3Smh7"
      }
    },
    {
      "cell_type": "markdown",
      "source": [
        "In step 3, we will split the dataset and have 80% as the training dataset and 20% as the testing dataset.\n",
        "\n",
        "Using the `sample` method, we set `frac=0.8`, which randomly samples 80% of the data. `random_state=42` ensures that the sampling result is reproducible.\n",
        "\n",
        "Dropping the `train_data` from the review dataset gives us the rest 20% of the data, which is our testing dataset."
      ],
      "metadata": {
        "id": "BM7ZEjUCVyv3"
      }
    },
    {
      "cell_type": "code",
      "source": [
        "# Training dataset\n",
        "train_data = amz_review.sample(frac=0.8, random_state=42)\n",
        "\n",
        "# Testing dataset\n",
        "test_data = amz_review.drop(train_data.index)\n",
        "\n",
        "# Check the number of records in training and testing dataset.\n",
        "print(f'The training dataset has {len(train_data)} records.')\n",
        "print(f'The testing dataset has {len(test_data)} records.')"
      ],
      "metadata": {
        "colab": {
          "base_uri": "https://localhost:8080/"
        },
        "id": "PaFydZD5BHqO",
        "outputId": "e0d614c0-6e9b-421b-fde1-6411d65025d5"
      },
      "execution_count": 6,
      "outputs": [
        {
          "output_type": "stream",
          "name": "stdout",
          "text": [
            "The training dataset has 800 records.\n",
            "The testing dataset has 200 records.\n"
          ]
        }
      ]
    },
    {
      "cell_type": "markdown",
      "source": [
        "After the train test split, there are 800 reviews in the training dataset and 200 reviews in the testing dataset."
      ],
      "metadata": {
        "id": "aP1XBRjRWtfX"
      }
    },
    {
      "cell_type": "markdown",
      "source": [
        "# Step 4: Convert Pandas Dataframe to Hugging Face Dataset"
      ],
      "metadata": {
        "id": "s7_KrZL1E5pH"
      }
    },
    {
      "cell_type": "markdown",
      "source": [
        "In step 4, the training and the testing datasets will be converted from pandas dataframe to Hugging Face Dataset format.\n",
        "\n",
        "Hugging Face Dataset objects are memory-mapped on drive, so they are not limited by RAM memory, which is very helpful for processing large datasets.\n",
        "\n",
        "We use `Dataset.from_pandas` to convert a pandas dataframe to a Hugging Face Dataset."
      ],
      "metadata": {
        "id": "5wL7euXiEwEw"
      }
    },
    {
      "cell_type": "code",
      "source": [
        "# Convert pyhton dataframe to Hugging Face arrow dataset\n",
        "hg_train_data = Dataset.from_pandas(train_data)\n",
        "hg_test_data = Dataset.from_pandas(test_data)"
      ],
      "metadata": {
        "id": "JM0CjSK7DFWi"
      },
      "execution_count": 7,
      "outputs": []
    },
    {
      "cell_type": "markdown",
      "source": [
        "The length of the Hugging Face Dataset is the same as the number of records in the pandas dataframe. For example, there are 800 records in the pandas dataframe for the training dataset, and the length of the converted Hugging Face Dataset for the training dataset is 800 too.\n",
        "\n",
        "`hg_train_data[0]` gives us the first record in the Hugging Face Dataset. It is a dictionary with three keys, `review`, `label`, and `__index_level_0__`.\n",
        "* `review` is the variable name for the review text. The name is inherited from the column name of the pandas dataframe.\n",
        "* `label` is the variable name for the sentiment of the review text. The name is inherited from the column name of the pandas dataframe too.\n",
        "* `__index_level_0__` is an automatically generated field from the pandas dataframe. It stores the index of the corresponding record."
      ],
      "metadata": {
        "id": "ljaWzXG-PEpM"
      }
    },
    {
      "cell_type": "code",
      "source": [
        "# Length of the Dataset\n",
        "print(f'The length of hg_train_data is {len(hg_train_data)}.\\n')\n",
        "\n",
        "# Check one review\n",
        "hg_train_data[0]"
      ],
      "metadata": {
        "colab": {
          "base_uri": "https://localhost:8080/"
        },
        "id": "tdWpRd5KKqIB",
        "outputId": "005e98dc-67d0-442c-c5ec-b2bb3182ec39"
      },
      "execution_count": 8,
      "outputs": [
        {
          "output_type": "stream",
          "name": "stdout",
          "text": [
            "The length of hg_train_data is 800.\n",
            "\n"
          ]
        },
        {
          "output_type": "execute_result",
          "data": {
            "text/plain": [
              "{'review': 'Thanks again to Amazon for having the things I need for a good price!',\n",
              " 'label': 1,\n",
              " '__index_level_0__': 521}"
            ]
          },
          "metadata": {},
          "execution_count": 8
        }
      ]
    },
    {
      "cell_type": "markdown",
      "source": [
        "In this example, we can see that the review is `Thanks again to Amazon for having the things I need for a good price!`, the sentiment for the review is positive/1, and the index of this record is 521 in the pandas dataframe.\n",
        "\n",
        "Checking the index 521 in the pandas dataframe confirms the same information with Hugging Face Dataset."
      ],
      "metadata": {
        "id": "pIGEczo3SpYd"
      }
    },
    {
      "cell_type": "code",
      "source": [
        "# Validate the record in pandas dataframe\n",
        "amz_review.iloc[[521]]"
      ],
      "metadata": {
        "colab": {
          "base_uri": "https://localhost:8080/",
          "height": 81
        },
        "id": "uiQBYYZtOJHa",
        "outputId": "082526d1-c04e-4a03-ae3a-64261447f6ea"
      },
      "execution_count": 9,
      "outputs": [
        {
          "output_type": "execute_result",
          "data": {
            "text/plain": [
              "                                                review  label\n",
              "521  Thanks again to Amazon for having the things I...      1"
            ],
            "text/html": [
              "\n",
              "  <div id=\"df-76e597bd-9e48-4d39-ade7-0ad0e8a1ecc4\" class=\"colab-df-container\">\n",
              "    <div>\n",
              "<style scoped>\n",
              "    .dataframe tbody tr th:only-of-type {\n",
              "        vertical-align: middle;\n",
              "    }\n",
              "\n",
              "    .dataframe tbody tr th {\n",
              "        vertical-align: top;\n",
              "    }\n",
              "\n",
              "    .dataframe thead th {\n",
              "        text-align: right;\n",
              "    }\n",
              "</style>\n",
              "<table border=\"1\" class=\"dataframe\">\n",
              "  <thead>\n",
              "    <tr style=\"text-align: right;\">\n",
              "      <th></th>\n",
              "      <th>review</th>\n",
              "      <th>label</th>\n",
              "    </tr>\n",
              "  </thead>\n",
              "  <tbody>\n",
              "    <tr>\n",
              "      <th>521</th>\n",
              "      <td>Thanks again to Amazon for having the things I...</td>\n",
              "      <td>1</td>\n",
              "    </tr>\n",
              "  </tbody>\n",
              "</table>\n",
              "</div>\n",
              "    <div class=\"colab-df-buttons\">\n",
              "\n",
              "  <div class=\"colab-df-container\">\n",
              "    <button class=\"colab-df-convert\" onclick=\"convertToInteractive('df-76e597bd-9e48-4d39-ade7-0ad0e8a1ecc4')\"\n",
              "            title=\"Convert this dataframe to an interactive table.\"\n",
              "            style=\"display:none;\">\n",
              "\n",
              "  <svg xmlns=\"http://www.w3.org/2000/svg\" height=\"24px\" viewBox=\"0 -960 960 960\">\n",
              "    <path d=\"M120-120v-720h720v720H120Zm60-500h600v-160H180v160Zm220 220h160v-160H400v160Zm0 220h160v-160H400v160ZM180-400h160v-160H180v160Zm440 0h160v-160H620v160ZM180-180h160v-160H180v160Zm440 0h160v-160H620v160Z\"/>\n",
              "  </svg>\n",
              "    </button>\n",
              "\n",
              "  <style>\n",
              "    .colab-df-container {\n",
              "      display:flex;\n",
              "      gap: 12px;\n",
              "    }\n",
              "\n",
              "    .colab-df-convert {\n",
              "      background-color: #E8F0FE;\n",
              "      border: none;\n",
              "      border-radius: 50%;\n",
              "      cursor: pointer;\n",
              "      display: none;\n",
              "      fill: #1967D2;\n",
              "      height: 32px;\n",
              "      padding: 0 0 0 0;\n",
              "      width: 32px;\n",
              "    }\n",
              "\n",
              "    .colab-df-convert:hover {\n",
              "      background-color: #E2EBFA;\n",
              "      box-shadow: 0px 1px 2px rgba(60, 64, 67, 0.3), 0px 1px 3px 1px rgba(60, 64, 67, 0.15);\n",
              "      fill: #174EA6;\n",
              "    }\n",
              "\n",
              "    .colab-df-buttons div {\n",
              "      margin-bottom: 4px;\n",
              "    }\n",
              "\n",
              "    [theme=dark] .colab-df-convert {\n",
              "      background-color: #3B4455;\n",
              "      fill: #D2E3FC;\n",
              "    }\n",
              "\n",
              "    [theme=dark] .colab-df-convert:hover {\n",
              "      background-color: #434B5C;\n",
              "      box-shadow: 0px 1px 3px 1px rgba(0, 0, 0, 0.15);\n",
              "      filter: drop-shadow(0px 1px 2px rgba(0, 0, 0, 0.3));\n",
              "      fill: #FFFFFF;\n",
              "    }\n",
              "  </style>\n",
              "\n",
              "    <script>\n",
              "      const buttonEl =\n",
              "        document.querySelector('#df-76e597bd-9e48-4d39-ade7-0ad0e8a1ecc4 button.colab-df-convert');\n",
              "      buttonEl.style.display =\n",
              "        google.colab.kernel.accessAllowed ? 'block' : 'none';\n",
              "\n",
              "      async function convertToInteractive(key) {\n",
              "        const element = document.querySelector('#df-76e597bd-9e48-4d39-ade7-0ad0e8a1ecc4');\n",
              "        const dataTable =\n",
              "          await google.colab.kernel.invokeFunction('convertToInteractive',\n",
              "                                                    [key], {});\n",
              "        if (!dataTable) return;\n",
              "\n",
              "        const docLinkHtml = 'Like what you see? Visit the ' +\n",
              "          '<a target=\"_blank\" href=https://colab.research.google.com/notebooks/data_table.ipynb>data table notebook</a>'\n",
              "          + ' to learn more about interactive tables.';\n",
              "        element.innerHTML = '';\n",
              "        dataTable['output_type'] = 'display_data';\n",
              "        await google.colab.output.renderOutput(dataTable, element);\n",
              "        const docLink = document.createElement('div');\n",
              "        docLink.innerHTML = docLinkHtml;\n",
              "        element.appendChild(docLink);\n",
              "      }\n",
              "    </script>\n",
              "  </div>\n",
              "\n",
              "    </div>\n",
              "  </div>\n"
            ]
          },
          "metadata": {},
          "execution_count": 9
        }
      ]
    },
    {
      "cell_type": "markdown",
      "source": [
        "# Step 5: Tokenize Text"
      ],
      "metadata": {
        "id": "e596ZDPLB2a5"
      }
    },
    {
      "cell_type": "markdown",
      "source": [
        "In step 5, we will tokenize the review text using a tokenizer.\n",
        "\n",
        "A tokenizer converts text into numbers to use as the input of the NLP (Natural Language Processing) models. Each number represents a token, which can be a word, part of a word, punctuation, or special tokens. How the text is tokenized is determined by the pretrained model. `AutoTokenizer.from_pretrained(\"bert-base-cased\")` is used to download vocabulary from the pretrained `bert-base-cased` model, meaning that the text will be tokenized like a BERT model."
      ],
      "metadata": {
        "id": "ccd3KQcZwpFN"
      }
    },
    {
      "cell_type": "code",
      "source": [
        "# Tokenizer from a pretrained model\n",
        "tokenizer = AutoTokenizer.from_pretrained(\"bert-base-cased\")\n",
        "\n",
        "# Take a look at the tokenizer\n",
        "tokenizer"
      ],
      "metadata": {
        "colab": {
          "base_uri": "https://localhost:8080/"
        },
        "id": "uYVxGawWwsIS",
        "outputId": "8c7739e0-3bf6-4732-9348-c7b7c17cff42"
      },
      "execution_count": 10,
      "outputs": [
        {
          "output_type": "execute_result",
          "data": {
            "text/plain": [
              "BertTokenizerFast(name_or_path='bert-base-cased', vocab_size=28996, model_max_length=512, is_fast=True, padding_side='right', truncation_side='right', special_tokens={'unk_token': '[UNK]', 'sep_token': '[SEP]', 'pad_token': '[PAD]', 'cls_token': '[CLS]', 'mask_token': '[MASK]'}, clean_up_tokenization_spaces=True),  added_tokens_decoder={\n",
              "\t0: AddedToken(\"[PAD]\", rstrip=False, lstrip=False, single_word=False, normalized=False, special=True),\n",
              "\t100: AddedToken(\"[UNK]\", rstrip=False, lstrip=False, single_word=False, normalized=False, special=True),\n",
              "\t101: AddedToken(\"[CLS]\", rstrip=False, lstrip=False, single_word=False, normalized=False, special=True),\n",
              "\t102: AddedToken(\"[SEP]\", rstrip=False, lstrip=False, single_word=False, normalized=False, special=True),\n",
              "\t103: AddedToken(\"[MASK]\", rstrip=False, lstrip=False, single_word=False, normalized=False, special=True),\n",
              "}"
            ]
          },
          "metadata": {},
          "execution_count": 10
        }
      ]
    },
    {
      "cell_type": "markdown",
      "source": [
        "We can see that the tokenizer contains information such as model name, vocabulary size, max length, padding position, truncation position, and special tokens.\n",
        "\n",
        "There are five special tokens for the BERT model. Other models may have different special tokens.\n",
        " * The tokens that are not part of the BERT model training dataset are unknown tokens. The unknown token is [UNK] and the ID for the unknown token is 100.\n",
        " * The separator token is [SEP] and the ID for the separator token is 102.\n",
        " * The pad token is [PAD] and the ID for the pad token is 0.\n",
        " * The sentence level classification token is [CLS] and the ID for the classification token is 101.\n",
        " * The mask token is [MASK] and the ID for the mask token is 103."
      ],
      "metadata": {
        "id": "OFGCx-PWw7yN"
      }
    },
    {
      "cell_type": "code",
      "source": [
        "# Mapping between special tokens and their IDs.\n",
        "print(f'The unknown token is {tokenizer.unk_token} and the ID for the unkown token is {tokenizer.unk_token_id}.')\n",
        "print(f'The seperator token is {tokenizer.sep_token} and the ID for the seperator token is {tokenizer.sep_token_id}.')\n",
        "print(f'The pad token is {tokenizer.pad_token} and the ID for the pad token is {tokenizer.pad_token_id}.')\n",
        "print(f'The sentence level classification token is {tokenizer.cls_token} and the ID for the classification token is {tokenizer.cls_token_id}.')\n",
        "print(f'The mask token is {tokenizer.mask_token} and the ID for the mask token is {tokenizer.mask_token_id}.')"
      ],
      "metadata": {
        "colab": {
          "base_uri": "https://localhost:8080/"
        },
        "id": "y47m2Z6_wtyU",
        "outputId": "88a2fb6e-a308-4de1-9c46-9325be3a899f"
      },
      "execution_count": 11,
      "outputs": [
        {
          "output_type": "stream",
          "name": "stdout",
          "text": [
            "The unknown token is [UNK] and the ID for the unkown token is 100.\n",
            "The seperator token is [SEP] and the ID for the seperator token is 102.\n",
            "The pad token is [PAD] and the ID for the pad token is 0.\n",
            "The sentence level classification token is [CLS] and the ID for the classification token is 101.\n",
            "The mask token is [MASK] and the ID for the mask token is 103.\n"
          ]
        }
      ]
    },
    {
      "cell_type": "markdown",
      "source": [
        "After downloading the model vocabulary, the method `tokenizer` is used to tokenize the review corpus.\n",
        "* `max_length` indicates the maximum number of tokens kept for each document.\n",
        " * If the document has more tokens than the `max_length`, it will be truncated.\n",
        " * If the document has less tokens than the `max_length`, it will be padded with zeros.\n",
        " * If `max_length` is unset or set to `None`, the maximum length from the pretrained model will be used. If the pretrained model does not have a maximum length parameter, `max_length` will be deactivated.\n",
        "* `truncation` controls how the token truncation is implemented. `truncation=True` indicates that the truncation length is the length specified by `max_length`. If `max_length` is not specified, the max_length of the pretrained model is used.\n",
        "* `padding` means adding zeros to shorter reviews in the dataset. The `padding` argument controls how `padding` is conducted.  \n",
        " * `padding=True` is the same as `padding='longest'`. It checks the longest sequence in the batch and pads zeros to that length. There is no padding if only one text document is provided.\n",
        " * `padding='max_length'` pads to `max_length` if it is specified, otherwise, it pads to the maximum acceptable input length for the model.\n",
        " * `padding=False` is the same as `padding='do_not_pad'`. It is the default, indicating that no padding is applied, so it can output a batch with sequences of different lengths."
      ],
      "metadata": {
        "id": "jgF67x23W6y2"
      }
    },
    {
      "cell_type": "code",
      "source": [
        "# Funtion to tokenize data\n",
        "def tokenize_dataset(data):\n",
        "    return tokenizer(data[\"review\"],\n",
        "                     max_length=32,\n",
        "                     truncation=True,\n",
        "                     padding=\"max_length\")\n",
        "\n",
        "# Tokenize the dataset\n",
        "dataset_train = hg_train_data.map(tokenize_dataset)\n",
        "dataset_test = hg_test_data.map(tokenize_dataset)"
      ],
      "metadata": {
        "colab": {
          "base_uri": "https://localhost:8080/",
          "height": 81,
          "referenced_widgets": [
            "6aef6fc818dc403cb33d20376e468e7d",
            "6a9f04a739e34846b6af33ba6712de90",
            "77d45bd92bd74c7fbcb354ac4b8a818e",
            "49f1ad75d52e49c98ca112b2600deb7b",
            "ad6dd14ffd364fd4949641cfcf0fd38a",
            "787e32a060e64c06abe4cc89e6bba73a",
            "ed87e30e3e50413d91b8a7267a020696",
            "75234461ba9e4c308b56973d350614cd",
            "ef71e88392fc4bbfb8d4a3ee4c8e4bbd",
            "aa50fb6e65a340f1840c768036c221ad",
            "7f6b9643259f4a35a6b842913694dd96",
            "acfe7aeb80224b15ba584af7eb6a096d",
            "3e0c96d5ced345a480e38df180ce104e",
            "3176fa6f7a5f402cb362682b71be2797",
            "f753a362734342bca61127eb08acb5e5",
            "4c9c7270951f40f09f33b2139b51a431",
            "17a30a8b8989401886a0560adac198fb",
            "74e268a06f3149cc99650996ed7a8842",
            "8e3e87efa9114ef09606780d81e6d8db",
            "b2bd440d16a5487c90476eee0b449769",
            "9b5f6407ea6641d4922c3daf232fd770",
            "78127b214f824058bb92ab2336a063af"
          ]
        },
        "id": "0Pxclwx2qfk9",
        "outputId": "e38b7721-7d45-47f0-f108-438105b786e0"
      },
      "execution_count": 12,
      "outputs": [
        {
          "output_type": "display_data",
          "data": {
            "text/plain": [
              "Map:   0%|          | 0/800 [00:00<?, ? examples/s]"
            ],
            "application/vnd.jupyter.widget-view+json": {
              "version_major": 2,
              "version_minor": 0,
              "model_id": "6aef6fc818dc403cb33d20376e468e7d"
            }
          },
          "metadata": {}
        },
        {
          "output_type": "display_data",
          "data": {
            "text/plain": [
              "Map:   0%|          | 0/200 [00:00<?, ? examples/s]"
            ],
            "application/vnd.jupyter.widget-view+json": {
              "version_major": 2,
              "version_minor": 0,
              "model_id": "acfe7aeb80224b15ba584af7eb6a096d"
            }
          },
          "metadata": {}
        }
      ]
    },
    {
      "cell_type": "markdown",
      "source": [
        "After tokenization, we can see that both the training and the testing Dataset have 6 features, `'review'`, `'label'`, `'__index_level_0__'`, `'input_ids'`, `'token_type_ids'`, and `'attention_mask'`. The number of rows is stored with `num_rows`."
      ],
      "metadata": {
        "id": "I7HKyIjbb0Sh"
      }
    },
    {
      "cell_type": "code",
      "source": [
        "# Take a look at the data\n",
        "print(dataset_train)\n",
        "print(dataset_test)"
      ],
      "metadata": {
        "colab": {
          "base_uri": "https://localhost:8080/"
        },
        "id": "f8b7EQgtoJzH",
        "outputId": "a93dc03c-eb4c-455a-9492-e0637508e29e"
      },
      "execution_count": 13,
      "outputs": [
        {
          "output_type": "stream",
          "name": "stdout",
          "text": [
            "Dataset({\n",
            "    features: ['review', 'label', '__index_level_0__', 'input_ids', 'token_type_ids', 'attention_mask'],\n",
            "    num_rows: 800\n",
            "})\n",
            "Dataset({\n",
            "    features: ['review', 'label', '__index_level_0__', 'input_ids', 'token_type_ids', 'attention_mask'],\n",
            "    num_rows: 200\n",
            "})\n"
          ]
        }
      ]
    },
    {
      "cell_type": "markdown",
      "source": [
        "`dataset_train[0]` gives us the content for the first record in the training dataset in a dictionary format.\n",
        "* `'review'` has the review text. The first review of the training dataset is `'Thanks again to Amazon for having the things I need for a good price!'`.\n",
        "* `'label'` is the label of the classification. The first record is a positive review, so the label is 1.\n",
        "* `'__index_level_0__'` is the index of the record. 521 means that the first record in the training dataset has the index 521 in the original pandas dataframe.\n",
        "* `'input_ids'` are the IDs for the tokens. There are 32 token IDs because the `max_length` is 32 for the tokenization.\n",
        "* `'token_type_ids'` is also called segment IDs.\n",
        " * BERT was trained on two tasks, Masked Language Modeling and Next Sentence Prediction. `'token_type_ids'` is for the Next Sentence Prediction, where two sentences are used to predict whether the second sentence is the next sentence for the first one.\n",
        " * The first sentence has all the tokens represented by zeros, and the second sentence has all the tokens represented by ones.\n",
        " * Because our classification task does not have a second sentence, all the values for `'token_type_ids'` are zeros.\n",
        "* `'attention_mask'` indicates which token ID should get attention from the model, so the padding tokens are all zeros and other tokens are 1s.\n",
        "\n"
      ],
      "metadata": {
        "id": "oan104mCphW7"
      }
    },
    {
      "cell_type": "code",
      "source": [
        "# Check the first record\n",
        "dataset_train[0]"
      ],
      "metadata": {
        "colab": {
          "base_uri": "https://localhost:8080/"
        },
        "id": "gCodao7MoQt-",
        "outputId": "da531cd6-8b5d-4697-92bb-fada4b0df7fe"
      },
      "execution_count": 14,
      "outputs": [
        {
          "output_type": "execute_result",
          "data": {
            "text/plain": [
              "{'review': 'Thanks again to Amazon for having the things I need for a good price!',\n",
              " 'label': 1,\n",
              " '__index_level_0__': 521,\n",
              " 'input_ids': [101,\n",
              "  5749,\n",
              "  1254,\n",
              "  1106,\n",
              "  9786,\n",
              "  1111,\n",
              "  1515,\n",
              "  1103,\n",
              "  1614,\n",
              "  146,\n",
              "  1444,\n",
              "  1111,\n",
              "  170,\n",
              "  1363,\n",
              "  3945,\n",
              "  106,\n",
              "  102,\n",
              "  0,\n",
              "  0,\n",
              "  0,\n",
              "  0,\n",
              "  0,\n",
              "  0,\n",
              "  0,\n",
              "  0,\n",
              "  0,\n",
              "  0,\n",
              "  0,\n",
              "  0,\n",
              "  0,\n",
              "  0,\n",
              "  0],\n",
              " 'token_type_ids': [0,\n",
              "  0,\n",
              "  0,\n",
              "  0,\n",
              "  0,\n",
              "  0,\n",
              "  0,\n",
              "  0,\n",
              "  0,\n",
              "  0,\n",
              "  0,\n",
              "  0,\n",
              "  0,\n",
              "  0,\n",
              "  0,\n",
              "  0,\n",
              "  0,\n",
              "  0,\n",
              "  0,\n",
              "  0,\n",
              "  0,\n",
              "  0,\n",
              "  0,\n",
              "  0,\n",
              "  0,\n",
              "  0,\n",
              "  0,\n",
              "  0,\n",
              "  0,\n",
              "  0,\n",
              "  0,\n",
              "  0],\n",
              " 'attention_mask': [1,\n",
              "  1,\n",
              "  1,\n",
              "  1,\n",
              "  1,\n",
              "  1,\n",
              "  1,\n",
              "  1,\n",
              "  1,\n",
              "  1,\n",
              "  1,\n",
              "  1,\n",
              "  1,\n",
              "  1,\n",
              "  1,\n",
              "  1,\n",
              "  1,\n",
              "  0,\n",
              "  0,\n",
              "  0,\n",
              "  0,\n",
              "  0,\n",
              "  0,\n",
              "  0,\n",
              "  0,\n",
              "  0,\n",
              "  0,\n",
              "  0,\n",
              "  0,\n",
              "  0,\n",
              "  0,\n",
              "  0]}"
            ]
          },
          "metadata": {},
          "execution_count": 14
        }
      ]
    },
    {
      "cell_type": "markdown",
      "source": [
        "# Step 6: Load Pretrained Model"
      ],
      "metadata": {
        "id": "pInnpLnyZ0xF"
      }
    },
    {
      "cell_type": "markdown",
      "source": [
        "In step 6, we will load the pretrained model for sentiment analysis.\n",
        "\n",
        "* `AutoModelForSequenceClassification` loads the BERT model without the sequence classification head.\n",
        "* The method `from_pretrained()` loads the weights from the pretrained model into the new model, so the weights in the new model are not randomly initialized. Note that the new weights for the new sequence classification head are going to be randomly initialized.\n",
        "* `bert-base-cased` is the name of the pretrained model. We can change it to a different model based on the nature of the project.\n",
        "* `num_labels` indicates the number of classes. Our dataset has two classes, positive and negative, so `num_labels=2`."
      ],
      "metadata": {
        "id": "mKw8n6QsnstR"
      }
    },
    {
      "cell_type": "code",
      "source": [
        "# Load model\n",
        "model = AutoModelForSequenceClassification.from_pretrained(\"bert-base-cased\", num_labels=2)"
      ],
      "metadata": {
        "colab": {
          "base_uri": "https://localhost:8080/"
        },
        "id": "alXwU9ylqGSR",
        "outputId": "00b2dfbb-b69e-49ed-f5bd-ff2fe665f88d"
      },
      "execution_count": 15,
      "outputs": [
        {
          "output_type": "stream",
          "name": "stderr",
          "text": [
            "Some weights of BertForSequenceClassification were not initialized from the model checkpoint at bert-base-cased and are newly initialized: ['classifier.bias', 'classifier.weight']\n",
            "You should probably TRAIN this model on a down-stream task to be able to use it for predictions and inference.\n"
          ]
        }
      ]
    },
    {
      "cell_type": "markdown",
      "source": [
        "# Step 7: Set Training Argument"
      ],
      "metadata": {
        "id": "c5SRFC8b0QIm"
      }
    },
    {
      "cell_type": "markdown",
      "source": [
        "In step 7, we will set the training arguments for the model.\n",
        "\n",
        "Hugging Face has 96 parameters for `TrainingArguments`, which provides a lot of flexibility in fine-tuning the transfer learning model.\n",
        "* `output_dir` is the directory to write the model checkpoints and model predictions.\n",
        "* `logging_dir` is the directory for saving logs.\n",
        "* `logging_strategy` is the strategy for logging the training information.\n",
        " * `'no'` means no logging for the training.\n",
        " * `'epoch'` means logging at the end of each epoch.\n",
        " * `'steps'` means logging at the end of each `logging_steps`.\n",
        "* `logging_steps` is the number of steps between two logs. The default is 500.\n",
        "* `num_train_epochs` is the total number of training epochs. The default value is 3.\n",
        "* `per_device_train_batch_size` is the batch size per GPU/TPU core/CPU for training. The default value is 8.\n",
        "* `per_device_eval_batch_size` is the batch size per GPU/TPU core/CPU for evaluation. The default value is 8.\n",
        "* `learning_rate` is the initial learning rate for AdamW optimizer. The default value is 5e-5.\n",
        "* `seed` is for reproducibility.\n",
        "* `save_strategy` is the strategy for saving the checkpoint during training.\n",
        " * `'no'` means do not save during training.\n",
        " * `'epoch'` means saving at the end of each epoch.\n",
        " * `'steps'` means saving at the end of each `save_steps`. `'steps'` is the default value.\n",
        "* `save_steps` is the number of steps before two checkpoint saves. The default value is 500.\n",
        "* `evaluation_strategy` is the strategy for evaluation during training. It's helpful for us to monitor the model performance during model fine-tuning.\n",
        " * `'no'` means no evaluation during training.\n",
        " * `'epoch'` means evaluating at the end of each epoch and the evaluation results will be printed out at the end of each epoch.\n",
        " * `'steps'` means evaluating and reporting at the end of each `eval_steps`. `'no'` is the default value.\n",
        "* `eval_steps` is the number of steps between two evaluations if `evaluation_strategy='steps'`. It defaults to the same value as `logging_steps` if not set.\n",
        "* `load_best_model_at_end=True` indicates that the best model will be loaded at the end of the training. The default is `False`. When it is set to `True`, the `save_strategy` and `evaluation_strategy` must be the same. When both arguments are `'steps'`, the value of `save_steps` needs to be a round multiple of the value of `eval_steps`."
      ],
      "metadata": {
        "id": "xrTVGiENPznD"
      }
    },
    {
      "cell_type": "code",
      "source": [
        "# Set up training arguments\n",
        "training_args = TrainingArguments(\n",
        "    output_dir=\"/content/sample_data\",\n",
        "    logging_dir='/content/sample_data',\n",
        "    logging_strategy='epoch',\n",
        "    logging_steps=100,\n",
        "    num_train_epochs=2,\n",
        "    per_device_train_batch_size=4,\n",
        "    per_device_eval_batch_size=4,\n",
        "    learning_rate=5e-6,\n",
        "    seed=42,\n",
        "    save_strategy='epoch',\n",
        "    save_steps=100,\n",
        "    evaluation_strategy='epoch',\n",
        "    eval_steps=100,\n",
        "    load_best_model_at_end=True\n",
        ")"
      ],
      "metadata": {
        "id": "aoM8kA7xv61O"
      },
      "execution_count": 16,
      "outputs": []
    },
    {
      "cell_type": "markdown",
      "source": [
        "# Step 8: Set Evaluation Metrics"
      ],
      "metadata": {
        "id": "lLAPSRzVNHYH"
      }
    },
    {
      "cell_type": "markdown",
      "source": [
        "In step 8, we will set the evaluation metric because Hugging Face Trainer does not evaluate the model performance automatically during the training process.\n",
        "\n",
        "Hugging Face has an `evaluate` library with over 100 evaluation modules. We can see the list of all the modules using `evaluate.list_evaluation_modules()`."
      ],
      "metadata": {
        "id": "uz6C-lCncrJb"
      }
    },
    {
      "cell_type": "code",
      "source": [
        "# Number of evaluation modules\n",
        "print(f'There are {len(evaluate.list_evaluation_modules())} evaluation models in Hugging Face.\\n')\n",
        "\n",
        "# List all evaluation metrics\n",
        "evaluate.list_evaluation_modules()"
      ],
      "metadata": {
        "colab": {
          "base_uri": "https://localhost:8080/"
        },
        "id": "X0cir3_DYCkr",
        "outputId": "18e02d6e-1012-4587-a97d-ff6172c8822e"
      },
      "execution_count": 17,
      "outputs": [
        {
          "output_type": "stream",
          "name": "stdout",
          "text": [
            "There are 122 evaluation models in Hugging Face.\n",
            "\n"
          ]
        },
        {
          "output_type": "execute_result",
          "data": {
            "text/plain": [
              "['lvwerra/test',\n",
              " 'jordyvl/ece',\n",
              " 'angelina-wang/directional_bias_amplification',\n",
              " 'cpllab/syntaxgym',\n",
              " 'lvwerra/bary_score',\n",
              " 'hack/test_metric',\n",
              " 'yzha/ctc_eval',\n",
              " 'codeparrot/apps_metric',\n",
              " 'mfumanelli/geometric_mean',\n",
              " 'daiyizheng/valid',\n",
              " 'erntkn/dice_coefficient',\n",
              " 'mgfrantz/roc_auc_macro',\n",
              " 'Vlasta/pr_auc',\n",
              " 'gorkaartola/metric_for_tp_fp_samples',\n",
              " 'idsedykh/metric',\n",
              " 'idsedykh/codebleu2',\n",
              " 'idsedykh/codebleu',\n",
              " 'idsedykh/megaglue',\n",
              " 'cakiki/ndcg',\n",
              " 'Vertaix/vendiscore',\n",
              " 'GMFTBY/dailydialogevaluate',\n",
              " 'GMFTBY/dailydialog_evaluate',\n",
              " 'jzm-mailchimp/joshs_second_test_metric',\n",
              " 'ola13/precision_at_k',\n",
              " 'yulong-me/yl_metric',\n",
              " 'abidlabs/mean_iou',\n",
              " 'abidlabs/mean_iou2',\n",
              " 'KevinSpaghetti/accuracyk',\n",
              " 'NimaBoscarino/weat',\n",
              " 'ronaldahmed/nwentfaithfulness',\n",
              " 'Viona/infolm',\n",
              " 'kyokote/my_metric2',\n",
              " 'kashif/mape',\n",
              " 'Ochiroo/rouge_mn',\n",
              " 'giulio98/code_eval_outputs',\n",
              " 'leslyarun/fbeta_score',\n",
              " 'giulio98/codebleu',\n",
              " 'anz2/iliauniiccocrevaluation',\n",
              " 'zbeloki/m2',\n",
              " 'xu1998hz/sescore',\n",
              " 'dvitel/codebleu',\n",
              " 'NCSOFT/harim_plus',\n",
              " 'JP-SystemsX/nDCG',\n",
              " 'sportlosos/sescore',\n",
              " 'Drunper/metrica_tesi',\n",
              " 'jpxkqx/peak_signal_to_noise_ratio',\n",
              " 'jpxkqx/signal_to_reconstruction_error',\n",
              " 'hpi-dhc/FairEval',\n",
              " 'lvwerra/accuracy_score',\n",
              " 'ybelkada/cocoevaluate',\n",
              " 'harshhpareek/bertscore',\n",
              " 'posicube/mean_reciprocal_rank',\n",
              " 'bstrai/classification_report',\n",
              " 'omidf/squad_precision_recall',\n",
              " 'Josh98/nl2bash_m',\n",
              " 'BucketHeadP65/confusion_matrix',\n",
              " 'BucketHeadP65/roc_curve',\n",
              " 'yonting/average_precision_score',\n",
              " 'transZ/test_parascore',\n",
              " 'transZ/sbert_cosine',\n",
              " 'hynky/sklearn_proxy',\n",
              " 'xu1998hz/sescore_english_mt',\n",
              " 'xu1998hz/sescore_german_mt',\n",
              " 'xu1998hz/sescore_english_coco',\n",
              " 'xu1998hz/sescore_english_webnlg',\n",
              " 'unnati/kendall_tau_distance',\n",
              " 'Viona/fuzzy_reordering',\n",
              " 'Viona/kendall_tau',\n",
              " 'lhy/hamming_loss',\n",
              " 'lhy/ranking_loss',\n",
              " 'Muennighoff/code_eval_octopack',\n",
              " 'yuyijiong/quad_match_score',\n",
              " 'Splend1dchan/cosine_similarity',\n",
              " 'AlhitawiMohammed22/CER_Hu-Evaluation-Metrics',\n",
              " 'Yeshwant123/mcc',\n",
              " 'transformersegmentation/segmentation_scores',\n",
              " 'sma2023/wil',\n",
              " 'chanelcolgate/average_precision',\n",
              " 'ckb/unigram',\n",
              " 'Felipehonorato/eer',\n",
              " 'manueldeprada/beer',\n",
              " 'tialaeMceryu/unigram',\n",
              " 'shunzh/apps_metric',\n",
              " 'He-Xingwei/sari_metric',\n",
              " 'langdonholmes/cohen_weighted_kappa',\n",
              " 'fschlatt/ner_eval',\n",
              " 'hyperml/balanced_accuracy',\n",
              " 'brian920128/doc_retrieve_metrics',\n",
              " 'guydav/restrictedpython_code_eval',\n",
              " 'k4black/codebleu',\n",
              " 'Natooz/ece',\n",
              " 'ingyu/klue_mrc',\n",
              " 'Vipitis/shadermatch',\n",
              " 'unitxt/metric',\n",
              " 'gabeorlanski/bc_eval',\n",
              " 'jjkim0807/code_eval',\n",
              " 'vichyt/metric-codebleu',\n",
              " 'repllabs/mean_reciprocal_rank',\n",
              " 'repllabs/mean_average_precision',\n",
              " 'mtc/fragments',\n",
              " 'DarrenChensformer/eval_keyphrase',\n",
              " 'kedudzic/charmatch',\n",
              " 'Vallp/ter',\n",
              " 'DarrenChensformer/relation_extraction',\n",
              " 'Ikala-allen/relation_extraction',\n",
              " 'danieldux/hierarchical_softmax_loss',\n",
              " 'nlpln/tst',\n",
              " 'bdsaglam/jer',\n",
              " 'fnvls/bleu1234',\n",
              " 'fnvls/bleu_1234',\n",
              " 'nevikw39/specificity',\n",
              " 'yqsong/execution_accuracy',\n",
              " 'shalakasatheesh/squad_v2',\n",
              " 'ncoop57/levenshtein_distance',\n",
              " 'kaleidophon/almost_stochastic_order',\n",
              " 'lvwerra/element_count',\n",
              " 'prb977/cooccurrence_count',\n",
              " 'NimaBoscarino/pseudo_perplexity',\n",
              " 'ybelkada/toxicity',\n",
              " 'ronaldahmed/ccl_win',\n",
              " 'cakiki/tokens_per_byte',\n",
              " 'lsy641/distinct']"
            ]
          },
          "metadata": {},
          "execution_count": 17
        }
      ]
    },
    {
      "cell_type": "markdown",
      "source": [
        "Since our dataset is highly balanced, we will use accuracy as the evaluation metric. It can be loaded using `evaluate.load(\"accuracy\")`. After getting predictions from the model, the metric is computed using `metric.compute`."
      ],
      "metadata": {
        "id": "56L2AZe4eroE"
      }
    },
    {
      "cell_type": "code",
      "source": [
        "# Function to compute the metric\n",
        "def compute_metrics(eval_pred):\n",
        "    metric = evaluate.load(\"accuracy\")\n",
        "    logits, labels = eval_pred\n",
        "    # probabilities = tf.nn.softmax(logits)\n",
        "    predictions = np.argmax(logits, axis=1)\n",
        "    return metric.compute(predictions=predictions, references=labels)"
      ],
      "metadata": {
        "id": "Pljt8VLCNJFR"
      },
      "execution_count": 18,
      "outputs": []
    },
    {
      "cell_type": "markdown",
      "source": [
        "# Step 9: Train Model Using Transformer Trainer"
      ],
      "metadata": {
        "id": "m2Oxt0KtOqPY"
      }
    },
    {
      "cell_type": "markdown",
      "source": [
        "In step 9, we will train the model using the transformer `Trainer`.\n",
        "* model is the model for training, evaluation, or prediction by the `Trainer`.\n",
        "* `args` takes the arguments for tweaking the `Trainer`. It defaults to the instance of `TrainingArguments`.\n",
        "* `train_dataset` is the training dataset name. If the dataset is in `Dataset` format, the unused columns will be automatically ignored. In our training dataset, `__index_level_0__` and `review` are not used by the model, so they are ignored.\n",
        "* `eval_dataset` is the evaluation dataset name. Similar to the `train_dataset`, the unused columns will be automatically ignored for the `Dataset` format.\n",
        "* `compute_metrics` takes the function for calculating evaluation metrics.\n",
        "* `callbacks` takes a list of callbacks to customize the training loop. `EarlyStoppingCallback` stops the training by `early_stopping_patience` for the evaluation calls. There is no practical need to use early stopping because there are only two epochs for the model. It is included as an example code reference."
      ],
      "metadata": {
        "id": "3SXRUZ6I1Sq6"
      }
    },
    {
      "cell_type": "code",
      "source": [
        "# Train the model\n",
        "trainer = Trainer(\n",
        "    model=model,\n",
        "    args=training_args,\n",
        "    train_dataset=dataset_train,\n",
        "    eval_dataset=dataset_test,\n",
        "    compute_metrics=compute_metrics,\n",
        "    callbacks=[EarlyStoppingCallback(early_stopping_patience=1)]\n",
        ")\n",
        "\n",
        "trainer.train()"
      ],
      "metadata": {
        "colab": {
          "base_uri": "https://localhost:8080/",
          "height": 187,
          "referenced_widgets": [
            "f8ddd3505f5e41e3af6d8827a1c22e70",
            "bb6f013412624da7a3a3440c2f15db79",
            "31b7ec336c314980b3cb27ae4964cf99",
            "2362a2ce89ac484d9addb635c7375663",
            "33f3d86f3db449e79b71ad84df9921ff",
            "90677684fbf447a19204d941d3c404d0",
            "6b325e3b2b944313a699434243d9b0b0",
            "40b6acc2e14246d185e19944b854ce67",
            "295c4e9dca254df8a18f20fcfb493352",
            "ae9b2a2ca0884ecc936264249e95f780",
            "45760126a8ac4acea4d70a061ad28a8c"
          ]
        },
        "id": "3LHAlFU_6-IF",
        "outputId": "72a0695c-640a-43c4-df2f-9c765cea48ac"
      },
      "execution_count": 19,
      "outputs": [
        {
          "output_type": "display_data",
          "data": {
            "text/plain": [
              "<IPython.core.display.HTML object>"
            ],
            "text/html": [
              "\n",
              "    <div>\n",
              "      \n",
              "      <progress value='400' max='400' style='width:300px; height:20px; vertical-align: middle;'></progress>\n",
              "      [400/400 18:27, Epoch 2/2]\n",
              "    </div>\n",
              "    <table border=\"1\" class=\"dataframe\">\n",
              "  <thead>\n",
              " <tr style=\"text-align: left;\">\n",
              "      <th>Epoch</th>\n",
              "      <th>Training Loss</th>\n",
              "      <th>Validation Loss</th>\n",
              "      <th>Accuracy</th>\n",
              "    </tr>\n",
              "  </thead>\n",
              "  <tbody>\n",
              "    <tr>\n",
              "      <td>1</td>\n",
              "      <td>0.531000</td>\n",
              "      <td>0.338561</td>\n",
              "      <td>0.900000</td>\n",
              "    </tr>\n",
              "    <tr>\n",
              "      <td>2</td>\n",
              "      <td>0.293100</td>\n",
              "      <td>0.267122</td>\n",
              "      <td>0.920000</td>\n",
              "    </tr>\n",
              "  </tbody>\n",
              "</table><p>"
            ]
          },
          "metadata": {}
        },
        {
          "output_type": "display_data",
          "data": {
            "text/plain": [
              "Downloading builder script:   0%|          | 0.00/4.20k [00:00<?, ?B/s]"
            ],
            "application/vnd.jupyter.widget-view+json": {
              "version_major": 2,
              "version_minor": 0,
              "model_id": "f8ddd3505f5e41e3af6d8827a1c22e70"
            }
          },
          "metadata": {}
        },
        {
          "output_type": "execute_result",
          "data": {
            "text/plain": [
              "TrainOutput(global_step=400, training_loss=0.4120350456237793, metrics={'train_runtime': 1112.7888, 'train_samples_per_second': 1.438, 'train_steps_per_second': 0.359, 'total_flos': 26311105536000.0, 'train_loss': 0.4120350456237793, 'epoch': 2.0})"
            ]
          },
          "metadata": {},
          "execution_count": 19
        }
      ]
    },
    {
      "cell_type": "markdown",
      "source": [
        "We can see that the accuracy is above 90 percent in just 2 epochs."
      ],
      "metadata": {
        "id": "wz5H-O5Y80zK"
      }
    },
    {
      "cell_type": "markdown",
      "source": [
        "# Step 10: Make Predictions for Text Classification"
      ],
      "metadata": {
        "id": "QqiOoAD-yGKM"
      }
    },
    {
      "cell_type": "markdown",
      "source": [
        "In step 10, we will talk about how to make predictions using the Hugging Face transformer Trainer model.\n",
        "\n",
        "Passing the tokenized `Dataset` to the `.predict` method, we get the predictions for the customized transfer learning sentiment model. We can see that the prediction results contain multiple pieces of information.\n",
        "* `Num examples = 200` indicates that there are 200 reviews in the testing dataset.\n",
        "* `Batch size = 4` means that 4 reviews are processed each time.\n",
        "* Under `PredictionOutput`, `predictions` has the logits for each class. logit is the last layer of the neural network before softmax is applied. `label_ids` has the actual labels. Please note that it is not predicted labels although it is under the `PredictionOutput`. We need to calculate the predicted labels based on the logit values.\n",
        "* Under `metrics` there is information about the testing predictions.\n",
        " * `test_loss` is the loss for the testing dataset.  \n",
        " * `test_accuracy` is the percentage of correct predictions.\n",
        " * `test_runtime` is the runtime for testing.\n",
        " * `test_samples_per_second` is the number of samples the model can process in one second.\n",
        " * `test_steps_per_second` is the number of steps the model can process in one second.\n"
      ],
      "metadata": {
        "id": "vtXo_gGFgm3F"
      }
    },
    {
      "cell_type": "code",
      "source": [
        "# Predictions\n",
        "y_test_predict = trainer.predict(dataset_test)\n",
        "\n",
        "# Take a look at the predictions\n",
        "y_test_predict"
      ],
      "metadata": {
        "colab": {
          "base_uri": "https://localhost:8080/",
          "height": 1000
        },
        "id": "p1jk8PSQgbhS",
        "outputId": "129fc02f-6642-4fd0-d143-5e398fc1f9d7"
      },
      "execution_count": 20,
      "outputs": [
        {
          "output_type": "display_data",
          "data": {
            "text/plain": [
              "<IPython.core.display.HTML object>"
            ],
            "text/html": []
          },
          "metadata": {}
        },
        {
          "output_type": "execute_result",
          "data": {
            "text/plain": [
              "PredictionOutput(predictions=array([[-1.2181181 ,  0.8741193 ],\n",
              "       [-1.2847648 ,  0.89695257],\n",
              "       [-1.1469963 ,  0.81111443],\n",
              "       [ 1.2477386 , -1.268523  ],\n",
              "       [ 1.2793093 , -0.9857093 ],\n",
              "       [-1.240324  ,  0.7568879 ],\n",
              "       [ 1.0416975 , -1.3049996 ],\n",
              "       [ 1.2891693 , -1.171812  ],\n",
              "       [-1.1332675 ,  0.6771666 ],\n",
              "       [ 1.2044561 , -0.7652639 ],\n",
              "       [-1.2800889 ,  0.8389809 ],\n",
              "       [ 0.9613532 , -1.172572  ],\n",
              "       [-0.05496866, -0.14321895],\n",
              "       [-1.0417354 ,  0.78520596],\n",
              "       [-1.2330766 ,  0.79319334],\n",
              "       [ 1.2561158 , -1.2480934 ],\n",
              "       [ 1.2605801 , -1.2687209 ],\n",
              "       [-1.2657423 ,  0.8283247 ],\n",
              "       [-1.248706  ,  0.72408956],\n",
              "       [ 1.1384587 , -1.3180088 ],\n",
              "       [-1.1794536 ,  0.8413944 ],\n",
              "       [ 1.0572824 , -1.08979   ],\n",
              "       [-1.2220058 ,  0.74325264],\n",
              "       [ 0.8588098 , -1.2134602 ],\n",
              "       [-0.9407467 ,  0.6656878 ],\n",
              "       [-1.2259614 ,  0.8466114 ],\n",
              "       [ 1.2906325 , -1.204104  ],\n",
              "       [ 1.2371523 , -1.372766  ],\n",
              "       [-1.2573671 ,  0.7299455 ],\n",
              "       [ 0.8711647 , -1.1901662 ],\n",
              "       [-0.6243919 ,  0.37478998],\n",
              "       [ 1.2189881 , -0.7684169 ],\n",
              "       [-1.1889603 ,  0.776771  ],\n",
              "       [ 0.67611486, -0.95048386],\n",
              "       [ 0.8898747 , -1.2908616 ],\n",
              "       [-1.2228501 ,  0.88644475],\n",
              "       [ 1.193099  , -1.402672  ],\n",
              "       [ 0.7068891 , -1.0310707 ],\n",
              "       [-1.2199136 ,  0.77312446],\n",
              "       [ 1.0803735 , -1.2880988 ],\n",
              "       [-1.2392746 ,  0.81375474],\n",
              "       [-1.2879529 ,  0.81839883],\n",
              "       [-1.2341722 ,  0.87640536],\n",
              "       [-1.2236207 ,  0.8747505 ],\n",
              "       [-1.2480652 ,  0.77201754],\n",
              "       [-1.141706  ,  0.7319421 ],\n",
              "       [-0.98208225,  0.7393416 ],\n",
              "       [ 1.3118777 , -1.1298124 ],\n",
              "       [ 1.3208448 , -1.3202784 ],\n",
              "       [ 1.0171217 , -1.2083918 ],\n",
              "       [ 1.2690955 , -1.2759012 ],\n",
              "       [ 0.7704264 , -1.2023923 ],\n",
              "       [ 1.2220486 , -1.2486418 ],\n",
              "       [-1.2485971 ,  0.7528118 ],\n",
              "       [-1.2551975 ,  0.9063395 ],\n",
              "       [-1.2381232 ,  0.7565143 ],\n",
              "       [ 1.2555804 , -0.827201  ],\n",
              "       [-1.1410141 ,  0.79737824],\n",
              "       [ 1.1714671 , -1.3800993 ],\n",
              "       [ 1.2796534 , -1.0948656 ],\n",
              "       [-1.2320292 ,  0.6338067 ],\n",
              "       [-1.2456882 ,  0.78260076],\n",
              "       [-0.69199175,  0.38865876],\n",
              "       [ 1.1953171 , -1.1375146 ],\n",
              "       [-1.1332961 ,  0.7274332 ],\n",
              "       [ 0.9225925 , -1.1951842 ],\n",
              "       [ 1.1628962 , -1.3241837 ],\n",
              "       [-1.2289109 ,  0.75361556],\n",
              "       [-0.46091866,  0.2361248 ],\n",
              "       [ 1.2701765 , -0.9231105 ],\n",
              "       [-1.2329752 ,  0.76921445],\n",
              "       [-1.1601919 ,  0.72064906],\n",
              "       [ 0.919264  , -1.2806988 ],\n",
              "       [ 1.2544556 , -1.3477767 ],\n",
              "       [-1.1407781 ,  0.6805283 ],\n",
              "       [-1.2693825 ,  0.87724173],\n",
              "       [ 1.0617814 , -1.1616666 ],\n",
              "       [-1.2162824 ,  0.8538103 ],\n",
              "       [-1.174538  ,  0.8071583 ],\n",
              "       [-1.2058967 ,  0.8421875 ],\n",
              "       [ 1.2832094 , -1.0585358 ],\n",
              "       [ 0.34304607, -0.3082658 ],\n",
              "       [ 1.2618301 , -0.92199   ],\n",
              "       [ 1.2449067 , -1.1485467 ],\n",
              "       [ 0.9227645 , -1.2883148 ],\n",
              "       [ 1.3273294 , -1.0272967 ],\n",
              "       [ 1.1220895 , -1.3168381 ],\n",
              "       [-1.2299504 ,  0.84621114],\n",
              "       [ 1.0378305 , -1.2489315 ],\n",
              "       [ 0.918321  , -1.2364554 ],\n",
              "       [-0.21925524,  0.14065342],\n",
              "       [ 0.78966284, -1.0068729 ],\n",
              "       [ 1.2907364 , -1.1801414 ],\n",
              "       [ 0.25178626, -0.455469  ],\n",
              "       [-1.1897702 ,  0.8067288 ],\n",
              "       [ 1.3060697 , -1.2640554 ],\n",
              "       [-1.2423489 ,  0.7136332 ],\n",
              "       [ 1.3007274 , -1.1403468 ],\n",
              "       [-1.1958725 ,  0.6932243 ],\n",
              "       [-1.2164141 ,  0.8607249 ],\n",
              "       [ 1.2866105 , -1.0571408 ],\n",
              "       [ 0.677786  , -1.0405324 ],\n",
              "       [-1.222784  ,  0.7308164 ],\n",
              "       [-0.9267993 ,  0.6864277 ],\n",
              "       [-1.2364917 ,  0.748231  ],\n",
              "       [ 1.2816353 , -1.0748396 ],\n",
              "       [-1.2455049 ,  0.817667  ],\n",
              "       [-1.250243  ,  0.8323254 ],\n",
              "       [ 0.94857603, -1.2571383 ],\n",
              "       [-1.2545404 ,  0.8599452 ],\n",
              "       [-0.54518497,  0.11530834],\n",
              "       [-1.1949649 ,  0.8068873 ],\n",
              "       [ 1.2900767 , -1.1405234 ],\n",
              "       [ 0.9935236 , -1.2996709 ],\n",
              "       [-1.224483  ,  0.8536391 ],\n",
              "       [ 1.3009099 , -1.195266  ],\n",
              "       [ 1.2794297 , -0.92376596],\n",
              "       [ 1.282216  , -1.1984227 ],\n",
              "       [ 0.43452746, -0.5497226 ],\n",
              "       [-1.1975682 ,  0.8835305 ],\n",
              "       [ 0.6144288 , -0.7591754 ],\n",
              "       [ 0.874331  , -1.2536135 ],\n",
              "       [-1.2408025 ,  0.81593454],\n",
              "       [-0.18958989,  0.10540593],\n",
              "       [-1.2384832 ,  0.7277057 ],\n",
              "       [ 1.3201715 , -1.276319  ],\n",
              "       [ 1.3111627 , -1.2440004 ],\n",
              "       [-1.2532811 ,  0.73519695],\n",
              "       [-1.202095  ,  0.7619605 ],\n",
              "       [ 1.2472916 , -1.0578107 ],\n",
              "       [-1.2424695 ,  0.81309325],\n",
              "       [-1.2781711 ,  0.90304357],\n",
              "       [ 1.2550151 , -1.3462317 ],\n",
              "       [-0.5078363 ,  0.28833318],\n",
              "       [-1.2532227 ,  0.7332072 ],\n",
              "       [ 1.1888654 , -0.80426276],\n",
              "       [ 1.1767466 , -0.71334547],\n",
              "       [ 1.2451745 , -1.0919057 ],\n",
              "       [-0.8753071 ,  0.5927788 ],\n",
              "       [ 1.2736578 , -0.87291455],\n",
              "       [ 0.9751324 , -1.3220961 ],\n",
              "       [-1.1861956 ,  0.7031915 ],\n",
              "       [ 0.93672514, -1.16854   ],\n",
              "       [ 1.3047143 , -1.1132777 ],\n",
              "       [-1.2246523 ,  0.76533574],\n",
              "       [-0.2974081 ,  0.00167746],\n",
              "       [-1.2023926 ,  0.7865112 ],\n",
              "       [ 1.1378367 , -1.3008101 ],\n",
              "       [-0.32224798,  0.22718474],\n",
              "       [-1.1301608 ,  0.7385041 ],\n",
              "       [ 1.2500288 , -1.2421591 ],\n",
              "       [-1.1994969 ,  0.7604521 ],\n",
              "       [ 0.8461307 , -1.2505574 ],\n",
              "       [ 1.229311  , -0.92009544],\n",
              "       [ 1.106586  , -1.299339  ],\n",
              "       [-1.2026654 ,  0.8254792 ],\n",
              "       [-1.1636307 ,  0.65596825],\n",
              "       [ 1.0043588 , -1.308125  ],\n",
              "       [ 1.3172798 , -0.9536122 ],\n",
              "       [-1.2391636 ,  0.8018893 ],\n",
              "       [-1.0628657 ,  0.85024667],\n",
              "       [ 1.2838349 , -1.2262802 ],\n",
              "       [ 1.3098319 , -0.93172693],\n",
              "       [-0.21113047,  0.02239839],\n",
              "       [-1.2393807 ,  0.81205773],\n",
              "       [-1.2274842 ,  0.71327657],\n",
              "       [-1.2296762 ,  0.7169415 ],\n",
              "       [ 0.8660361 , -1.281864  ],\n",
              "       [ 0.02479761,  0.04033946],\n",
              "       [ 1.2300534 , -0.97396505],\n",
              "       [ 0.7953437 , -1.2225575 ],\n",
              "       [-1.2532587 ,  0.8277446 ],\n",
              "       [ 1.1632202 , -1.3128328 ],\n",
              "       [ 1.2926347 , -1.2550936 ],\n",
              "       [ 1.3378394 , -1.2500343 ],\n",
              "       [ 1.2427974 , -0.8682947 ],\n",
              "       [ 1.2271333 , -1.2933856 ],\n",
              "       [ 0.7797795 , -1.1812012 ],\n",
              "       [ 1.0155272 , -1.3321664 ],\n",
              "       [-1.1321763 ,  0.68798316],\n",
              "       [ 0.49247915, -0.7071314 ],\n",
              "       [-1.2326758 ,  0.7165994 ],\n",
              "       [-1.2740083 ,  0.85909885],\n",
              "       [ 1.2772912 , -1.2659928 ],\n",
              "       [ 1.3248239 , -1.2853088 ],\n",
              "       [ 1.0770617 , -1.3452268 ],\n",
              "       [ 1.2878529 , -1.3882682 ],\n",
              "       [ 0.79800725, -1.0875279 ],\n",
              "       [ 1.3155435 , -1.2924707 ],\n",
              "       [ 0.89453846, -1.1418408 ],\n",
              "       [-1.2374256 ,  0.81275237],\n",
              "       [ 1.2226677 , -0.76369405],\n",
              "       [ 1.0787284 , -1.3638582 ],\n",
              "       [-1.2465367 ,  0.887584  ],\n",
              "       [-0.9817859 ,  0.5306647 ],\n",
              "       [ 0.89874107, -1.2109742 ],\n",
              "       [ 1.1971886 , -1.3567135 ],\n",
              "       [ 0.82621163, -1.0480824 ],\n",
              "       [ 1.2838799 , -1.3405366 ],\n",
              "       [ 1.3236427 , -1.0919173 ]], dtype=float32), label_ids=array([1, 1, 1, 0, 0, 1, 0, 0, 1, 0, 1, 0, 1, 1, 1, 0, 0, 1, 1, 0, 1, 1,\n",
              "       1, 0, 1, 1, 0, 0, 1, 1, 0, 0, 1, 1, 0, 1, 0, 1, 1, 0, 1, 1, 1, 1,\n",
              "       1, 1, 1, 0, 0, 0, 0, 0, 0, 1, 1, 1, 0, 1, 0, 0, 1, 0, 1, 0, 1, 0,\n",
              "       0, 1, 1, 0, 1, 1, 0, 0, 1, 1, 0, 1, 1, 1, 0, 0, 0, 0, 0, 0, 0, 1,\n",
              "       0, 0, 1, 0, 0, 1, 1, 0, 1, 0, 1, 1, 0, 0, 1, 1, 1, 0, 1, 1, 0, 1,\n",
              "       0, 1, 0, 0, 1, 0, 0, 0, 0, 1, 1, 0, 1, 1, 1, 0, 0, 1, 1, 0, 1, 1,\n",
              "       0, 0, 1, 0, 0, 1, 1, 0, 1, 1, 0, 1, 1, 1, 1, 0, 1, 1, 0, 1, 0, 0,\n",
              "       0, 1, 1, 0, 0, 1, 1, 0, 0, 1, 0, 1, 1, 0, 1, 0, 0, 1, 0, 0, 0, 0,\n",
              "       0, 0, 0, 1, 0, 1, 1, 0, 0, 0, 0, 0, 0, 0, 1, 0, 0, 1, 1, 1, 0, 0,\n",
              "       0, 0]), metrics={'test_loss': 0.26712167263031006, 'test_accuracy': 0.92, 'test_runtime': 36.6072, 'test_samples_per_second': 5.463, 'test_steps_per_second': 1.366})"
            ]
          },
          "metadata": {},
          "execution_count": 20
        }
      ]
    },
    {
      "cell_type": "markdown",
      "source": [
        "The predicted logits for the transfer learning text classification model can be extracted using `.predictions`."
      ],
      "metadata": {
        "id": "d9y3EfeO-8yN"
      }
    },
    {
      "cell_type": "markdown",
      "source": [
        "We can see that the prediction has two columns. The first column is the predicted logit for label 0 and the second column is the predicted logit for label 1. logit values do not sum up to 1."
      ],
      "metadata": {
        "id": "VmcAlpnl_hJF"
      }
    },
    {
      "cell_type": "code",
      "source": [
        "# Predicted logits\n",
        "y_test_logits = y_test_predict.predictions\n",
        "\n",
        "# First 5 predicted probabilities\n",
        "y_test_logits[:5]"
      ],
      "metadata": {
        "colab": {
          "base_uri": "https://localhost:8080/"
        },
        "id": "N_HSPkZAminc",
        "outputId": "4b324ddf-4cc6-45fe-a855-5632cf14822a"
      },
      "execution_count": null,
      "outputs": [
        {
          "output_type": "execute_result",
          "data": {
            "text/plain": [
              "array([[-1.6814244 ,  1.7357779 ],\n",
              "       [-1.6375449 ,  1.728564  ],\n",
              "       [-1.6073432 ,  1.5392544 ],\n",
              "       [ 0.61753124, -0.5985209 ],\n",
              "       [ 0.7399963 , -0.51081836]], dtype=float32)"
            ]
          },
          "metadata": {},
          "execution_count": 22
        }
      ]
    },
    {
      "cell_type": "markdown",
      "source": [
        "To get the predicted probabilities, we need to apply softmax on the predicted logit values."
      ],
      "metadata": {
        "id": "Ge6rXFhY_kGc"
      }
    },
    {
      "cell_type": "markdown",
      "source": [
        "After applying softmax, we can see that the predicted probability for each review sums up to 1."
      ],
      "metadata": {
        "id": "BU5JrMyZ_0GY"
      }
    },
    {
      "cell_type": "code",
      "source": [
        "# Predicted probabilities\n",
        "y_test_probabilities = tf.nn.softmax(y_test_logits)\n",
        "\n",
        "# First 5 predicted logits\n",
        "y_test_probabilities[:5]"
      ],
      "metadata": {
        "colab": {
          "base_uri": "https://localhost:8080/"
        },
        "id": "ow4uX4Jv_srX",
        "outputId": "9af55d00-dc7f-4561-eb5d-2fc4bb56acb0"
      },
      "execution_count": null,
      "outputs": [
        {
          "output_type": "execute_result",
          "data": {
            "text/plain": [
              "<tf.Tensor: shape=(5, 2), dtype=float32, numpy=\n",
              "array([[0.03176216, 0.96823776],\n",
              "       [0.0333716 , 0.9666284 ],\n",
              "       [0.04122555, 0.9587744 ],\n",
              "       [0.771368  , 0.22863196],\n",
              "       [0.77744085, 0.22255914]], dtype=float32)>"
            ]
          },
          "metadata": {},
          "execution_count": 23
        }
      ]
    },
    {
      "cell_type": "markdown",
      "source": [
        "To get the predicted labels, `argmax` is used to return the index of the maximum probability for each review, which corresponds to the labels of zeros and ones."
      ],
      "metadata": {
        "id": "FyFbba9R_7ko"
      }
    },
    {
      "cell_type": "code",
      "source": [
        "# Predicted labels\n",
        "y_test_pred_labels = np.argmax(y_test_probabilities, axis=1)\n",
        "\n",
        "# First 5 predicted probabilities\n",
        "y_test_pred_labels[:5]"
      ],
      "metadata": {
        "colab": {
          "base_uri": "https://localhost:8080/"
        },
        "id": "1I0mQBmO4drn",
        "outputId": "39084515-0fa6-44da-c850-1085df2fc16a"
      },
      "execution_count": null,
      "outputs": [
        {
          "output_type": "execute_result",
          "data": {
            "text/plain": [
              "array([1, 1, 1, 0, 0])"
            ]
          },
          "metadata": {},
          "execution_count": 24
        }
      ]
    },
    {
      "cell_type": "markdown",
      "source": [
        "The actual labels can be extracted using `y_test_predict.label_ids`."
      ],
      "metadata": {
        "id": "oBkMRVTx_-pT"
      }
    },
    {
      "cell_type": "code",
      "source": [
        "# Actual labels\n",
        "y_test_actual_labels = y_test_predict.label_ids\n",
        "\n",
        "# First 5 predicted probabilities\n",
        "y_test_actual_labels[:5]"
      ],
      "metadata": {
        "colab": {
          "base_uri": "https://localhost:8080/"
        },
        "id": "bOdI273Xmt9_",
        "outputId": "e5f02f9e-8ba6-471e-fd18-f08540d36a24"
      },
      "execution_count": null,
      "outputs": [
        {
          "output_type": "execute_result",
          "data": {
            "text/plain": [
              "array([1, 1, 1, 0, 0])"
            ]
          },
          "metadata": {},
          "execution_count": 25
        }
      ]
    },
    {
      "cell_type": "markdown",
      "source": [
        "# Step 11: Model Performance Evaluation"
      ],
      "metadata": {
        "id": "lBhVxzzNqn13"
      }
    },
    {
      "cell_type": "markdown",
      "source": [
        "In step 11, we will make the transfer learning text classification model performance evaluation.\n",
        "\n",
        "`trainer.evaluate` is a quick way to get the loss and the accuracy of the testing dataset."
      ],
      "metadata": {
        "id": "L4jmMaJbAK7K"
      }
    },
    {
      "cell_type": "markdown",
      "source": [
        "We can see that the model has a loss of 0.28 and an accuracy of 91.5%."
      ],
      "metadata": {
        "id": "2gj7Sr1lCD3T"
      }
    },
    {
      "cell_type": "code",
      "source": [
        "# Trainer evaluate\n",
        "trainer.evaluate(dataset_test)"
      ],
      "metadata": {
        "colab": {
          "base_uri": "https://localhost:8080/",
          "height": 236
        },
        "id": "0S8AKdc2Bm0Q",
        "outputId": "d7d388fb-9f73-449a-c527-a5b4de7cec88"
      },
      "execution_count": null,
      "outputs": [
        {
          "output_type": "stream",
          "name": "stderr",
          "text": [
            "The following columns in the evaluation set don't have a corresponding argument in `BertForSequenceClassification.forward` and have been ignored: __index_level_0__, review. If __index_level_0__, review are not expected by `BertForSequenceClassification.forward`,  you can safely ignore this message.\n",
            "***** Running Evaluation *****\n",
            "  Num examples = 200\n",
            "  Batch size = 4\n"
          ]
        },
        {
          "output_type": "display_data",
          "data": {
            "text/plain": [
              "<IPython.core.display.HTML object>"
            ],
            "text/html": [
              "\n",
              "    <div>\n",
              "      \n",
              "      <progress value='50' max='50' style='width:300px; height:20px; vertical-align: middle;'></progress>\n",
              "      [50/50 00:21]\n",
              "    </div>\n",
              "    "
            ]
          },
          "metadata": {}
        },
        {
          "output_type": "execute_result",
          "data": {
            "text/plain": [
              "{'eval_loss': 0.28478118777275085,\n",
              " 'eval_accuracy': 0.915,\n",
              " 'eval_runtime': 23.3302,\n",
              " 'eval_samples_per_second': 8.573,\n",
              " 'eval_steps_per_second': 2.143,\n",
              " 'epoch': 2.0}"
            ]
          },
          "metadata": {},
          "execution_count": 26
        }
      ]
    },
    {
      "cell_type": "markdown",
      "source": [
        "To calculate more model performance metrics, we can use `evaluate.load` to load the metrics of interest."
      ],
      "metadata": {
        "id": "__cIM_jjCT3x"
      }
    },
    {
      "cell_type": "markdown",
      "source": [
        "The results show that the testing dataset has a `f1` value of 0.91 and a `recall` value of 0.89."
      ],
      "metadata": {
        "id": "M-X-JB4Qlcbs"
      }
    },
    {
      "cell_type": "code",
      "source": [
        "# Load f1 metric\n",
        "metric_f1 = evaluate.load(\"f1\")\n",
        "\n",
        "# Compute f1 metric\n",
        "metric_f1.compute(predictions=y_test_pred_labels, references=y_test_actual_labels)"
      ],
      "metadata": {
        "colab": {
          "base_uri": "https://localhost:8080/",
          "height": 67,
          "referenced_widgets": [
            "953726f15c7d4f2ab88ee4873cb52ba5",
            "04922e33b4af409d868062828c984875",
            "a2b134e9425b4929906926e010f8da36",
            "1b52568617844f6f86cda7f8c4c7b550",
            "41e34e91aa1f4f5d9dad352a9d933edb",
            "8a7852d2062948738f6787942cdf927d",
            "4c0c5bd7a9d04eec8dd3ee1add53aa2b",
            "e313002f7d694984a704ce1cdbf2bc4e",
            "0e18d0d72bb841ba84463115614158ac",
            "7ad1f3547acb4834bc93e6fc5dc4ab1b",
            "86f218d5b73f4cf985e875212a72a2cf"
          ]
        },
        "id": "VaeNxx0l4rpk",
        "outputId": "24d6e0b9-c6e0-4580-ca1f-a3f1971e9b09"
      },
      "execution_count": null,
      "outputs": [
        {
          "output_type": "display_data",
          "data": {
            "text/plain": [
              "Downloading builder script:   0%|          | 0.00/6.77k [00:00<?, ?B/s]"
            ],
            "application/vnd.jupyter.widget-view+json": {
              "version_major": 2,
              "version_minor": 0,
              "model_id": "953726f15c7d4f2ab88ee4873cb52ba5"
            }
          },
          "metadata": {}
        },
        {
          "output_type": "execute_result",
          "data": {
            "text/plain": [
              "{'f1': 0.9109947643979057}"
            ]
          },
          "metadata": {},
          "execution_count": 27
        }
      ]
    },
    {
      "cell_type": "code",
      "source": [
        "# Load recall metric\n",
        "metric_recall = evaluate.load(\"recall\")\n",
        "\n",
        "# Compute recall metric\n",
        "metric_recall.compute(predictions=y_test_pred_labels, references=y_test_actual_labels)"
      ],
      "metadata": {
        "colab": {
          "base_uri": "https://localhost:8080/",
          "height": 67,
          "referenced_widgets": [
            "5f1fb97e83454bb486f06ac3f7db6c88",
            "d5d3098cfb5b4f01822adfc41d07601c",
            "28e4f4576d8348fd92846060f1227fc3",
            "b4cb374717854a73a89cb3c4116dee71",
            "dc9b2eda24bc4587bca075d78fe6c643",
            "409c36f8e06b4f5887cadc21cc56a522",
            "fc1aa380c15840eca647d82a19a57120",
            "029ad69de8b24430a3e490b3f116e9e3",
            "9488dec93e494582821ee6fb822499db",
            "d98965efb46e4156bca0d975f68d74bf",
            "60078afb49694287b68500e3350dc913"
          ]
        },
        "id": "x_jMEh-wrn00",
        "outputId": "a41ec382-1709-4d13-a5e1-048dd7b35e2a"
      },
      "execution_count": null,
      "outputs": [
        {
          "output_type": "display_data",
          "data": {
            "text/plain": [
              "Downloading builder script:   0%|          | 0.00/7.36k [00:00<?, ?B/s]"
            ],
            "application/vnd.jupyter.widget-view+json": {
              "version_major": 2,
              "version_minor": 0,
              "model_id": "5f1fb97e83454bb486f06ac3f7db6c88"
            }
          },
          "metadata": {}
        },
        {
          "output_type": "execute_result",
          "data": {
            "text/plain": [
              "{'recall': 0.8877551020408163}"
            ]
          },
          "metadata": {},
          "execution_count": 28
        }
      ]
    },
    {
      "cell_type": "markdown",
      "source": [
        "# Step 12: Save and Load Model"
      ],
      "metadata": {
        "id": "33BZbt5FwTL0"
      }
    },
    {
      "cell_type": "markdown",
      "source": [
        "In step 12, we will talk about how to save the model and reload it for prediction.\n",
        "\n",
        "`tokenizer.save_pretrained` saves the tokenizer information to the drive and `model.save_model` saves the model to the drive."
      ],
      "metadata": {
        "id": "xI54T7SWSEKv"
      }
    },
    {
      "cell_type": "code",
      "source": [
        "# Save tokenizer\n",
        "tokenizer.save_pretrained('./sentiment_transfer_learning_transformer/')\n",
        "\n",
        "# Save model\n",
        "trainer.save_model('./sentiment_transfer_learning_transformer/')"
      ],
      "metadata": {
        "colab": {
          "base_uri": "https://localhost:8080/"
        },
        "id": "phvsc3K47X-c",
        "outputId": "8bae5294-f7dc-4a9c-f02b-585d523b1285"
      },
      "execution_count": null,
      "outputs": [
        {
          "output_type": "stream",
          "name": "stderr",
          "text": [
            "tokenizer config file saved in ./sentiment_transfer_learning_transformer/tokenizer_config.json\n",
            "Special tokens file saved in ./sentiment_transfer_learning_transformer/special_tokens_map.json\n",
            "Saving model checkpoint to ./sentiment_transfer_learning_transformer/\n",
            "Configuration saved in ./sentiment_transfer_learning_transformer/config.json\n",
            "Model weights saved in ./sentiment_transfer_learning_transformer/pytorch_model.bin\n"
          ]
        }
      ]
    },
    {
      "cell_type": "markdown",
      "source": [
        "We can load the saved tokenizer later using `AutoTokenizer.from_pretrained()` and load the saved model using `AutoModelForSequenceClassification.from_pretrained()`."
      ],
      "metadata": {
        "id": "qH2KqgCXSxcc"
      }
    },
    {
      "cell_type": "code",
      "source": [
        "# Load tokenizer\n",
        "tokenizer = AutoTokenizer.from_pretrained(\"./sentiment_transfer_learning_transformer/\")\n",
        "\n",
        "# Load model\n",
        "loaded_model = AutoModelForSequenceClassification.from_pretrained('./sentiment_transfer_learning_transformer/')"
      ],
      "metadata": {
        "id": "rTSztSdeYwnP",
        "colab": {
          "base_uri": "https://localhost:8080/"
        },
        "outputId": "67a93466-4c00-494e-964b-4da9903bf110"
      },
      "execution_count": null,
      "outputs": [
        {
          "output_type": "stream",
          "name": "stderr",
          "text": [
            "loading file vocab.txt\n",
            "loading file tokenizer.json\n",
            "loading file added_tokens.json\n",
            "loading file special_tokens_map.json\n",
            "loading file tokenizer_config.json\n",
            "loading configuration file ./sentiment_transfer_learning_transformer/config.json\n",
            "Model config BertConfig {\n",
            "  \"_name_or_path\": \"./sentiment_transfer_learning_transformer/\",\n",
            "  \"architectures\": [\n",
            "    \"BertForSequenceClassification\"\n",
            "  ],\n",
            "  \"attention_probs_dropout_prob\": 0.1,\n",
            "  \"classifier_dropout\": null,\n",
            "  \"gradient_checkpointing\": false,\n",
            "  \"hidden_act\": \"gelu\",\n",
            "  \"hidden_dropout_prob\": 0.1,\n",
            "  \"hidden_size\": 768,\n",
            "  \"initializer_range\": 0.02,\n",
            "  \"intermediate_size\": 3072,\n",
            "  \"layer_norm_eps\": 1e-12,\n",
            "  \"max_position_embeddings\": 512,\n",
            "  \"model_type\": \"bert\",\n",
            "  \"num_attention_heads\": 12,\n",
            "  \"num_hidden_layers\": 12,\n",
            "  \"pad_token_id\": 0,\n",
            "  \"position_embedding_type\": \"absolute\",\n",
            "  \"problem_type\": \"single_label_classification\",\n",
            "  \"torch_dtype\": \"float32\",\n",
            "  \"transformers_version\": \"4.25.1\",\n",
            "  \"type_vocab_size\": 2,\n",
            "  \"use_cache\": true,\n",
            "  \"vocab_size\": 28996\n",
            "}\n",
            "\n",
            "loading weights file ./sentiment_transfer_learning_transformer/pytorch_model.bin\n",
            "All model checkpoint weights were used when initializing BertForSequenceClassification.\n",
            "\n",
            "All the weights of BertForSequenceClassification were initialized from the model checkpoint at ./sentiment_transfer_learning_transformer/.\n",
            "If your task is similar to the task the model of the checkpoint was trained on, you can already use BertForSequenceClassification for predictions without further training.\n"
          ]
        }
      ]
    },
    {
      "cell_type": "markdown",
      "source": [
        "# Recommended Tutorials"
      ],
      "metadata": {
        "id": "1HldlrrRzHL7"
      }
    },
    {
      "cell_type": "markdown",
      "source": [
        "- [GrabNGoInfo Machine Learning Tutorials Inventory](https://medium.com/grabngoinfo/grabngoinfo-machine-learning-tutorials-inventory-9b9d78ebdd67)\n",
        "- [Customized Sentiment Analysis: Transfer Learning Using Tensorflow with Hugging Face](https://medium.com/grabngoinfo/customized-sentiment-analysis-transfer-learning-using-tensorflow-with-hugging-face-1b439eedf167)\n",
        "- [Sentiment Analysis: Hugging Face Zero-shot Model vs Flair Pre-trained Model](https://medium.com/@AmyGrabNGoInfo/sentiment-analysis-hugging-face-zero-shot-model-vs-flair-pre-trained-model-57047452225d)\n",
        "- [Zero-shot Topic Modeling with Deep Learning Using Python](https://medium.com/@AmyGrabNGoInfo/zero-shot-topic-modeling-with-deep-learning-using-python-a895d2d0c773)\n",
        "- [Topic Modeling with Deep Learning Using Python BERTopic](https://medium.com/p/topic-modeling-with-deep-learning-using-python-bertopic-cf91f5676504)\n",
        "- [Google Colab Tutorial for Beginners](https://medium.com/towards-artificial-intelligence/google-colab-tutorial-for-beginners-834595494d44)\n",
        "- [TextBlob vs. VADER for Sentiment Analysis Using Python](https://medium.com/towards-artificial-intelligence/textblob-vs-vader-for-sentiment-analysis-using-python-76883d40f9ae)\n",
        "- [Five Ways To Create Tables In Databricks](https://medium.com/grabngoinfo/five-ways-to-create-tables-in-databricks-cd3847cfc3aa)\n",
        "- [Time Series Anomaly Detection Using Prophet in Python](https://medium.com/grabngoinfo/time-series-anomaly-detection-using-prophet-in-python-877d2b7b14b4)\n",
        "- [Multivariate Time Series Forecasting with Seasonality and Holiday Effect Using Prophet in Python](https://medium.com/p/multivariate-time-series-forecasting-with-seasonality-and-holiday-effect-using-prophet-in-python-d5d4150eeb57)\n",
        "- [Time Series Causal Impact Analysis in Python](https://medium.com/grabngoinfo/time-series-causal-impact-analysis-in-python-63eacb1df5cc)\n",
        "- [3 Ways for Multiple Time Series Forecasting Using Prophet in Python](https://medium.com/p/3-ways-for-multiple-time-series-forecasting-using-prophet-in-python-7a0709a117f9)\n",
        "- [Hierarchical Topic Model for Airbnb Reviews](https://medium.com/p/hierarchical-topic-model-for-airbnb-reviews-f772eaa30434)\n",
        "- [Hyperparameter Tuning For XGBoost](https://medium.com/p/hyperparameter-tuning-for-xgboost-91449869c57e)\n",
        "- [Four Oversampling And Under-Sampling Methods For Imbalanced Classification Using Python](https://medium.com/p/four-oversampling-and-under-sampling-methods-for-imbalanced-classification-using-python-7304aedf9037)\n",
        "- [Explainable S-Learner Uplift Model Using Python Package CausalML](https://medium.com/grabngoinfo/explainable-s-learner-uplift-model-using-python-package-causalml-a3c2bed3497c)\n",
        "- [One-Class SVM For Anomaly Detection](https://medium.com/p/one-class-svm-for-anomaly-detection-6c97fdd6d8af)\n",
        "- [Recommendation System: Item-Based Collaborative Filtering](https://medium.com/grabngoinfo/recommendation-system-item-based-collaborative-filtering-f5078504996a)\n",
        "- [Hyperparameter Tuning for Time Series Causal Impact Analysis in Python](https://medium.com/grabngoinfo/hyperparameter-tuning-for-time-series-causal-impact-analysis-in-python-c8f7246c4d22)\n",
        "- [Hyperparameter Tuning and Regularization for Time Series Model Using Prophet in Python](https://medium.com/grabngoinfo/hyperparameter-tuning-and-regularization-for-time-series-model-using-prophet-in-python-9791370a07dc)\n",
        "- [LASSO (L1) Vs Ridge (L2) Vs Elastic Net Regularization For Classification Model](https://medium.com/towards-artificial-intelligence/lasso-l1-vs-ridge-l2-vs-elastic-net-regularization-for-classification-model-409c3d86f6e9)\n",
        "- [S Learner Uplift Model for Individual Treatment Effect and Customer Segmentation in Python](https://medium.com/grabngoinfo/s-learner-uplift-model-for-individual-treatment-effect-and-customer-segmentation-in-python-9d410746e122)\n",
        "- [How to Use R with Google Colab Notebook](https://medium.com/p/how-to-use-r-with-google-colab-notebook-610c3a2f0eab)"
      ],
      "metadata": {
        "id": "6izEwbkjzOzU"
      }
    },
    {
      "cell_type": "markdown",
      "source": [
        "# References"
      ],
      "metadata": {
        "id": "Tlaxpewffvtc"
      }
    },
    {
      "cell_type": "markdown",
      "source": [
        "* [Hugging Face documentation on fine-tuning a pretrained model](https://huggingface.co/docs/transformers/training)\n",
        "* [Hugging Face notebook on fine-tuning a pretrained model](https://github.com/huggingface/notebooks/blob/main/transformers_doc/en/training.ipynb)\n",
        "* [Hugging Face documentation on tokenizer](https://huggingface.co/transformers/v3.5.1/main_classes/tokenizer.html)\n",
        "* [Deeplearning.AI transfer learning video from Andrew Ng](https://www.youtube.com/watch?v=yofjFQddwHE)\n",
        "* [Hugging Face TensorFlow predictions and metrics video](https://youtu.be/nx10eh4CoOs)\n",
        "* [Hugging Face documentation on prepare_tf_dataset()](https://github.com/huggingface/notebooks/blob/main/transformers_doc/en/training.ipynb)\n",
        "* [Hugging Face documentation on transformers.Trainer](https://huggingface.co/docs/transformers/main/en/main_classes/trainer#transformers.Trainer)\n",
        "* [Hugging Face documentation on Datasets](https://huggingface.co/docs/datasets/v1.7.0/index.html#:~:text=Datasets%20and%20evaluation%20metrics%20for,Natural%20Language%20Processing%20(NLP).)"
      ],
      "metadata": {
        "id": "9_hOgTMtfyl0"
      }
    }
  ]
}