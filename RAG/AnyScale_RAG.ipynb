{
 "cells": [
  {
   "cell_type": "markdown",
   "id": "154b2d0e-f7ce-453b-b3b7-eda0666a9795",
   "metadata": {},
   "source": [
    "# Building RAG-based LLM Applications for Production"
   ]
  },
  {
   "cell_type": "markdown",
   "id": "de569042-32c7-4bea-a1ef-f0e41e260645",
   "metadata": {},
   "source": [
    "- **Blog post**: https://www.anyscale.com/blog/a-comprehensive-guide-for-building-rag-based-llm-applications-part-1\n",
    "- **GitHub repository**: https://github.com/ray-project/llm-applications\n",
    "- **Anyscale Endpoints**: https://endpoints.anyscale.com/ (serve + fine-tune LLMs)\n",
    "- **Ray documentation**: https://docs.ray.io/"
   ]
  },
  {
   "cell_type": "markdown",
   "id": "68a962bf-4bb5-47ff-a667-89d493b1eeed",
   "metadata": {
    "tags": []
   },
   "source": [
    "In this guide, we will learn how to:\n",
    "\n",
    "- 💻 Develop a retrieval augmented generation (RAG) based LLM application from scratch.\n",
    "- 🚀 Scale the major workloads (load, chunk, embed, index, serve, etc.) across multiple workers with different compute resources.\n",
    "- ✅ Evaluate different configurations of our application to optimize for both per-component (ex. retrieval_score) and overall performance (quality_score).\n",
    "- 🔀 Implement a hybrid agent routing approach b/w OSS and closed LLMs to create the most performant and cost effective application.\n",
    "- 📦 Serve the application in a highly scalable and available manner.\n",
    "- 💡 Learn how methods like fine-tuning, prompt engineering, lexical search, reranking, data flywheel, etc. impact our application's performance."
   ]
  },
  {
   "cell_type": "markdown",
   "id": "b6b842ed-9c65-488f-a5b3-fcbced58c2c5",
   "metadata": {},
   "source": [
    "# Overview"
   ]
  },
  {
   "cell_type": "markdown",
   "id": "c09a1b69-8386-4043-846a-86b5396090af",
   "metadata": {},
   "source": [
    "Large language models (LLMs) have undoubtedly changed the way we interact with information. However, they come with their fair share of limitations as to what we can ask of them. Base LLMs (ex. Llama-2-70b, gpt-4, etc.) are only aware of the information that they've been trained on and will fall short when we require them to know information beyond that. Retrieval augmented generation (RAG) based LLM applications address this exact issue and extend the utility of LLMs and their generative reasoning abilities to our unique datasets. \n",
    "\n",
    "In this guide, we're going to build a RAG-based LLM application where we will incorporate external data sources to augment our LLM’s capabilities. Specifically, we will be building an assistant that can answer questions about [Ray](https://github.com/ray-project/ray) — a Python framework for productionizing and scaling ML workloads. The goal here is to make it easier for developers to adopt Ray, but also, as we'll see in this guide, to help improve our Ray documentation itself and provide a foundation for other LLM applications. We’ll also share challenges we faced along the way and how we overcame them.\n",
    "\n",
    "**Note**: We have generalized this entire guide so that it can easily be extended to build RAG-based LLM applications on top of your own data.\n",
    "\n",
    "<img width=\"500\" src=\"https://images.ctfassets.net/xjan103pcp94/4PX0l1ruKqfH17YvUiMFPw/c60a7a665125cb8056bebcc146c23b76/image8.png\">"
   ]
  },
  {
   "cell_type": "markdown",
   "id": "dc5bc988-231a-4aa4-8d9d-2192488e1724",
   "metadata": {},
   "source": [
    "Besides just building our LLM application, we’re also going to be focused on scaling and serving it in production. Unlike traditional machine learning, or even supervised deep learning, scale is a bottleneck for LLM applications from the very beginning. Large datasets, models, compute intensive workloads, serving requirements, etc. We’ll develop our application to be able to handle any scale as the world around us continues to grow. We’re also going to be focused on evaluation and performance. Our application involves many moving pieces: embedding models, chunking logic, the LLM itself, etc. and so it's important that we experiment with different configurations to optimize for the best quality responses. However, it's non-trivial to evaluate and quantitatively compare different configurations for a generative task. We’re going to break down evaluation of individual parts of our application (retrieval given query, generation given source), also assess the overall performance (end-to-end generation) and share findings towards an optimized configuration.\n",
    "\n",
    "**Note**: We'll be experimenting with different LLMs (OpenAI, Llama, etc.) in this guide. You will need [OpenAI credentials](https://platform.openai.com/account/api-keys) to access [ChatGPT models](https://platform.openai.com/docs/models/) and [Anyscale Endpoints](https://endpoints.anyscale.com/) (hosted/private endpoints available) to serve + fine-tune OSS LLMs."
   ]
  },
  {
   "cell_type": "markdown",
   "id": "35af14d4-478a-418b-a738-b17012188779",
   "metadata": {},
   "source": [
    "# Set up"
   ]
  },
  {
   "cell_type": "markdown",
   "id": "dde6f87c-c5c2-4374-b256-f6d17205d402",
   "metadata": {},
   "source": [
    "We're going to start by setting up our base imports, directories and initializing Ray with credentials. We'll be using [Ray](https://docs.ray.io/) to easily scale our workloads with minimal changes to our code."
   ]
  },
  {
   "cell_type": "code",
   "execution_count": null,
   "id": "b08502d8-e9a9-4a50-acd9-76f77b18ada6",
   "metadata": {
    "tags": []
   },
   "outputs": [],
   "source": [
    "import os\n",
    "import ray"
   ]
  },
  {
   "cell_type": "code",
   "execution_count": null,
   "id": "633996c3-45b4-4ac6-961d-56b0df9156c0",
   "metadata": {
    "tags": []
   },
   "outputs": [],
   "source": [
    "import sys; sys.path.append(\"..\")\n",
    "import warnings; warnings.filterwarnings(\"ignore\")\n",
    "from dotenv import load_dotenv; load_dotenv()\n",
    "%load_ext autoreload\n",
    "%autoreload 2"
   ]
  },
  {
   "cell_type": "code",
   "execution_count": null,
   "id": "591d064d-e843-4b5a-bb89-0fcfb16a5045",
   "metadata": {
    "tags": []
   },
   "outputs": [],
   "source": [
    "from rag.config import ROOT_DIR"
   ]
  },
  {
   "cell_type": "code",
   "execution_count": null,
   "id": "8f36dc38-f797-4db9-9979-2450764679aa",
   "metadata": {
    "tags": []
   },
   "outputs": [
    {
     "name": "stderr",
     "output_type": "stream",
     "text": [
      "2023-12-16 09:58:56,942\tINFO worker.py:1458 -- Connecting to existing Ray cluster at address: 10.0.12.127:6379...\n",
      "2023-12-16 09:58:56,981\tINFO worker.py:1633 -- Connected to Ray cluster. View the dashboard at \u001b[1m\u001b[32mhttps://session-5ljni527x7edt2q6px7nuaejct.i.anyscaleuserdata-staging.com \u001b[39m\u001b[22m\n",
      "2023-12-16 09:58:57,086\tINFO packaging.py:518 -- Creating a file package for local directory '/home/ray/ray-assistant/notebooks/..'.\n",
      "2023-12-16 09:58:57,245\tINFO packaging.py:346 -- Pushing file package 'gcs://_ray_pkg_491e42b54ab0d9cf.zip' (39.45MiB) to Ray cluster...\n",
      "2023-12-16 09:58:57,371\tINFO packaging.py:359 -- Successfully pushed file package 'gcs://_ray_pkg_491e42b54ab0d9cf.zip'.\n"
     ]
    },
    {
     "data": {
      "application/vnd.jupyter.widget-view+json": {
       "model_id": "5f2a1d5eeecb43c9b5cb007eb5843599",
       "version_major": 2,
       "version_minor": 0
      },
      "text/html": [
       "<div class=\"lm-Widget p-Widget lm-Panel p-Panel jp-Cell-outputWrapper\">\n",
       "    <div style=\"margin-left: 50px;display: flex;flex-direction: row;align-items: center\">\n",
       "        <div class=\"jp-RenderedHTMLCommon\" style=\"display: flex; flex-direction: row;\">\n",
       "  <svg viewBox=\"0 0 567 224\" fill=\"none\" xmlns=\"http://www.w3.org/2000/svg\" style=\"height: 3em;\">\n",
       "    <g clip-path=\"url(#clip0_4338_178347)\">\n",
       "        <path d=\"M341.29 165.561H355.29L330.13 129.051C345.63 123.991 354.21 112.051 354.21 94.2307C354.21 71.3707 338.72 58.1807 311.88 58.1807H271V165.561H283.27V131.661H311.8C314.25 131.661 316.71 131.501 319.01 131.351L341.25 165.561H341.29ZM283.29 119.851V70.0007H311.82C331.3 70.0007 342.34 78.2907 342.34 94.5507C342.34 111.271 331.34 119.861 311.82 119.861L283.29 119.851ZM451.4 138.411L463.4 165.561H476.74L428.74 58.1807H416L367.83 165.561H380.83L392.83 138.411H451.4ZM446.19 126.601H398L422 72.1407L446.24 126.601H446.19ZM526.11 128.741L566.91 58.1807H554.35L519.99 114.181L485.17 58.1807H472.44L514.01 129.181V165.541H526.13V128.741H526.11Z\" fill=\"var(--jp-ui-font-color0)\"/>\n",
       "        <path d=\"M82.35 104.44C84.0187 97.8827 87.8248 92.0678 93.1671 87.9146C98.5094 83.7614 105.083 81.5067 111.85 81.5067C118.617 81.5067 125.191 83.7614 130.533 87.9146C135.875 92.0678 139.681 97.8827 141.35 104.44H163.75C164.476 101.562 165.622 98.8057 167.15 96.2605L127.45 56.5605C121.071 60.3522 113.526 61.6823 106.235 60.3005C98.9443 58.9187 92.4094 54.9203 87.8602 49.0574C83.3109 43.1946 81.0609 35.8714 81.5332 28.4656C82.0056 21.0599 85.1679 14.0819 90.4252 8.8446C95.6824 3.60726 102.672 0.471508 110.08 0.0272655C117.487 -0.416977 124.802 1.86091 130.647 6.4324C136.493 11.0039 140.467 17.5539 141.821 24.8501C143.175 32.1463 141.816 39.6859 138 46.0505L177.69 85.7505C182.31 82.9877 187.58 81.4995 192.962 81.4375C198.345 81.3755 203.648 82.742 208.33 85.3976C213.012 88.0532 216.907 91.9029 219.616 96.5544C222.326 101.206 223.753 106.492 223.753 111.875C223.753 117.258 222.326 122.545 219.616 127.197C216.907 131.848 213.012 135.698 208.33 138.353C203.648 141.009 198.345 142.375 192.962 142.313C187.58 142.251 182.31 140.763 177.69 138L138 177.7C141.808 184.071 143.155 191.614 141.79 198.91C140.424 206.205 136.44 212.75 130.585 217.313C124.731 221.875 117.412 224.141 110.004 223.683C102.596 223.226 95.6103 220.077 90.3621 214.828C85.1139 209.58 81.9647 202.595 81.5072 195.187C81.0497 187.779 83.3154 180.459 87.878 174.605C92.4405 168.751 98.9853 164.766 106.281 163.401C113.576 162.035 121.119 163.383 127.49 167.19L167.19 127.49C165.664 124.941 164.518 122.182 163.79 119.3H141.39C139.721 125.858 135.915 131.673 130.573 135.826C125.231 139.98 118.657 142.234 111.89 142.234C105.123 142.234 98.5494 139.98 93.2071 135.826C87.8648 131.673 84.0587 125.858 82.39 119.3H60C58.1878 126.495 53.8086 132.78 47.6863 136.971C41.5641 141.163 34.1211 142.972 26.7579 142.059C19.3947 141.146 12.6191 137.574 7.70605 132.014C2.79302 126.454 0.0813599 119.29 0.0813599 111.87C0.0813599 104.451 2.79302 97.2871 7.70605 91.7272C12.6191 86.1673 19.3947 82.5947 26.7579 81.6817C34.1211 80.7686 41.5641 82.5781 47.6863 86.7696C53.8086 90.9611 58.1878 97.2456 60 104.44H82.35ZM100.86 204.32C103.407 206.868 106.759 208.453 110.345 208.806C113.93 209.159 117.527 208.258 120.522 206.256C123.517 204.254 125.725 201.276 126.771 197.828C127.816 194.38 127.633 190.677 126.253 187.349C124.874 184.021 122.383 181.274 119.205 179.577C116.027 177.88 112.359 177.337 108.826 178.042C105.293 178.746 102.113 180.654 99.8291 183.44C97.5451 186.226 96.2979 189.718 96.3 193.32C96.2985 195.364 96.7006 197.388 97.4831 199.275C98.2656 201.163 99.4132 202.877 100.86 204.32ZM204.32 122.88C206.868 120.333 208.453 116.981 208.806 113.396C209.159 109.811 208.258 106.214 206.256 103.219C204.254 100.223 201.275 98.0151 197.827 96.97C194.38 95.9249 190.676 96.1077 187.348 97.4873C184.02 98.8669 181.274 101.358 179.577 104.536C177.879 107.714 177.337 111.382 178.041 114.915C178.746 118.448 180.653 121.627 183.439 123.911C186.226 126.195 189.717 127.443 193.32 127.44C195.364 127.443 197.388 127.042 199.275 126.259C201.163 125.476 202.878 124.328 204.32 122.88ZM122.88 19.4205C120.333 16.8729 116.981 15.2876 113.395 14.9347C109.81 14.5817 106.213 15.483 103.218 17.4849C100.223 19.4868 98.0146 22.4654 96.9696 25.9131C95.9245 29.3608 96.1073 33.0642 97.4869 36.3922C98.8665 39.7202 101.358 42.4668 104.535 44.1639C107.713 45.861 111.381 46.4036 114.914 45.6992C118.447 44.9949 121.627 43.0871 123.911 40.301C126.195 37.515 127.442 34.0231 127.44 30.4205C127.44 28.3772 127.038 26.3539 126.255 24.4664C125.473 22.5788 124.326 20.8642 122.88 19.4205ZM19.42 100.86C16.8725 103.408 15.2872 106.76 14.9342 110.345C14.5813 113.93 15.4826 117.527 17.4844 120.522C19.4863 123.518 22.4649 125.726 25.9127 126.771C29.3604 127.816 33.0638 127.633 36.3918 126.254C39.7198 124.874 42.4664 122.383 44.1635 119.205C45.8606 116.027 46.4032 112.359 45.6988 108.826C44.9944 105.293 43.0866 102.114 40.3006 99.8296C37.5145 97.5455 34.0227 96.2983 30.42 96.3005C26.2938 96.3018 22.337 97.9421 19.42 100.86ZM100.86 100.86C98.3125 103.408 96.7272 106.76 96.3742 110.345C96.0213 113.93 96.9226 117.527 98.9244 120.522C100.926 123.518 103.905 125.726 107.353 126.771C110.8 127.816 114.504 127.633 117.832 126.254C121.16 124.874 123.906 122.383 125.604 119.205C127.301 116.027 127.843 112.359 127.139 108.826C126.434 105.293 124.527 102.114 121.741 99.8296C118.955 97.5455 115.463 96.2983 111.86 96.3005C109.817 96.299 107.793 96.701 105.905 97.4835C104.018 98.2661 102.303 99.4136 100.86 100.86Z\" fill=\"#00AEEF\"/>\n",
       "    </g>\n",
       "    <defs>\n",
       "        <clipPath id=\"clip0_4338_178347\">\n",
       "            <rect width=\"566.93\" height=\"223.75\" fill=\"white\"/>\n",
       "        </clipPath>\n",
       "    </defs>\n",
       "  </svg>\n",
       "</div>\n",
       "\n",
       "        <table class=\"jp-RenderedHTMLCommon\" style=\"border-collapse: collapse;color: var(--jp-ui-font-color1);font-size: var(--jp-ui-font-size1);\">\n",
       "    <tr>\n",
       "        <td style=\"text-align: left\"><b>Python version:</b></td>\n",
       "        <td style=\"text-align: left\"><b>3.10.8</b></td>\n",
       "    </tr>\n",
       "    <tr>\n",
       "        <td style=\"text-align: left\"><b>Ray version:</b></td>\n",
       "        <td style=\"text-align: left\"><b>2.7.0</b></td>\n",
       "    </tr>\n",
       "    <tr>\n",
       "    <td style=\"text-align: left\"><b>Dashboard:</b></td>\n",
       "    <td style=\"text-align: left\"><b><a href=\"http://session-5ljni527x7edt2q6px7nuaejct.i.anyscaleuserdata-staging.com\" target=\"_blank\">http://session-5ljni527x7edt2q6px7nuaejct.i.anyscaleuserdata-staging.com</a></b></td>\n",
       "</tr>\n",
       "\n",
       "</table>\n",
       "\n",
       "    </div>\n",
       "</div>\n"
      ],
      "text/plain": [
       "RayContext(dashboard_url='session-5ljni527x7edt2q6px7nuaejct.i.anyscaleuserdata-staging.com', python_version='3.10.8', ray_version='2.7.0', ray_commit='acb4a960947869e158a973c6c4bdf1aca2d66b10', protocol_version=None)"
      ]
     },
     "execution_count": null,
     "metadata": {},
     "output_type": "execute_result"
    }
   ],
   "source": [
    "# Credentials\n",
    "ray.init(runtime_env={\n",
    "    \"env_vars\": {\n",
    "        \"OPENAI_API_BASE\": os.environ[\"OPENAI_API_BASE\"],\n",
    "        \"OPENAI_API_KEY\": os.environ[\"OPENAI_API_KEY\"], \n",
    "        \"ANYSCALE_API_BASE\": os.environ[\"ANYSCALE_API_BASE\"],\n",
    "        \"ANYSCALE_API_KEY\": os.environ[\"ANYSCALE_API_KEY\"],\n",
    "        \"DB_CONNECTION_STRING\": os.environ[\"DB_CONNECTION_STRING\"],\n",
    "    },\n",
    "    \"working_dir\": str(ROOT_DIR)\n",
    "})"
   ]
  },
  {
   "cell_type": "code",
   "execution_count": null,
   "id": "880b8660-e613-431f-a083-d4985711e8bf",
   "metadata": {
    "tags": []
   },
   "outputs": [
    {
     "data": {
      "text/plain": [
       "{'memory': 34359738368.0,\n",
       " 'node:__internal_head__': 1.0,\n",
       " 'object_store_memory': 9587318784.0,\n",
       " 'accelerator_type:A10G': 1.0,\n",
       " 'CPU': 8.0,\n",
       " 'GPU': 1.0,\n",
       " 'node:10.0.12.127': 1.0}"
      ]
     },
     "execution_count": null,
     "metadata": {},
     "output_type": "execute_result"
    }
   ],
   "source": [
    "ray.cluster_resources()"
   ]
  },
  {
   "cell_type": "markdown",
   "id": "8e3928f1-1404-430d-8633-45bb1a1c21d3",
   "metadata": {},
   "source": [
    "We've also created some mappings for the different embedding and language models we'll be developing with in our application:"
   ]
  },
  {
   "cell_type": "code",
   "execution_count": null,
   "id": "ab69df3c-bf18-4750-a680-4e488888c5e8",
   "metadata": {
    "tags": []
   },
   "outputs": [],
   "source": [
    "from rag.config import EMBEDDING_DIMENSIONS, MAX_CONTEXT_LENGTHS"
   ]
  },
  {
   "cell_type": "code",
   "execution_count": null,
   "id": "e8ba8f76-7ae8-49c1-8907-151b1fecbaf8",
   "metadata": {
    "tags": []
   },
   "outputs": [
    {
     "data": {
      "text/plain": [
       "{'thenlper/gte-base': 768,\n",
       " 'thenlper/gte-large': 1024,\n",
       " 'BAAI/bge-large-en': 1024,\n",
       " 'text-embedding-ada-002': 1536,\n",
       " 'gte-large-fine-tuned': 1024}"
      ]
     },
     "execution_count": null,
     "metadata": {},
     "output_type": "execute_result"
    }
   ],
   "source": [
    "# Embedding dimensions\n",
    "EMBEDDING_DIMENSIONS"
   ]
  },
  {
   "cell_type": "code",
   "execution_count": null,
   "id": "b6d340fa-4a87-4cc8-8d74-c09aafd9d18d",
   "metadata": {
    "tags": []
   },
   "outputs": [
    {
     "data": {
      "text/plain": [
       "{'gpt-4': 8192,\n",
       " 'gpt-3.5-turbo': 4096,\n",
       " 'gpt-3.5-turbo-16k': 16384,\n",
       " 'gpt-4-1106-preview': 128000,\n",
       " 'meta-llama/Llama-2-7b-chat-hf': 4096,\n",
       " 'meta-llama/Llama-2-13b-chat-hf': 4096,\n",
       " 'meta-llama/Llama-2-70b-chat-hf': 4096,\n",
       " 'codellama/CodeLlama-34b-Instruct-hf': 16384,\n",
       " 'mistralai/Mistral-7B-Instruct-v0.1': 65536,\n",
       " 'mistralai/Mixtral-8x7B-Instruct-v0.1': 32768}"
      ]
     },
     "execution_count": null,
     "metadata": {},
     "output_type": "execute_result"
    }
   ],
   "source": [
    "# LLM context lengths (1 token = 3/4 word)\n",
    "MAX_CONTEXT_LENGTHS"
   ]
  },
  {
   "cell_type": "markdown",
   "id": "bab7f73e-bdd1-4c87-93d0-92ece2344432",
   "metadata": {},
   "source": [
    "# Data"
   ]
  },
  {
   "cell_type": "markdown",
   "id": "00a1ed16-0f0d-4be1-951a-21a8cde1bfe9",
   "metadata": {},
   "source": [
    "Before we can start building our RAG application, we need to first create our vector DB that will contain our processed data sources.\n",
    "\n",
    "<img width=\"1000\" src=\"https://images.ctfassets.net/xjan103pcp94/3q5HUANQ4kS0V23cgEP0JF/ef3b62c5bc5c5c11b734fd3b73f6ea28/image3.png\">"
   ]
  },
  {
   "cell_type": "markdown",
   "id": "4c503edd-963a-4ec3-9182-39f7afc44153",
   "metadata": {},
   "source": [
    "## Load data"
   ]
  },
  {
   "cell_type": "code",
   "execution_count": null,
   "id": "2301b6f6-7402-4eeb-9975-7c28194b6914",
   "metadata": {
    "tags": []
   },
   "outputs": [],
   "source": [
    "from pathlib import Path\n",
    "from rag.config import EFS_DIR"
   ]
  },
  {
   "cell_type": "markdown",
   "id": "1f82562f-2b5d-4e8d-9716-b0da8670e8bf",
   "metadata": {},
   "source": [
    "We need to first download the [Ray documentation](https://docs.ray.io/) to a directory:\n",
    "```bash\n",
    "export EFS_DIR=/desired/output/directory\n",
    "wget -e robots=off --recursive --no-clobber --page-requisites \\\n",
    "  --html-extension --convert-links --restrict-file-names=windows \\\n",
    "  --domains docs.ray.io --no-parent --accept=html \\\n",
    "  -P $EFS_DIR https://docs.ray.io/en/master/\n",
    "```"
   ]
  },
  {
   "cell_type": "markdown",
   "id": "77456cf7-fe2b-4884-bfc2-99a2b4ffba1a",
   "metadata": {},
   "source": [
    "We’re going to then load our docs contents into a [Ray Dataset](https://docs.ray.io/en/latest/data/data.html) so that we can perform operations at scale on them (ex. embed, index, etc.). With large data sources, models and application serving needs, scale is a day-1 priority for LLM applications. We want to build our applications in such a way that they can scale as our needs grow without us having to change our code later."
   ]
  },
  {
   "cell_type": "code",
   "execution_count": null,
   "id": "bba6b43b-ea82-4c21-a885-57178cec3b44",
   "metadata": {
    "tags": []
   },
   "outputs": [
    {
     "name": "stdout",
     "output_type": "stream",
     "text": [
      "3282 documents\n"
     ]
    }
   ],
   "source": [
    "# Ray dataset\n",
    "DOCS_DIR = Path(EFS_DIR, \"docs.ray.io/en/master/\")\n",
    "ds = ray.data.from_items([{\"path\": path} for path in DOCS_DIR.rglob(\"*.html\") if not path.is_dir()])\n",
    "print(f\"{ds.count()} documents\")"
   ]
  },
  {
   "cell_type": "markdown",
   "id": "ba9edff6-6dbf-4037-9675-ae05cd3eb7a7",
   "metadata": {
    "tags": []
   },
   "source": [
    "## Sections"
   ]
  },
  {
   "cell_type": "markdown",
   "id": "4f13f0dc-7f7a-4132-93e4-dc69aab164a2",
   "metadata": {},
   "source": [
    "Now that we have a dataset of all the paths to the html files, we're going to develop some functions that can appropriately extract the content from these files. We want to do this in a generalized manner so that we can perform this extraction across all of our docs pages (and so you can use it for your own data sources). Our process is to first identify the sections in our html page and then extract the text in between them. We save all of this into a list of dictionaries that map the text within a section to a specific url with a section anchor id.\n",
    "\n",
    "<img width=\"800\" src=\"https://images.ctfassets.net/xjan103pcp94/1eFnKmG5xqPIFtPupZ327X/f6152723e18322b90aaa8be5d2d5a6e4/image5.png\">"
   ]
  },
  {
   "cell_type": "code",
   "execution_count": null,
   "id": "f72dedb6-63d1-414f-b973-6a1009fcaf74",
   "metadata": {
    "tags": []
   },
   "outputs": [],
   "source": [
    "import matplotlib.pyplot as plt\n",
    "from rag.data import extract_sections"
   ]
  },
  {
   "cell_type": "code",
   "execution_count": null,
   "id": "2a8033de-2508-4030-a9a1-d6c792d5542a",
   "metadata": {
    "tags": []
   },
   "outputs": [
    {
     "data": {
      "text/plain": [
       "{'source': 'https://docs.ray.io/en/master/rllib/rllib-env.html#environments',\n",
       " 'text': '\\nEnvironments#\\nRLlib works with several different types of environments, including Farama-Foundation Gymnasium, user-defined, multi-agent, and also batched environments.\\nTip\\nNot all environments work with all algorithms. Check out the algorithm overview for more information.\\n'}"
      ]
     },
     "execution_count": null,
     "metadata": {},
     "output_type": "execute_result"
    }
   ],
   "source": [
    "sample_html_fp = Path(EFS_DIR, \"docs.ray.io/en/master/rllib/rllib-env.html\")\n",
    "extract_sections({\"path\": sample_html_fp})[0]"
   ]
  },
  {
   "cell_type": "markdown",
   "id": "24f4ed64-2dd8-43c2-9831-cdf9d6d8004c",
   "metadata": {},
   "source": [
    "We can apply this extraction process (extract_section) in parallel to all the file paths in our dataset with just one line using Ray Data's [flat_map](https://docs.ray.io/en/latest/data/api/doc/ray.data.Dataset.flat_map.html):"
   ]
  },
  {
   "cell_type": "code",
   "execution_count": null,
   "id": "f4739d56-ddfe-42e5-9113-3d83d737999a",
   "metadata": {
    "tags": []
   },
   "outputs": [
    {
     "name": "stderr",
     "output_type": "stream",
     "text": [
      "2023-12-16 09:59:01,990\tINFO streaming_executor.py:93 -- Executing DAG InputDataBuffer[Input] -> TaskPoolMapOperator[FlatMap(extract_sections)]\n",
      "2023-12-16 09:59:01,990\tINFO streaming_executor.py:94 -- Execution config: ExecutionOptions(resource_limits=ExecutionResources(cpu=None, gpu=None, object_store_memory=None), locality_with_output=False, preserve_order=False, actor_locality_enabled=True, verbose_progress=False)\n",
      "2023-12-16 09:59:01,991\tINFO streaming_executor.py:96 -- Tip: For detailed progress reporting, run `ray.data.DataContext.get_current().execution_options.verbose_progress = True`\n"
     ]
    },
    {
     "data": {
      "application/vnd.jupyter.widget-view+json": {
       "model_id": "",
       "version_major": 2,
       "version_minor": 0
      },
      "text/plain": [
       "Running 0:   0%|          | 0/200 [00:00<?, ?it/s]"
      ]
     },
     "metadata": {},
     "output_type": "display_data"
    },
    {
     "data": {
      "text/plain": [
       "5727"
      ]
     },
     "execution_count": null,
     "metadata": {},
     "output_type": "execute_result"
    }
   ],
   "source": [
    "# Extract sections\n",
    "sections_ds = ds.flat_map(extract_sections)\n",
    "sections_ds.count()"
   ]
  },
  {
   "cell_type": "code",
   "execution_count": null,
   "id": "39641fc6-adb2-4a6a-a8dd-f0433db814ff",
   "metadata": {
    "tags": []
   },
   "outputs": [],
   "source": [
    "section_lengths = []\n",
    "for section in sections_ds.take_all():\n",
    "    section_lengths.append(len(section[\"text\"]))"
   ]
  },
  {
   "cell_type": "markdown",
   "id": "2c144ef2-ffa5-49ed-9bb3-60a50223854c",
   "metadata": {},
   "source": [
    "## Chunk data"
   ]
  },
  {
   "cell_type": "markdown",
   "id": "78c103aa-9b34-4d7b-8b42-78737eb0888d",
   "metadata": {},
   "source": [
    "We now have a list of sections (with text and source of each section) but we shouldn't directly use this as context to our RAG application just yet. The text lengths of each section are all varied and many are quite large chunks. "
   ]
  },
  {
   "cell_type": "code",
   "execution_count": null,
   "id": "1b07383c-b898-4f4a-b008-837a8bf83015",
   "metadata": {
    "tags": []
   },
   "outputs": [
    {
     "data": {
      "image/png": "[encoded data removed]",
      "text/plain": [
       "<Figure size 1200x300 with 1 Axes>"
      ]
     },
     "metadata": {},
     "output_type": "display_data"
    }
   ],
   "source": [
    "# Plot\n",
    "plt.figure(figsize=(12, 3))\n",
    "plt.plot(section_lengths, marker='o')\n",
    "plt.title(\"Section lengths\")\n",
    "plt.ylabel(\"# chars\")\n",
    "plt.show()"
   ]
  },
  {
   "cell_type": "markdown",
   "id": "bfa7564d-fce5-4807-8bf2-de9f93c6f994",
   "metadata": {},
   "source": [
    "If we were to use these large sections, then we'd be inserting a lot of noisy/unwanted context and because all LLMs have a maximum context length, we wouldn't be able to fit too much other relevant context. So instead, we're going to split the text within each section into smaller chunks. Intuitively, smaller chunks will encapsulate single/few concepts and will be less noisy compared to larger chunks. We're going to choose some typical text splitting values (ex. chunk_size=300) to create our chunks for now but we'll be experimenting with a wider range of values later."
   ]
  },
  {
   "cell_type": "code",
   "execution_count": null,
   "id": "97ca89ce-97dd-4462-8dfb-e06154c56ea2",
   "metadata": {
    "tags": []
   },
   "outputs": [],
   "source": [
    "from functools import partial\n",
    "from langchain.text_splitter import RecursiveCharacterTextSplitter"
   ]
  },
  {
   "cell_type": "code",
   "execution_count": null,
   "id": "6b6337e6-07b2-459d-a666-45de3aa945c4",
   "metadata": {
    "tags": []
   },
   "outputs": [],
   "source": [
    "# Text splitter\n",
    "chunk_size = 300\n",
    "chunk_overlap = 50\n",
    "text_splitter = RecursiveCharacterTextSplitter(\n",
    "    separators=[\"\\n\\n\", \"\\n\", \" \", \"\"],\n",
    "    chunk_size=chunk_size,\n",
    "    chunk_overlap=chunk_overlap,\n",
    "    length_function=len)"
   ]
  },
  {
   "cell_type": "code",
   "execution_count": null,
   "id": "ca5208da-7196-49b5-9943-c0c9f0ab13b5",
   "metadata": {
    "tags": []
   },
   "outputs": [
    {
     "name": "stderr",
     "output_type": "stream",
     "text": [
      "2023-12-16 09:59:27,544\tINFO dataset.py:2380 -- Tip: Use `take_batch()` instead of `take() / show()` to return records in pandas or numpy batch format.\n",
      "2023-12-16 09:59:27,547\tINFO streaming_executor.py:93 -- Executing DAG InputDataBuffer[Input] -> TaskPoolMapOperator[FlatMap(extract_sections->Limit[1])] -> LimitOperator[limit=1]\n",
      "2023-12-16 09:59:27,548\tINFO streaming_executor.py:94 -- Execution config: ExecutionOptions(resource_limits=ExecutionResources(cpu=None, gpu=None, object_store_memory=None), locality_with_output=False, preserve_order=False, actor_locality_enabled=True, verbose_progress=False)\n",
      "2023-12-16 09:59:27,548\tINFO streaming_executor.py:96 -- Tip: For detailed progress reporting, run `ray.data.DataContext.get_current().execution_options.verbose_progress = True`\n"
     ]
    },
    {
     "data": {
      "application/vnd.jupyter.widget-view+json": {
       "model_id": "",
       "version_major": 2,
       "version_minor": 0
      },
      "text/plain": [
       "Running 0:   0%|          | 0/1 [00:00<?, ?it/s]"
      ]
     },
     "metadata": {},
     "output_type": "display_data"
    },
    {
     "name": "stdout",
     "output_type": "stream",
     "text": [
      "page_content='Ray Dashboard#\\nRay provides a web-based dashboard for monitoring and debugging Ray applications.\\nThe visual representation of the system state, allows users to track the performance\\nof applications and troubleshoot issues.' metadata={'source': 'https://docs.ray.io/en/master/ray-observability/getting-started.html#ray-dashboard'}\n"
     ]
    }
   ],
   "source": [
    "# Chunk a sample section\n",
    "sample_section = sections_ds.take(1)[0]\n",
    "chunks = text_splitter.create_documents(\n",
    "    texts=[sample_section[\"text\"]], \n",
    "    metadatas=[{\"source\": sample_section[\"source\"]}])\n",
    "print (chunks[0])"
   ]
  },
  {
   "cell_type": "markdown",
   "id": "4d38775f-0a4b-4aad-866d-1a3231b32df7",
   "metadata": {},
   "source": [
    "While chunking our dataset is relatively fast, let’s wrap the chunking logic into a function so that we can apply the workload at scale so that chunking remains just as fast as our data sources grow:\n"
   ]
  },
  {
   "cell_type": "code",
   "execution_count": null,
   "id": "5c15a38d-066b-4623-8448-fdd0ac5ddf4d",
   "metadata": {
    "tags": []
   },
   "outputs": [],
   "source": [
    "def chunk_section(section, chunk_size, chunk_overlap):\n",
    "    text_splitter = RecursiveCharacterTextSplitter(\n",
    "        separators=[\"\\n\\n\", \"\\n\", \" \", \"\"],\n",
    "        chunk_size=chunk_size,\n",
    "        chunk_overlap=chunk_overlap,\n",
    "        length_function=len)\n",
    "    chunks = text_splitter.create_documents(\n",
    "        texts=[section[\"text\"]], \n",
    "        metadatas=[{\"source\": section[\"source\"]}])\n",
    "    return [{\"text\": chunk.page_content, \"source\": chunk.metadata[\"source\"]} for chunk in chunks]"
   ]
  },
  {
   "cell_type": "code",
   "execution_count": null,
   "id": "5be23c62-3108-49be-994d-5aa033162c71",
   "metadata": {
    "tags": []
   },
   "outputs": [
    {
     "name": "stderr",
     "output_type": "stream",
     "text": [
      "2023-12-16 09:59:27,844\tINFO streaming_executor.py:93 -- Executing DAG InputDataBuffer[Input] -> TaskPoolMapOperator[FlatMap(extract_sections)->FlatMap(partial)]\n",
      "2023-12-16 09:59:27,845\tINFO streaming_executor.py:94 -- Execution config: ExecutionOptions(resource_limits=ExecutionResources(cpu=None, gpu=None, object_store_memory=None), locality_with_output=False, preserve_order=False, actor_locality_enabled=True, verbose_progress=False)\n",
      "2023-12-16 09:59:27,846\tINFO streaming_executor.py:96 -- Tip: For detailed progress reporting, run `ray.data.DataContext.get_current().execution_options.verbose_progress = True`\n"
     ]
    },
    {
     "data": {
      "application/vnd.jupyter.widget-view+json": {
       "model_id": "",
       "version_major": 2,
       "version_minor": 0
      },
      "text/plain": [
       "Running 0:   0%|          | 0/200 [00:00<?, ?it/s]"
      ]
     },
     "metadata": {},
     "output_type": "display_data"
    },
    {
     "name": "stderr",
     "output_type": "stream",
     "text": [
      "2023-12-16 09:59:49,946\tINFO streaming_executor.py:93 -- Executing DAG InputDataBuffer[Input] -> TaskPoolMapOperator[FlatMap(extract_sections)->FlatMap(partial->Limit[1])] -> LimitOperator[limit=1]\n",
      "2023-12-16 09:59:49,947\tINFO streaming_executor.py:94 -- Execution config: ExecutionOptions(resource_limits=ExecutionResources(cpu=None, gpu=None, object_store_memory=None), locality_with_output=False, preserve_order=False, actor_locality_enabled=True, verbose_progress=False)\n",
      "2023-12-16 09:59:49,948\tINFO streaming_executor.py:96 -- Tip: For detailed progress reporting, run `ray.data.DataContext.get_current().execution_options.verbose_progress = True`\n"
     ]
    },
    {
     "name": "stdout",
     "output_type": "stream",
     "text": [
      "32276 chunks\n"
     ]
    },
    {
     "data": {
      "application/vnd.jupyter.widget-view+json": {
       "model_id": "",
       "version_major": 2,
       "version_minor": 0
      },
      "text/plain": [
       "Running 0:   0%|          | 0/1 [00:00<?, ?it/s]"
      ]
     },
     "metadata": {},
     "output_type": "display_data"
    },
    {
     "name": "stdout",
     "output_type": "stream",
     "text": [
      "{'text': 'Reference#\\nMonitor and debug your Ray applications and clusters using the API and CLI documented in these references.\\nThe guides include:\\nState API\\nState CLI\\nSystem Metrics', 'source': 'https://docs.ray.io/en/master/ray-observability/reference/index.html#reference'}\n"
     ]
    }
   ],
   "source": [
    "# Scale chunking\n",
    "chunks_ds = sections_ds.flat_map(partial(\n",
    "    chunk_section, \n",
    "    chunk_size=chunk_size, \n",
    "    chunk_overlap=chunk_overlap))\n",
    "print(f\"{chunks_ds.count()} chunks\")\n",
    "chunks_ds.show(1)"
   ]
  },
  {
   "cell_type": "markdown",
   "id": "d9c23b31-e7b3-4078-abf7-683f448f5b19",
   "metadata": {},
   "source": [
    "## Embed data"
   ]
  },
  {
   "cell_type": "markdown",
   "id": "fb44e2b4-d48a-4f27-b9e4-99579917b18e",
   "metadata": {},
   "source": [
    "Now that we've created small chunks from our sections, we need a way to identify the most relevant ones for a given query. A very effective and quick method is to embed our data using a pretrained model and use the same model to embed the query. We can then compute the distance between all of the chunk embeddings and our query embedding to determine the top-k chunks. There are many different pretrained models to choose from to embed our data but the most popular ones can be discovered through [HuggingFace's Massive Text Embedding Benchmark (MTEB)](https://huggingface.co/spaces/mteb/leaderboard) leaderboard. These models were pretrained on very large text corpus through tasks such as next/masked token prediction which allowed them to learn to represent subtokens in N dimensions and capture semantic relationships. We can leverage this to represent our data and identify the most relevant contexts to use to answer a given query. We're using Langchain's Embedding wrappers ([HuggingFaceEmbeddings](https://api.python.langchain.com/en/latest/embeddings/langchain.embeddings.huggingface.HuggingFaceEmbeddings.html) and [OpenAIEmbeddings](https://api.python.langchain.com/en/latest/embeddings/langchain.embeddings.openai.OpenAIEmbeddings.html)) to easily load the models and embed our document chunks.\n",
    "\n",
    "**Note**: embeddings aren't the only way to determine the more relevant chunks. We could also use an LLM to decide! However, because LLMs are much larger than these embedding models and have maximum context lengths, it's better to use embeddings to retrieve the top k chunks. And then we could use LLMs on the fewer k chunks to determine the <k chunks to use as the context to answer our query. We could also use reranking (ex. [Cohere Rerank](https://txt.cohere.com/rerank/)) to further identify the most relevant chunks to use. We could also combine embeddings with traditional information retrieval methods such as keyword matching, which could be useful for matching for unique tokens that may potentially be lost when embedding subtokens."
   ]
  },
  {
   "cell_type": "code",
   "execution_count": null,
   "id": "712fe08b-fd19-4cb8-94d9-a7570b2dc09d",
   "metadata": {
    "tags": []
   },
   "outputs": [],
   "source": [
    "from langchain.embeddings import OpenAIEmbeddings\n",
    "from langchain.embeddings.huggingface import HuggingFaceEmbeddings\n",
    "import numpy as np\n",
    "from ray.data import ActorPoolStrategy"
   ]
  },
  {
   "cell_type": "code",
   "execution_count": null,
   "id": "290c066a-100b-4f09-98ba-e79a93cd4302",
   "metadata": {
    "tags": []
   },
   "outputs": [],
   "source": [
    "def get_embedding_model(embedding_model_name, model_kwargs, encode_kwargs):\n",
    "    if embedding_model_name == \"text-embedding-ada-002\":\n",
    "        embedding_model = OpenAIEmbeddings(\n",
    "            model=embedding_model_name,\n",
    "            openai_api_base=os.environ[\"OPENAI_API_BASE\"],\n",
    "            openai_api_key=os.environ[\"OPENAI_API_KEY\"])\n",
    "    else:\n",
    "        embedding_model = HuggingFaceEmbeddings(\n",
    "            model_name=embedding_model_name,  # also works with model_path\n",
    "            model_kwargs=model_kwargs,\n",
    "            encode_kwargs=encode_kwargs)\n",
    "    return embedding_model"
   ]
  },
  {
   "cell_type": "code",
   "execution_count": null,
   "id": "83b6a5a3-cd2d-4987-838a-be13e9553080",
   "metadata": {
    "tags": []
   },
   "outputs": [],
   "source": [
    "class EmbedChunks:\n",
    "    def __init__(self, model_name):\n",
    "        self.embedding_model = get_embedding_model(\n",
    "            embedding_model_name=model_name,\n",
    "            model_kwargs={\"device\": \"cuda\"},\n",
    "            encode_kwargs={\"device\": \"cuda\", \"batch_size\": 100})\n",
    "    def __call__(self, batch):\n",
    "        embeddings = self.embedding_model.embed_documents(batch[\"text\"])\n",
    "        return {\"text\": batch[\"text\"], \"source\": batch[\"source\"], \"embeddings\": embeddings}"
   ]
  },
  {
   "cell_type": "markdown",
   "id": "1e39c99a-5f33-4052-ba0e-cbc69d104ec1",
   "metadata": {},
   "source": [
    "Here we're able to embed our chunks at scale by using [map_batches](https://docs.ray.io/en/latest/data/api/doc/ray.data.Dataset.map_batches.html). All we had to do was define the `batch_size` and the compute resources."
   ]
  },
  {
   "cell_type": "code",
   "execution_count": null,
   "id": "9715a01e-dc67-4342-a0cb-30e770852097",
   "metadata": {
    "tags": []
   },
   "outputs": [],
   "source": [
    "# Embed chunks\n",
    "embedding_model_name = \"thenlper/gte-base\"\n",
    "embedded_chunks = chunks_ds.map_batches(\n",
    "    EmbedChunks,\n",
    "    fn_constructor_kwargs={\"model_name\": embedding_model_name},\n",
    "    batch_size=100, \n",
    "    num_gpus=1,\n",
    "    compute=ActorPoolStrategy(size=1))"
   ]
  },
  {
   "cell_type": "code",
   "execution_count": null,
   "id": "67dffa1f-19a3-4411-af3f-b161a47ee164",
   "metadata": {
    "tags": []
   },
   "outputs": [],
   "source": [
    "# Sample\n",
    "sample = embedded_chunks.take(1)\n",
    "print (\"embedding size:\", len(sample[0][\"embeddings\"]))\n",
    "print (sample[0][\"text\"])"
   ]
  },
  {
   "cell_type": "markdown",
   "id": "09187588-e1dc-44c5-b88b-cc8ebe3f9c48",
   "metadata": {},
   "source": [
    "## Index data"
   ]
  },
  {
   "cell_type": "markdown",
   "id": "eb9f53f1-2720-4a47-8b2f-1b206c38c425",
   "metadata": {},
   "source": [
    "Now that we have our embedded chunks, we need to index (store) them somewhere so that we can retrieve them quickly for inference. While there are many popular vector database options, we're going to use [Postgres with pgvector](https://github.com/pgvector/pgvector) for it's simplificty and performance. We'll create a table (`document`) and write the (`text`, `source`, `embedding`) triplets for each embedded chunk we have.\n",
    "\n",
    "<img width=\"700\" src=\"https://images.ctfassets.net/xjan103pcp94/3z1ryYkOtUjj6N1IuavJPf/ae60dc4a10c94e2cc928c38701befb51/image2.png\">"
   ]
  },
  {
   "cell_type": "code",
   "execution_count": null,
   "id": "bb6bf17c-da04-4bd8-af2f-dc79e4e27913",
   "metadata": {
    "tags": []
   },
   "outputs": [],
   "source": [
    "import psycopg\n",
    "from pgvector.psycopg import register_vector\n",
    "os.environ[\"MIGRATION_FP\"] = f\"../migrations/vector-{EMBEDDING_DIMENSIONS[embedding_model_name]}.sql\"\n",
    "os.environ[\"SQL_DUMP_FP\"] = f\"{EFS_DIR}/sql_dumps/{embedding_model_name.split('/')[-1]}_{chunk_size}_{chunk_overlap}.sql\""
   ]
  },
  {
   "cell_type": "code",
   "execution_count": null,
   "id": "5b64894f-4de1-42b8-b56f-37800b5ce591",
   "metadata": {
    "tags": []
   },
   "outputs": [
    {
     "name": "stderr",
     "output_type": "stream",
     "text": [
      "NOTICE:  table \"document\" does not exist, skipping\n"
     ]
    },
    {
     "name": "stdout",
     "output_type": "stream",
     "text": [
      "DROP TABLE\n",
      "../migrations/vector-768.sql\n",
      "CREATE TABLE\n",
      "/efs/shared_storage/goku/sql_dumps/gte-base_300_50.sql\n"
     ]
    }
   ],
   "source": [
    "%%bash\n",
    "# Set up\n",
    "psql \"$DB_CONNECTION_STRING\" -c \"DROP TABLE IF EXISTS document;\"\n",
    "echo $MIGRATION_FP\n",
    "sudo -u postgres psql -f $MIGRATION_FP\n",
    "echo $SQL_DUMP_FP"
   ]
  },
  {
   "cell_type": "markdown",
   "id": "633f3c88-0c88-48b5-a6f9-4b08e3a0dc43",
   "metadata": {},
   "source": [
    "**Note**: Run `bash setup-pgvector.sh` first!"
   ]
  },
  {
   "cell_type": "code",
   "execution_count": null,
   "id": "806b47aa-f3c1-44d3-b041-a3a4f0867653",
   "metadata": {
    "tags": []
   },
   "outputs": [
    {
     "name": "stdout",
     "output_type": "stream",
     "text": [
      "DROP TABLE\n",
      "CREATE TABLE\n",
      "SET\n",
      "SET\n",
      "SET\n",
      "SET\n",
      "SET\n",
      " set_config \n",
      "------------\n",
      " \n",
      "(1 row)\n",
      "\n",
      "SET\n",
      "SET\n",
      "SET\n",
      "SET\n",
      "ALTER TABLE\n",
      "ALTER TABLE\n"
     ]
    },
    {
     "name": "stderr",
     "output_type": "stream",
     "text": [
      "psql:/efs/shared_storage/goku/sql_dumps/gte-base_300_50.sql:20: ERROR:  relation \"public.data_document\" does not exist\n",
      "psql:/efs/shared_storage/goku/sql_dumps/gte-base_300_50.sql:22: ERROR:  relation \"public.data_document\" does not exist\n"
     ]
    },
    {
     "name": "stdout",
     "output_type": "stream",
     "text": [
      "DROP SEQUENCE\n",
      "DROP TABLE\n"
     ]
    },
    {
     "name": "stderr",
     "output_type": "stream",
     "text": [
      "psql:/efs/shared_storage/goku/sql_dumps/gte-base_300_50.sql:25: ERROR:  sequence \"data_document_id_seq\" does not exist\n",
      "psql:/efs/shared_storage/goku/sql_dumps/gte-base_300_50.sql:26: ERROR:  table \"data_document\" does not exist\n"
     ]
    },
    {
     "name": "stdout",
     "output_type": "stream",
     "text": [
      "DROP EXTENSION\n",
      "CREATE EXTENSION\n",
      "COMMENT\n",
      "SET\n",
      "SET\n",
      "CREATE TABLE\n",
      "ALTER TABLE\n",
      "CREATE SEQUENCE\n",
      "ALTER SEQUENCE\n",
      "ALTER SEQUENCE\n",
      "CREATE TABLE\n",
      "ALTER TABLE\n",
      "CREATE SEQUENCE\n",
      "ALTER SEQUENCE\n",
      "ALTER SEQUENCE\n",
      "ALTER TABLE\n",
      "ALTER TABLE\n",
      "COPY 40433\n",
      "COPY 32276\n",
      " setval \n",
      "--------\n",
      "  40433\n",
      "(1 row)\n",
      "\n",
      " setval \n",
      "--------\n",
      "  32276\n",
      "(1 row)\n",
      "\n",
      "ALTER TABLE\n",
      "ALTER TABLE\n",
      " count \n",
      "-------\n",
      " 32276\n",
      "(1 row)\n",
      "\n"
     ]
    }
   ],
   "source": [
    "%%bash\n",
    "# Drop table and load index\n",
    "psql \"$DB_CONNECTION_STRING\" -c \"DROP TABLE IF EXISTS document;\"  # drop\n",
    "sudo -u postgres psql -f $MIGRATION_FP  # create\n",
    "psql \"$DB_CONNECTION_STRING\" -f $SQL_DUMP_FP  # load\n",
    "psql \"$DB_CONNECTION_STRING\" -c \"SELECT count(*) FROM document;\"  # num rows"
   ]
  },
  {
   "cell_type": "markdown",
   "id": "3fe36601-1269-482b-9bac-b52b32fb338e",
   "metadata": {},
   "source": [
    "If we don't have an index saved already, we can index the data and save it:"
   ]
  },
  {
   "cell_type": "code",
   "execution_count": null,
   "id": "21480e47-4a17-49d8-b4e7-c301e8040a69",
   "metadata": {
    "tags": []
   },
   "outputs": [],
   "source": [
    "class StoreResults:\n",
    "    def __call__(self, batch):\n",
    "        with psycopg.connect(os.environ[\"DB_CONNECTION_STRING\"]) as conn:\n",
    "            register_vector(conn)\n",
    "            with conn.cursor() as cur:\n",
    "                for text, source, embedding in zip(batch[\"text\"], batch[\"source\"], batch[\"embeddings\"]):\n",
    "                    cur.execute(\"INSERT INTO document (text, source, embedding) VALUES (%s, %s, %s)\", (text, source, embedding,),)\n",
    "        return {}"
   ]
  },
  {
   "cell_type": "markdown",
   "id": "4d4f119d-535d-4548-bb83-177e3bcefeed",
   "metadata": {},
   "source": [
    "And once again, we can use Ray Data’s [map_batches](https://docs.ray.io/en/latest/data/api/doc/ray.data.Dataset.map_batches.html) to perform this indexing in parallel:"
   ]
  },
  {
   "cell_type": "code",
   "execution_count": null,
   "id": "9c4582d9-40ba-4a94-81ac-259b3851f837",
   "metadata": {
    "tags": []
   },
   "outputs": [
    {
     "name": "stderr",
     "output_type": "stream",
     "text": [
      "2023-11-06 09:15:46,268\tINFO streaming_executor.py:93 -- Executing DAG InputDataBuffer[Input] -> TaskPoolMapOperator[FlatMap(extract_sections)->FlatMap(partial)] -> ActorPoolMapOperator[MapBatches(EmbedChunks)] -> ActorPoolMapOperator[MapBatches(StoreResults)]\n",
      "2023-11-06 09:15:46,269\tINFO streaming_executor.py:94 -- Execution config: ExecutionOptions(resource_limits=ExecutionResources(cpu=None, gpu=None, object_store_memory=None), locality_with_output=False, preserve_order=False, actor_locality_enabled=True, verbose_progress=False)\n",
      "2023-11-06 09:15:46,270\tINFO streaming_executor.py:96 -- Tip: For detailed progress reporting, run `ray.data.DataContext.get_current().execution_options.verbose_progress = True`\n",
      "2023-11-06 09:15:46,281\tINFO actor_pool_map_operator.py:106 -- MapBatches(EmbedChunks): Waiting for 1 pool actors to start...\n",
      "2023-11-06 09:15:50,926\tINFO actor_pool_map_operator.py:106 -- MapBatches(StoreResults): Waiting for 6 pool actors to start...\n"
     ]
    },
    {
     "data": {
      "application/vnd.jupyter.widget-view+json": {
       "model_id": "",
       "version_major": 2,
       "version_minor": 0
      },
      "text/plain": [
       "Running 0:   0%|          | 0/200 [00:00<?, ?it/s]"
      ]
     },
     "metadata": {},
     "output_type": "display_data"
    },
    {
     "name": "stderr",
     "output_type": "stream",
     "text": [
      "2023-11-06 09:17:47,493\tWARNING actor_pool_map_operator.py:265 -- Your batch size is too large. Currently, your batch size is 128. Your dataset contains 0, and Ray Data tried to parallelize it across 6 actors. To parallelize this fully across all 6 actors, set batch size to not exceed `0 / 6 = 0`.\n"
     ]
    },
    {
     "data": {
      "text/plain": [
       "0"
      ]
     },
     "execution_count": null,
     "metadata": {},
     "output_type": "execute_result"
    }
   ],
   "source": [
    "# Index data\n",
    "embedded_chunks.map_batches(\n",
    "    StoreResults,\n",
    "    batch_size=128,\n",
    "    num_cpus=1,\n",
    "    compute=ActorPoolStrategy(size=6),\n",
    ").count()"
   ]
  },
  {
   "cell_type": "code",
   "execution_count": null,
   "id": "40925cd6-41e8-4651-9692-aeb399b68af6",
   "metadata": {
    "tags": []
   },
   "outputs": [],
   "source": [
    "%%bash\n",
    "# Save index\n",
    "rm -rf $SQL_DUMP_FP\n",
    "mkdir -p $(dirname \"$SQL_DUMP_FP\") && touch $SQL_DUMP_FP\n",
    "sudo -u postgres pg_dump -c > $SQL_DUMP_FP  # save"
   ]
  },
  {
   "cell_type": "markdown",
   "id": "318798c3-d119-4eb5-ad81-b2834516151a",
   "metadata": {},
   "source": [
    "# Retrieval"
   ]
  },
  {
   "cell_type": "markdown",
   "id": "974cc146-c337-4478-a119-5daadedd340c",
   "metadata": {},
   "source": [
    "With our embedded chunks indexed in our vector database, we're ready to perform retrieval for a given query. We'll start by using the same embedding model we used to embed our text chunks to now embed the incoming query.\n",
    "\n",
    "<img width=\"1000\" src=\"https://images.ctfassets.net/xjan103pcp94/1hKBrFU2lyR5LLebFyq2ZL/8845c36ff98eb47005338de6ab6dbf50/image14.png\">"
   ]
  },
  {
   "cell_type": "code",
   "execution_count": null,
   "id": "480d4c49-5870-471e-a617-86f7d3fa13d0",
   "metadata": {
    "tags": []
   },
   "outputs": [],
   "source": [
    "import json\n",
    "import numpy as np"
   ]
  },
  {
   "cell_type": "code",
   "execution_count": null,
   "id": "39c3f410-89a2-4992-8cd1-63aca5bf9936",
   "metadata": {
    "tags": []
   },
   "outputs": [],
   "source": [
    "# Embed query\n",
    "embedding_model = HuggingFaceEmbeddings(model_name=embedding_model_name)\n",
    "query = \"What is the default batch size for map_batches?\"\n",
    "embedding = np.array(embedding_model.embed_query(query))\n",
    "len(embedding)"
   ]
  },
  {
   "cell_type": "markdown",
   "id": "cd3d604e-437c-4917-9503-cdc6a74df982",
   "metadata": {},
   "source": [
    "Then, we'll retrieve the top most revelant chunks by extracting the closest embedded chunks to our embedded query. We use cosine distance (`<=>`) but there are [many options](https://github.com/pgvector/pgvector#vector-operators) to choose from. Once we retrieve the top `num_chunks`, we can collect the text for each chunk and use it as context to generate a response."
   ]
  },
  {
   "cell_type": "code",
   "execution_count": null,
   "id": "073a796f-e0e7-46d3-8151-01f47befec4c",
   "metadata": {
    "tags": []
   },
   "outputs": [],
   "source": [
    "# Get context\n",
    "num_chunks = 5\n",
    "with psycopg.connect(os.environ[\"DB_CONNECTION_STRING\"]) as conn:\n",
    "    register_vector(conn)\n",
    "    with conn.cursor() as cur:\n",
    "        # cur.execute(\"SELECT * FROM document ORDER BY embedding <=> %s LIMIT %s\", (embedding, num_chunks))\n",
    "        cur.execute(\"SELECT *, (embedding <=> %s) AS similarity_score FROM document ORDER BY similarity_score LIMIT %s\", (embedding, num_chunks))\n",
    "        rows = cur.fetchall()\n",
    "        ids = [row[0] for row in rows]\n",
    "        context = [{\"text\": row[1]} for row in rows]\n",
    "        sources = [row[2] for row in rows]\n",
    "        scores = [row[4] for row in rows]"
   ]
  },
  {
   "cell_type": "code",
   "execution_count": null,
   "id": "4a3cfb58-4c25-4a14-9634-f6a24fac970b",
   "metadata": {
    "tags": []
   },
   "outputs": [
    {
     "name": "stdout",
     "output_type": "stream",
     "text": [
      "14887\n",
      "0.06207154583656549\n",
      "https://docs.ray.io/en/master/data/api/doc/ray.data.Dataset.map_batches.html#ray-data-dataset-map-batches\n",
      "entire blocks as batches (blocks may contain different numbers of rows).\n",
      "The actual size of the batch provided to fn may be smaller than\n",
      "batch_size if batch_size doesn’t evenly divide the block(s) sent\n",
      "to a given map task. Default batch_size is 4096 with “default”.\n",
      "\n",
      "15009\n",
      "0.06654224236622186\n",
      "https://docs.ray.io/en/master/data/transforming-data.html#configuring-batch-size\n",
      "batch_size.\n",
      "Note\n",
      "The default batch size depends on your resource type. If you’re using CPUs,\n",
      "the default batch size is 4096. If you’re using GPUs, you must specify an explicit\n",
      "batch size.\n",
      "\n",
      "15051\n",
      "0.07562640027010847\n",
      "https://docs.ray.io/en/master/data/batch_inference.html#configuring-batch-size\n",
      "# Specify that each input batch should be of size 2.\n",
      "ds.map_batches(assert_batch, batch_size=2)\n",
      "Caution\n",
      "The default batch_size of 4096 may be too large for datasets with large rows\n",
      "(for example, tables with many columns or a collection of large images).\n",
      "\n",
      "15035\n",
      "0.08958362418550658\n",
      "https://docs.ray.io/en/master/data/batch_inference.html#configuring-batch-size\n",
      "Configuring Batch Size#\n",
      "Configure the size of the input batch that’s passed to __call__ by setting the batch_size argument for ds.map_batches()\n",
      "\n",
      "2283\n",
      "0.09523273435425617\n",
      "https://docs.ray.io/en/master/tune/getting-started.html#setting-up-a-tuner-for-a-training-run-with-tune\n",
      "batch_size=64,\n",
      "        shuffle=True)\n",
      "\n"
     ]
    }
   ],
   "source": [
    "for i, item in enumerate(context):\n",
    "    print (ids[i])\n",
    "    print (scores[i])\n",
    "    print (sources[i])\n",
    "    print (item[\"text\"])\n",
    "    print ()"
   ]
  },
  {
   "cell_type": "markdown",
   "id": "6fc7d446-3936-4c4a-aa01-f6dc46991416",
   "metadata": {},
   "source": [
    "Let's wrap this into a convenient function:"
   ]
  },
  {
   "cell_type": "code",
   "execution_count": null,
   "id": "d26a88bd-fbf0-4023-bfc7-e0501073caeb",
   "metadata": {
    "tags": []
   },
   "outputs": [],
   "source": [
    "def semantic_search(query, embedding_model, k):\n",
    "    embedding = np.array(embedding_model.embed_query(query))\n",
    "    with psycopg.connect(os.environ[\"DB_CONNECTION_STRING\"]) as conn:\n",
    "        register_vector(conn)\n",
    "        with conn.cursor() as cur:\n",
    "            cur.execute(\"SELECT * FROM document ORDER BY embedding <=> %s LIMIT %s\", (embedding, k),)\n",
    "            rows = cur.fetchall()\n",
    "            semantic_context = [{\"id\": row[0], \"text\": row[1], \"source\": row[2]} for row in rows]\n",
    "    return semantic_context"
   ]
  },
  {
   "cell_type": "markdown",
   "id": "f5738d23-91e3-4016-826e-716872f76b62",
   "metadata": {
    "tags": []
   },
   "source": [
    "# Generation"
   ]
  },
  {
   "cell_type": "markdown",
   "id": "0bec2b7c-35be-40d1-9e12-29d7d6178d4d",
   "metadata": {},
   "source": [
    "We can now use the context to generate a response from our LLM. Without this relevant context that we retrieved, the LLM may not have been able to accurately answer our question. And as our data grows, we can just as easily embed and index any new data and be able to retrieve it to answer questions.\n",
    "\n",
    "<img width=\"500\" src=\"https://images.ctfassets.net/xjan103pcp94/38I8en8Tyf0cM4LUhjygoq/739d456c80841b4c28fe80f73ea5856b/image16.png\">"
   ]
  },
  {
   "cell_type": "code",
   "execution_count": null,
   "id": "b55cc1d7-e110-4d9d-abc4-36576db25f92",
   "metadata": {
    "tags": []
   },
   "outputs": [],
   "source": [
    "import openai\n",
    "import time"
   ]
  },
  {
   "cell_type": "code",
   "execution_count": null,
   "id": "6510f9dc-5870-4c9a-8ea0-7661d1914f8a",
   "metadata": {
    "tags": []
   },
   "outputs": [
    {
     "data": {
      "application/vnd.jupyter.widget-view+json": {
       "model_id": "0496ced9a0724c16824d10fcfa5abbb9",
       "version_major": 2,
       "version_minor": 0
      },
      "text/plain": [
       "Downloading tokenizer_config.json:   0%|          | 0.00/28.0 [00:00<?, ?B/s]"
      ]
     },
     "metadata": {},
     "output_type": "display_data"
    },
    {
     "data": {
      "application/vnd.jupyter.widget-view+json": {
       "model_id": "bfc55a7c2f46466db2bc19fcc68afefc",
       "version_major": 2,
       "version_minor": 0
      },
      "text/plain": [
       "Downloading vocab.txt:   0%|          | 0.00/232k [00:00<?, ?B/s]"
      ]
     },
     "metadata": {},
     "output_type": "display_data"
    },
    {
     "data": {
      "application/vnd.jupyter.widget-view+json": {
       "model_id": "e104af30f746459391ca405230aa4104",
       "version_major": 2,
       "version_minor": 0
      },
      "text/plain": [
       "Downloading tokenizer.json:   0%|          | 0.00/466k [00:00<?, ?B/s]"
      ]
     },
     "metadata": {},
     "output_type": "display_data"
    },
    {
     "data": {
      "application/vnd.jupyter.widget-view+json": {
       "model_id": "58473224b8b14696af93cb7c9f5ac4c9",
       "version_major": 2,
       "version_minor": 0
      },
      "text/plain": [
       "Downloading config.json:   0%|          | 0.00/570 [00:00<?, ?B/s]"
      ]
     },
     "metadata": {},
     "output_type": "display_data"
    }
   ],
   "source": [
    "from rag.generate import prepare_response\n",
    "from rag.utils import get_client"
   ]
  },
  {
   "cell_type": "code",
   "execution_count": null,
   "id": "697e65e8-4d69-4870-9f09-0e128008b94e",
   "metadata": {
    "tags": []
   },
   "outputs": [],
   "source": [
    "def generate_response(\n",
    "    llm, temperature=0.0, stream=True,\n",
    "    system_content=\"\", assistant_content=\"\", user_content=\"\", \n",
    "    max_retries=1, retry_interval=60):\n",
    "    \"\"\"Generate response from an LLM.\"\"\"\n",
    "    retry_count = 0\n",
    "    client = get_client(llm=llm)\n",
    "    messages = [{\"role\": role, \"content\": content} for role, content in [\n",
    "        (\"system\", system_content), \n",
    "        (\"assistant\", assistant_content), \n",
    "        (\"user\", user_content)] if content]\n",
    "    while retry_count <= max_retries:\n",
    "        try:\n",
    "            chat_completion = client.chat.completions.create(\n",
    "                model=llm,\n",
    "                temperature=temperature,\n",
    "                stream=stream,\n",
    "                messages=messages,\n",
    "            )\n",
    "            return prepare_response(chat_completion, stream=stream)\n",
    "\n",
    "        except Exception as e:\n",
    "            print(f\"Exception: {e}\")\n",
    "            time.sleep(retry_interval)  # default is per-minute rate limits\n",
    "            retry_count += 1\n",
    "    return \"\""
   ]
  },
  {
   "cell_type": "markdown",
   "id": "8dfe6bd9-bad1-4b21-9aea-fc2e127ba3fc",
   "metadata": {},
   "source": [
    "**Note**: We’re using a temperature of 0.0 to enable reproducible experiments but you should adjust this based on your use case. For use cases that need to always be factually grounded, we recommend very low temperature values while more creative tasks can benefit from higher temperatures."
   ]
  },
  {
   "cell_type": "code",
   "execution_count": null,
   "id": "9de3685b-6839-445f-9baa-68a5e863562a",
   "metadata": {
    "tags": []
   },
   "outputs": [
    {
     "name": "stdout",
     "output_type": "stream",
     "text": [
      "  The default batch size for map_batches is 4096."
     ]
    }
   ],
   "source": [
    "# Generate response\n",
    "query = \"What is the default batch size for map_batches?\"\n",
    "response = generate_response(\n",
    "    llm=\"meta-llama/Llama-2-70b-chat-hf\",\n",
    "    temperature=0.0,\n",
    "    stream=True,\n",
    "    system_content=\"Answer the query using the context provided. Be succinct.\",\n",
    "    user_content=f\"query: {query} context: {context}\")\n",
    "# Stream response\n",
    "for content in response:\n",
    "    print(content, end='', flush=True)"
   ]
  },
  {
   "cell_type": "markdown",
   "id": "77e0511e-d79c-4d54-a50f-163c11fc8643",
   "metadata": {},
   "source": [
    "## Agent"
   ]
  },
  {
   "cell_type": "markdown",
   "id": "bad51191-19d1-40d5-bbc8-72245fafd154",
   "metadata": {},
   "source": [
    "Let's combine the context retrieval and response generation together into a convenient query agent that we can use to easily generate our responses. This will take care of setting up our agent (embedding and LLM model), as well as the context retrieval, and pass it to our LLM for response generation."
   ]
  },
  {
   "cell_type": "code",
   "execution_count": null,
   "id": "dc002554-a525-48e0-8389-e60594d29221",
   "metadata": {
    "tags": []
   },
   "outputs": [],
   "source": [
    "from rag.embed import get_embedding_model\n",
    "from rag.utils import get_num_tokens, trim"
   ]
  },
  {
   "cell_type": "code",
   "execution_count": null,
   "id": "ffcc892a-ceee-487a-aecf-db116f53e89f",
   "metadata": {
    "tags": []
   },
   "outputs": [],
   "source": [
    "class QueryAgent:\n",
    "    def __init__(self, embedding_model_name=\"thenlper/gte-base\",\n",
    "                 llm=\"meta-llama/Llama-2-70b-chat-hf\", temperature=0.0, \n",
    "                 max_context_length=4096, system_content=\"\", assistant_content=\"\"):\n",
    "        \n",
    "        # Embedding model\n",
    "        self.embedding_model = get_embedding_model(\n",
    "            embedding_model_name=embedding_model_name, \n",
    "            model_kwargs={\"device\": \"cuda\"}, \n",
    "            encode_kwargs={\"device\": \"cuda\", \"batch_size\": 100})\n",
    "        \n",
    "        # Context length (restrict input length to 50% of total context length)\n",
    "        max_context_length = int(0.5*max_context_length)\n",
    "        \n",
    "        # LLM\n",
    "        self.llm = llm\n",
    "        self.temperature = temperature\n",
    "        self.context_length = max_context_length - get_num_tokens(system_content + assistant_content)\n",
    "        self.system_content = system_content\n",
    "        self.assistant_content = assistant_content\n",
    "\n",
    "    def __call__(self, query, num_chunks=5, stream=True):\n",
    "        # Get sources and context\n",
    "        context_results = semantic_search(\n",
    "            query=query, \n",
    "            embedding_model=self.embedding_model, \n",
    "            k=num_chunks)\n",
    "            \n",
    "        # Generate response\n",
    "        context = [item[\"text\"] for item in context_results]\n",
    "        sources = [item[\"source\"] for item in context_results]\n",
    "        user_content = f\"query: {query}, context: {context}\"\n",
    "        answer = generate_response(\n",
    "            llm=self.llm,\n",
    "            temperature=self.temperature,\n",
    "            stream=stream,\n",
    "            system_content=self.system_content,\n",
    "            assistant_content=self.assistant_content,\n",
    "            user_content=trim(user_content, self.context_length))\n",
    "\n",
    "        # Result\n",
    "        result = {\n",
    "            \"question\": query,\n",
    "            \"sources\": sources,\n",
    "            \"answer\": answer,\n",
    "            \"llm\": self.llm,\n",
    "        }\n",
    "        return result"
   ]
  },
  {
   "cell_type": "markdown",
   "id": "29fc2167-3f0b-4cac-96a0-67ecb9854f2c",
   "metadata": {},
   "source": [
    "With this, we can use our RAG application in just a few lines:"
   ]
  },
  {
   "cell_type": "code",
   "execution_count": null,
   "id": "e6e0125b-cc86-4811-aded-e77b661e068a",
   "metadata": {
    "tags": []
   },
   "outputs": [],
   "source": [
    "embedding_model_name = \"thenlper/gte-base\"\n",
    "llm = \"meta-llama/Llama-2-7b-chat-hf\""
   ]
  },
  {
   "cell_type": "code",
   "execution_count": null,
   "id": "ad3b1224-922b-40b5-9979-9075c6ef100e",
   "metadata": {
    "tags": []
   },
   "outputs": [
    {
     "name": "stdout",
     "output_type": "stream",
     "text": [
      "\n",
      "\n",
      " {\n",
      "  \"question\": \"What is the default batch size for map_batches?\",\n",
      "  \"sources\": [\n",
      "    \"https://docs.ray.io/en/master/data/api/doc/ray.data.Dataset.map_batches.html#ray-data-dataset-map-batches\",\n",
      "    \"https://docs.ray.io/en/master/data/transforming-data.html#configuring-batch-size\",\n",
      "    \"https://docs.ray.io/en/master/data/batch_inference.html#configuring-batch-size\",\n",
      "    \"https://docs.ray.io/en/master/data/batch_inference.html#configuring-batch-size\",\n",
      "    \"https://docs.ray.io/en/master/tune/getting-started.html#setting-up-a-tuner-for-a-training-run-with-tune\"\n",
      "  ],\n",
      "  \"answer\": \"  The default batch size for `map_batches` is 4096. However, this can vary depending on the resource type, with a default of 4096 for CPUs and a specific batch size required for GPUs. It's important to note that the default batch size may be too large for datasets with large rows, and configuring the batch size can help improve performance.\",\n",
      "  \"llm\": \"meta-llama/Llama-2-7b-chat-hf\"\n",
      "}\n"
     ]
    }
   ],
   "source": [
    "query = \"What is the default batch size for map_batches?\"\n",
    "system_content = \"Answer the query using the context provided. Be succinct.\"\n",
    "agent = QueryAgent(\n",
    "    embedding_model_name=embedding_model_name,\n",
    "    llm=llm,\n",
    "    max_context_length=MAX_CONTEXT_LENGTHS[llm],\n",
    "    system_content=system_content)\n",
    "result = agent(query=query, stream=False)\n",
    "print(\"\\n\\n\", json.dumps(result, indent=2))"
   ]
  },
  {
   "cell_type": "markdown",
   "id": "34feb8ca-5e72-4b12-8ab3-55ca5af05109",
   "metadata": {},
   "source": [
    "# Evaluation"
   ]
  },
  {
   "cell_type": "markdown",
   "id": "6676dbb2-a143-463c-8de2-9a2763e12059",
   "metadata": {},
   "source": [
    "So far, we've chosen typical/arbitrary values for the various parts of our RAG application. But if we were to change something, such as our chunking logic, embedding model, LLM, etc. how can we know that we have a better configuration than before? A generative task like this is very difficult to quantitatively assess and so we need to develop reliable ways to do so.\n",
    "\n",
    "Because we have many moving parts in our application, we need to perform both unit/component and end-to-end evaluation. Component-wise evaluation can involve evaluating our retrieval in isolation (is the best source in our set of retrieved chunks) and evaluating our LLMs response (given the best source, is the LLM able to produce a quality answer). And for end-to-end evaluation, we can assess the quality of the entire system (given the data sources, what is the quality of the response).\n",
    "We'll be asking our evaluator LLM to score the quality of the response between 1-5 using the context, however, we could also have it produce scores for other dimensions such as hallucination (is the generated answer using information only from the provided context), toxicity, etc.\n",
    "\n",
    "**Note**: We could have constrained the score to be binary (0/1), which might be more interpretable (ex. the response was either correct or incorrect). However, we introduced a higher variance in our scores to develop a deeper, fine-grained, understanding of how LLMs score responses (ex. LLM bias towards responses).\n",
    "\n",
    "\n",
    "\n",
    "<img width=\"1000\" src=\"https://images.ctfassets.net/xjan103pcp94/17UQdsEImsXOOdDlT06bvi/4a9b9e46e157541a1178b6938624176a/llm_evaluations.png\">"
   ]
  },
  {
   "cell_type": "code",
   "execution_count": null,
   "id": "7c6f7b9e-4b77-4b0c-8660-ba8047356415",
   "metadata": {
    "tags": []
   },
   "outputs": [],
   "source": [
    "# If running tests / small samples, set num_samples to <10\n",
    "EXPERIMENTS_DIR = Path(ROOT_DIR, \"experiments\")\n",
    "NUM_SAMPLES = None  # None = all samples"
   ]
  },
  {
   "cell_type": "markdown",
   "id": "4fa7a068-fc77-4928-bf58-52321616f9d5",
   "metadata": {},
   "source": [
    "## Evaluator"
   ]
  },
  {
   "cell_type": "markdown",
   "id": "0a19d3e8-b7e8-4d69-aa70-118af1fb1708",
   "metadata": {},
   "source": [
    "We're going to start by determining our evaluator. Given a response to a query and relevant context, our evaluator should be a trusted way to score/assess the quality of the response. But before we can determine our evaluator, we need a dataset of questions and the source where the answer comes from. We can use this dataset to ask our different evaluators to provide an answer and then rate their answer (ex. score between 1-5). We can then inspect this dataset to determine if our evaluator is unbiased and has sound reasoning for the scores that are assigned.\n",
    "\n",
    "**Note**: We’re evaluating the ability of our LLM to generate a response given the relevant context. This is a component-level evaluation (`quality_score (LLM)`) because we aren’t using retrieval to fetch the relevant context."
   ]
  },
  {
   "cell_type": "markdown",
   "id": "03acb7e0-7bcb-4e2f-8552-5fe182a278db",
   "metadata": {},
   "source": [
    "We'll start by manually creating our dataset (keep reading if you can’t manually create a dataset). We have a list of user queries and the ideal source to answer the query [datasets/eval-dataset-v1.jsonl](https://github.com/ray-project/llm-applications/blob/main/datasets/eval-dataset-v1.jsonl). We will our LLM app above to generate reference answer for each query/source pair using `gpt-4`."
   ]
  },
  {
   "cell_type": "code",
   "execution_count": null,
   "id": "fa6cab00-d68d-4745-a735-048d72d8e5d6",
   "metadata": {
    "tags": []
   },
   "outputs": [],
   "source": [
    "from bs4 import BeautifulSoup\n",
    "from IPython.display import JSON, clear_output, display\n",
    "from tqdm import tqdm\n",
    "import urllib.parse"
   ]
  },
  {
   "cell_type": "code",
   "execution_count": null,
   "id": "8c58d5dd-bd0f-40eb-99e3-ea305a925127",
   "metadata": {
    "tags": []
   },
   "outputs": [],
   "source": [
    "from rag.evaluate import extract_from_response\n",
    "from rag.data import fetch_text"
   ]
  },
  {
   "cell_type": "code",
   "execution_count": null,
   "id": "ca019cc9-3241-4453-b63d-ef7c44ba584a",
   "metadata": {
    "tags": []
   },
   "outputs": [],
   "source": [
    "# Load dataset\n",
    "with open(Path(ROOT_DIR, \"datasets/eval-dataset-v1.jsonl\"), \"r\") as f:\n",
    "    data = [json.loads(item) for item in list(f)]"
   ]
  },
  {
   "cell_type": "code",
   "execution_count": null,
   "id": "3cd9e509-1fe6-42ad-886f-0e118e8dd35d",
   "metadata": {
    "tags": []
   },
   "outputs": [
    {
     "data": {
      "text/plain": [
       "[{'question': 'I’m struggling a bit with Ray Data type conversions when I do map_batches. Any advice?',\n",
       "  'source': 'https://docs.ray.io/en/master/data/transforming-data.html#configuring-batch-format'},\n",
       " {'question': 'How does autoscaling work in a Ray Serve application?',\n",
       "  'source': 'https://docs.ray.io/en/master/serve/scaling-and-resource-allocation.html#autoscaling'},\n",
       " {'question': 'how do I get the address of a ray node',\n",
       "  'source': 'https://docs.ray.io/en/master/ray-core/miscellaneous.html#node-information'},\n",
       " {'question': 'Does Ray support NCCL?',\n",
       "  'source': 'https://docs.ray.io/en/master/ray-more-libs/ray-collective.html'},\n",
       " {'question': 'Is Ray integrated with DeepSpeed?',\n",
       "  'source': 'https://docs.ray.io/en/master/ray-air/examples/gptj_deepspeed_fine_tuning.html#fine-tuning-the-model-with-ray-air-a-name-train-a'}]"
      ]
     },
     "execution_count": null,
     "metadata": {},
     "output_type": "execute_result"
    }
   ],
   "source": [
    "data[:5]"
   ]
  },
  {
   "cell_type": "code",
   "execution_count": null,
   "id": "eaeb8f67-0fef-4b0e-a362-cceb04f3295b",
   "metadata": {
    "tags": []
   },
   "outputs": [
    {
     "data": {
      "text/plain": [
       "'\\nConfiguring batch format#\\nRay Data represents batches as dicts of NumPy ndarrays or pandas DataFrames. By\\ndefault, Ray Data represents batches as dicts of NumPy ndarrays.\\nTo configure the batch type, specify batch_format in\\nmap_batches(). You can return either format from your function.\\n\\n\\n\\nNumPy\\nfrom typing import Dict\\nimport numpy as np\\nimport ray\\n\\ndef increase_brightness(batch: Dict[str, np.ndarray]) -> Dict[str, np.ndarray]:\\n    batch[\"image\"] = np.clip(batch[\"image\"] + 4, 0, 255)\\n    return batch\\n\\nds = (\\n    ray.data.read_images(\"s3://anonymous@ray-example-data/image-datasets/simple\")\\n    .map_batches(increase_brightness, batch_format=\"numpy\")\\n)\\n\\n\\n\\n\\n\\npandas\\nimport pandas as pd\\nimport ray\\n\\ndef drop_nas(batch: pd.DataFrame) -> pd.DataFrame:\\n    return batch.dropna()\\n\\nds = (\\n    ray.data.read_csv(\"s3://anonymous@air-example-data/iris.csv\")\\n    .map_batches(drop_nas, batch_format=\"pandas\")\\n)\\n\\n\\n\\n\\n'"
      ]
     },
     "execution_count": null,
     "metadata": {},
     "output_type": "execute_result"
    }
   ],
   "source": [
    "# Sample\n",
    "uri = \"https://docs.ray.io/en/master/data/transforming-data.html#configuring-batch-format\"\n",
    "fetch_text(uri=uri)"
   ]
  },
  {
   "cell_type": "code",
   "execution_count": null,
   "id": "dec3460f-c07a-4a2f-95f7-d1ef85d1a064",
   "metadata": {
    "tags": []
   },
   "outputs": [],
   "source": [
    "# Content for inference\n",
    "system_content = \"\"\"\n",
    "    Answer the query using the context provided. Be succinct.\n",
    "    Then, you must {score} your response between 1 and 5.\n",
    "    You must return your response in a line with only the score.\n",
    "    Do not add any more details.\n",
    "    On a separate line provide your {reasoning} for the score as well.\n",
    "    Return your response following the exact format outlined below.\n",
    "    Do not add or remove anything.\n",
    "    And all of this must be in a valid JSON format.\n",
    "    \n",
    "    {\"answer\": answer,\n",
    "     \"score\": score,\n",
    "     \"reasoning\": reasoning}\n",
    "    \"\"\"\n",
    "assistant_content = \"\""
   ]
  },
  {
   "cell_type": "markdown",
   "id": "f95f9309-1d92-4e43-8de4-f5286d11d4af",
   "metadata": {},
   "source": [
    "We can extract the text from this context and pass it to our LLM to generate a response to the question. We’re also going to ask it to score the quality of its response for the query. To do this, we’ve defined a `QueryAgentWithContext` that inherits from `QueryAgent`, with the change that we’re providing the context and it doesn’t need to retrieve it."
   ]
  },
  {
   "cell_type": "code",
   "execution_count": null,
   "id": "7dc33d2e-51b1-4417-8f8d-3699d5840fc0",
   "metadata": {
    "tags": []
   },
   "outputs": [],
   "source": [
    "class QueryAgentWithContext(QueryAgent):\n",
    "    def __call__(self, query, context):\n",
    "        user_content = f\"query: {query}, context: {context}\"\n",
    "        response = generate_response(\n",
    "            llm=self.llm,\n",
    "            temperature=self.temperature,\n",
    "            stream=False,\n",
    "            system_content=self.system_content,\n",
    "            assistant_content=self.assistant_content,\n",
    "            user_content=user_content[: self.context_length])\n",
    "        return response"
   ]
  },
  {
   "cell_type": "code",
   "execution_count": null,
   "id": "63c2db65-36fc-48cb-8e86-18b96554f977",
   "metadata": {
    "tags": []
   },
   "outputs": [],
   "source": [
    "def get_references(data, llm, temperature, system_content, assistant_content, num_samples=None):\n",
    "    # Initialize agent\n",
    "    agent = QueryAgentWithContext(\n",
    "        llm=llm, \n",
    "        temperature=temperature,\n",
    "        system_content=system_content,\n",
    "        assistant_content=assistant_content)\n",
    "    \n",
    "    results = []\n",
    "    for row in tqdm(data[:num_samples]):\n",
    "        # Generate response\n",
    "        query = row[\"question\"]\n",
    "        context = fetch_text(uri=row[\"source\"])\n",
    "        response = agent(query=query, context=context)\n",
    "\n",
    "        # Extract from response\n",
    "        answer, score, reasoning = extract_from_response(response=response)\n",
    "        result = ({\n",
    "                \"question\": query,\n",
    "                \"source\": row[\"source\"],\n",
    "                \"answer\": answer,\n",
    "                \"score\": score,\n",
    "                \"reasoning\": reasoning,\n",
    "            })\n",
    "        results.append(result)\n",
    "        clear_output(wait=True)\n",
    "        display(JSON(json.dumps(result, indent=2)))\n",
    "    return results"
   ]
  },
  {
   "cell_type": "code",
   "execution_count": null,
   "id": "bd52ee15-d3fa-40a0-b3a1-2b28eca8db2e",
   "metadata": {
    "tags": []
   },
   "outputs": [],
   "source": [
    "# Refernces\n",
    "REFERENCES_FILE_PATH = Path(EXPERIMENTS_DIR, \"references\", \"gpt-4.json\")\n",
    "REFERENCES_FILE_PATH.parent.mkdir(parents=True, exist_ok=True)"
   ]
  },
  {
   "cell_type": "code",
   "execution_count": null,
   "id": "25cb4b98-ddc7-462e-8d6f-92f703bfc838",
   "metadata": {
    "tags": []
   },
   "outputs": [
    {
     "data": {
      "application/json": {
       "answer": "You can configure the batch type in Ray Data by specifying the 'batch_format' in the 'map_batches()' function. If you're working with NumPy ndarrays, your function should return a dict of NumPy ndarrays. If you're working with pandas DataFrames, your function should return a pandas DataFrame. Make sure your function is returning the correct type based on your specified 'batch_format'.",
       "question": "I’m struggling a bit with Ray Data type conversions when I do map_batches. Any advice?",
       "reasoning": "The context provides clear instructions on how to handle data type conversions when using the 'map_batches()' function in Ray Data. It explains that the function used should return the correct type based on the 'batch_format' specified, either a dict of NumPy ndarrays or a pandas DataFrame.",
       "score": 5,
       "source": "https://docs.ray.io/en/master/data/transforming-data.html#configuring-batch-format"
      },
      "text/plain": [
       "<IPython.core.display.JSON object>"
      ]
     },
     "metadata": {
      "application/json": {
       "expanded": false,
       "root": "root"
      }
     },
     "output_type": "display_data"
    },
    {
     "name": "stderr",
     "output_type": "stream",
     "text": [
      "100%|██████████| 1/1 [00:12<00:00, 12.55s/it]"
     ]
    },
    {
     "name": "stdout",
     "output_type": "stream",
     "text": [
      "5.0\n"
     ]
    },
    {
     "name": "stderr",
     "output_type": "stream",
     "text": [
      "\n"
     ]
    }
   ],
   "source": [
    "# gpt-4\n",
    "results = get_references(\n",
    "    data=data, num_samples=NUM_SAMPLES, llm=\"gpt-4\", temperature=0.0, \n",
    "    system_content=system_content, assistant_content=assistant_content)\n",
    "print (np.mean([float(result[\"score\"]) for result in results if result[\"score\"]]))"
   ]
  },
  {
   "cell_type": "code",
   "execution_count": null,
   "id": "0b8356fb-2a34-4697-b478-36911b582e99",
   "metadata": {
    "tags": []
   },
   "outputs": [],
   "source": [
    "# Save to file\n",
    "with open(REFERENCES_FILE_PATH, \"w\") as fp:\n",
    "    json.dump(results, fp, indent=4)"
   ]
  },
  {
   "cell_type": "markdown",
   "id": "4c522532-98c2-46e9-b262-1747145f34e1",
   "metadata": {},
   "source": [
    "We can now create a dataset with query, source, response, score and reasoning. We can inspect this to determine if our evaluator is of high quality. We found that `gpt-4` was a high quality evaluator based on the scores and reasonings it provided. We performed the same evaluation with other LLMs (ex. `Llama-2-70b`) and we found that they lacked the appropriate reasoning and were very generous with responses from themselves.\n",
    "\n",
    "**Note**: A more thorough evaluation would also test for the following by asking the evaluator to compare responses from different LLMs across the following:\n",
    "- position (which responses we show first) \n",
    "- verbosity (longer responses are favored) \n",
    "- nepotism (ex. GPT4 prefers GPT 3.5, etc.)\n"
   ]
  },
  {
   "cell_type": "code",
   "execution_count": null,
   "id": "dceefac3-e86c-4f2b-96ee-99e3f026692f",
   "metadata": {
    "tags": []
   },
   "outputs": [],
   "source": [
    "EVALUATOR = \"gpt-4\""
   ]
  },
  {
   "cell_type": "markdown",
   "id": "36a5e137-1f4a-4c31-b1af-0c9e48131f82",
   "metadata": {},
   "source": [
    "## Cold start"
   ]
  },
  {
   "cell_type": "markdown",
   "id": "67a7f87b-9f90-40c7-85df-2e0c287a5144",
   "metadata": {},
   "source": [
    "We may not always have a prepared dataset of questions and the best source to answer that question readily available. To address this cold start problem, we could use an LLM to look at our text chunks and generate questions that the specific chunk would answer. This provides us with quality questions and the exact source the answer is in. However, this dataset generation method could be a bit noisy. The generated questions may not always have high alignment to what our users may ask. And the specific chunk we say is the best source may also have that exact information in other chunks. Nonetheless, this is a great way to start our development process while we collect + manually label a high quality dataset.\n",
    "\n",
    "<img width=\"800\" src=\"https://images.ctfassets.net/xjan103pcp94/3QR9zkjtpgeqK8XKPteTav/76aa9e7743330e7fcf73b07332a7ddf2/image10.png\">"
   ]
  },
  {
   "cell_type": "code",
   "execution_count": null,
   "id": "30844ad6-adb6-43d8-af54-0604e7942816",
   "metadata": {
    "tags": []
   },
   "outputs": [],
   "source": [
    "# Prompt\n",
    "num_questions = 3\n",
    "system_content = f\"\"\"\n",
    "Create {num_questions} questions using only the context provided.\n",
    "End each question with a '?' character and then in a newline write the answer to that question using only the context provided.\n",
    "Separate each question/answer pair by a newline.\n",
    "\"\"\""
   ]
  },
  {
   "cell_type": "code",
   "execution_count": null,
   "id": "51b0e827-5eaa-4c52-b52e-0d46f39a3666",
   "metadata": {
    "tags": []
   },
   "outputs": [],
   "source": [
    "# Generate questions\n",
    "synthetic_data = []\n",
    "for chunk in chunks[:1]:  # small samples\n",
    "    response = generate_response(\n",
    "        llm=\"gpt-4\",\n",
    "        temperature=0.0,\n",
    "        stream=False,\n",
    "        system_content=system_content,\n",
    "        user_content=f\"context: {chunk.page_content}\")\n",
    "    entries = response.split(\"\\n\\n\")\n",
    "    for entry in entries:\n",
    "        question, answer = entry.split(\"\\n\")\n",
    "        synthetic_data.append({\"question\": question, \"source\": chunk.metadata[\"source\"], \"answer\": answer})"
   ]
  },
  {
   "cell_type": "code",
   "execution_count": null,
   "id": "f083eaf6-6c0e-4e8d-a4a2-cc32bea470af",
   "metadata": {
    "tags": []
   },
   "outputs": [
    {
     "data": {
      "text/plain": [
       "[{'question': 'What is the Ray Dashboard used for?',\n",
       "  'source': 'https://docs.ray.io/en/master/ray-observability/getting-started.html#ray-dashboard',\n",
       "  'answer': 'The Ray Dashboard is used for monitoring and debugging Ray applications.'},\n",
       " {'question': 'What does the visual representation of the Ray Dashboard allow users to do?',\n",
       "  'source': 'https://docs.ray.io/en/master/ray-observability/getting-started.html#ray-dashboard',\n",
       "  'answer': 'The visual representation of the Ray Dashboard allows users to track the performance of applications and troubleshoot issues.'},\n",
       " {'question': 'Is the Ray Dashboard web-based?',\n",
       "  'source': 'https://docs.ray.io/en/master/ray-observability/getting-started.html#ray-dashboard',\n",
       "  'answer': 'Yes, the Ray Dashboard is web-based.'}]"
      ]
     },
     "execution_count": null,
     "metadata": {},
     "output_type": "execute_result"
    }
   ],
   "source": [
    "synthetic_data[:3]"
   ]
  },
  {
   "cell_type": "markdown",
   "id": "5b029edf-e018-427f-a1c9-2b4bf689d09c",
   "metadata": {},
   "source": [
    "## Experiments"
   ]
  },
  {
   "cell_type": "markdown",
   "id": "8dea24ed-0a47-47a6-9881-0af1ea8c5691",
   "metadata": {},
   "source": [
    "With our evaluator set, we're ready to start experimenting with the various components in our LLM application. While we could perform this as a large [hyperparameter tuning experiment](https://docs.ray.io/en/latest/tune/index.html), where we can search across promising combinations of values/decisions, we're going to evaluate one decision at a time and set the best value for the next experiment.\n",
    "\n",
    "**Note**: this approach is slightly imperfect because many of our decisions are not indepedent (ex. `chunk_size` and `num_chunks` should ideally be evaluated across many combinations of values).\n",
    "\n",
    "<img width=\"700\" src=\"https://images.ctfassets.net/xjan103pcp94/2LlTUhNFzfLM775IVSxjkX/af49d7b4e0fdd4a482d29cf6eab5067f/image13.png\">"
   ]
  },
  {
   "cell_type": "markdown",
   "id": "f8b51fd3-7a86-41dd-91bb-adcb83bf7269",
   "metadata": {},
   "source": [
    "### Utilities"
   ]
  },
  {
   "cell_type": "markdown",
   "id": "07b3f59f-f79b-4cdb-b55f-6d1d5d245628",
   "metadata": {},
   "source": [
    "Before we start our experiments, we’re going to define a few more utility functions. Our evaluation workflow will use our evaluator to assess the end-to-end quality (`quality_score (overall)`) of our application since the response depends on the retrieved context and the LLM. But we’ll also include a `retrieval_score` to measure the quality of our retrieval process (chunking + embedding). Our logic for determining the `retrieval_score` registers a success if the best source is anywhere in our retrieved num_chunks sources. We don't account for order, exact page section, etc. but we could add those constraints to have a more conservative retrieval score.\n",
    "\n",
    "\n",
    "<img width=\"700\" src=\"https://images.ctfassets.net/xjan103pcp94/2lhpSUNrMmi7WAHpd3wslR/15facf649e30571e8d806d354f475f0b/image6.png\">"
   ]
  },
  {
   "cell_type": "markdown",
   "id": "a42a1ebb-b3d2-48d7-9d9f-bf5231cfe5b8",
   "metadata": {},
   "source": [
    "We'll set where our labeled data and reference reports are located. We'll be using the former to generate responses and the latter dataset to evaluate those responses."
   ]
  },
  {
   "cell_type": "code",
   "execution_count": null,
   "id": "c084e6dd-b8b7-4492-9346-a3455e26e96f",
   "metadata": {
    "tags": []
   },
   "outputs": [],
   "source": [
    "import matplotlib.pyplot as plt\n",
    "from rag.generate import generate_responses\n",
    "from rag.evaluate import evaluate_responses"
   ]
  },
  {
   "cell_type": "markdown",
   "id": "3734e048-033c-46c3-834f-5cc4b380e00a",
   "metadata": {},
   "source": [
    "Let's define a function to determine our retrieval score, which registers a success if the best source is anywhere in our retrieval `num_chunks` sources. We don't account for order, exact page section, etc. but we could add those constraints to have a more conservative retreival score."
   ]
  },
  {
   "cell_type": "code",
   "execution_count": null,
   "id": "73a57c87-8ef0-4d45-9594-34ca07ff7210",
   "metadata": {
    "tags": []
   },
   "outputs": [],
   "source": [
    "def get_retrieval_score(references, generated):\n",
    "    matches = np.zeros(len(references))\n",
    "    for i in range(len(references)):\n",
    "        reference_source = references[i][\"source\"].split(\"#\")[0]\n",
    "        if not reference_source:\n",
    "            matches[i] = 1\n",
    "            continue\n",
    "        for source in generated[i][\"sources\"]:\n",
    "            # sections don't have to perfectly match\n",
    "            if reference_source == source.split(\"#\")[0]:\n",
    "                matches[i] = 1\n",
    "                continue\n",
    "    retrieval_score = np.mean(matches)\n",
    "    return retrieval_score"
   ]
  },
  {
   "cell_type": "markdown",
   "id": "7a7c708e-8fd1-4560-b65f-cf62d0034722",
   "metadata": {},
   "source": [
    "We'll define one encompassing function that will generate and evaluate the responses so that we can run these experiments with one function call. Regardless of what configuration(s) we want to evaluate, we’ll need to first generate responses using that configuration and then evaluate those responses using our evaluator:"
   ]
  },
  {
   "cell_type": "code",
   "execution_count": null,
   "id": "66a76e95-9c1b-488f-bd9f-750a176d3d77",
   "metadata": {
    "tags": []
   },
   "outputs": [],
   "source": [
    "def run_experiment(\n",
    "    experiment_name,\n",
    "    chunk_size, chunk_overlap, num_chunks,\n",
    "    embedding_model_name, embedding_dim,\n",
    "    llm, evaluator,\n",
    "    docs_dir, experiments_dir, references_fp,\n",
    "    system_content=\"Answer the query using the context provided. Be succinct.\",\n",
    "    use_lexical_search=False,\n",
    "    lexical_search_k=1,\n",
    "    use_reranking=False,\n",
    "    rerank_threshold=0.0,\n",
    "    rerank_k=7,\n",
    "    num_samples=None,\n",
    "    sql_dump_fp=None):\n",
    "    \"\"\"Generate responses and evaluate them.\"\"\"\n",
    "    \n",
    "    # Generate responses\n",
    "    generate_responses(\n",
    "        experiment_name=experiment_name, \n",
    "        chunk_size=chunk_size, \n",
    "        chunk_overlap=chunk_overlap, \n",
    "        num_chunks=num_chunks,\n",
    "        embedding_model_name=embedding_model_name,\n",
    "        embedding_dim=embedding_dim,\n",
    "        use_lexical_search=use_lexical_search,\n",
    "        lexical_search_k=lexical_search_k,\n",
    "        use_reranking=use_reranking,\n",
    "        rerank_threshold=rerank_threshold,\n",
    "        rerank_k=rerank_k,\n",
    "        llm=llm, \n",
    "        temperature=0.0, \n",
    "        max_context_length=MAX_CONTEXT_LENGTHS[llm], \n",
    "        system_content=system_content,\n",
    "        assistant_content=\"\",\n",
    "        docs_dir=docs_dir,\n",
    "        experiments_dir=experiments_dir,\n",
    "        references_fp=references_fp,\n",
    "        num_samples=num_samples,\n",
    "        sql_dump_fp=sql_dump_fp)\n",
    "\n",
    "    # Evaluate responses\n",
    "    evaluation_system_content = \"\"\"\n",
    "        Your job is to rate the quality of our generated answer {generated_answer}\n",
    "        given a query {query} and a reference answer {reference_answer}.\n",
    "        Your score has to be between 1 and 5.\n",
    "        You must return your response in a line with only the score.\n",
    "        Do not return answers in any other format.\n",
    "        On a separate line provide your reasoning for the score as well.\n",
    "        \"\"\"\n",
    "    evaluate_responses(\n",
    "        experiment_name=experiment_name,\n",
    "        evaluator=evaluator, \n",
    "        temperature=0.0, \n",
    "        max_context_length=MAX_CONTEXT_LENGTHS[evaluator],\n",
    "        system_content=evaluation_system_content,\n",
    "        assistant_content=\"\",\n",
    "        experiments_dir=experiments_dir,\n",
    "        references_fp=references_fp,\n",
    "        responses_fp=str(Path(experiments_dir, \"responses\", f\"{experiment_name}.json\")),\n",
    "        num_samples=num_samples)"
   ]
  },
  {
   "cell_type": "code",
   "execution_count": null,
   "id": "169201fd-aa78-4459-a55f-04c97f1938aa",
   "metadata": {
    "tags": []
   },
   "outputs": [],
   "source": [
    "def print_experiment(experiment_name, experiments_dir, evaluator=EVALUATOR, verbose=True):\n",
    "    eval_fp = Path(experiments_dir, \"evaluations\", f\"{experiment_name}_{evaluator}.json\")\n",
    "    with open(eval_fp, \"r\") as fp:\n",
    "        d = json.load(fp)\n",
    "    retrieval_score = d[\"retrieval_score\"]\n",
    "    quality_score = d[\"quality_score\"]\n",
    "    if verbose:\n",
    "        print (experiment_name)\n",
    "        print (\"  retrieval score:\", retrieval_score)\n",
    "        print (\"  quality score:\", quality_score)\n",
    "        print ()\n",
    "    return {\"retrieval_score\": retrieval_score, \"quality_score\": quality_score}"
   ]
  },
  {
   "cell_type": "code",
   "execution_count": null,
   "id": "6f44e646-740e-47b7-a878-e15fb432394d",
   "metadata": {
    "tags": []
   },
   "outputs": [],
   "source": [
    "def plot_scores(scores):\n",
    "    # Prepare data for plotting\n",
    "    experiment_names = list(scores.keys())\n",
    "    retrieval_scores = [scores[experiment_name][\"retrieval_score\"] for experiment_name in experiment_names]\n",
    "    quality_scores = [scores[experiment_name][\"quality_score\"] for experiment_name in experiment_names]\n",
    "    \n",
    "    # Plotting\n",
    "    plt.figure(figsize=(10, 3))\n",
    "    for i, experiment_name in enumerate(experiment_names):\n",
    "        plt.scatter(quality_scores[i], retrieval_scores[i], label=experiment_name)\n",
    "        plt.text(quality_scores[i]+0.005, retrieval_scores[i]+0.005, experiment_name, ha=\"right\")\n",
    "        \n",
    "    # Add labels and title\n",
    "    plt.xlabel(\"Quality Score\")\n",
    "    plt.ylabel(\"Retrieval Score\")\n",
    "    plt.legend(title=\"Experiments\")\n",
    "    \n",
    "    # Show the plot\n",
    "    plt.show()"
   ]
  },
  {
   "cell_type": "code",
   "execution_count": null,
   "id": "8accfe8a-5041-4b94-a225-9e34a73ac5b8",
   "metadata": {
    "tags": []
   },
   "outputs": [],
   "source": [
    "llm = \"codellama/CodeLlama-34b-Instruct-hf\"\n",
    "embedding_model_name = \"thenlper/gte-base\""
   ]
  },
  {
   "cell_type": "markdown",
   "id": "6b31ebee-f839-4aaa-b328-72cee088c830",
   "metadata": {
    "tags": []
   },
   "source": [
    "### Context"
   ]
  },
  {
   "cell_type": "markdown",
   "id": "e89f56c4-2629-4ff7-b57c-f319170937de",
   "metadata": {},
   "source": [
    "We're first going to test if the additonal context we provide is helpful at all. This is to validate that the RAG system is indeed worth the effort. We can do this by settings `num_chunks=0` (no context) and comparing that to `num_chunks=5`."
   ]
  },
  {
   "cell_type": "code",
   "execution_count": null,
   "id": "91cefda6-0ec7-40a2-afc0-b8af2bdd3332",
   "metadata": {
    "tags": []
   },
   "outputs": [],
   "source": [
    "# Without context\n",
    "num_chunks = 0\n",
    "experiment_name = f\"without-context\"\n",
    "embedding_model_name = \"thenlper/gte-base\"\n",
    "run_experiment(\n",
    "    experiment_name=experiment_name, \n",
    "    chunk_size=300, \n",
    "    chunk_overlap=50,\n",
    "    num_chunks=num_chunks,\n",
    "    embedding_model_name=embedding_model_name,\n",
    "    embedding_dim=EMBEDDING_DIMENSIONS[embedding_model_name],\n",
    "    llm=llm,\n",
    "    evaluator=EVALUATOR,\n",
    "    docs_dir=DOCS_DIR, \n",
    "    experiments_dir=EXPERIMENTS_DIR, \n",
    "    references_fp=REFERENCES_FILE_PATH,\n",
    "    num_samples=NUM_SAMPLES)"
   ]
  },
  {
   "cell_type": "code",
   "execution_count": null,
   "id": "a819c26a-9e05-484b-8e57-edfd26a84d4d",
   "metadata": {
    "tags": []
   },
   "outputs": [
    {
     "data": {
      "application/json": {
       "generated_answer": "  To kill a specific Serve replica, you can use the `ray.kill()` function and pass in the replica handle as an argument. You can obtain the replica handle by using the `ray.get_actor()` function and passing in the replica's NAME from the `ray list actor` output.\n\nFor example, if the replica's NAME is \"SERVE_REPLICA::SleepyPid#RlRptP\", you can kill the replica by running the following command:\n```\nray.kill(ray.get_actor(\"SERVE_REPLICA::SleepyPid#RlRptP\", namespace=\"serve\"), no_restart=True)\n```\nNote that the `no_restart` argument is set to `True` to prevent the replica from being restarted automatically.",
       "question": "how do I kill a specific serve replica",
       "reasoning": "The generated answer is highly detailed and provides a clear, step-by-step process on how to kill a specific serve replica. It even includes an example for better understanding. The reference answer does not provide any information, making the generated answer superior in this case.",
       "reference_answer": "The context does not provide information on how to kill a specific serve replica.",
       "score": 5,
       "sources": [
        "https://docs.ray.io/en/master/serve/production-guide/fault-tolerance.html#deployment-replica-failure",
        "https://docs.ray.io/en/master/serve/production-guide/fault-tolerance.html#serve-controller-failure",
        "https://docs.ray.io/en/master/serve/production-guide/fault-tolerance.html#deployment-replica-failure",
        "https://docs.ray.io/en/master/serve/scaling-and-resource-allocation.html#scaling-horizontally-with-num-replicas",
        "https://docs.ray.io/en/master/serve/production-guide/fault-tolerance.html#serve-controller-failure"
       ]
      },
      "text/plain": [
       "<IPython.core.display.JSON object>"
      ]
     },
     "metadata": {
      "application/json": {
       "expanded": false,
       "root": "root"
      }
     },
     "output_type": "display_data"
    },
    {
     "name": "stderr",
     "output_type": "stream",
     "text": [
      "100%|██████████| 177/177 [18:35<00:00,  6.30s/it]\n"
     ]
    }
   ],
   "source": [
    "# With context\n",
    "num_chunks = 5\n",
    "experiment_name = \"with-context\"\n",
    "embedding_model_name = \"thenlper/gte-base\"\n",
    "run_experiment(\n",
    "    experiment_name=experiment_name, \n",
    "    chunk_size=300, \n",
    "    chunk_overlap=50, \n",
    "    num_chunks=num_chunks,\n",
    "    embedding_model_name=embedding_model_name,\n",
    "    embedding_dim=EMBEDDING_DIMENSIONS[embedding_model_name],\n",
    "    llm=llm,\n",
    "    evaluator=EVALUATOR,\n",
    "    docs_dir=DOCS_DIR, \n",
    "    experiments_dir=EXPERIMENTS_DIR, \n",
    "    references_fp=REFERENCES_FILE_PATH,\n",
    "    num_samples=NUM_SAMPLES)"
   ]
  },
  {
   "cell_type": "code",
   "execution_count": null,
   "id": "8327cf28-5114-4e93-b769-014108dd743a",
   "metadata": {
    "tags": []
   },
   "outputs": [
    {
     "name": "stdout",
     "output_type": "stream",
     "text": [
      "without-context\n",
      "  retrieval score: 0.0\n",
      "  quality score: 2.824858757062147\n",
      "\n",
      "with-context\n",
      "  retrieval score: 0.5254237288135594\n",
      "  quality score: 3.3870056497175143\n",
      "\n"
     ]
    },
    {
     "data": {
      "image/png": "[encoded data removed]",
      "text/plain": [
       "<Figure size 1000x300 with 1 Axes>"
      ]
     },
     "metadata": {},
     "output_type": "display_data"
    }
   ],
   "source": [
    "scores = {}\n",
    "for experiment_name in [\"without-context\", \"with-context\"]:\n",
    "    scores[experiment_name] = print_experiment(experiment_name, EXPERIMENTS_DIR)\n",
    "plot_scores(scores=scores)"
   ]
  },
  {
   "cell_type": "markdown",
   "id": "df01f761-d3a7-4783-9fa7-57f62679b548",
   "metadata": {},
   "source": [
    "**Sanity check**: the retrieval score for without-context is zero since we’re using any context.\n",
    "\n",
    "As we can see, using context (RAG) does indeed help in the quality of our answers (and by a meaningful margin)."
   ]
  },
  {
   "cell_type": "markdown",
   "id": "6acc3a24-007d-4add-b0dd-5832351c6d63",
   "metadata": {
    "tags": []
   },
   "source": [
    "### Chunk size"
   ]
  },
  {
   "cell_type": "markdown",
   "id": "11775f23-89ef-432d-a00d-2a11ffaebf67",
   "metadata": {},
   "source": [
    "Next, we'll access various chunk sizes. Smaller chunks (but not too small!) are able to encapsulate atomic concepts which yields more precise retrieval. While larger chunks may be more noisy. Popular strategies include using small chunks but retrieving a bit of the [surrounding chunks](https://gpt-index.readthedocs.io/en/latest/end_to_end_tutorials/dev_practices/production_rag.html#decoupling-chunks-used-for-retrieval-vs-chunks-used-for-synthesis) around it (since it may have relevnat info) or store [mulitple embeddings](https://python.langchain.com/docs/modules/data_connection/retrievers/multi_vector) per document (ex. summary embedding per document)."
   ]
  },
  {
   "cell_type": "code",
   "execution_count": null,
   "id": "64b691b8-b2ea-4f77-857a-09e50053699c",
   "metadata": {
    "tags": []
   },
   "outputs": [],
   "source": [
    "experiment_names = []\n",
    "chunk_sizes = [100, 300, 500, 700, 900]"
   ]
  },
  {
   "cell_type": "code",
   "execution_count": null,
   "id": "53c054d1-9e4d-4688-b4b9-cf5a39b382c3",
   "metadata": {
    "tags": []
   },
   "outputs": [
    {
     "data": {
      "application/json": {
       "generated_answer": "  To kill a specific serve replica, you can use the `ray.kill()` function and pass in the replica handle as an argument. You can obtain the replica handle by using the `ray.get_actor()` function and passing in the replica's name and namespace.\n\nHere is an example of how to kill a specific serve replica:\n```\n>>> import ray\n>>> replica_handle = ray.get_actor(\"SERVE_REPLICA::SleepyPid#RlRptP\", namespace=\"serve\")\n>>> ray.kill(replica_handle, no_restart=True)\n```\nNote that the `no_restart` parameter is set to `True` to prevent the replica from restarting.",
       "question": "how do I kill a specific serve replica",
       "reasoning": "The generated answer is highly detailed and provides a clear, step-by-step guide on how to kill a specific serve replica. It even includes a code example for better understanding. The reference answer does not provide any useful information, making the generated answer superior in this case.",
       "reference_answer": "The context does not provide information on how to kill a specific serve replica.",
       "score": 5,
       "sources": [
        "https://docs.ray.io/en/master/serve/production-guide/fault-tolerance.html#deployment-replica-failure",
        "https://docs.ray.io/en/master/serve/production-guide/fault-tolerance.html#serve-controller-failure",
        "https://docs.ray.io/en/master/serve/production-guide/fault-tolerance.html#serve-controller-failure",
        "https://docs.ray.io/en/master/serve/production-guide/fault-tolerance.html#deployment-replica-failure",
        "https://docs.ray.io/en/master/serve/production-guide/kubernetes.html#next-steps"
       ]
      },
      "text/plain": [
       "<IPython.core.display.JSON object>"
      ]
     },
     "metadata": {
      "application/json": {
       "expanded": false,
       "root": "root"
      }
     },
     "output_type": "display_data"
    },
    {
     "name": "stderr",
     "output_type": "stream",
     "text": [
      "100%|██████████| 177/177 [17:51<00:00,  6.06s/it]\n"
     ]
    }
   ],
   "source": [
    "for chunk_size in chunk_sizes:\n",
    "    experiment_name = f\"chunk-size-{chunk_size}\"\n",
    "    experiment_names.append(experiment_name)\n",
    "    run_experiment(\n",
    "        experiment_name=experiment_name, \n",
    "        chunk_size=chunk_size, \n",
    "        chunk_overlap=50, \n",
    "        num_chunks=5,\n",
    "        embedding_model_name=embedding_model_name,\n",
    "        embedding_dim=EMBEDDING_DIMENSIONS[embedding_model_name],\n",
    "        llm=llm,\n",
    "        evaluator=EVALUATOR,\n",
    "        docs_dir=DOCS_DIR, \n",
    "        experiments_dir=EXPERIMENTS_DIR, \n",
    "        references_fp=REFERENCES_FILE_PATH,\n",
    "        num_samples=NUM_SAMPLES)"
   ]
  },
  {
   "cell_type": "code",
   "execution_count": null,
   "id": "5155e8b6-5a52-4154-b05e-12af5a0e413d",
   "metadata": {
    "tags": []
   },
   "outputs": [
    {
     "name": "stdout",
     "output_type": "stream",
     "text": [
      "chunk-size-100\n",
      "  retrieval score: 0.4180790960451977\n",
      "  quality score: 3.019774011299435\n",
      "\n",
      "chunk-size-300\n",
      "  retrieval score: 0.5254237288135594\n",
      "  quality score: 3.4124293785310735\n",
      "\n",
      "chunk-size-500\n",
      "  retrieval score: 0.5480225988700564\n",
      "  quality score: 3.446327683615819\n",
      "\n",
      "chunk-size-700\n",
      "  retrieval score: 0.519774011299435\n",
      "  quality score: 3.516949152542373\n",
      "\n",
      "chunk-size-900\n",
      "  retrieval score: 0.5706214689265536\n",
      "  quality score: 3.480225988700565\n",
      "\n"
     ]
    },
    {
     "data": {
      "image/png": "[encoded data removed]",
      "text/plain": [
       "<Figure size 1000x300 with 1 Axes>"
      ]
     },
     "metadata": {},
     "output_type": "display_data"
    }
   ],
   "source": [
    "scores = {}\n",
    "for experiment_name in experiment_names:\n",
    "    scores[experiment_name] = print_experiment(experiment_name, EXPERIMENTS_DIR)\n",
    "plot_scores(scores=scores)"
   ]
  },
  {
   "cell_type": "markdown",
   "id": "680569cb-d1b3-464e-b771-1f5dd3d0cc66",
   "metadata": {},
   "source": [
    "It appears that larger chunk sizes do help but tapers off (too much context might be too noisy). Larger chunk sizes [aren’t always better](https://arxiv.org/abs/2307.03172).\n",
    "\n",
    "**Note**: If we were to use larger chunk sizes (ours is based on characters), keep in mind that [most](https://huggingface.co/spaces/mteb/leaderboard) open source embedding models have a maximum sequence length of 512 sub-word tokens. This means that if our chunk contains more than 512 sub-word tokens (4 chars ≈ 1 token), the embedding wouldn't account for it anyway (unless we finetune our embedding model to have longer sequence lengths)."
   ]
  },
  {
   "cell_type": "code",
   "execution_count": null,
   "id": "04df6ec4-7edf-4a27-93ae-7ee2b3ff7241",
   "metadata": {
    "tags": []
   },
   "outputs": [],
   "source": [
    "CHUNK_SIZE = 700\n",
    "CHUNK_OVERLAP = 50"
   ]
  },
  {
   "cell_type": "markdown",
   "id": "fc80dd05-ced6-49b4-a193-c52fcebc118e",
   "metadata": {
    "tags": []
   },
   "source": [
    "### Number of chunks"
   ]
  },
  {
   "cell_type": "markdown",
   "id": "84fbb854-b016-4c42-97bc-56c7eebfa3dd",
   "metadata": {},
   "source": [
    "Next, we'll experiment with the number of chunks to use. More chunks will allow us to add more context but too many could potentially introduce a lot of noise.\n",
    "\n",
    "**Note**: The `chunk_size` we chose multiplied by the `num_chunks` below fits inside the LLM's context length. We're experimenting with the chunk size and number of chunks as if they were indepdent variables but they area heavily related. Especially since all of our LLMs have a finite maximum context length. So ideally, we would tune for a combination if `chunk_size` * `num_chunks`."
   ]
  },
  {
   "cell_type": "code",
   "execution_count": null,
   "id": "03926725-4dac-43ad-880b-80825d3b958c",
   "metadata": {
    "tags": []
   },
   "outputs": [],
   "source": [
    "experiment_names = []\n",
    "num_chunks_list = [1, 3, 5, 7, 9]"
   ]
  },
  {
   "cell_type": "code",
   "execution_count": null,
   "id": "c514d9c7-e16d-44c4-88b7-72a49b5c4197",
   "metadata": {
    "tags": []
   },
   "outputs": [
    {
     "data": {
      "application/json": {
       "generated_answer": "  To kill a specific serve replica, you can use the `ray.kill` function and pass in the replica's handle. You can get the replica's handle by using the `ray.get_actor` function and passing in the replica's name.\n\nHere's an example:\n```\n>>> import ray\n>>> replica_handle = ray.get_actor(\"SERVE_REPLICA::SleepyPid#RlRptP\", namespace=\"serve\")\n>>> ray.kill(replica_handle, no_restart=True)\n```\nThis will kill the replica with the name \"SERVE_REPLICA::SleepyPid#RlRptP\" and prevent it from restarting.\n\nNote that you'll need to use the NAME from the `ray list actor` output to get a handle to the replica.",
       "question": "how do I kill a specific serve replica",
       "reasoning": "The generated answer is comprehensive and provides a detailed step-by-step guide on how to kill a specific serve replica. It even includes a code example for better understanding. The reference answer does not provide any useful information, so the generated answer is significantly better.",
       "reference_answer": "The context does not provide information on how to kill a specific serve replica.",
       "score": 5,
       "sources": [
        "https://docs.ray.io/en/master/serve/production-guide/fault-tolerance.html#deployment-replica-failure",
        "https://docs.ray.io/en/master/serve/production-guide/fault-tolerance.html#serve-controller-failure",
        "https://docs.ray.io/en/master/serve/production-guide/fault-tolerance.html#deployment-replica-failure",
        "https://docs.ray.io/en/master/serve/production-guide/fault-tolerance.html#head-node-failure",
        "https://docs.ray.io/en/master/serve/production-guide/fault-tolerance.html#serve-controller-failure"
       ]
      },
      "text/plain": [
       "<IPython.core.display.JSON object>"
      ]
     },
     "metadata": {
      "application/json": {
       "expanded": false,
       "root": "root"
      }
     },
     "output_type": "display_data"
    },
    {
     "name": "stderr",
     "output_type": "stream",
     "text": [
      "100%|██████████| 177/177 [23:34<00:00,  7.99s/it]\n"
     ]
    }
   ],
   "source": [
    "for num_chunks in num_chunks_list:\n",
    "    experiment_name = f\"num-chunks-{num_chunks}\"\n",
    "    experiment_names.append(experiment_name)\n",
    "    run_experiment(\n",
    "        experiment_name=experiment_name,\n",
    "        chunk_size=CHUNK_SIZE, \n",
    "        chunk_overlap=CHUNK_OVERLAP, \n",
    "        num_chunks=num_chunks,\n",
    "        embedding_model_name=embedding_model_name,\n",
    "        embedding_dim=EMBEDDING_DIMENSIONS[embedding_model_name],\n",
    "        llm=llm,\n",
    "        evaluator=EVALUATOR,\n",
    "        docs_dir=DOCS_DIR, \n",
    "        experiments_dir=EXPERIMENTS_DIR, \n",
    "        references_fp=REFERENCES_FILE_PATH,\n",
    "        num_samples=NUM_SAMPLES)"
   ]
  },
  {
   "cell_type": "code",
   "execution_count": null,
   "id": "d688ed6b-2e32-4c80-b83f-e5ebbca88ea6",
   "metadata": {
    "tags": []
   },
   "outputs": [
    {
     "name": "stdout",
     "output_type": "stream",
     "text": [
      "num-chunks-1\n",
      "  retrieval score: 0.2542372881355932\n",
      "  quality score: 3.1807909604519775\n",
      "\n",
      "num-chunks-3\n",
      "  retrieval score: 0.4689265536723164\n",
      "  quality score: 3.463276836158192\n",
      "\n",
      "num-chunks-5\n",
      "  retrieval score: 0.519774011299435\n",
      "  quality score: 3.5028248587570623\n",
      "\n",
      "num-chunks-7\n",
      "  retrieval score: 0.6271186440677966\n",
      "  quality score: 3.516949152542373\n",
      "\n",
      "num-chunks-9\n",
      "  retrieval score: 0.6836158192090396\n",
      "  quality score: 3.5395480225988702\n",
      "\n"
     ]
    },
    {
     "data": {
      "image/png": "[encoded data removed]",
      "text/plain": [
       "<Figure size 1000x300 with 1 Axes>"
      ]
     },
     "metadata": {},
     "output_type": "display_data"
    }
   ],
   "source": [
    "scores = {}\n",
    "for experiment_name in experiment_names:\n",
    "    scores[experiment_name] = print_experiment(experiment_name, EXPERIMENTS_DIR)\n",
    "plot_scores(scores=scores)"
   ]
  },
  {
   "cell_type": "markdown",
   "id": "ee986a80-8659-4344-bb22-71bb62b32946",
   "metadata": {},
   "source": [
    "Increasing our number of chunks improves our retrieval and quality scores. We had to stop testing at `num_chunks` of 9 because we started to hit maximum context length often. This is a compelling reason to invest in extending context size via RoPE scaling (rotary position embeddings), etc.\n"
   ]
  },
  {
   "cell_type": "code",
   "execution_count": null,
   "id": "fbe4828f-9639-4957-898e-27dd0ce3ee32",
   "metadata": {
    "tags": []
   },
   "outputs": [],
   "source": [
    "NUM_CHUNKS = 9"
   ]
  },
  {
   "cell_type": "markdown",
   "id": "1a04dff3-5323-419f-a290-849c96899292",
   "metadata": {},
   "source": [
    "### Embedding models"
   ]
  },
  {
   "cell_type": "markdown",
   "id": "df10c471-22b5-479c-bbbd-59ff3835d7b9",
   "metadata": {},
   "source": [
    "So far, we've used [thenlper/gte-base](https://huggingface.co/thenlper/gte-base) as our embedding model because it's a relatively small (0.22 GB) and performant option. But now, let's explore other popular options such as the current leader on the [MTEB leaderboard](https://huggingface.co/spaces/mteb/leaderboard), [BAAI/bge-large-en](https://huggingface.co/BAAI/bge-large-en) (1.34 GB), [thenlper/gte-large](https://huggingface.co/thenlper/gte-large) (a larger version of `gte-base`), and OpenAI's [text-embedding-ada-002](https://openai.com/blog/new-and-improved-embedding-model)."
   ]
  },
  {
   "cell_type": "code",
   "execution_count": null,
   "id": "198ec597-8aaf-4c45-a275-2094211eebb4",
   "metadata": {
    "tags": []
   },
   "outputs": [],
   "source": [
    "experiment_names = []\n",
    "embedding_model_names = [\"thenlper/gte-base\", \"thenlper/gte-large\", \"BAAI/bge-large-en\", \"text-embedding-ada-002\"]"
   ]
  },
  {
   "cell_type": "code",
   "execution_count": null,
   "id": "1913f50c-ef13-487d-beeb-77ee38f91067",
   "metadata": {
    "tags": []
   },
   "outputs": [
    {
     "data": {
      "application/json": {
       "generated_answer": "  To kill a specific serve replica, you can use the `ray kill` command with the actor ID of the replica. You can get the actor ID by running `ray list actors` and filtering the output by the class name of the replica. For example, if you want to kill a replica with the class name `ServeReplica:SleepyPid`, you can run `ray kill <actor_id>`.",
       "question": "how do I kill a specific serve replica",
       "reasoning": "The generated answer is detailed and provides a clear step-by-step process on how to kill a specific serve replica, which is the information asked for in the query. The reference answer does not provide any useful information, so the generated answer is superior in this case.",
       "reference_answer": "The context does not provide information on how to kill a specific serve replica.",
       "score": 5,
       "sources": [
        "https://docs.ray.io/en/master/serve/production-guide/fault-tolerance.html#deployment-replica-failure",
        "https://docs.ray.io/en/master/serve/advanced-guides/dev-workflow.html#local-development-with-http-requests",
        "https://docs.ray.io/en/master/serve/production-guide/fault-tolerance.html#serve-controller-failure",
        "https://docs.ray.io/en/master/serve/advanced-guides/dev-workflow.html#local-development-with-http-requests",
        "https://docs.ray.io/en/master/ray-observability/getting-started.html#serve-application-detail-page",
        "https://docs.ray.io/en/master/cluster/kubernetes/troubleshooting/rayservice-troubleshooting.html#method-5-ray-state-cli",
        "https://docs.ray.io/en/master/serve/production-guide/fault-tolerance.html#deployment-replica-failure",
        "https://docs.ray.io/en/master/serve/monitoring.html#ray-dashboard",
        "https://docs.ray.io/en/master/serve/production-guide/fault-tolerance.html#httpproxy-failure"
       ]
      },
      "text/plain": [
       "<IPython.core.display.JSON object>"
      ]
     },
     "metadata": {
      "application/json": {
       "expanded": false,
       "root": "root"
      }
     },
     "output_type": "display_data"
    },
    {
     "name": "stderr",
     "output_type": "stream",
     "text": [
      "100%|██████████| 177/177 [21:41<00:00,  7.35s/it]\n"
     ]
    }
   ],
   "source": [
    "for embedding_model_name in embedding_model_names:\n",
    "    experiment_name = f\"{embedding_model_name.split('/')[-1]}\"\n",
    "    experiment_names.append(experiment_name)\n",
    "    run_experiment(\n",
    "        experiment_name=experiment_name, \n",
    "        chunk_size=CHUNK_SIZE, \n",
    "        chunk_overlap=CHUNK_OVERLAP, \n",
    "        num_chunks=NUM_CHUNKS,\n",
    "        embedding_model_name=embedding_model_name,\n",
    "        embedding_dim=EMBEDDING_DIMENSIONS[embedding_model_name],\n",
    "        llm=llm,\n",
    "        evaluator=EVALUATOR,\n",
    "        docs_dir=DOCS_DIR, \n",
    "        experiments_dir=EXPERIMENTS_DIR, \n",
    "        references_fp=REFERENCES_FILE_PATH,\n",
    "        num_samples=NUM_SAMPLES)"
   ]
  },
  {
   "cell_type": "code",
   "execution_count": null,
   "id": "60ec4e25-b11c-4ee1-a9a9-ce29eb6dc81e",
   "metadata": {
    "tags": []
   },
   "outputs": [
    {
     "name": "stdout",
     "output_type": "stream",
     "text": [
      "gte-base\n",
      "  retrieval score: 0.6836158192090396\n",
      "  quality score: 3.519774011299435\n",
      "\n",
      "gte-large\n",
      "  retrieval score: 0.7288135593220338\n",
      "  quality score: 3.573446327683616\n",
      "\n",
      "bge-large-en\n",
      "  retrieval score: 0.4180790960451977\n",
      "  quality score: 3.2344632768361583\n",
      "\n",
      "text-embedding-ada-002\n",
      "  retrieval score: 0.6497175141242938\n",
      "  quality score: 3.5706214689265536\n",
      "\n"
     ]
    },
    {
     "data": {
      "image/png": "[encoded data removed]",
      "text/plain": [
       "<Figure size 1000x300 with 1 Axes>"
      ]
     },
     "metadata": {},
     "output_type": "display_data"
    }
   ],
   "source": [
    "scores = {}\n",
    "for experiment_name in experiment_names:\n",
    "    scores[experiment_name] = print_experiment(experiment_name, EXPERIMENTS_DIR)\n",
    "plot_scores(scores=scores)"
   ]
  },
  {
   "cell_type": "markdown",
   "id": "7fd24b35-1db3-4326-ab0c-c4b484fb5aea",
   "metadata": {},
   "source": [
    "This is an interesting outcome because the #1 (`BAAI/bge-large-en`) on the current [leaderboard](https://huggingface.co/spaces/mteb/leaderboard) isn't necessarily the best for our specific task. Using the smaller `thenlper/gte-large` produced the best retrieval and quality scores in our experiments."
   ]
  },
  {
   "cell_type": "code",
   "execution_count": null,
   "id": "845ad771-65e1-44cf-813f-3aa167c07e31",
   "metadata": {
    "tags": []
   },
   "outputs": [],
   "source": [
    "EMBEDDING_MODEL_NAME = \"thenlper/gte-large\""
   ]
  },
  {
   "cell_type": "markdown",
   "id": "8b21b32f-bacb-4703-b16c-d4a7014779dc",
   "metadata": {},
   "source": [
    "### OSS vs. closed LLMs"
   ]
  },
  {
   "cell_type": "markdown",
   "id": "f393785f-17da-45eb-bf69-1483f74a370e",
   "metadata": {},
   "source": [
    "We're now going to use the best configurations from above to evaluate different choices for the main LLM.\n",
    "\n",
    "**Note**:\n",
    "- We've been using a specific LLM so far to decide on the configuration so that specific LLM's performance here will be a bit biased.\n",
    "- This list is not exhaustive and even for the LLMs we use, there are versions with longer context windows available."
   ]
  },
  {
   "cell_type": "code",
   "execution_count": null,
   "id": "a91c87cb-ba0d-4044-9616-b2cbad239587",
   "metadata": {
    "tags": []
   },
   "outputs": [],
   "source": [
    "experiment_names = []\n",
    "llms = [\"gpt-3.5-turbo\",\n",
    "        \"gpt-4\",\n",
    "        \"gpt-4-1106-preview\",\n",
    "        \"meta-llama/Llama-2-7b-chat-hf\", \n",
    "        \"meta-llama/Llama-2-13b-chat-hf\", \n",
    "        \"meta-llama/Llama-2-70b-chat-hf\",\n",
    "        \"codellama/CodeLlama-34b-Instruct-hf\",\n",
    "        \"mistralai/Mistral-7B-Instruct-v0.1\",\n",
    "        \"mistralai/Mixtral-8x7B-Instruct-v0.1\"]"
   ]
  },
  {
   "cell_type": "code",
   "execution_count": null,
   "id": "072e8114-23ba-402e-a03d-594089e9b4d5",
   "metadata": {
    "tags": []
   },
   "outputs": [
    {
     "data": {
      "application/json": {
       "generated_answer": "To kill a specific serve replica in Ray Serve, you can follow these steps:\n\n1. Obtain a handle to the replica actor using `ray.get_actor()` with the replica's unique name and the namespace it belongs to.\n2. Use `ray.kill()` to kill the replica actor, passing the handle obtained in the previous step. You can set `no_restart=True` if you do not want the replica to be automatically restarted.\n\nHere is an example code snippet based on the context provided:\n\n```python\nimport ray\n\n# Get a handle to the specific serve replica actor\nreplica_handle = ray.get_actor(\"SERVE_REPLICA::SleepyPid#RlRptP\", namespace=\"serve\")\n\n# Kill the replica actor without restarting it\nray.kill(replica_handle, no_restart=True)\n```\n\nAfter running this code, the specific serve replica will be killed, and if `no_restart` is set to `True`, it will not be restarted. Other replicas will continue processing requests.",
       "question": "how do I kill a specific serve replica",
       "reasoning": "The generated answer provides a detailed and technically accurate response to the query, including a step-by-step guide and a code snippet. However, it does not perfectly match the reference answer, which states that the context does not provide information on how to kill a specific serve replica. Despite this, the generated answer is still highly informative and useful.",
       "reference_answer": "The context does not provide information on how to kill a specific serve replica.",
       "score": 4,
       "sources": [
        "https://docs.ray.io/en/master/serve/production-guide/fault-tolerance.html#deployment-replica-failure",
        "https://docs.ray.io/en/master/serve/production-guide/fault-tolerance.html#deployment-replica-failure",
        "https://docs.ray.io/en/master/serve/advanced-guides/dev-workflow.html#local-development-with-http-requests",
        "https://docs.ray.io/en/master/serve/api/index.html#delete-api-serve-deployments",
        "https://docs.ray.io/en/master/serve/production-guide/fault-tolerance.html#deployment-replica-failure",
        "https://docs.ray.io/en/master/serve/scaling-and-resource-allocation.html#autoscaling",
        "https://docs.ray.io/en/master/serve/production-guide/fault-tolerance.html#worker-node-failure",
        "https://docs.ray.io/en/master/serve/production-guide/fault-tolerance.html#httpproxy-failure",
        "https://docs.ray.io/en/master/serve/api/index.html#delete-api-serve-applications"
       ]
      },
      "text/plain": [
       "<IPython.core.display.JSON object>"
      ]
     },
     "metadata": {
      "application/json": {
       "expanded": false,
       "root": "root"
      }
     },
     "output_type": "display_data"
    },
    {
     "name": "stderr",
     "output_type": "stream",
     "text": [
      "100%|██████████| 177/177 [13:18<00:00,  4.51s/it]\n"
     ]
    }
   ],
   "source": [
    "for llm in llms:\n",
    "    experiment_name = f\"{llm.split('/')[-1].lower()}\"\n",
    "    experiment_names.append(experiment_name)\n",
    "    run_experiment(\n",
    "        experiment_name=experiment_name, \n",
    "        chunk_size=CHUNK_SIZE, \n",
    "        chunk_overlap=CHUNK_OVERLAP, \n",
    "        num_chunks=NUM_CHUNKS,\n",
    "        embedding_model_name=EMBEDDING_MODEL_NAME,\n",
    "        embedding_dim=EMBEDDING_DIMENSIONS[EMBEDDING_MODEL_NAME],\n",
    "        llm=llm,\n",
    "        evaluator=EVALUATOR,\n",
    "        docs_dir=DOCS_DIR, \n",
    "        experiments_dir=EXPERIMENTS_DIR, \n",
    "        references_fp=REFERENCES_FILE_PATH,\n",
    "        num_samples=NUM_SAMPLES)"
   ]
  },
  {
   "cell_type": "code",
   "execution_count": null,
   "id": "a8afbfe1-b129-408a-8ce0-8f321c585174",
   "metadata": {
    "tags": []
   },
   "outputs": [
    {
     "name": "stdout",
     "output_type": "stream",
     "text": [
      "gpt-3.5-turbo\n",
      "  retrieval score: 0.7288135593220338\n",
      "  quality score: 3.559322033898305\n",
      "\n",
      "gpt-4\n",
      "  retrieval score: 0.7288135593220338\n",
      "  quality score: 3.8728813559322033\n",
      "\n",
      "gpt-4-1106-preview\n",
      "  retrieval score: 0.7288135593220338\n",
      "  quality score: 4.209039548022599\n",
      "\n",
      "llama-2-7b-chat-hf\n",
      "  retrieval score: 0.7288135593220338\n",
      "  quality score: 3.2966101694915255\n",
      "\n",
      "llama-2-13b-chat-hf\n",
      "  retrieval score: 0.7288135593220338\n",
      "  quality score: 3.4152542372881354\n",
      "\n",
      "llama-2-70b-chat-hf\n",
      "  retrieval score: 0.7288135593220338\n",
      "  quality score: 3.598870056497175\n",
      "\n",
      "codellama-34b-instruct-hf\n",
      "  retrieval score: 0.7288135593220338\n",
      "  quality score: 3.593220338983051\n",
      "\n",
      "mistral-7b-instruct-v0.1\n",
      "  retrieval score: 0.7288135593220338\n",
      "  quality score: 3.440677966101695\n",
      "\n",
      "mixtral-8x7b-instruct-v0.1\n",
      "  retrieval score: 0.7288135593220338\n",
      "  quality score: 3.943502824858757\n",
      "\n"
     ]
    }
   ],
   "source": [
    "scores = {}\n",
    "for experiment_name in experiment_names:\n",
    "    scores[experiment_name] = print_experiment(experiment_name, EXPERIMENTS_DIR)"
   ]
  },
  {
   "cell_type": "markdown",
   "id": "9add6de4-bc41-4f94-ba5a-edc3d81309a4",
   "metadata": {
    "tags": []
   },
   "source": [
    "**Sanity check**: the retrieval scores are all the same because the LLM we choose doesn’t impact that part of our application."
   ]
  },
  {
   "cell_type": "markdown",
   "id": "97d1cd68-f77a-4f13-9454-3add1fc65158",
   "metadata": {},
   "source": [
    "Both `codellama-34b` and `llama-70b` outperform the other OSS LLMs. `codellama-34b` is also half the size and trained on code datasets as well. And our use case here often involves queries or contexts related to code."
   ]
  },
  {
   "cell_type": "code",
   "execution_count": null,
   "id": "0275cb71-6876-404a-bdbe-f79347162696",
   "metadata": {
    "tags": []
   },
   "outputs": [],
   "source": [
    "LLM = \"mistralai/Mixtral-8x7B-Instruct-v0.1\""
   ]
  },
  {
   "cell_type": "markdown",
   "id": "5ab5aca0-212b-4e82-97af-1ed95130ebc6",
   "metadata": {},
   "source": [
    "**Note**: Some of our LLMs have much larger context lengths, ex. `gpt-4` is 8192 tokens and `gpt-3.5-turbo-16k` is 16,384 tokens. We could increase the number of chunks that we use for these since we saw that increasing `num_chunks` continued to improve the retrieval and quality scores. However, we will keep this value fixed for now since the performance started to taper off anyway and so we can compare these performances under the exact same configurations. "
   ]
  },
  {
   "cell_type": "markdown",
   "id": "e4b0a5cc-15e7-486b-86d2-4165841da03a",
   "metadata": {},
   "source": [
    "### MoEs without context"
   ]
  },
  {
   "cell_type": "markdown",
   "id": "09ff5ffe-dce4-4bc6-93db-f4c924c23100",
   "metadata": {
    "tags": []
   },
   "source": [
    "Curious how well these mixture of experts (MoE) fare without any context."
   ]
  },
  {
   "cell_type": "code",
   "execution_count": null,
   "id": "7d0b694d-fd77-4b2b-8c6d-55f46307aea3",
   "metadata": {
    "tags": []
   },
   "outputs": [],
   "source": [
    "experiment_names = []\n",
    "moes = [\"gpt-4\",\n",
    "        \"gpt-4-1106-preview\",\n",
    "        \"mistralai/Mixtral-8x7B-Instruct-v0.1\"]"
   ]
  },
  {
   "cell_type": "code",
   "execution_count": null,
   "id": "6bcf4b91-c5a3-4465-b427-5b2720f72f69",
   "metadata": {
    "tags": []
   },
   "outputs": [
    {
     "data": {
      "application/json": {
       "generated_answer": " I'm sorry for the confusion, but I need more context to provide a helpful answer. However, if you're asking about killing a specific replica of a service in a general sense (not tied to a specific technology), you might want to follow these steps:\n\n1. Identify the replica you want to kill, based on its process ID (PID) or some other unique identifier.\n2. Use the `kill` command followed by the PID or identifier to stop the replica. For example, `kill -9 PID` will forcefully terminate the process.\n\nPlease note that this is a general approach, and the specific steps might vary depending on the technology or environment you're using. If you could provide more context, I'd be happy to give a more tailored answer.",
       "question": "how do I kill a specific serve replica",
       "reasoning": "The generated answer provides a general approach to killing a specific service replica, which is useful even though the context does not provide specific information. However, it does not perfectly match the reference answer, hence the score is not a perfect 5.",
       "reference_answer": "The context does not provide information on how to kill a specific serve replica.",
       "score": 4,
       "sources": []
      },
      "text/plain": [
       "<IPython.core.display.JSON object>"
      ]
     },
     "metadata": {
      "application/json": {
       "expanded": false,
       "root": "root"
      }
     },
     "output_type": "display_data"
    },
    {
     "name": "stderr",
     "output_type": "stream",
     "text": [
      "100%|██████████| 177/177 [12:13<00:00,  4.14s/it]\n"
     ]
    }
   ],
   "source": [
    "for moe in moes:\n",
    "    experiment_name = f\"without-context-{moe.split('/')[-1].lower()}\"\n",
    "    experiment_names.append(experiment_name)\n",
    "    run_experiment(\n",
    "        experiment_name=experiment_name, \n",
    "        chunk_size=CHUNK_SIZE, \n",
    "        chunk_overlap=CHUNK_OVERLAP, \n",
    "        num_chunks=0,  # no retrieved context\n",
    "        embedding_model_name=EMBEDDING_MODEL_NAME,\n",
    "        embedding_dim=EMBEDDING_DIMENSIONS[EMBEDDING_MODEL_NAME],\n",
    "        llm=moe,\n",
    "        evaluator=EVALUATOR,\n",
    "        docs_dir=DOCS_DIR, \n",
    "        experiments_dir=EXPERIMENTS_DIR, \n",
    "        references_fp=REFERENCES_FILE_PATH,\n",
    "        num_samples=NUM_SAMPLES)"
   ]
  },
  {
   "cell_type": "code",
   "execution_count": null,
   "id": "955176f4-dde5-4a2b-ad28-b538e30de118",
   "metadata": {
    "tags": []
   },
   "outputs": [
    {
     "name": "stdout",
     "output_type": "stream",
     "text": [
      "without-context-gpt-4\n",
      "  retrieval score: 0.0\n",
      "  quality score: 1.4887005649717515\n",
      "\n",
      "without-context-gpt-4-1106-preview\n",
      "  retrieval score: 0.0\n",
      "  quality score: 3.8163841807909606\n",
      "\n",
      "without-context-mixtral-8x7b-instruct-v0.1\n",
      "  retrieval score: 0.0\n",
      "  quality score: 3.189265536723164\n",
      "\n"
     ]
    }
   ],
   "source": [
    "scores = {}\n",
    "for experiment_name in experiment_names:\n",
    "    scores[experiment_name] = print_experiment(experiment_name, EXPERIMENTS_DIR)"
   ]
  },
  {
   "cell_type": "markdown",
   "id": "16420a7d-445a-48da-a4c1-5238c4061f6e",
   "metadata": {
    "tags": []
   },
   "source": [
    "# Fine-tuning"
   ]
  },
  {
   "cell_type": "markdown",
   "id": "285c9d07-1658-4779-9e13-801c0c77186a",
   "metadata": {},
   "source": [
    "Everything we have explored so far involves optimizing for how our data is preprocessed and using our models (embedding, LLM, etc.) as is. However, it's also worth exploring fine-tuning our models with data unique to our use case. This could help us better represent our data and ultimately increase our retrieval and quality scores. In this section, we're going to fine-tune our embedding model. The intuition here is that it may be worth it to learn a more contextual representation of our tokens than the default embedding models can. This can especially be impactful if we have a lot of:\n",
    "- new tokens that the default tokenization process creates subtokens out of that lose the significance of the token\n",
    "- existing tokens that have contextually different meanings in our use case\n",
    "\n",
    "<img width=\"800\" src=\"https://images.ctfassets.net/xjan103pcp94/4G5324lsDZwq0jES7uBH0l/a715cd50af7061e1b3c57ec3e8038f05/rag-based-llm-applications-finetune-embeddings.png\">\n",
    "\n",
    "When it comes to fine-tuning our embedding model, we will exploring two approaches:\n",
    "- **full parameter**: including the embedding layer and all subsequent encoder layers (transformer blocks)\n",
    "- **embedding layer**: to better represent our unique subtokens and avoid overfitting (version of linear adapter)\n",
    "\n",
    "**Note**: we will not be exploring fine-tuning our LLM in this section because our previous [experiments](https://www.anyscale.com/blog/fine-tuning-llama-2-a-comprehensive-case-study-for-tailoring-models-to-unique-applications) ([LoRa vs. full parameter](https://www.anyscale.com/blog/fine-tuning-llms-lora-or-full-parameter-an-in-depth-analysis-with-llama-2)) have shown that fine-tuning has helped tremendously with [form not facts](https://www.anyscale.com/blog/fine-tuning-is-for-form-not-facts), which in our case won't help too much (compared to for ex. SQL generation). However, your use cases might benefit from fine-tuning, so be sure to check out our [Anyscale Endpoints fine-tuning](https://www.anyscale.com/endpoints) to easily tune and serve models (fully hosted or private on your cloud)."
   ]
  },
  {
   "cell_type": "markdown",
   "id": "56747523-2ef7-489e-bba3-089a29ca25c5",
   "metadata": {},
   "source": [
    "## Synthetic dataset"
   ]
  },
  {
   "cell_type": "markdown",
   "id": "e3f35bef-5f68-4483-86d9-413ec4d5ea8f",
   "metadata": {},
   "source": [
    "Our first step will be to create a dataset to fine-tune our embedding model on. Our current embedding models have been trained via self-supervised learning (word2vec, GloVe, next/masked token prediction, etc.) and so we will continue fine-tuning with a self-supervised workflow. We're going to reuse a very similar approach as our cold start QA dataset section earlier so that we can map sections in our data to questions. The fine-tuning task here will be for the model to determine which sections in our dataset maps best to the input query. This optimization task will allow our embedding model to learn better representations of tokens in our dataset.\n",
    "\n",
    "**Note**: While we could create a dataset mapping section titles with section text, we are creating a synthetic Q&A dataset because it will be most representative of the types of data we want to learn how to embed."
   ]
  },
  {
   "cell_type": "markdown",
   "id": "5bb8c5c1-3bab-4539-9b79-cb9931a57c15",
   "metadata": {},
   "source": [
    "Our prompt is going to be a bit different because we want to generate a variety of different questions and we're going to use `llama-70b` here so that we can scale this QA generation process (and avoid any rate limits). To be thorough, we're going to generate one question from every section in our dataset so that we can try to capture as many unique tokens as possible."
   ]
  },
  {
   "cell_type": "code",
   "execution_count": null,
   "id": "4de030ee-22bc-45ba-a6ad-2f82f6e04434",
   "metadata": {
    "tags": []
   },
   "outputs": [],
   "source": [
    "system_content = f\"\"\"\n",
    "Create one question using only the context provided starting with \"What\", \"How\" or \"Why\".\n",
    "Only respond with the question, don't say anything else (unecessary starting words, hints, etc.)\n",
    "\"\"\""
   ]
  },
  {
   "cell_type": "code",
   "execution_count": null,
   "id": "0224a7ef-25ab-4d81-a6e8-a1532822e0d7",
   "metadata": {
    "tags": []
   },
   "outputs": [
    {
     "name": "stderr",
     "output_type": "stream",
     "text": [
      "100%|██████████| 5727/5727 [2:45:43<00:00,  1.74s/it]  \n"
     ]
    },
    {
     "data": {
      "text/plain": [
       "5727"
      ]
     },
     "execution_count": null,
     "metadata": {},
     "output_type": "execute_result"
    }
   ],
   "source": [
    "# Generate questions\n",
    "embedding_qa = []\n",
    "sections = sections_ds.take_all()\n",
    "max_context_length = int(0.5*MAX_CONTEXT_LENGTHS[LLM]-get_num_tokens(system_content))\n",
    "for section in tqdm(sections):\n",
    "    user_content = trim(\n",
    "        text=f\"context: {section['text']}\", \n",
    "        max_context_length=max_context_length)\n",
    "    response = generate_response(\n",
    "        llm=\"meta-llama/Llama-2-70b-chat-hf\",\n",
    "        temperature=0.0,\n",
    "        stream=False,\n",
    "        system_content=system_content,\n",
    "        user_content=user_content,\n",
    "        max_retries=1)\n",
    "    if response:\n",
    "        embedding_qa.append({\"question\": response, \"source\": section[\"source\"]})\n",
    "print (len(embedding_qa))"
   ]
  },
  {
   "cell_type": "code",
   "execution_count": null,
   "id": "65ed5a1c-a55f-426d-a839-04385bd9268d",
   "metadata": {
    "tags": []
   },
   "outputs": [],
   "source": [
    "# Path\n",
    "EMBEDDING_QA_FILE_PATH = Path(ROOT_DIR, \"datasets\", \"embedding_qa.json\")\n",
    "EMBEDDING_QA_FILE_PATH.parent.mkdir(parents=True, exist_ok=True)"
   ]
  },
  {
   "cell_type": "code",
   "execution_count": null,
   "id": "98298e4e-b681-45eb-8ea4-37d66cdf8685",
   "metadata": {
    "tags": []
   },
   "outputs": [],
   "source": [
    "# Save to file\n",
    "with open(EMBEDDING_QA_FILE_PATH, \"w\") as fp:\n",
    "    json.dump(embedding_qa, fp, indent=4)"
   ]
  },
  {
   "cell_type": "markdown",
   "id": "62ecc4c4-79da-4b9c-a9c3-7cdfb53615c3",
   "metadata": {},
   "source": [
    "## Training data"
   ]
  },
  {
   "cell_type": "markdown",
   "id": "3826c940-a40b-42ea-a50e-0297c78b6929",
   "metadata": {},
   "source": [
    "We're now going to split our dataset into training and validation splits."
   ]
  },
  {
   "cell_type": "code",
   "execution_count": null,
   "id": "2c4a7e67-6f17-4607-ae27-ab3253c7ae33",
   "metadata": {
    "tags": []
   },
   "outputs": [],
   "source": [
    "from sentence_transformers import InputExample"
   ]
  },
  {
   "cell_type": "code",
   "execution_count": null,
   "id": "ba0b81ee-20eb-4721-af49-64544c36dc26",
   "metadata": {
    "tags": []
   },
   "outputs": [],
   "source": [
    "# Load from file\n",
    "with open(EMBEDDING_QA_FILE_PATH, \"r\") as fp:\n",
    "    embedding_qa = json.load(fp)"
   ]
  },
  {
   "cell_type": "code",
   "execution_count": null,
   "id": "c7fadbbf-28ba-4fcc-baa2-e9df78af3c67",
   "metadata": {
    "tags": []
   },
   "outputs": [],
   "source": [
    "# Split counts\n",
    "num_train_samples = int(len(embedding_qa)*0.8)\n",
    "emb_qa_train = embedding_qa[:num_train_samples]\n",
    "emb_qa_val = embedding_qa[num_train_samples:]"
   ]
  },
  {
   "cell_type": "code",
   "execution_count": null,
   "id": "a4c6cad8-8859-4710-a01f-8aff5e8b923b",
   "metadata": {
    "tags": []
   },
   "outputs": [
    {
     "name": "stderr",
     "output_type": "stream",
     "text": [
      "100%|██████████| 4581/4581 [03:37<00:00, 21.05it/s]\n"
     ]
    }
   ],
   "source": [
    "# Training dataset\n",
    "train_dataset = []\n",
    "for item in tqdm(emb_qa_train):\n",
    "    query = item[\"question\"]\n",
    "    source_text = fetch_text(item[\"source\"])\n",
    "    example = InputExample(texts=[query, source_text])\n",
    "    train_dataset.append(example)"
   ]
  },
  {
   "cell_type": "markdown",
   "id": "cfebe1c5-8a76-41df-9c16-aa9757e8e553",
   "metadata": {},
   "source": [
    "## Validation"
   ]
  },
  {
   "cell_type": "markdown",
   "id": "4cf33abf-6031-4829-8121-8dbde6b84570",
   "metadata": {},
   "source": [
    "Our validation evaluation criteria involves an information retrieval (IR) evaluator that will retrieve the top k similar documents from the corpus for each query. The [InformationRetrievalEvaluator](https://www.sbert.net/docs/package_reference/evaluation.html#sentence_transformers.evaluation.InformationRetrievalEvaluator) requires the following inputs:\n",
    "\n",
    "- queries: `Dict[str, str]`  #  qid => query\n",
    "- corpus: `Dict[str, str]`  #  cid => doc\n",
    "- relevant_docs: `Dict[str, Set[str]]`  #  qid => Set[cid]\n",
    "\n",
    "**Note**: While our dataset may have multiple valid sections for a particular query, we will treat all other sections besides the one used to generate the query, as negative samples. This isn't an ideal scenario but the noise introduced is minimal, especially since we are using this to tune a representation layer (and not for a classification task)."
   ]
  },
  {
   "cell_type": "code",
   "execution_count": null,
   "id": "fccb9bc9-bd51-4289-9576-c822a7d85ca6",
   "metadata": {
    "tags": []
   },
   "outputs": [],
   "source": [
    "from sentence_transformers.evaluation import InformationRetrievalEvaluator"
   ]
  },
  {
   "cell_type": "code",
   "execution_count": null,
   "id": "678540b5-4f1c-441b-8a64-fb1860fd6c55",
   "metadata": {
    "tags": []
   },
   "outputs": [
    {
     "name": "stderr",
     "output_type": "stream",
     "text": [
      "100%|██████████| 1146/1146 [01:30<00:00, 12.71it/s]\n"
     ]
    }
   ],
   "source": [
    "# Validation dataset\n",
    "queries, corpus, relevant_docs = {}, {}, {}\n",
    "for i, item in tqdm(enumerate(emb_qa_val), total=len(emb_qa_val)):\n",
    "    queries[f\"qid_{i}\"] = item[\"question\"]\n",
    "    corpus[f\"cid_{i}\"] = fetch_text(item[\"source\"])\n",
    "    relevant_docs[f\"qid_{i}\"] = set([f\"cid_{i}\"])\n",
    "evaluator = InformationRetrievalEvaluator(queries, corpus, relevant_docs)"
   ]
  },
  {
   "cell_type": "markdown",
   "id": "3e0f8ada-a80d-480a-be2f-90a54e4a2f37",
   "metadata": {},
   "source": [
    "We'll be using [MultipleNegativesRankingLoss](https://www.sbert.net/docs/package_reference/losses.html#multiplenegativesrankingloss) as our loss function. It will use the data points (`InputExample(texts=[query, source_text])` in our training data as positive pairs and all other combinations as negative pairs. And the objective will be to increase the cosine similarity (default `similarity_fct`) for our positive pair and decrease it for the other pairs."
   ]
  },
  {
   "cell_type": "code",
   "execution_count": null,
   "id": "9810f112-b3f5-4767-ba8b-d4b556b51db8",
   "metadata": {
    "tags": []
   },
   "outputs": [],
   "source": [
    "# Custom callback to view validation performance\n",
    "def val_callback(score, epoch, steps):\n",
    "    print (f\"EPOCH: {epoch}, VAL SCORE:{score:.4f}\\n\")"
   ]
  },
  {
   "cell_type": "markdown",
   "id": "57a1d156-c6b6-4488-afd7-ec7fe6add16b",
   "metadata": {
    "tags": []
   },
   "source": [
    "## Embedding model"
   ]
  },
  {
   "cell_type": "markdown",
   "id": "dfcf2c7d-20b0-4363-b8e5-a0b314a9c95f",
   "metadata": {},
   "source": [
    "Now we're ready to initialize our embedding model for fine-tuning."
   ]
  },
  {
   "cell_type": "code",
   "execution_count": null,
   "id": "0141b57e-72e7-42f4-8ab9-9ebd1c401de2",
   "metadata": {
    "tags": []
   },
   "outputs": [],
   "source": [
    "from sentence_transformers import SentenceTransformer"
   ]
  },
  {
   "cell_type": "code",
   "execution_count": null,
   "id": "3291d4e9-aed7-44f3-9742-6270682e9025",
   "metadata": {
    "tags": []
   },
   "outputs": [
    {
     "data": {
      "application/vnd.jupyter.widget-view+json": {
       "model_id": "ccf6c32768ac43848ef21e1777d18113",
       "version_major": 2,
       "version_minor": 0
      },
      "text/plain": [
       "Downloading .gitattributes:   0%|          | 0.00/1.52k [00:00<?, ?B/s]"
      ]
     },
     "metadata": {},
     "output_type": "display_data"
    },
    {
     "data": {
      "application/vnd.jupyter.widget-view+json": {
       "model_id": "ccc8f21a194c4a9fa84bf92eda185725",
       "version_major": 2,
       "version_minor": 0
      },
      "text/plain": [
       "Downloading 1_Pooling/config.json:   0%|          | 0.00/191 [00:00<?, ?B/s]"
      ]
     },
     "metadata": {},
     "output_type": "display_data"
    },
    {
     "data": {
      "application/vnd.jupyter.widget-view+json": {
       "model_id": "ee73af058604441d94c86b923db994ea",
       "version_major": 2,
       "version_minor": 0
      },
      "text/plain": [
       "Downloading README.md:   0%|          | 0.00/67.9k [00:00<?, ?B/s]"
      ]
     },
     "metadata": {},
     "output_type": "display_data"
    },
    {
     "data": {
      "application/vnd.jupyter.widget-view+json": {
       "model_id": "b65f3e704d81488e8772cbee7fac5438",
       "version_major": 2,
       "version_minor": 0
      },
      "text/plain": [
       "Downloading config.json:   0%|          | 0.00/619 [00:00<?, ?B/s]"
      ]
     },
     "metadata": {},
     "output_type": "display_data"
    },
    {
     "data": {
      "application/vnd.jupyter.widget-view+json": {
       "model_id": "df1259135316467eab8db6a0f9248d56",
       "version_major": 2,
       "version_minor": 0
      },
      "text/plain": [
       "Downloading model.safetensors:   0%|          | 0.00/670M [00:00<?, ?B/s]"
      ]
     },
     "metadata": {},
     "output_type": "display_data"
    },
    {
     "data": {
      "application/vnd.jupyter.widget-view+json": {
       "model_id": "0512b6837c6040269fd90aab071bbfe8",
       "version_major": 2,
       "version_minor": 0
      },
      "text/plain": [
       "Downloading onnx/config.json:   0%|          | 0.00/632 [00:00<?, ?B/s]"
      ]
     },
     "metadata": {},
     "output_type": "display_data"
    },
    {
     "data": {
      "application/vnd.jupyter.widget-view+json": {
       "model_id": "9b9cae38659f4b2eaf5d0f9d07a200c3",
       "version_major": 2,
       "version_minor": 0
      },
      "text/plain": [
       "Downloading model.onnx:   0%|          | 0.00/1.34G [00:00<?, ?B/s]"
      ]
     },
     "metadata": {},
     "output_type": "display_data"
    },
    {
     "data": {
      "application/vnd.jupyter.widget-view+json": {
       "model_id": "a59202507e8c4f92a4585e779a7f7acb",
       "version_major": 2,
       "version_minor": 0
      },
      "text/plain": [
       "Downloading (…)cial_tokens_map.json:   0%|          | 0.00/125 [00:00<?, ?B/s]"
      ]
     },
     "metadata": {},
     "output_type": "display_data"
    },
    {
     "data": {
      "application/vnd.jupyter.widget-view+json": {
       "model_id": "8b32d275a1764d368892b6c2c7d6af1c",
       "version_major": 2,
       "version_minor": 0
      },
      "text/plain": [
       "Downloading onnx/tokenizer.json:   0%|          | 0.00/712k [00:00<?, ?B/s]"
      ]
     },
     "metadata": {},
     "output_type": "display_data"
    },
    {
     "data": {
      "application/vnd.jupyter.widget-view+json": {
       "model_id": "3144edb403cd405283ea389b1bc6c7fb",
       "version_major": 2,
       "version_minor": 0
      },
      "text/plain": [
       "Downloading (…)okenizer_config.json:   0%|          | 0.00/342 [00:00<?, ?B/s]"
      ]
     },
     "metadata": {},
     "output_type": "display_data"
    },
    {
     "data": {
      "application/vnd.jupyter.widget-view+json": {
       "model_id": "11db83a38696465197f7a4f82041bb4a",
       "version_major": 2,
       "version_minor": 0
      },
      "text/plain": [
       "Downloading onnx/vocab.txt:   0%|          | 0.00/232k [00:00<?, ?B/s]"
      ]
     },
     "metadata": {},
     "output_type": "display_data"
    },
    {
     "data": {
      "application/vnd.jupyter.widget-view+json": {
       "model_id": "3b44be3206ed4eec96899e61d621c3f5",
       "version_major": 2,
       "version_minor": 0
      },
      "text/plain": [
       "Downloading pytorch_model.bin:   0%|          | 0.00/670M [00:00<?, ?B/s]"
      ]
     },
     "metadata": {},
     "output_type": "display_data"
    },
    {
     "data": {
      "application/vnd.jupyter.widget-view+json": {
       "model_id": "92706c648ab44cabb0fb4769673c3c65",
       "version_major": 2,
       "version_minor": 0
      },
      "text/plain": [
       "Downloading (…)nce_bert_config.json:   0%|          | 0.00/57.0 [00:00<?, ?B/s]"
      ]
     },
     "metadata": {},
     "output_type": "display_data"
    },
    {
     "data": {
      "application/vnd.jupyter.widget-view+json": {
       "model_id": "ff75965b00e84af389f701f659ac5cd6",
       "version_major": 2,
       "version_minor": 0
      },
      "text/plain": [
       "Downloading (…)cial_tokens_map.json:   0%|          | 0.00/125 [00:00<?, ?B/s]"
      ]
     },
     "metadata": {},
     "output_type": "display_data"
    },
    {
     "data": {
      "application/vnd.jupyter.widget-view+json": {
       "model_id": "7059e41ab94546deb97489920c067df2",
       "version_major": 2,
       "version_minor": 0
      },
      "text/plain": [
       "Downloading tokenizer.json:   0%|          | 0.00/712k [00:00<?, ?B/s]"
      ]
     },
     "metadata": {},
     "output_type": "display_data"
    },
    {
     "data": {
      "application/vnd.jupyter.widget-view+json": {
       "model_id": "2579bc51b70d4955822ec8fb222bddeb",
       "version_major": 2,
       "version_minor": 0
      },
      "text/plain": [
       "Downloading tokenizer_config.json:   0%|          | 0.00/342 [00:00<?, ?B/s]"
      ]
     },
     "metadata": {},
     "output_type": "display_data"
    },
    {
     "data": {
      "application/vnd.jupyter.widget-view+json": {
       "model_id": "c5bcbb3933434dc49128e23c9080230b",
       "version_major": 2,
       "version_minor": 0
      },
      "text/plain": [
       "Downloading vocab.txt:   0%|          | 0.00/232k [00:00<?, ?B/s]"
      ]
     },
     "metadata": {},
     "output_type": "display_data"
    },
    {
     "data": {
      "application/vnd.jupyter.widget-view+json": {
       "model_id": "c312f5555e9f4e7cb4acf66102a1f656",
       "version_major": 2,
       "version_minor": 0
      },
      "text/plain": [
       "Downloading modules.json:   0%|          | 0.00/385 [00:00<?, ?B/s]"
      ]
     },
     "metadata": {},
     "output_type": "display_data"
    },
    {
     "data": {
      "text/plain": [
       "SentenceTransformer(\n",
       "  (0): Transformer({'max_seq_length': 512, 'do_lower_case': False}) with Transformer model: BertModel \n",
       "  (1): Pooling({'word_embedding_dimension': 1024, 'pooling_mode_cls_token': False, 'pooling_mode_mean_tokens': True, 'pooling_mode_max_tokens': False, 'pooling_mode_mean_sqrt_len_tokens': False})\n",
       "  (2): Normalize()\n",
       ")"
      ]
     },
     "execution_count": null,
     "metadata": {},
     "output_type": "execute_result"
    }
   ],
   "source": [
    "embedding_model = SentenceTransformer(EMBEDDING_MODEL_NAME)\n",
    "embedding_model"
   ]
  },
  {
   "cell_type": "markdown",
   "id": "4a64dc32-6dbc-4f1e-b950-d4ffa797912c",
   "metadata": {
    "tags": []
   },
   "source": [
    "## Resize Tokenizer"
   ]
  },
  {
   "cell_type": "markdown",
   "id": "871a9c3a-c60f-4ff0-9d1a-3025fdad56be",
   "metadata": {},
   "source": [
    "While our tokenizer can represent new subtokens that are part of the vocabulary, it might be very helpful to explicitly add new tokens to our base model (BertModel) in our cast to our transformer. And then we can use [resize_token_embeddings](https://huggingface.co/docs/transformers/main_classes/model#transformers.PreTrainedModel.resize_token_embeddings) to adjust the model's embedding layer prior to fine-tuning. This can be very useful for contextual use cases, especially if many tokens are new or existing tokens have a very different meaning in our context."
   ]
  },
  {
   "cell_type": "code",
   "execution_count": null,
   "id": "fb431961-ee8f-46ca-9325-96eca41d0da0",
   "metadata": {
    "tags": []
   },
   "outputs": [],
   "source": [
    "import re"
   ]
  },
  {
   "cell_type": "code",
   "execution_count": null,
   "id": "806dbfcf-bb69-4d38-9fc6-afa6c3f62694",
   "metadata": {
    "tags": []
   },
   "outputs": [],
   "source": [
    "def get_unique_words(texts):\n",
    "    all_text = \" \".join(texts)  # join all texts\n",
    "    all_text = all_text.replace(\"_\", \" \")  # replace underscores (ex. variable names)\n",
    "    words = re.findall(r'\\b[a-zA-Z]+\\b', all_text)  # only letters\n",
    "    words = [word.lower() for word in words]  # lower\n",
    "    return set(words)"
   ]
  },
  {
   "cell_type": "code",
   "execution_count": null,
   "id": "f85c5818-3526-4171-b4f8-4e529b81cc9b",
   "metadata": {
    "tags": []
   },
   "outputs": [
    {
     "name": "stderr",
     "output_type": "stream",
     "text": [
      "100%|██████████| 11204/11204 [00:00<00:00, 1932515.61it/s]\n"
     ]
    }
   ],
   "source": [
    "# Get tokens that are OOV (out of vocabulary)\n",
    "new_words = []\n",
    "vocab = embedding_model.tokenizer.get_vocab().keys()\n",
    "texts = [section[\"text\"] for section in sections_ds.take_all()]\n",
    "unique_words = get_unique_words(texts=texts)\n",
    "for word in tqdm(unique_words):\n",
    "    if word not in vocab:\n",
    "        new_words.append(word)"
   ]
  },
  {
   "cell_type": "code",
   "execution_count": null,
   "id": "a0ee4cfe-7989-4957-9fbe-6fd1360ab504",
   "metadata": {
    "tags": []
   },
   "outputs": [
    {
     "name": "stdout",
     "output_type": "stream",
     "text": [
      "5790\n",
      "['activityoptions', 'subordinates', 'collateddata', 'placementgroup', 'alwayas', 'simplistic', 'mkl', 'constants', 'aggtype', 'wrapper']\n"
     ]
    }
   ],
   "source": [
    "# Inspect\n",
    "print (len(new_words))\n",
    "print (new_words[:10])"
   ]
  },
  {
   "cell_type": "code",
   "execution_count": null,
   "id": "30fc2d0c-1ecd-499f-aa06-918464a45b1e",
   "metadata": {
    "tags": []
   },
   "outputs": [
    {
     "name": "stdout",
     "output_type": "stream",
     "text": [
      "30522\n",
      "36312\n"
     ]
    }
   ],
   "source": [
    "# Add new words to tokenizer\n",
    "print (len(embedding_model.tokenizer))\n",
    "embedding_model.tokenizer.add_tokens(new_words)\n",
    "print (len(embedding_model.tokenizer))"
   ]
  },
  {
   "cell_type": "code",
   "execution_count": null,
   "id": "97dd942a-74d2-4650-a87a-f102b75ed206",
   "metadata": {
    "tags": []
   },
   "outputs": [
    {
     "name": "stdout",
     "output_type": "stream",
     "text": [
      "Embedding(30522, 1024, padding_idx=0)\n",
      "Embedding(36312, 1024, padding_idx=0)\n"
     ]
    }
   ],
   "source": [
    "# Resize tokenizer\n",
    "print (embedding_model._modules[\"0\"]._modules[\"auto_model\"]._modules[\"embeddings\"]._modules[\"word_embeddings\"])\n",
    "embedding_model._modules[\"0\"]._modules[\"auto_model\"].resize_token_embeddings(len(embedding_model.tokenizer))\n",
    "embedding_model._modules[\"0\"]._modules[\"auto_model\"]._modules[\"embeddings\"]._modules[\"word_embeddings\"].padding_idx = 0\n",
    "print (embedding_model._modules[\"0\"]._modules[\"auto_model\"]._modules[\"embeddings\"]._modules[\"word_embeddings\"])"
   ]
  },
  {
   "cell_type": "markdown",
   "id": "cf482bee-b507-4166-bf53-60a50984c5d0",
   "metadata": {},
   "source": [
    "## Full parameter"
   ]
  },
  {
   "cell_type": "markdown",
   "id": "e47066d0-e7e2-47d8-8e55-6f295ece02a0",
   "metadata": {},
   "source": [
    "Our full parameter fine-tuning approach will tune all of the following weights:"
   ]
  },
  {
   "cell_type": "code",
   "execution_count": null,
   "id": "aaa5da86-626c-4387-9a83-c73e7c51419d",
   "metadata": {
    "tags": []
   },
   "outputs": [
    {
     "data": {
      "text/plain": [
       "OrderedDict([('auto_model',\n",
       "              BertModel(\n",
       "                (embeddings): BertEmbeddings(\n",
       "                  (word_embeddings): Embedding(36312, 1024, padding_idx=0)\n",
       "                  (position_embeddings): Embedding(512, 1024)\n",
       "                  (token_type_embeddings): Embedding(2, 1024)\n",
       "                  (LayerNorm): LayerNorm((1024,), eps=1e-12, elementwise_affine=True)\n",
       "                  (dropout): Dropout(p=0.1, inplace=False)\n",
       "                )\n",
       "                (encoder): BertEncoder(\n",
       "                  (layer): ModuleList(\n",
       "                    (0-23): 24 x BertLayer(\n",
       "                      (attention): BertAttention(\n",
       "                        (self): BertSelfAttention(\n",
       "                          (query): Linear(in_features=1024, out_features=1024, bias=True)\n",
       "                          (key): Linear(in_features=1024, out_features=1024, bias=True)\n",
       "                          (value): Linear(in_features=1024, out_features=1024, bias=True)\n",
       "                          (dropout): Dropout(p=0.1, inplace=False)\n",
       "                        )\n",
       "                        (output): BertSelfOutput(\n",
       "                          (dense): Linear(in_features=1024, out_features=1024, bias=True)\n",
       "                          (LayerNorm): LayerNorm((1024,), eps=1e-12, elementwise_affine=True)\n",
       "                          (dropout): Dropout(p=0.1, inplace=False)\n",
       "                        )\n",
       "                      )\n",
       "                      (intermediate): BertIntermediate(\n",
       "                        (dense): Linear(in_features=1024, out_features=4096, bias=True)\n",
       "                        (intermediate_act_fn): GELUActivation()\n",
       "                      )\n",
       "                      (output): BertOutput(\n",
       "                        (dense): Linear(in_features=4096, out_features=1024, bias=True)\n",
       "                        (LayerNorm): LayerNorm((1024,), eps=1e-12, elementwise_affine=True)\n",
       "                        (dropout): Dropout(p=0.1, inplace=False)\n",
       "                      )\n",
       "                    )\n",
       "                  )\n",
       "                )\n",
       "                (pooler): BertPooler(\n",
       "                  (dense): Linear(in_features=1024, out_features=1024, bias=True)\n",
       "                  (activation): Tanh()\n",
       "                )\n",
       "              ))])"
      ]
     },
     "execution_count": null,
     "metadata": {},
     "output_type": "execute_result"
    }
   ],
   "source": [
    "embedding_model._modules[\"0\"]._modules"
   ]
  },
  {
   "cell_type": "code",
   "execution_count": null,
   "id": "ea3b63f0-428b-4642-a0db-6e23939db67f",
   "metadata": {
    "tags": []
   },
   "outputs": [],
   "source": [
    "from sentence_transformers.losses import MultipleNegativesRankingLoss\n",
    "from torch.utils.data import DataLoader"
   ]
  },
  {
   "cell_type": "code",
   "execution_count": null,
   "id": "dcdcf10f-71cd-4502-bd6d-d979e01691a9",
   "metadata": {
    "tags": []
   },
   "outputs": [],
   "source": [
    "# Training setup\n",
    "num_epochs = 2\n",
    "batch_size = 4\n",
    "train_dataloader = DataLoader(train_dataset, batch_size=batch_size)\n",
    "loss = MultipleNegativesRankingLoss(embedding_model) # MNR Loss\n",
    "warmup_steps = int(0.1 * num_epochs * len(train_dataloader))  # not used"
   ]
  },
  {
   "cell_type": "code",
   "execution_count": null,
   "id": "ecb202a6-d8ac-47d6-a505-7f6ed74d4d44",
   "metadata": {
    "tags": []
   },
   "outputs": [
    {
     "data": {
      "application/vnd.jupyter.widget-view+json": {
       "model_id": "254992a9008549a9a6adbce6fc1eb3cc",
       "version_major": 2,
       "version_minor": 0
      },
      "text/plain": [
       "Epoch:   0%|          | 0/2 [00:00<?, ?it/s]"
      ]
     },
     "metadata": {},
     "output_type": "display_data"
    },
    {
     "data": {
      "application/vnd.jupyter.widget-view+json": {
       "model_id": "b43095919b0140ea8dad5d633c6ebcee",
       "version_major": 2,
       "version_minor": 0
      },
      "text/plain": [
       "Iteration:   0%|          | 0/1146 [00:00<?, ?it/s]"
      ]
     },
     "metadata": {},
     "output_type": "display_data"
    },
    {
     "name": "stdout",
     "output_type": "stream",
     "text": [
      "EPOCH: 0, VAL SCORE:0.5242\n",
      "\n"
     ]
    },
    {
     "data": {
      "application/vnd.jupyter.widget-view+json": {
       "model_id": "9dba71ce0d854e71a91fa8d457465bec",
       "version_major": 2,
       "version_minor": 0
      },
      "text/plain": [
       "Iteration:   0%|          | 0/1146 [00:00<?, ?it/s]"
      ]
     },
     "metadata": {},
     "output_type": "display_data"
    },
    {
     "name": "stdout",
     "output_type": "stream",
     "text": [
      "EPOCH: 1, VAL SCORE:0.5282\n",
      "\n"
     ]
    }
   ],
   "source": [
    "# Train\n",
    "experiment_name = \"gte-large-fine-tuned-fp\"\n",
    "embedding_model_path = str(Path(EFS_DIR, experiment_name))\n",
    "embedding_model.fit(\n",
    "    train_objectives=[(train_dataloader, loss)],\n",
    "    epochs=num_epochs,\n",
    "    warmup_steps=0,\n",
    "    optimizer_params={\"lr\": 1e-8},\n",
    "    weight_decay=0,\n",
    "    output_path=embedding_model_path,\n",
    "    show_progress_bar=True,\n",
    "    evaluator=evaluator,\n",
    "    callback=val_callback)"
   ]
  },
  {
   "cell_type": "code",
   "execution_count": null,
   "id": "df298a82-42ba-413c-bc7e-3b8050bf1c3e",
   "metadata": {
    "tags": []
   },
   "outputs": [],
   "source": [
    "# Clean up\n",
    "import gc\n",
    "import torch\n",
    "del embedding_model, loss\n",
    "gc.collect()\n",
    "torch.cuda.empty_cache()"
   ]
  },
  {
   "cell_type": "markdown",
   "id": "660c77bf-23a6-4690-b7b4-17dda0532cde",
   "metadata": {},
   "source": [
    "Now we're ready to actually apply this fine-tuned embedding model on our test evaluation dataset. We can simply pass in our model artifact directory for the `embedding_model_name` because [HuggingFaceEmbeddings](https://api.python.langchain.com/en/latest/embeddings/langchain.embeddings.huggingface.HuggingFaceEmbeddings.html) accepts a string that can be either a directory or the model's name. If a directory matches with the input string, then it will load the model from that location first before trying to search on HF's hub."
   ]
  },
  {
   "cell_type": "code",
   "execution_count": null,
   "id": "2fecbe01-3b88-4124-9128-1fa0a04ec2cb",
   "metadata": {
    "tags": []
   },
   "outputs": [
    {
     "data": {
      "application/json": {
       "generated_answer": " To kill a specific serve replica, you can follow these steps:\n\n1. Get the list of actors by running `ray list actors` in the Python environment.\n2. Identify the NAME of the specific ServeReplica you want to kill from the list.\n3. Get a handle to the replica by running `replica_handle = ray.get_actor(\"NAME\", namespace=\"serve\")` in the Python environment.\n4. Kill the replica by running `ray.kill(replica_handle, no_restart=True)` in the Python environment.\n\nReplace \"NAME\" with the actual name of the replica you want to kill.",
       "question": "how do I kill a specific serve replica",
       "reasoning": "The generated answer provides a detailed and step-by-step guide on how to kill a specific serve replica, which is relevant and helpful to the query. The reference answer does not provide any useful information, but the generated answer is still accurate and informative.",
       "reference_answer": "The context does not provide information on how to kill a specific serve replica.",
       "score": 4,
       "sources": [
        "https://docs.ray.io/en/master/serve/production-guide/fault-tolerance.html#deployment-replica-failure",
        "https://docs.ray.io/en/master/serve/production-guide/fault-tolerance.html#deployment-replica-failure",
        "https://docs.ray.io/en/master/serve/advanced-guides/dev-workflow.html#local-development-with-http-requests",
        "https://docs.ray.io/en/master/serve/api/index.html#delete-api-serve-deployments",
        "https://docs.ray.io/en/master/serve/production-guide/fault-tolerance.html#deployment-replica-failure",
        "https://docs.ray.io/en/master/serve/scaling-and-resource-allocation.html#autoscaling",
        "https://docs.ray.io/en/master/serve/production-guide/fault-tolerance.html#worker-node-failure",
        "https://docs.ray.io/en/master/serve/production-guide/fault-tolerance.html#httpproxy-failure",
        "https://docs.ray.io/en/master/serve/api/index.html#delete-api-serve-applications"
       ]
      },
      "text/plain": [
       "<IPython.core.display.JSON object>"
      ]
     },
     "metadata": {
      "application/json": {
       "expanded": false,
       "root": "root"
      }
     },
     "output_type": "display_data"
    },
    {
     "name": "stderr",
     "output_type": "stream",
     "text": [
      "100%|██████████| 177/177 [14:34<00:00,  4.94s/it]\n"
     ]
    }
   ],
   "source": [
    "sql_dump_fp = Path(EFS_DIR, \"sql_dumps\", f\"{experiment_name}_{CHUNK_SIZE}_{CHUNK_OVERLAP}.sql\")\n",
    "run_experiment(\n",
    "    experiment_name=experiment_name, \n",
    "    chunk_size=CHUNK_SIZE, \n",
    "    chunk_overlap=CHUNK_OVERLAP, \n",
    "    num_chunks=NUM_CHUNKS,\n",
    "    embedding_model_name=embedding_model_path,\n",
    "    embedding_dim=EMBEDDING_DIMENSIONS[EMBEDDING_MODEL_NAME],\n",
    "    llm=llm,  # ensure same model as we did for embedding model experiments\n",
    "    evaluator=EVALUATOR,\n",
    "    docs_dir=DOCS_DIR, \n",
    "    experiments_dir=EXPERIMENTS_DIR, \n",
    "    references_fp=REFERENCES_FILE_PATH,\n",
    "    num_samples=NUM_SAMPLES,\n",
    "    sql_dump_fp=sql_dump_fp)"
   ]
  },
  {
   "cell_type": "code",
   "execution_count": null,
   "id": "271f0c48-1962-4ef8-adaf-ce0fe9dc4525",
   "metadata": {
    "tags": []
   },
   "outputs": [],
   "source": [
    "embedding_model_names.append(experiment_name)\n",
    "experiment_names = []\n",
    "for embedding_model_name in embedding_model_names:\n",
    "    experiment_names.append(f\"{embedding_model_name.split('/')[-1]}\")"
   ]
  },
  {
   "cell_type": "code",
   "execution_count": null,
   "id": "3b4a3565-264c-4047-9cee-37dbc27ace8d",
   "metadata": {
    "tags": []
   },
   "outputs": [
    {
     "name": "stdout",
     "output_type": "stream",
     "text": [
      "gte-base\n",
      "  retrieval score: 0.6836158192090396\n",
      "  quality score: 3.519774011299435\n",
      "\n",
      "gte-large\n",
      "  retrieval score: 0.7288135593220338\n",
      "  quality score: 3.573446327683616\n",
      "\n",
      "bge-large-en\n",
      "  retrieval score: 0.4180790960451977\n",
      "  quality score: 3.2344632768361583\n",
      "\n",
      "text-embedding-ada-002\n",
      "  retrieval score: 0.6497175141242938\n",
      "  quality score: 3.5706214689265536\n",
      "\n",
      "gte-large-fine-tuned-fp\n",
      "  retrieval score: 0.4463276836158192\n",
      "  quality score: 3.378531073446328\n",
      "\n"
     ]
    },
    {
     "data": {
      "image/png": "[encoded data removed]",
      "text/plain": [
       "<Figure size 1000x300 with 1 Axes>"
      ]
     },
     "metadata": {},
     "output_type": "display_data"
    }
   ],
   "source": [
    "scores = {}\n",
    "for experiment_name in experiment_names:\n",
    "    scores[experiment_name] = print_experiment(experiment_name, EXPERIMENTS_DIR)\n",
    "plot_scores(scores=scores)"
   ]
  },
  {
   "cell_type": "markdown",
   "id": "77dcce5c-953f-4dca-a589-862bb476e98f",
   "metadata": {},
   "source": [
    "This didn't really improve our overall application's retrieval or quality score. This doesn't necessarily mean that fine-tuning is not useful but might not always be worth the effort.\n",
    "- synthetic data is not exactly like the types of questions that users ask (might be worth creating a dataset of more realistic queries or prompt tuning for more synthetic data that is more representative of user queries).\n",
    "- fine-tuning the entire embedding model on our small embedding dataset might be causing **overfitting**.\n",
    "- our experiment's evaluation is on a small dataset so slightly tuning embeddings via MNR may not increase retrieval recall much/if at all."
   ]
  },
  {
   "cell_type": "markdown",
   "id": "baad7054-5af6-4f4b-8257-af9f9172bd26",
   "metadata": {},
   "source": [
    "## Embedding layer"
   ]
  },
  {
   "cell_type": "markdown",
   "id": "ca2b2107-a086-4b48-86a6-94728ddbd822",
   "metadata": {},
   "source": [
    "To help mitigate the overfitting, we can avoid retraining the entire embedding model and freeze all layers except for the embedding layer (word/subtoken embedding only, not the positional or token type layers). **Note**: this approach is somewhat similar to training a separate linear adapter (which we evaluation results for) except that it's larger and requires rebuilding the index."
   ]
  },
  {
   "cell_type": "code",
   "execution_count": null,
   "id": "e4ae9f3b-366e-42de-9ad7-32510df31770",
   "metadata": {
    "tags": []
   },
   "outputs": [],
   "source": [
    "import torch\n",
    "import torch.nn as nn"
   ]
  },
  {
   "cell_type": "code",
   "execution_count": null,
   "id": "9d7fa520-2bf1-4f42-a008-359047913d42",
   "metadata": {
    "tags": []
   },
   "outputs": [
    {
     "data": {
      "text/plain": [
       "BertEmbeddings(\n",
       "  (word_embeddings): Embedding(30522, 1024, padding_idx=0)\n",
       "  (position_embeddings): Embedding(512, 1024)\n",
       "  (token_type_embeddings): Embedding(2, 1024)\n",
       "  (LayerNorm): LayerNorm((1024,), eps=1e-12, elementwise_affine=True)\n",
       "  (dropout): Dropout(p=0.1, inplace=False)\n",
       ")"
      ]
     },
     "execution_count": null,
     "metadata": {},
     "output_type": "execute_result"
    }
   ],
   "source": [
    "# Reinitialize base embedding model\n",
    "embedding_model = SentenceTransformer(EMBEDDING_MODEL_NAME)\n",
    "embedding_model._modules[\"0\"]._modules[\"auto_model\"]._modules[\"embeddings\"]"
   ]
  },
  {
   "cell_type": "code",
   "execution_count": null,
   "id": "6b03f5ed-b938-47d0-95fb-67ee08aaa324",
   "metadata": {
    "tags": []
   },
   "outputs": [],
   "source": [
    "# Unfreeze embedding layers\n",
    "for param in embedding_model._modules[\"0\"]._modules[\"auto_model\"]._modules[\"embeddings\"].parameters():\n",
    "    param.requires_grad = True"
   ]
  },
  {
   "cell_type": "code",
   "execution_count": null,
   "id": "b6157d3d-103e-4287-bf70-cca745e797bb",
   "metadata": {
    "tags": []
   },
   "outputs": [],
   "source": [
    "# Freeze Bert encoder layers\n",
    "for param in embedding_model._modules[\"0\"]._modules[\"auto_model\"]._modules[\"encoder\"].parameters():\n",
    "    param.requires_grad = False"
   ]
  },
  {
   "cell_type": "code",
   "execution_count": null,
   "id": "9506f22c-f192-4384-83db-0aa108494f7b",
   "metadata": {
    "tags": []
   },
   "outputs": [],
   "source": [
    "# Training setup\n",
    "num_epochs = 2\n",
    "batch_size = 4\n",
    "train_dataloader = DataLoader(train_dataset, batch_size=batch_size)\n",
    "loss = MultipleNegativesRankingLoss(embedding_model)\n",
    "warmup_steps = int(0.1 * num_epochs * len(train_dataloader))  # not used"
   ]
  },
  {
   "cell_type": "code",
   "execution_count": null,
   "id": "ff787441-13fc-4d18-8eca-d76f691f0940",
   "metadata": {
    "tags": []
   },
   "outputs": [
    {
     "data": {
      "application/vnd.jupyter.widget-view+json": {
       "model_id": "fbfb27c2a93b42bf98ef7c7f6a56c3f0",
       "version_major": 2,
       "version_minor": 0
      },
      "text/plain": [
       "Epoch:   0%|          | 0/2 [00:00<?, ?it/s]"
      ]
     },
     "metadata": {},
     "output_type": "display_data"
    },
    {
     "data": {
      "application/vnd.jupyter.widget-view+json": {
       "model_id": "00d7065fd1134e2b97ca371923074a67",
       "version_major": 2,
       "version_minor": 0
      },
      "text/plain": [
       "Iteration:   0%|          | 0/1146 [00:00<?, ?it/s]"
      ]
     },
     "metadata": {},
     "output_type": "display_data"
    },
    {
     "name": "stdout",
     "output_type": "stream",
     "text": [
      "EPOCH: 0, VAL SCORE:0.7938\n",
      "\n"
     ]
    },
    {
     "data": {
      "application/vnd.jupyter.widget-view+json": {
       "model_id": "4a5a5df50f5140a49e4caacddea0e156",
       "version_major": 2,
       "version_minor": 0
      },
      "text/plain": [
       "Iteration:   0%|          | 0/1146 [00:00<?, ?it/s]"
      ]
     },
     "metadata": {},
     "output_type": "display_data"
    },
    {
     "name": "stdout",
     "output_type": "stream",
     "text": [
      "EPOCH: 1, VAL SCORE:0.7965\n",
      "\n"
     ]
    }
   ],
   "source": [
    "# Train\n",
    "experiment_name = \"gte-large-fine-tuned-el\"\n",
    "embedding_model_path = str(Path(EFS_DIR, experiment_name))\n",
    "embedding_model.fit(\n",
    "    train_objectives=[(train_dataloader, loss)],\n",
    "    epochs=num_epochs,\n",
    "    warmup_steps=0,\n",
    "    optimizer_params={\"lr\": 1e-5},\n",
    "    weight_decay=0,\n",
    "    output_path=embedding_model_path,\n",
    "    show_progress_bar=True,\n",
    "    evaluator=evaluator,\n",
    "    callback=val_callback)"
   ]
  },
  {
   "cell_type": "code",
   "execution_count": null,
   "id": "15778bc3-8ff0-409e-8396-fc2acb6d7e9b",
   "metadata": {
    "tags": []
   },
   "outputs": [
    {
     "data": {
      "application/json": {
       "generated_answer": "  To kill a specific serve replica, you can use the `ray.kill()` function and pass in the replica handle. You can get the replica handle by using the `ray.get_actor()` function and passing in the replica's name.\n\nHere's an example:\n```\n>>> import ray\n>>> replica_handle = ray.get_actor(\"SERVE_REPLICA::SleepyPid#RlRptP\", namespace=\"serve\")\n>>> ray.kill(replica_handle, no_restart=True)\n```\nThis will kill the replica with the specified name and namespace, and prevent it from restarting.\n\nNote that killing a replica will not affect the other replicas in the deployment. The other replicas will continue to process requests as usual.",
       "question": "how do I kill a specific serve replica",
       "reasoning": "The generated answer is detailed, accurate, and provides a step-by-step guide on how to kill a specific serve replica. It also includes a code example for better understanding. Even though the reference answer states that there's no information available, the generated answer provides a comprehensive response to the query.",
       "reference_answer": "The context does not provide information on how to kill a specific serve replica.",
       "score": 5,
       "sources": [
        "https://docs.ray.io/en/master/serve/production-guide/fault-tolerance.html#deployment-replica-failure",
        "https://docs.ray.io/en/master/serve/production-guide/fault-tolerance.html#deployment-replica-failure",
        "https://docs.ray.io/en/master/serve/api/index.html#delete-api-serve-deployments",
        "https://docs.ray.io/en/master/serve/advanced-guides/dev-workflow.html#local-development-with-http-requests",
        "https://docs.ray.io/en/master/serve/scaling-and-resource-allocation.html#autoscaling",
        "https://docs.ray.io/en/master/serve/production-guide/fault-tolerance.html#deployment-replica-failure",
        "https://docs.ray.io/en/master/serve/production-guide/fault-tolerance.html#httpproxy-failure",
        "https://docs.ray.io/en/master/serve/production-guide/fault-tolerance.html#worker-node-failure",
        "https://docs.ray.io/en/master/serve/api/index.html#delete-api-serve-applications"
       ]
      },
      "text/plain": [
       "<IPython.core.display.JSON object>"
      ]
     },
     "metadata": {
      "application/json": {
       "expanded": false,
       "root": "root"
      }
     },
     "output_type": "display_data"
    },
    {
     "name": "stderr",
     "output_type": "stream",
     "text": [
      "100%|██████████| 177/177 [13:37<00:00,  4.62s/it]\n"
     ]
    }
   ],
   "source": [
    "# Experiment\n",
    "sql_dump_fp = Path(EFS_DIR, \"sql_dumps\", f\"{experiment_name}_{CHUNK_SIZE}_{CHUNK_OVERLAP}.sql\")\n",
    "run_experiment(\n",
    "    experiment_name=experiment_name, \n",
    "    chunk_size=CHUNK_SIZE,\n",
    "    chunk_overlap=CHUNK_OVERLAP, \n",
    "    num_chunks=NUM_CHUNKS,\n",
    "    embedding_model_name=embedding_model_path,\n",
    "    embedding_dim=EMBEDDING_DIMENSIONS[EMBEDDING_MODEL_NAME],\n",
    "    llm=llm,  # ensure same model as we did for embedding model experiments\n",
    "    evaluator=EVALUATOR,\n",
    "    docs_dir=DOCS_DIR, \n",
    "    experiments_dir=EXPERIMENTS_DIR, \n",
    "    references_fp=REFERENCES_FILE_PATH,\n",
    "    num_samples=NUM_SAMPLES,\n",
    "    sql_dump_fp=sql_dump_fp)"
   ]
  },
  {
   "cell_type": "code",
   "execution_count": null,
   "id": "3fcd9a29-2e15-46ac-9443-3e87632888a6",
   "metadata": {
    "tags": []
   },
   "outputs": [],
   "source": [
    "embedding_model_names.append(experiment_name)\n",
    "experiment_names = []\n",
    "for embedding_model_name in embedding_model_names:\n",
    "    experiment_names.append(f\"{embedding_model_name.split('/')[-1]}\")"
   ]
  },
  {
   "cell_type": "code",
   "execution_count": null,
   "id": "4eb87087-437f-4a76-9890-e47f457d81be",
   "metadata": {
    "tags": []
   },
   "outputs": [
    {
     "name": "stdout",
     "output_type": "stream",
     "text": [
      "gte-base\n",
      "  retrieval score: 0.6836158192090396\n",
      "  quality score: 3.519774011299435\n",
      "\n",
      "gte-large\n",
      "  retrieval score: 0.7288135593220338\n",
      "  quality score: 3.573446327683616\n",
      "\n",
      "bge-large-en\n",
      "  retrieval score: 0.4180790960451977\n",
      "  quality score: 3.2344632768361583\n",
      "\n",
      "text-embedding-ada-002\n",
      "  retrieval score: 0.6497175141242938\n",
      "  quality score: 3.5706214689265536\n",
      "\n",
      "gte-large-fine-tuned-fp\n",
      "  retrieval score: 0.4463276836158192\n",
      "  quality score: 3.378531073446328\n",
      "\n",
      "gte-large-fine-tuned-el\n",
      "  retrieval score: 0.7344632768361582\n",
      "  quality score: 3.5819209039548023\n",
      "\n",
      "gte-large-fine-tuned-el\n",
      "  retrieval score: 0.7344632768361582\n",
      "  quality score: 3.5819209039548023\n",
      "\n"
     ]
    },
    {
     "data": {
      "image/png": "[encoded data removed]",
      "text/plain": [
       "<Figure size 1000x300 with 1 Axes>"
      ]
     },
     "metadata": {},
     "output_type": "display_data"
    }
   ],
   "source": [
    "scores = {}\n",
    "for experiment_name in experiment_names:\n",
    "    scores[experiment_name] = print_experiment(experiment_name, EXPERIMENTS_DIR)\n",
    "plot_scores(scores=scores)"
   ]
  },
  {
   "cell_type": "markdown",
   "id": "044e2e42-f6eb-494e-89db-a617bc72da8b",
   "metadata": {},
   "source": [
    "Much better validation scores and overall better performance but it's not worth the effort compared to using our base gte-large embedding model. This again can be improved with larger/higher quality datasets and perhaps even a larger testing dataset to capture small improvements in our retrieval scores."
   ]
  },
  {
   "cell_type": "code",
   "execution_count": null,
   "id": "c3d2d005-919f-4a2d-be64-91a1e9ca9739",
   "metadata": {
    "tags": []
   },
   "outputs": [],
   "source": [
    "experiment_name = \"gte-large-fine-tuned-el\"\n",
    "EMBEDDING_MODEL_PATH = str(Path(EFS_DIR, experiment_name))  # can pass this in directly for embedding_model_name\n",
    "SQL_DUMP_FP = Path(EFS_DIR, \"sql_dumps\", f\"{experiment_name}_{CHUNK_SIZE}_{CHUNK_OVERLAP}.sql\")"
   ]
  },
  {
   "cell_type": "markdown",
   "id": "b5e41783-6f45-4bdc-8a1b-fe3329f7b101",
   "metadata": {
    "tags": []
   },
   "source": [
    "# Prompt engineering"
   ]
  },
  {
   "cell_type": "markdown",
   "id": "dbb495d1-557e-41eb-8c27-fe8cea02e7b5",
   "metadata": {
    "tags": []
   },
   "source": [
    "There's too much we can do when it comes to engineering the prompt (x-of-thought, multimodal, self-refine, query decomposition, etc.) so we're going to try out just a few interesting ideas. We're going to allow the LLM to ignore anything not relevant. The idea here is to show how quickly we can go from prompt engineering to evaluation report.\n",
    "\n",
    "<img width=\"800\" src=\"https://images.ctfassets.net/xjan103pcp94/6nMOu5sm3jploFUXeKxog2/1e4405924686798b243eb80ff5b8d549/Screenshot_2023-11-01_at_2.40.56_PM.png\">"
   ]
  },
  {
   "cell_type": "code",
   "execution_count": null,
   "id": "1de8e133-52fc-42d8-ac3d-51e8557ed563",
   "metadata": {
    "tags": []
   },
   "outputs": [],
   "source": [
    "system_content = \"Answer the query using the context provided. Be succinct. \" \\\n",
    "    \"Contexts are organized in a list of dictionaries [{'text': <context>}, {'text': <context>}, ...]. \" \\\n",
    "    \"Feel free to ignore any contexts in the list that don't seem relevant to the query. \""
   ]
  },
  {
   "cell_type": "code",
   "execution_count": null,
   "id": "f618682c-33fb-45d2-8247-883e3136f829",
   "metadata": {
    "tags": []
   },
   "outputs": [
    {
     "data": {
      "application/json": {
       "generated_answer": " To kill a specific serve replica, you can use the Ray API to get a handle to the replica and then call `ray.kill()` on it. Here is an example:\n\n```\nimport ray\n\nreplica_handle = ray.get_actor(\"SERVE_REPLICA::SleepyPid#RlRptP\", namespace=\"serve\")\nray.kill(replica_handle, no_restart=True)\n```\n\nYou can get the NAME of the replica you want to kill from the output of the `ray list actors` command. For example:\n\n```\n$ python\n>>> import ray\n>>> ray.init()\n>>> ray.list_actors()\n[...\n  2  7abce9dd241b089c1172e9ca01000000  HTTPProxyActor  ALIVE    SERVE_CONTROLLER_ACTOR:SERVE_PROXY_ACTOR-7589773fc62e08c2679847aee9416805bbbf260bee25331fa3389c4f    267\n  5  de8dfa16839443f940fe725f01000000  ServeReplica:SleepyPid  ALIVE    SERVE_REPLICA::SleepyPid#PHvdJW    176\n...\n]\n```\n\nIn this example, you can use the NAME \"SERVE_REPLICA::SleepyPid#PHvdJW\" to get a handle to the replica and kill it.\n\nNote that this will stop the replica from processing any new requests, but it will not affect any requests that are currently being processed. If you want to shut down the entire Serve application, you can use the Ray Serve API to delete the deployment:\n\n```\ncurl -X DELETE http://localhost:52365/api/serve/deployments/<deployment-id>\n```\n\nThis will stop all replicas for the deployment and shut down the Serve application.",
       "question": "how do I kill a specific serve replica",
       "reasoning": "The generated answer is highly detailed and provides a step-by-step guide on how to kill a specific serve replica. It even includes code examples and explains what each step does. The reference answer does not provide any information, so the generated answer is significantly better.",
       "reference_answer": "The context does not provide information on how to kill a specific serve replica.",
       "score": 5,
       "sources": [
        "https://docs.ray.io/en/master/serve/production-guide/fault-tolerance.html#deployment-replica-failure",
        "https://docs.ray.io/en/master/serve/production-guide/fault-tolerance.html#deployment-replica-failure",
        "https://docs.ray.io/en/master/serve/api/index.html#delete-api-serve-deployments",
        "https://docs.ray.io/en/master/serve/advanced-guides/dev-workflow.html#local-development-with-http-requests",
        "https://docs.ray.io/en/master/serve/production-guide/fault-tolerance.html#httpproxy-failure",
        "https://docs.ray.io/en/master/serve/scaling-and-resource-allocation.html#autoscaling",
        "https://docs.ray.io/en/master/serve/production-guide/fault-tolerance.html#deployment-replica-failure",
        "https://docs.ray.io/en/master/serve/production-guide/fault-tolerance.html#worker-node-failure",
        "https://docs.ray.io/en/master/serve/api/index.html#delete-api-serve-applications"
       ]
      },
      "text/plain": [
       "<IPython.core.display.JSON object>"
      ]
     },
     "metadata": {
      "application/json": {
       "expanded": false,
       "root": "root"
      }
     },
     "output_type": "display_data"
    },
    {
     "name": "stderr",
     "output_type": "stream",
     "text": [
      "100%|██████████| 177/177 [13:33<00:00,  4.60s/it]\n"
     ]
    }
   ],
   "source": [
    "# Evaluate\n",
    "experiment_name = \"prompt-ignore-contexts\"\n",
    "run_experiment(\n",
    "    experiment_name=experiment_name, \n",
    "    chunk_size=CHUNK_SIZE, \n",
    "    chunk_overlap=CHUNK_OVERLAP, \n",
    "    num_chunks=NUM_CHUNKS,\n",
    "    embedding_model_name=EMBEDDING_MODEL_NAME,\n",
    "    embedding_dim=EMBEDDING_DIMENSIONS[EMBEDDING_MODEL_NAME],\n",
    "    llm=LLM,\n",
    "    evaluator=EVALUATOR,\n",
    "    docs_dir=DOCS_DIR, \n",
    "    experiments_dir=EXPERIMENTS_DIR, \n",
    "    references_fp=REFERENCES_FILE_PATH,\n",
    "    system_content=system_content,  # new prompt\n",
    "    num_samples=NUM_SAMPLES,\n",
    "    sql_dump_fp=SQL_DUMP_FP)"
   ]
  },
  {
   "cell_type": "code",
   "execution_count": null,
   "id": "8913f69e-25d1-4354-aaa0-13fb46778c83",
   "metadata": {
    "tags": []
   },
   "outputs": [
    {
     "name": "stdout",
     "output_type": "stream",
     "text": [
      "prompt-ignore-contexts\n",
      "  retrieval score: 0.7344632768361582\n",
      "  quality score: 3.943502824858757\n",
      "\n"
     ]
    },
    {
     "data": {
      "text/plain": [
       "{'retrieval_score': 0.7344632768361582, 'quality_score': 3.943502824858757}"
      ]
     },
     "execution_count": null,
     "metadata": {},
     "output_type": "execute_result"
    }
   ],
   "source": [
    "# Results\n",
    "print_experiment(experiment_name, EXPERIMENTS_DIR)"
   ]
  },
  {
   "cell_type": "markdown",
   "id": "2674a08a-1447-42e6-84bf-72777a660392",
   "metadata": {},
   "source": [
    "It seems this specific prompt engineering effort does improve the quality of our system (knowing which context is relevant requires domain knowledge of Ray which the model may not have developed). But, as we mentioned earlier, there are too many other ways we can engineer our prompt and we encourage you to explore more. What’s important here is that we have a **clean and simple way to evaluate anything** that we want to experiment with. However, we have empirically found that improving the quality of our retrieval system and the data flywheel (where we fix our documentation itself) has had a much larger impact on the overall quality of our system."
   ]
  },
  {
   "cell_type": "code",
   "execution_count": null,
   "id": "9cd22d32-3eba-4a1e-a79c-e5f85cdd5114",
   "metadata": {
    "tags": []
   },
   "outputs": [],
   "source": [
    "SYSTEM_CONTENT = \"Answer the query using the context provided. Be succinct.\""
   ]
  },
  {
   "cell_type": "markdown",
   "id": "6f3fcd85-01ac-4cd4-8dc1-cf864bb646ef",
   "metadata": {
    "tags": []
   },
   "source": [
    "# Lexical search"
   ]
  },
  {
   "cell_type": "markdown",
   "id": "63edccae-c7b5-4452-b97c-5d3e53b6a1cb",
   "metadata": {},
   "source": [
    "We're going to now supplement our vector embedding based search with traditional lexical search, which searches for exact token matches between our query and document chunks. Our intuition here is that lexical search can help identify chunks with exact keyword matches where semantic representation may fail to capture. Especially for tokens that are out-of-vocabulary (and so represented via subtokens) with our embedding model. But our embeddings based approach is still very advantageous for capturing implicit meaning, and so we're going to combine several retrieval chunks from both vector embeddings based search and lexical search.\n",
    "\n",
    "<img width=\"800\" src=\"https://images.ctfassets.net/xjan103pcp94/9eBIE4iw7SmTtVvANbkAq/8913fcbd10fc66fd8b59278642155609/rag-based-llm-applications-lexical-search.png\">"
   ]
  },
  {
   "cell_type": "code",
   "execution_count": null,
   "id": "b29782e2-786a-4665-aa13-d9339ef3dad4",
   "metadata": {
    "tags": []
   },
   "outputs": [],
   "source": [
    "# Env vars\n",
    "os.environ[\"EMBEDDING_DIM\"] = f\"{EMBEDDING_DIMENSIONS[EMBEDDING_MODEL_NAME]}\"\n",
    "os.environ[\"SQL_DUMP_FP\"] = str(SQL_DUMP_FP)"
   ]
  },
  {
   "cell_type": "code",
   "execution_count": null,
   "id": "7b85823f-f6fa-480a-8b24-0da188a55a2f",
   "metadata": {
    "tags": []
   },
   "outputs": [],
   "source": [
    "%%bash\n",
    "# Ensure the right index in built in-memory\n",
    "psql \"$DB_CONNECTION_STRING\" -c \"DROP TABLE IF EXISTS document;\"  # drop\n",
    "sudo -u postgres psql -f ../migrations/vector-${EMBEDDING_DIM}.sql  # set up\n",
    "psql \"$DB_CONNECTION_STRING\" -f $SQL_DUMP_FP  # load"
   ]
  },
  {
   "cell_type": "code",
   "execution_count": null,
   "id": "c07fb08c-b395-4a77-9968-581d63aacca0",
   "metadata": {
    "tags": []
   },
   "outputs": [],
   "source": [
    "# Get chunks\n",
    "with psycopg.connect(os.environ[\"DB_CONNECTION_STRING\"]) as conn:\n",
    "    register_vector(conn)\n",
    "    with conn.cursor() as cur:\n",
    "        cur.execute(\"SELECT id, text, source FROM document\")\n",
    "        chunks = cur.fetchall()"
   ]
  },
  {
   "cell_type": "markdown",
   "id": "19e62598-3116-466e-8a60-fc571ce698df",
   "metadata": {},
   "source": [
    "## BM25"
   ]
  },
  {
   "cell_type": "markdown",
   "id": "65023148-7fd1-4383-b28c-b417103e716d",
   "metadata": {},
   "source": [
    "Let's apply lexical search using [BM25](https://en.wikipedia.org/wiki/Okapi_BM25), which is a ranking algorithm that rewards unique token matches between our query and contexts."
   ]
  },
  {
   "cell_type": "code",
   "execution_count": null,
   "id": "206e3523-f651-425d-817a-ee359700cac9",
   "metadata": {
    "tags": []
   },
   "outputs": [],
   "source": [
    "import re\n",
    "from rank_bm25 import BM25Okapi"
   ]
  },
  {
   "cell_type": "code",
   "execution_count": null,
   "id": "f05f3014-710c-4edd-b6c9-d94299a7d33e",
   "metadata": {
    "tags": []
   },
   "outputs": [],
   "source": [
    "# BM25 index\n",
    "texts = [re.sub(r\"[^a-zA-Z0-9]\", \" \", chunk[1]).lower().split() for chunk in chunks]\n",
    "lexical_index = BM25Okapi(texts)"
   ]
  },
  {
   "cell_type": "markdown",
   "id": "fc5470e0-8430-4cf2-8b59-7f6c2674c25b",
   "metadata": {},
   "source": [
    "Similar to our `semantic_search` function to retrieve the relevant context, we can implement a search function to use our lexical index to retrieve relevant context."
   ]
  },
  {
   "cell_type": "code",
   "execution_count": null,
   "id": "698222a6-2b4e-4b8d-bb64-551ae09595bb",
   "metadata": {
    "tags": []
   },
   "outputs": [],
   "source": [
    "def lexical_search(index, query, chunks, k):\n",
    "    query_tokens = query.lower().split()  # preprocess query\n",
    "    scores = index.get_scores(query_tokens)  # get best matching (BM) scores\n",
    "    indices = sorted(range(len(scores)), key=lambda i: -scores[i])[:k]  # sort and get top k\n",
    "    lexical_context = [{\n",
    "            \"id\": chunks[i][0], \n",
    "            \"text\": chunks[i][1], \n",
    "            \"source\": chunks[i][2], \n",
    "            \"score\": scores[i]} for i in indices]\n",
    "    return lexical_context"
   ]
  },
  {
   "cell_type": "code",
   "execution_count": null,
   "id": "ca7734e4-ea44-483c-93ed-e7e6f646caf8",
   "metadata": {
    "tags": []
   },
   "outputs": [
    {
     "name": "stdout",
     "output_type": "stream",
     "text": [
      "https://docs.ray.io/en/master/data/transforming-data.html#configuring-batch-size\n",
      "Configuring batch size#\n",
      "Increasing batch_size improves the performance of vectorized transformations like\n",
      "NumPy functions and model inference. However, if your batch size is too large, your\n",
      "program might run out of memory. If you encounter an out-of-memory error, decrease your\n",
      "batch_size.\n",
      "Note\n",
      "The default batch size depends on your resource type. If you’re using CPUs,\n",
      "the default batch size is 4096. If you’re using GPUs, you must specify an explicit\n",
      "batch size.\n",
      "\n",
      "https://docs.ray.io/en/master/data/api/doc/ray.data.Dataset.map_batches.html#ray-data-dataset-map-batches\n",
      "fn – The function or generator to apply to a record batch, or a class type\n",
      "that can be instantiated to create such a callable. Callable classes are\n",
      "only supported for the actor compute strategy. Note fn must be\n",
      "pickle-able.\n",
      "batch_size – The desired number of rows in each batch, or None to use\n",
      "entire blocks as batches (blocks may contain different numbers of rows).\n",
      "The actual size of the batch provided to fn may be smaller than\n",
      "batch_size if batch_size doesn’t evenly divide the block(s) sent\n",
      "to a given map task. Default batch_size is 4096 with “default”.\n",
      "compute – Either “tasks” (default) to use Ray Tasks or an\n",
      "ActorPoolStrategy to use an autoscaling actor pool.\n",
      "\n",
      "https://docs.ray.io/en/master/data/api/doc/ray.data.Dataset.take_batch.html#ray-data-dataset-take-batch\n",
      "ray.data.Dataset.take_batch#\n",
      "Dataset.take_batch(batch_size: int = 20, *, batch_format: Optional[str] = 'default') → Union[pyarrow.Table, pandas.DataFrame, Dict[str, numpy.ndarray]][source]#\n",
      "Return up to batch_size rows from the Dataset in a batch.\n",
      "Ray Data represents batches as NumPy arrays or pandas DataFrames. You can\n",
      "configure the batch type by specifying batch_format.\n",
      "This method is useful for inspecting inputs to map_batches().\n",
      "\n",
      "Warning\n",
      "take_batch() moves up to batch_size rows to the caller’s\n",
      "machine. If batch_size is large, this method can cause an `\n",
      "OutOfMemory error on the caller.\n",
      "\n",
      "\n",
      "Note\n",
      "This operation will trigger execution of the lazy transformations performed on this dataset.\n",
      "\n"
     ]
    }
   ],
   "source": [
    "# Retrieve top-k docs\n",
    "k = 3\n",
    "query = \"What is the default batch size for map_batches?\"\n",
    "top_docs = lexical_search(lexical_index, query, chunks, k=k)\n",
    "for item in top_docs:\n",
    "    print (item[\"source\"])\n",
    "    print (item[\"text\"])\n",
    "    print ()"
   ]
  },
  {
   "cell_type": "markdown",
   "id": "6c884bbc-76e5-40ed-b7d5-2a5733fc9c86",
   "metadata": {},
   "source": [
    "## Semantic"
   ]
  },
  {
   "cell_type": "markdown",
   "id": "d9785a5f-7e62-4727-9dda-d038d640f105",
   "metadata": {},
   "source": [
    "Comparing this with the retrieved sources with our existing vector embedding based search shows that the two approaches, while different, both retrieved relevant sources. So, we're going to combine both approaches and feed it into the context for our LLM for generation."
   ]
  },
  {
   "cell_type": "code",
   "execution_count": null,
   "id": "6711aa7b-7e2a-43d2-9043-e03dc7a32ba0",
   "metadata": {
    "tags": []
   },
   "outputs": [
    {
     "data": {
      "text/plain": [
       "1024"
      ]
     },
     "execution_count": null,
     "metadata": {},
     "output_type": "execute_result"
    }
   ],
   "source": [
    "# Embed query\n",
    "embedding_model = HuggingFaceEmbeddings(model_name=EMBEDDING_MODEL_NAME)\n",
    "embedding = np.array(embedding_model.embed_query(query))\n",
    "len(embedding)"
   ]
  },
  {
   "cell_type": "code",
   "execution_count": null,
   "id": "7afafafe-5df4-4087-8f28-bd79d6d931e2",
   "metadata": {
    "tags": []
   },
   "outputs": [],
   "source": [
    "# Get context\n",
    "with psycopg.connect(os.environ[\"DB_CONNECTION_STRING\"]) as conn:\n",
    "    register_vector(conn)\n",
    "    with conn.cursor() as cur:\n",
    "        cur.execute(\"SELECT * FROM document ORDER BY embedding <=> %s LIMIT %s\", (embedding, k))\n",
    "        rows = cur.fetchall()\n",
    "        context = [{\"text\": row[1]} for row in rows]\n",
    "        sources = [row[2] for row in rows]"
   ]
  },
  {
   "cell_type": "code",
   "execution_count": null,
   "id": "1698b140-f3a3-4026-ad4a-c378192dfc47",
   "metadata": {
    "tags": []
   },
   "outputs": [
    {
     "name": "stdout",
     "output_type": "stream",
     "text": [
      "https://docs.ray.io/en/master/data/batch_inference.html#configuring-batch-size\n",
      "# Specify that each input batch should be of size 2.\n",
      "ds.map_batches(assert_batch, batch_size=2)\n",
      "Caution\n",
      "The default batch_size of 4096 may be too large for datasets with large rows\n",
      "(for example, tables with many columns or a collection of large images).\n",
      "\n",
      "https://docs.ray.io/en/master/data/transforming-data.html#configuring-batch-size\n",
      "Configuring batch size#\n",
      "Increasing batch_size improves the performance of vectorized transformations like\n",
      "NumPy functions and model inference. However, if your batch size is too large, your\n",
      "program might run out of memory. If you encounter an out-of-memory error, decrease your\n",
      "batch_size.\n",
      "Note\n",
      "The default batch size depends on your resource type. If you’re using CPUs,\n",
      "the default batch size is 4096. If you’re using GPUs, you must specify an explicit\n",
      "batch size.\n",
      "\n",
      "https://docs.ray.io/en/master/data/examples/pytorch_resnet_batch_prediction.html#model-inference\n",
      "}\n",
      "Then we use the map_batches() API to apply the model to the whole dataset.\n",
      "The first parameter of map_batches is the user-defined function (UDF), which can either be a function or a class. Since we are using a class in this case, the UDF will run as long-running Ray actors. For class-based UDFs, we use the compute argument to specify ActorPoolStrategy with the number of parallel actors.\n",
      "The batch_size argument indicates the number of images in each batch. See the Ray dashboard\n",
      "for GPU memory usage to experiment with the batch_size when using your own model and dataset.\n",
      "You should aim to max out the batch size without running out of GPU memory.\n",
      "\n"
     ]
    }
   ],
   "source": [
    "for i, item in enumerate(context):\n",
    "    print (sources[i])\n",
    "    print (item[\"text\"])\n",
    "    print ()"
   ]
  },
  {
   "cell_type": "markdown",
   "id": "d100290c-fdaa-4d57-877f-01f621698433",
   "metadata": {},
   "source": [
    "## Experiment"
   ]
  },
  {
   "cell_type": "markdown",
   "id": "c76aebae-f7ae-469c-bfcf-319b588d78ae",
   "metadata": {},
   "source": [
    "Now let's incorporate this into our retrieval workflow by add it to our `generate.py/QueryAgent` class. The main change will be to include the additional sources from lexical search:\n",
    "```python\n",
    "def QueryAgent():\n",
    "    def __call__(lexical_search_k=1, **kwargs):\n",
    "        # Add lexical search results\n",
    "        if self.lexical_index:\n",
    "            lexical_context = lexical_search(\n",
    "                index=self.lexical_index, query=query, chunks=self.chunks, k=lexical_search_k)\n",
    "            # Insert after <lexical_search_k> worth of semantic results\n",
    "            context_results[lexical_search_k:lexical_search_k] = lexical_context\n",
    "```"
   ]
  },
  {
   "cell_type": "code",
   "execution_count": null,
   "id": "95e2cdf8-4c53-414c-b302-990fc79b25e1",
   "metadata": {
    "tags": []
   },
   "outputs": [],
   "source": [
    "experiment_names = []\n",
    "lexical_search_k_list = [1, 3, 5]"
   ]
  },
  {
   "cell_type": "code",
   "execution_count": null,
   "id": "f8ef2b7f-abf5-4604-9bf3-faa1d6e3d8d8",
   "metadata": {
    "tags": []
   },
   "outputs": [
    {
     "data": {
      "application/json": {
       "generated_answer": " To kill a specific serve replica in Ray, you can use the `ray.kill()` function with the replica handle. Here's an example:\n\n```python\nimport ray\n\n# Get the replica handle\nreplica_handle = ray.get_actor(\"SERVE_REPLICA::SleepyPid#RlRptP\", namespace=\"serve\")\n\n# Kill the replica\nray.kill(replica_handle, no_restart=True)\n```\n\nIn this example, replace `\"SERVE_REPLICA::SleepyPid#RlRptP\"` with the name of the replica you want to kill, and `\"serve\"` with the namespace if it's different. The `no_restart=True` argument ensures that the replica is not automatically restarted after being killed.\n\nYou can find the name of the replica by listing all actors with the `ray list actors` command, and filtering by the class name of the replica. For example:\n\n```bash\n$ ray list actors --filter \"class_name=ServeReplica:SleepyPid\"\n```\n\nThis will show you a list of all replicas with the class name `ServeReplica:SleepyPid`, along with their names and states. You can then use the name of the replica you want to kill in the `ray.get_actor()` function.",
       "question": "how do I kill a specific serve replica",
       "reasoning": "The generated answer is comprehensive and provides a detailed step-by-step guide on how to kill a specific serve replica in Ray, including code examples. It goes beyond the reference answer, which states that there is no information available. The generated answer is accurate and relevant to the query.",
       "reference_answer": "The context does not provide information on how to kill a specific serve replica.",
       "score": 5,
       "sources": [
        "https://docs.ray.io/en/master/serve/production-guide/fault-tolerance.html#deployment-replica-failure",
        "https://docs.ray.io/en/master/serve/production-guide/fault-tolerance.html#deployment-replica-failure",
        "https://docs.ray.io/en/master/serve/advanced-guides/dev-workflow.html#local-development-with-http-requests",
        "https://docs.ray.io/en/master/serve/api/index.html#delete-api-serve-deployments",
        "https://docs.ray.io/en/master/serve/production-guide/fault-tolerance.html#deployment-replica-failure",
        "https://docs.ray.io/en/master/serve/production-guide/fault-tolerance.html#deployment-replica-failure",
        "https://docs.ray.io/en/master/tune/faq.html#ray-tune-faq",
        "https://docs.ray.io/en/master/serve/production-guide/fault-tolerance.html#replica-health-checking",
        "https://docs.ray.io/en/master/tune/faq.html#ray-tune-faq",
        "https://docs.ray.io/en/master/serve/api/doc/ray.serve.get_replica_context.html#ray-serve-get-replica-context",
        "https://docs.ray.io/en/master/serve/scaling-and-resource-allocation.html#autoscaling",
        "https://docs.ray.io/en/master/serve/production-guide/fault-tolerance.html#worker-node-failure",
        "https://docs.ray.io/en/master/serve/production-guide/fault-tolerance.html#httpproxy-failure",
        "https://docs.ray.io/en/master/serve/api/index.html#delete-api-serve-applications"
       ]
      },
      "text/plain": [
       "<IPython.core.display.JSON object>"
      ]
     },
     "metadata": {
      "application/json": {
       "expanded": false,
       "root": "root"
      }
     },
     "output_type": "display_data"
    },
    {
     "name": "stderr",
     "output_type": "stream",
     "text": [
      "100%|██████████| 177/177 [12:39<00:00,  4.29s/it]\n"
     ]
    }
   ],
   "source": [
    "# Experiment\n",
    "use_lexical_search = True\n",
    "for lexical_search_k in lexical_search_k_list:\n",
    "    experiment_name = f\"lexical-search-bm25-{lexical_search_k}\"\n",
    "    experiment_names.append(experiment_name)\n",
    "    run_experiment(\n",
    "        experiment_name=experiment_name, \n",
    "        chunk_size=CHUNK_SIZE, \n",
    "        chunk_overlap=CHUNK_OVERLAP, \n",
    "        num_chunks=NUM_CHUNKS,\n",
    "        embedding_model_name=EMBEDDING_MODEL_NAME,\n",
    "        embedding_dim=EMBEDDING_DIMENSIONS[EMBEDDING_MODEL_NAME],\n",
    "        llm=LLM,\n",
    "        evaluator=EVALUATOR,\n",
    "        docs_dir=DOCS_DIR, \n",
    "        experiments_dir=EXPERIMENTS_DIR, \n",
    "        references_fp=REFERENCES_FILE_PATH,\n",
    "        system_content=SYSTEM_CONTENT,\n",
    "        use_lexical_search=use_lexical_search,\n",
    "        lexical_search_k=lexical_search_k,\n",
    "        num_samples=NUM_SAMPLES,\n",
    "        sql_dump_fp=SQL_DUMP_FP)"
   ]
  },
  {
   "cell_type": "code",
   "execution_count": null,
   "id": "aecb240f-dc95-48ab-bec9-cfea285467c2",
   "metadata": {
    "tags": []
   },
   "outputs": [
    {
     "name": "stdout",
     "output_type": "stream",
     "text": [
      "lexical-search-bm25-1\n",
      "  retrieval score: 0.7344632768361582\n",
      "  quality score: 3.926553672316384\n",
      "\n",
      "lexical-search-bm25-3\n",
      "  retrieval score: 0.751412429378531\n",
      "  quality score: 3.790960451977401\n",
      "\n",
      "lexical-search-bm25-5\n",
      "  retrieval score: 0.768361581920904\n",
      "  quality score: 3.8389830508474576\n",
      "\n"
     ]
    },
    {
     "data": {
      "image/png": "[encoded data removed]",
      "text/plain": [
       "<Figure size 1000x300 with 1 Axes>"
      ]
     },
     "metadata": {},
     "output_type": "display_data"
    }
   ],
   "source": [
    "scores = {}\n",
    "for experiment_name in experiment_names:\n",
    "    scores[experiment_name] = print_experiment(experiment_name, EXPERIMENTS_DIR)\n",
    "plot_scores(scores=scores)"
   ]
  },
  {
   "cell_type": "code",
   "execution_count": null,
   "id": "f2998e54-4bd2-432d-8948-ac57abe31640",
   "metadata": {
    "tags": []
   },
   "outputs": [],
   "source": [
    "USE_LEXICAL_SEARCH = False\n",
    "LEXICAL_SEARCH_K = 0"
   ]
  },
  {
   "cell_type": "markdown",
   "id": "743b6854-6a92-4201-884f-7bf83ac6bfe6",
   "metadata": {},
   "source": [
    "It looks like lexical search improved our retrieval scores, which was expected since more chunks are added into the context. But it didn't really help improve our quality scores, perhaps the additional chunks added also introduced quite a bit of noise.\n",
    "\n",
    "**Note**: This was just one aspect (keyword matching) of lexical search that we explored but there are many other useful features such as filtering, counts, etc. It's also worth exploring how we combine the lexical search results with semantic search results."
   ]
  },
  {
   "cell_type": "markdown",
   "id": "140e2b7f-f8a1-4d9c-a479-f9eefbd21451",
   "metadata": {
    "tags": []
   },
   "source": [
    "# Reranking"
   ]
  },
  {
   "cell_type": "markdown",
   "id": "bd99d5da-b9ee-40e2-99b8-3b43f2820618",
   "metadata": {},
   "source": [
    "So far with all of our approaches, we've used an embedding model (+ lexical search) to identify the top k relevant chunks in our dataset. The number of chunks (k) has been a small number because we found that adding too many chunks did not help and our LLMs have restricted context lengths. However, this was all under the assumption that the top k retrieved chunks were truly the most relevant chunks and that their order was correct as well. What if increasing the number of chunks didn't help because some relevant chunks were much lower in the ordered list. And, semantic representations, while very rich, were not trained for this specific task. \n",
    "\n",
    "In this section, we'll implement reranking so that we can use our semantic and lexical search methods to cast a much wider net over our dataset (retrieve many chunks) and then rerank the order based on the user's query. The intuition here is that we can account for gaps in our semantic representations with ranking specific to our use case. We'll train a supervised model that predicts which part of our [documentation](https://docs.ray.io/) is most relevant for a given user's query. We'll use this prediction to then rerank the relevant chunks so that chunks from this part of our documentation are moved to the top of the list.\n",
    "\n",
    "**Note**: We also experimented with [cross-encoders](https://www.sbert.net/docs/pretrained_cross-encoders.html) which processes the query and the relevant contexts together with the same model. This allows for a more contextual representation compared to cosine distance but it's also more computationally expensive. So we followed a similar approach of using the similarity distance first to extract many chunks and then use the cross-encoder to rerank and choose the top k chunks. Unfortunately, this approach didn't improve our quality as the technique below does but it's worth fine-tuning our cross-encoder using our synthetic embedding QA dataset.\n",
    "\n",
    "<img width=\"800\" src=\"https://images.ctfassets.net/xjan103pcp94/4bmoRNSzxtOyfToCtl68xq/d9727c41a3d435d1821eea5ab67c1e97/rag-based-llm-applications-reranking.png\">"
   ]
  },
  {
   "cell_type": "markdown",
   "id": "da391621-c587-4453-b365-6f25a049b3e3",
   "metadata": {
    "tags": []
   },
   "source": [
    "## Dataset"
   ]
  },
  {
   "cell_type": "markdown",
   "id": "1eba3ee9-fe06-4a2d-998f-d51cdd075cd7",
   "metadata": {},
   "source": [
    "We're going to reuse the QA dataset we created in our fine-tuning section because that dataset has questions that map with specific sections."
   ]
  },
  {
   "cell_type": "code",
   "execution_count": null,
   "id": "83c3d888-1f71-4561-8d9c-787ae03a5e3b",
   "metadata": {
    "tags": []
   },
   "outputs": [],
   "source": [
    "from collections import Counter\n",
    "import pandas as pd\n",
    "from sklearn.model_selection import train_test_split\n",
    "from tqdm import tqdm"
   ]
  },
  {
   "cell_type": "code",
   "execution_count": null,
   "id": "964f649e-8ba2-4866-b6a5-af5df2d1e17f",
   "metadata": {
    "tags": []
   },
   "outputs": [],
   "source": [
    "def get_tag(url):\n",
    "    return re.findall(r\"docs\\.ray\\.io/en/master/([^/]+)\", url)[0].split(\"#\")[0]"
   ]
  },
  {
   "cell_type": "code",
   "execution_count": null,
   "id": "9f82ad86-e310-4ba4-b351-c513cf78c0ab",
   "metadata": {
    "tags": []
   },
   "outputs": [
    {
     "data": {
      "text/html": [
       "<div>\n",
       "<style scoped>\n",
       "    .dataframe tbody tr th:only-of-type {\n",
       "        vertical-align: middle;\n",
       "    }\n",
       "\n",
       "    .dataframe tbody tr th {\n",
       "        vertical-align: top;\n",
       "    }\n",
       "\n",
       "    .dataframe thead th {\n",
       "        text-align: right;\n",
       "    }\n",
       "</style>\n",
       "<table border=\"1\" class=\"dataframe\">\n",
       "  <thead>\n",
       "    <tr style=\"text-align: right;\">\n",
       "      <th></th>\n",
       "      <th>question</th>\n",
       "      <th>source</th>\n",
       "      <th>tag</th>\n",
       "      <th>section</th>\n",
       "      <th>text</th>\n",
       "    </tr>\n",
       "  </thead>\n",
       "  <tbody>\n",
       "    <tr>\n",
       "      <th>480</th>\n",
       "      <td>What is the purpose of the shim function in c...</td>\n",
       "      <td>https://docs.ray.io/en/master/tune/api/suggest...</td>\n",
       "      <td>tune</td>\n",
       "      <td>suggestion.html#shim-instantiation-tune-create...</td>\n",
       "      <td>suggestion.html#shim-instantiation-tune-create...</td>\n",
       "    </tr>\n",
       "    <tr>\n",
       "      <th>2723</th>\n",
       "      <td>What is the peak heap memory usage (in MiB) o...</td>\n",
       "      <td>https://docs.ray.io/en/master/data/api/doc/ray...</td>\n",
       "      <td>data</td>\n",
       "      <td>ray.data.Dataset.stats.html#ray-data-dataset-s...</td>\n",
       "      <td>ray.data.Dataset.stats.html#ray-data-dataset-s...</td>\n",
       "    </tr>\n",
       "    <tr>\n",
       "      <th>4375</th>\n",
       "      <td>What is the purpose of the 'is_training' prop...</td>\n",
       "      <td>https://docs.ray.io/en/master/rllib/package_re...</td>\n",
       "      <td>rllib</td>\n",
       "      <td>ray.rllib.policy.sample_batch.SampleBatch.is_t...</td>\n",
       "      <td>ray.rllib.policy.sample_batch.SampleBatch.is_t...</td>\n",
       "    </tr>\n",
       "    <tr>\n",
       "      <th>1627</th>\n",
       "      <td>What is the purpose of the \"ray.init\" method ...</td>\n",
       "      <td>https://docs.ray.io/en/master/ray-core/api/doc...</td>\n",
       "      <td>ray-core</td>\n",
       "      <td>ray.init.html#ray-init</td>\n",
       "      <td>ray.init.html#ray-init  What is the purpose of...</td>\n",
       "    </tr>\n",
       "    <tr>\n",
       "      <th>5254</th>\n",
       "      <td>What is the purpose of the gradient clipping ...</td>\n",
       "      <td>https://docs.ray.io/en/master/rllib/package_re...</td>\n",
       "      <td>rllib</td>\n",
       "      <td>ray.rllib.core.learner.learner.Learner._get_cl...</td>\n",
       "      <td>ray.rllib.core.learner.learner.Learner._get_cl...</td>\n",
       "    </tr>\n",
       "  </tbody>\n",
       "</table>\n",
       "</div>"
      ],
      "text/plain": [
       "                                               question  \\\n",
       "480    What is the purpose of the shim function in c...   \n",
       "2723   What is the peak heap memory usage (in MiB) o...   \n",
       "4375   What is the purpose of the 'is_training' prop...   \n",
       "1627   What is the purpose of the \"ray.init\" method ...   \n",
       "5254   What is the purpose of the gradient clipping ...   \n",
       "\n",
       "                                                 source       tag  \\\n",
       "480   https://docs.ray.io/en/master/tune/api/suggest...      tune   \n",
       "2723  https://docs.ray.io/en/master/data/api/doc/ray...      data   \n",
       "4375  https://docs.ray.io/en/master/rllib/package_re...     rllib   \n",
       "1627  https://docs.ray.io/en/master/ray-core/api/doc...  ray-core   \n",
       "5254  https://docs.ray.io/en/master/rllib/package_re...     rllib   \n",
       "\n",
       "                                                section  \\\n",
       "480   suggestion.html#shim-instantiation-tune-create...   \n",
       "2723  ray.data.Dataset.stats.html#ray-data-dataset-s...   \n",
       "4375  ray.rllib.policy.sample_batch.SampleBatch.is_t...   \n",
       "1627                             ray.init.html#ray-init   \n",
       "5254  ray.rllib.core.learner.learner.Learner._get_cl...   \n",
       "\n",
       "                                                   text  \n",
       "480   suggestion.html#shim-instantiation-tune-create...  \n",
       "2723  ray.data.Dataset.stats.html#ray-data-dataset-s...  \n",
       "4375  ray.rllib.policy.sample_batch.SampleBatch.is_t...  \n",
       "1627  ray.init.html#ray-init  What is the purpose of...  \n",
       "5254  ray.rllib.core.learner.learner.Learner._get_cl...  "
      ]
     },
     "execution_count": null,
     "metadata": {},
     "output_type": "execute_result"
    }
   ],
   "source": [
    "# Load data\n",
    "from pathlib import Path\n",
    "df = pd.read_json(Path(ROOT_DIR, \"datasets\", \"embedding_qa.json\"))\n",
    "df[\"tag\"] = df.source.map(get_tag)\n",
    "df[\"section\"] = df.source.map(lambda source: source.split(\"/\")[-1])\n",
    "df[\"text\"] = df[\"section\"] + \" \" + df[\"question\"]\n",
    "df.sample(n=5)"
   ]
  },
  {
   "cell_type": "code",
   "execution_count": null,
   "id": "d264d8c6-83df-4eb2-90b8-aaec0b9c71e0",
   "metadata": {
    "tags": []
   },
   "outputs": [
    {
     "data": {
      "text/plain": [
       "Counter({'rllib': 1269,\n",
       "         'tune': 979,\n",
       "         'train': 697,\n",
       "         'cluster': 690,\n",
       "         'data': 652,\n",
       "         'ray-core': 557,\n",
       "         'serve': 302,\n",
       "         'ray-observability': 175,\n",
       "         'ray-contribute': 95,\n",
       "         'workflows': 82,\n",
       "         'ray-air': 74,\n",
       "         'ray-more-libs': 66,\n",
       "         'ray-overview': 46,\n",
       "         'rllib-env.html': 17,\n",
       "         'installation.html': 16,\n",
       "         'tune.html': 5,\n",
       "         'joblib.html': 3,\n",
       "         'ray-references': 2})"
      ]
     },
     "execution_count": null,
     "metadata": {},
     "output_type": "execute_result"
    }
   ],
   "source": [
    "Counter(df.tag)"
   ]
  },
  {
   "cell_type": "code",
   "execution_count": null,
   "id": "4bca87cb-dbea-47f7-9d0a-e2c84d1ff75b",
   "metadata": {
    "tags": []
   },
   "outputs": [
    {
     "data": {
      "text/plain": [
       "Counter({'rllib': 1269,\n",
       "         'tune': 979,\n",
       "         'train': 697,\n",
       "         'cluster': 690,\n",
       "         'data': 652,\n",
       "         'ray-core': 557,\n",
       "         'other': 406,\n",
       "         'serve': 302,\n",
       "         'ray-observability': 175})"
      ]
     },
     "execution_count": null,
     "metadata": {},
     "output_type": "execute_result"
    }
   ],
   "source": [
    "# Map only what we want to keep\n",
    "tags_to_keep = [\"rllib\", \"tune\", \"train\", \"cluster\", \"ray-core\", \"data\", \"serve\", \"ray-observability\"]\n",
    "df[\"tag\"] = df.tag.apply(lambda x: x if x in tags_to_keep else \"other\")\n",
    "Counter(df.tag)"
   ]
  },
  {
   "cell_type": "code",
   "execution_count": null,
   "id": "f31817a0-7bc7-42fe-8923-b3649d965d96",
   "metadata": {
    "tags": []
   },
   "outputs": [],
   "source": [
    "# Train and test data splits\n",
    "test_size = 0.2\n",
    "train_df, test_df = train_test_split(df, stratify=df.tag, test_size=test_size, random_state=1234)"
   ]
  },
  {
   "cell_type": "markdown",
   "id": "da73dbc5-bb15-414a-9df0-57d25745e960",
   "metadata": {},
   "source": [
    "## Preprocessing"
   ]
  },
  {
   "cell_type": "markdown",
   "id": "1dbbbf23-9172-4865-8785-e248e523405a",
   "metadata": {},
   "source": [
    "We'll start by creating some preprocessing functions to better represent our data. For example, our documentation has many variables that are camel cased (ex. `RayDeepSpeedStrategy`). When a tokenizer is used on this, we often lose the individual tokens that we know to be useful and, instead, random subtokens are created.\n",
    "\n",
    "**Note**: we didn't omnisciently know to create these unique preprocessing functions! This is all a result of methodical iteration. We train a model → view incorrect data points → view how the data was represented (ex. subtokenization) → update preprocessing → iterate ↺"
   ]
  },
  {
   "cell_type": "code",
   "execution_count": null,
   "id": "22c56a71-fad6-4393-bee8-fe44f835cbf1",
   "metadata": {
    "tags": []
   },
   "outputs": [],
   "source": [
    "import re\n",
    "from transformers import BertTokenizer"
   ]
  },
  {
   "cell_type": "code",
   "execution_count": null,
   "id": "6fe5a48a-4a1a-43c6-9a69-a72fa03f357f",
   "metadata": {
    "tags": []
   },
   "outputs": [],
   "source": [
    "def split_camel_case_in_sentences(sentences):\n",
    "    def split_camel_case_word(word):\n",
    "        return re.sub(\"([a-z0-9])([A-Z])\", r\"\\1 \\2\", word)\n",
    "    processed_sentences = []\n",
    "    for sentence in sentences:\n",
    "        processed_words = []   \n",
    "        for word in sentence.split():\n",
    "            processed_words.extend(split_camel_case_word(word).split())\n",
    "        processed_sentences.append(\" \".join(processed_words))\n",
    "    return processed_sentences"
   ]
  },
  {
   "cell_type": "code",
   "execution_count": null,
   "id": "a3485909-e074-4796-bf4b-ed388f56c61f",
   "metadata": {
    "tags": []
   },
   "outputs": [],
   "source": [
    "# Tokenizer\n",
    "tokenizer = BertTokenizer.from_pretrained(\"bert-base-uncased\")"
   ]
  },
  {
   "cell_type": "code",
   "execution_count": null,
   "id": "9ddbe8bf-a974-4d84-b452-d15ba39e762f",
   "metadata": {
    "tags": []
   },
   "outputs": [],
   "source": [
    "def preprocess(texts):\n",
    "    texts = [re.sub(r'(?<=\\w)([?.,!])(?!\\s)', r' \\1', text) for text in texts]\n",
    "    texts = [text.replace(\"_\", \" \").replace(\"-\", \" \").replace(\"#\", \" \").replace(\".html\", \"\").replace(\".\", \" \") for text in texts]\n",
    "    texts = split_camel_case_in_sentences(texts)  # camelcase\n",
    "    texts = [tokenizer.tokenize(text) for text in texts]  # subtokens\n",
    "    texts = [\" \".join(word for word in text) for text in texts]\n",
    "    return texts"
   ]
  },
  {
   "cell_type": "code",
   "execution_count": null,
   "id": "0d610206-5376-4cf4-af50-e5121a14c45a",
   "metadata": {
    "tags": []
   },
   "outputs": [
    {
     "name": "stdout",
     "output_type": "stream",
     "text": [
      "['ray deep speed strategy']\n",
      "['what is the default batch size for map batch ##es ?']\n"
     ]
    }
   ],
   "source": [
    "print (preprocess([\"RayDeepSpeedStrategy\"]))\n",
    "print (preprocess([\"What is the default batch_size for map_batches?\"]))"
   ]
  },
  {
   "cell_type": "markdown",
   "id": "ea43347c-f025-4933-b358-6ad797e3d8e6",
   "metadata": {
    "tags": []
   },
   "source": [
    "## Model"
   ]
  },
  {
   "cell_type": "code",
   "execution_count": null,
   "id": "d9b6b234-4868-4b76-8f30-483513c59137",
   "metadata": {
    "tags": []
   },
   "outputs": [],
   "source": [
    "from sklearn.feature_extraction.text import TfidfVectorizer\n",
    "from sklearn.linear_model import LogisticRegression\n",
    "from sklearn.pipeline import Pipeline\n",
    "from sklearn.preprocessing import FunctionTransformer"
   ]
  },
  {
   "cell_type": "code",
   "execution_count": null,
   "id": "be4f8194-5018-427d-86ed-bd1536cfcb58",
   "metadata": {
    "tags": []
   },
   "outputs": [
    {
     "data": {
      "text/html": [
       "<style>#sk-container-id-1 {color: black;}#sk-container-id-1 pre{padding: 0;}#sk-container-id-1 div.sk-toggleable {background-color: white;}#sk-container-id-1 label.sk-toggleable__label {cursor: pointer;display: block;width: 100%;margin-bottom: 0;padding: 0.3em;box-sizing: border-box;text-align: center;}#sk-container-id-1 label.sk-toggleable__label-arrow:before {content: \"▸\";float: left;margin-right: 0.25em;color: #696969;}#sk-container-id-1 label.sk-toggleable__label-arrow:hover:before {color: black;}#sk-container-id-1 div.sk-estimator:hover label.sk-toggleable__label-arrow:before {color: black;}#sk-container-id-1 div.sk-toggleable__content {max-height: 0;max-width: 0;overflow: hidden;text-align: left;background-color: #f0f8ff;}#sk-container-id-1 div.sk-toggleable__content pre {margin: 0.2em;color: black;border-radius: 0.25em;background-color: #f0f8ff;}#sk-container-id-1 input.sk-toggleable__control:checked~div.sk-toggleable__content {max-height: 200px;max-width: 100%;overflow: auto;}#sk-container-id-1 input.sk-toggleable__control:checked~label.sk-toggleable__label-arrow:before {content: \"▾\";}#sk-container-id-1 div.sk-estimator input.sk-toggleable__control:checked~label.sk-toggleable__label {background-color: #d4ebff;}#sk-container-id-1 div.sk-label input.sk-toggleable__control:checked~label.sk-toggleable__label {background-color: #d4ebff;}#sk-container-id-1 input.sk-hidden--visually {border: 0;clip: rect(1px 1px 1px 1px);clip: rect(1px, 1px, 1px, 1px);height: 1px;margin: -1px;overflow: hidden;padding: 0;position: absolute;width: 1px;}#sk-container-id-1 div.sk-estimator {font-family: monospace;background-color: #f0f8ff;border: 1px dotted black;border-radius: 0.25em;box-sizing: border-box;margin-bottom: 0.5em;}#sk-container-id-1 div.sk-estimator:hover {background-color: #d4ebff;}#sk-container-id-1 div.sk-parallel-item::after {content: \"\";width: 100%;border-bottom: 1px solid gray;flex-grow: 1;}#sk-container-id-1 div.sk-label:hover label.sk-toggleable__label {background-color: #d4ebff;}#sk-container-id-1 div.sk-serial::before {content: \"\";position: absolute;border-left: 1px solid gray;box-sizing: border-box;top: 0;bottom: 0;left: 50%;z-index: 0;}#sk-container-id-1 div.sk-serial {display: flex;flex-direction: column;align-items: center;background-color: white;padding-right: 0.2em;padding-left: 0.2em;position: relative;}#sk-container-id-1 div.sk-item {position: relative;z-index: 1;}#sk-container-id-1 div.sk-parallel {display: flex;align-items: stretch;justify-content: center;background-color: white;position: relative;}#sk-container-id-1 div.sk-item::before, #sk-container-id-1 div.sk-parallel-item::before {content: \"\";position: absolute;border-left: 1px solid gray;box-sizing: border-box;top: 0;bottom: 0;left: 50%;z-index: -1;}#sk-container-id-1 div.sk-parallel-item {display: flex;flex-direction: column;z-index: 1;position: relative;background-color: white;}#sk-container-id-1 div.sk-parallel-item:first-child::after {align-self: flex-end;width: 50%;}#sk-container-id-1 div.sk-parallel-item:last-child::after {align-self: flex-start;width: 50%;}#sk-container-id-1 div.sk-parallel-item:only-child::after {width: 0;}#sk-container-id-1 div.sk-dashed-wrapped {border: 1px dashed gray;margin: 0 0.4em 0.5em 0.4em;box-sizing: border-box;padding-bottom: 0.4em;background-color: white;}#sk-container-id-1 div.sk-label label {font-family: monospace;font-weight: bold;display: inline-block;line-height: 1.2em;}#sk-container-id-1 div.sk-label-container {text-align: center;}#sk-container-id-1 div.sk-container {/* jupyter's `normalize.less` sets `[hidden] { display: none; }` but bootstrap.min.css set `[hidden] { display: none !important; }` so we also need the `!important` here to be able to override the default hidden behavior on the sphinx rendered scikit-learn.org. See: https://github.com/scikit-learn/scikit-learn/issues/21755 */display: inline-block !important;position: relative;}#sk-container-id-1 div.sk-text-repr-fallback {display: none;}</style><div id=\"sk-container-id-1\" class=\"sk-top-container\"><div class=\"sk-text-repr-fallback\"><pre>Pipeline(steps=[(&#x27;preprocess&#x27;,\n",
       "                 FunctionTransformer(func=&lt;function preprocess at 0x7f70338d3400&gt;)),\n",
       "                (&#x27;vectorizer&#x27;, TfidfVectorizer()),\n",
       "                (&#x27;classifier&#x27;, LogisticRegression(multi_class=&#x27;multinomial&#x27;))])</pre><b>In a Jupyter environment, please rerun this cell to show the HTML representation or trust the notebook. <br />On GitHub, the HTML representation is unable to render, please try loading this page with nbviewer.org.</b></div><div class=\"sk-container\" hidden><div class=\"sk-item sk-dashed-wrapped\"><div class=\"sk-label-container\"><div class=\"sk-label sk-toggleable\"><input class=\"sk-toggleable__control sk-hidden--visually\" id=\"sk-estimator-id-1\" type=\"checkbox\" ><label for=\"sk-estimator-id-1\" class=\"sk-toggleable__label sk-toggleable__label-arrow\">Pipeline</label><div class=\"sk-toggleable__content\"><pre>Pipeline(steps=[(&#x27;preprocess&#x27;,\n",
       "                 FunctionTransformer(func=&lt;function preprocess at 0x7f70338d3400&gt;)),\n",
       "                (&#x27;vectorizer&#x27;, TfidfVectorizer()),\n",
       "                (&#x27;classifier&#x27;, LogisticRegression(multi_class=&#x27;multinomial&#x27;))])</pre></div></div></div><div class=\"sk-serial\"><div class=\"sk-item\"><div class=\"sk-estimator sk-toggleable\"><input class=\"sk-toggleable__control sk-hidden--visually\" id=\"sk-estimator-id-2\" type=\"checkbox\" ><label for=\"sk-estimator-id-2\" class=\"sk-toggleable__label sk-toggleable__label-arrow\">FunctionTransformer</label><div class=\"sk-toggleable__content\"><pre>FunctionTransformer(func=&lt;function preprocess at 0x7f70338d3400&gt;)</pre></div></div></div><div class=\"sk-item\"><div class=\"sk-estimator sk-toggleable\"><input class=\"sk-toggleable__control sk-hidden--visually\" id=\"sk-estimator-id-3\" type=\"checkbox\" ><label for=\"sk-estimator-id-3\" class=\"sk-toggleable__label sk-toggleable__label-arrow\">TfidfVectorizer</label><div class=\"sk-toggleable__content\"><pre>TfidfVectorizer()</pre></div></div></div><div class=\"sk-item\"><div class=\"sk-estimator sk-toggleable\"><input class=\"sk-toggleable__control sk-hidden--visually\" id=\"sk-estimator-id-4\" type=\"checkbox\" ><label for=\"sk-estimator-id-4\" class=\"sk-toggleable__label sk-toggleable__label-arrow\">LogisticRegression</label><div class=\"sk-toggleable__content\"><pre>LogisticRegression(multi_class=&#x27;multinomial&#x27;)</pre></div></div></div></div></div></div></div>"
      ],
      "text/plain": [
       "Pipeline(steps=[('preprocess',\n",
       "                 FunctionTransformer(func=<function preprocess at 0x7f70338d3400>)),\n",
       "                ('vectorizer', TfidfVectorizer()),\n",
       "                ('classifier', LogisticRegression(multi_class='multinomial'))])"
      ]
     },
     "execution_count": null,
     "metadata": {},
     "output_type": "execute_result"
    }
   ],
   "source": [
    "# Train classifier\n",
    "from rag.rerank import preprocess  # for pickle\n",
    "reranker = Pipeline([\n",
    "    (\"preprocess\", FunctionTransformer(preprocess)),\n",
    "    (\"vectorizer\", TfidfVectorizer(lowercase=True)),\n",
    "    (\"classifier\", LogisticRegression(multi_class=\"multinomial\", solver=\"lbfgs\"))\n",
    "])\n",
    "reranker.fit(train_df[\"text\"].tolist(), train_df[\"tag\"].tolist())"
   ]
  },
  {
   "cell_type": "markdown",
   "id": "47825a4a-6b76-42ef-ad07-403710d25f97",
   "metadata": {},
   "source": [
    "**Note**: we also trained a BERT classifier and while performance was better than our logistic classifier, these large networks suffer from [overconfidence](https://arxiv.org/abs/1706.04599) and we can't use a threshold based approach as we do below. And without the threshold approach (where we only rerank when the reranker is truly confident), then the quality score of our application does not improve."
   ]
  },
  {
   "cell_type": "markdown",
   "id": "fd6ce6ca-ea56-4a27-af9d-758175170ebd",
   "metadata": {},
   "source": [
    "## Inference"
   ]
  },
  {
   "cell_type": "code",
   "execution_count": null,
   "id": "bb1139d3-e43f-4bf4-8bac-43d3ee1ec30e",
   "metadata": {
    "tags": []
   },
   "outputs": [],
   "source": [
    "import pickle"
   ]
  },
  {
   "cell_type": "code",
   "execution_count": null,
   "id": "a70ca619-0bf3-4254-9a94-77701ed2c771",
   "metadata": {
    "tags": []
   },
   "outputs": [],
   "source": [
    "# Save\n",
    "reranker_fp = Path(EFS_DIR, \"reranker.pkl\")\n",
    "with open(reranker_fp, \"wb\") as file:\n",
    "    pickle.dump(reranker, file)"
   ]
  },
  {
   "cell_type": "code",
   "execution_count": null,
   "id": "98d2450d-e035-4389-8236-b3553594972e",
   "metadata": {
    "tags": []
   },
   "outputs": [],
   "source": [
    "# Load\n",
    "reranker_fp = Path(EFS_DIR, \"reranker.pkl\")\n",
    "with open(reranker_fp, \"rb\") as file:\n",
    "    reranker = pickle.load(file)"
   ]
  },
  {
   "cell_type": "code",
   "execution_count": null,
   "id": "f8d1d74e-3ee7-445c-ab7d-386766f18b18",
   "metadata": {
    "tags": []
   },
   "outputs": [],
   "source": [
    "def custom_predict(inputs, classifier, threshold=0.2, other_label=\"other\"):\n",
    "    y_pred = []\n",
    "    for item in classifier.predict_proba(inputs):\n",
    "        prob = max(item)\n",
    "        index = item.argmax()\n",
    "        if prob >= threshold:\n",
    "            pred = classifier.classes_[index]\n",
    "        else:\n",
    "            pred = other_label\n",
    "        y_pred.append(pred)\n",
    "    return y_pred"
   ]
  },
  {
   "cell_type": "code",
   "execution_count": null,
   "id": "081e53d4-ba98-4323-85df-d5f03f1807f0",
   "metadata": {
    "tags": []
   },
   "outputs": [
    {
     "data": {
      "text/plain": [
       "'train'"
      ]
     },
     "execution_count": null,
     "metadata": {},
     "output_type": "execute_result"
    }
   ],
   "source": [
    "# Test inference\n",
    "question = \"traning with deepspeed\"\n",
    "custom_predict([question], classifier=reranker)[0]"
   ]
  },
  {
   "cell_type": "markdown",
   "id": "54a19983-1caf-4b11-8093-5e2a54cf7bbf",
   "metadata": {},
   "source": [
    "## Evaluation"
   ]
  },
  {
   "cell_type": "code",
   "execution_count": null,
   "id": "987ee635-cdf0-490a-89bc-1795660b7cc2",
   "metadata": {
    "tags": []
   },
   "outputs": [],
   "source": [
    "import json\n",
    "import matplotlib.pyplot as plt\n",
    "import numpy as np\n",
    "import seaborn as sns\n",
    "from sklearn.metrics import confusion_matrix, precision_recall_fscore_support"
   ]
  },
  {
   "cell_type": "code",
   "execution_count": null,
   "id": "4baa30a5-2f44-4b6b-90a6-87b149b88bdc",
   "metadata": {
    "tags": []
   },
   "outputs": [],
   "source": [
    "# Evaluation\n",
    "metrics = {}\n",
    "y_test = test_df[\"tag\"]\n",
    "y_pred = custom_predict(inputs=test_df[\"text\"], classifier=reranker)"
   ]
  },
  {
   "cell_type": "code",
   "execution_count": null,
   "id": "96b9bf23-2091-4b0a-bd0d-8dc13c03eb62",
   "metadata": {
    "tags": []
   },
   "outputs": [
    {
     "data": {
      "image/png": "[encoded data removed]",
      "text/plain": [
       "<Figure size 600x400 with 2 Axes>"
      ]
     },
     "metadata": {},
     "output_type": "display_data"
    }
   ],
   "source": [
    "# Confusion matrix\n",
    "cm = confusion_matrix(y_test, y_pred)\n",
    "plt.figure(figsize=(6,4))\n",
    "sns.heatmap(cm, annot=True, fmt=\"d\", cmap=\"Blues\", \n",
    "            xticklabels=reranker.classes_, yticklabels=reranker.classes_)\n",
    "plt.ylabel(\"Actual\")\n",
    "plt.xlabel(\"Predicted\")\n",
    "plt.title(\"Confusion Matrix\")\n",
    "plt.xticks(rotation=65)\n",
    "plt.show()"
   ]
  },
  {
   "cell_type": "code",
   "execution_count": null,
   "id": "03057b05-ee59-47d8-b6ba-7b7f0b2c76d9",
   "metadata": {
    "tags": []
   },
   "outputs": [
    {
     "name": "stdout",
     "output_type": "stream",
     "text": [
      "{\n",
      "    \"precision\": 0.9168129573272782,\n",
      "    \"recall\": 0.9171029668411868,\n",
      "    \"f1\": 0.9154520876579969,\n",
      "    \"num_samples\": 1146.0\n",
      "}\n"
     ]
    }
   ],
   "source": [
    "# Metrics\n",
    "overall_metrics = precision_recall_fscore_support(y_test, y_pred, average=\"weighted\")\n",
    "metrics[\"precision\"] = overall_metrics[0]\n",
    "metrics[\"recall\"] = overall_metrics[1]\n",
    "metrics[\"f1\"] = overall_metrics[2]\n",
    "metrics[\"num_samples\"] = np.float64(len(y_test))\n",
    "print (json.dumps(metrics, indent=4))"
   ]
  },
  {
   "cell_type": "markdown",
   "id": "40364870-7f40-457e-9bbd-bd51f8619022",
   "metadata": {},
   "source": [
    "Precision will be the most important metric here because we will only apply reranking if the softmax probability of our predicted tag is above the threshold value."
   ]
  },
  {
   "cell_type": "markdown",
   "id": "9e2189b4-3b76-4770-b70e-f841a4133899",
   "metadata": {},
   "source": [
    "## Testing"
   ]
  },
  {
   "cell_type": "markdown",
   "id": "def64f1e-3c02-498f-b233-92894abc1892",
   "metadata": {},
   "source": [
    "Besides just a metric based evaluation, we also want to assess how our model performs on some minimum functionality tests. We need all of these basic sanity checks to pass regardless of what type of model we use."
   ]
  },
  {
   "cell_type": "code",
   "execution_count": null,
   "id": "f6535156-fcc7-4bac-a1ba-4628171e7d27",
   "metadata": {
    "tags": []
   },
   "outputs": [],
   "source": [
    "def predict_proba(question, classifier):\n",
    "    y_prob = classifier.predict_proba([question])\n",
    "    zipped = list(zip(y_prob[0], classifier.classes_))\n",
    "    return sorted(zipped, key=lambda x: x[0], reverse=True)"
   ]
  },
  {
   "cell_type": "code",
   "execution_count": null,
   "id": "70cf7edb-7eb9-4692-9b60-57cea8aa0ede",
   "metadata": {
    "tags": []
   },
   "outputs": [
    {
     "name": "stdout",
     "output_type": "stream",
     "text": [
      "[85% train]: How to train a train an LLM using DeepSpeed? → ['how to train a train an ll ##m using deep speed ?']\n",
      "[67% serve]: How does autoscaling work in a Ray Serve application? → ['how does auto ##sca ##ling work in a ray serve application ?']\n",
      "[38% tune]: How to find the best checkpoint from the trial directory? → ['how to find the best checkpoint from the trial directory ?']\n",
      "[88% data]: How do I avoid my dataset shuffling during a ray.data.map_batches? → ['how do i avoid my data ##set shuffling during a ray data map batch ##es ?']\n",
      "[37% ray-core]: how to push a custom module to ray which is using by Actor? → ['how to push a custom module to ray which is using by actor ?']\n",
      "[29% other]: How would you compare Spark, Ray, Dask? → ['how would you compare spark , ray , das ##k ?']\n",
      "[59% ray-observability]: How do I enable Ray debug logs? → ['how do i enable ray de ##bu ##g logs ?']\n",
      "[74% rllib]: How do I set a maximum episode length when training with Rllib → ['how do i set a maximum episode length when training with r ##lli ##b']\n"
     ]
    }
   ],
   "source": [
    "# Basic tests\n",
    "tests = [\n",
    "    {\"question\": \"How to train a train an LLM using DeepSpeed?\", \"tag\": \"train\"},\n",
    "    {\"question\": \"How does autoscaling work in a Ray Serve application?\", \"tag\": \"serve\"},\n",
    "    {\"question\": \"How to find the best checkpoint from the trial directory?\", \"tag\": \"tune\"},\n",
    "    {\"question\": \"How do I avoid my dataset shuffling during a ray.data.map_batches?\", \"tag\": \"data\"},\n",
    "    {\"question\": \"how to push a custom module to ray which is using by Actor?\", \"tag\": \"ray-core\"},\n",
    "    {\"question\": \"How would you compare Spark, Ray, Dask?\", \"tag\": \"other\"},\n",
    "    {\"question\": \"How do I enable Ray debug logs?\", \"tag\": \"ray-observability\"},\n",
    "    {\"question\": \"How do I set a maximum episode length when training with Rllib\", \"tag\": \"rllib\"}]\n",
    "for test in tests:\n",
    "    question = test[\"question\"]\n",
    "    prob, pred = predict_proba(question=test[\"question\"], classifier=reranker)[0]\n",
    "    print (f\"[{prob*100:.0f}% {pred}]: {question} → {preprocess([question])}\")\n",
    "    assert (pred == test[\"tag\"])"
   ]
  },
  {
   "cell_type": "markdown",
   "id": "f640f3ee-bc42-4f96-a0fb-f11c4015f2b4",
   "metadata": {},
   "source": [
    "## Experiment"
   ]
  },
  {
   "cell_type": "markdown",
   "id": "cd7be07c-fee9-4b04-bb31-d58e07a17700",
   "metadata": {},
   "source": [
    "Now we're ready to apply our reranking model post retrieval using these steps:\n",
    "1. Increase the retrieved context (can experiment with this) so that we can apply reranking to yield a smaller subset (`num_chunks`). The intuition here is that we'll use semantic and lexical search to retrieve N chunks (N > k) and then we'll use reranking to reorder the retrieved results (top k).\n",
    "2. Perform generation using the top k retrieved chunks."
   ]
  },
  {
   "cell_type": "markdown",
   "id": "99ce7c04-9da0-43e3-b5db-2c59aff3fe87",
   "metadata": {},
   "source": [
    "We're going to alter our `QueryAgent` class directly to include reranking:\n",
    "\n",
    "```python\n",
    "class QueryAgent():\n",
    "    def __call__(rerank_threshold=0.3, rerank_k=7, **kwargs):\n",
    "        # Rerank\n",
    "        if self.reranker:\n",
    "            predicted_tag = custom_predict(\n",
    "                inputs=[query], classifier=self.reranker, threshold=rerank_threshold)[0]\n",
    "            if predicted_tag != \"other\":\n",
    "                sources = [item[\"source\"] for item in context_results]\n",
    "                reranked_indices = get_reranked_indices(sources, predicted_tag)\n",
    "                context_results = [context_results[i] for i in reranked_indices]\n",
    "            context_results = context_results[:rerank_k]\n",
    "```\n",
    "\n",
    "And the rerank function (along with other utilities specific to reranking) will now be placed in `rerank.py`:\n",
    "```python\n",
    "def get_reranked_indices(sources, predicted_tag):\n",
    "    tags = [get_tag(source) for source in sources]\n",
    "    reranked_indices = sorted(range(len(tags)), \n",
    "        key=lambda i: (tags[i] != predicted_tag, i))\n",
    "    return reranked_indices\n",
    "```"
   ]
  },
  {
   "cell_type": "markdown",
   "id": "61f82f9f-694d-4c49-b39d-8cab4c285b13",
   "metadata": {},
   "source": [
    "And with that, let's use our query agent augmented with reranking on an evaluation run."
   ]
  },
  {
   "cell_type": "code",
   "execution_count": null,
   "id": "d2713153-da91-46e3-b1c7-5d06903d550d",
   "metadata": {
    "tags": []
   },
   "outputs": [],
   "source": [
    "experiment_names = []\n",
    "rerank_threshold_list = [0, 0.3, 0.5, 0.7, 0.9]"
   ]
  },
  {
   "cell_type": "code",
   "execution_count": null,
   "id": "55f34f33-3764-49f1-8aed-7536c426ef9b",
   "metadata": {
    "tags": []
   },
   "outputs": [
    {
     "data": {
      "application/json": {
       "generated_answer": " To kill a specific serve replica, you can follow these steps:\n\n1. Get the list of actors by running `ray list actors` in the Python environment.\n2. Identify the NAME of the specific ServeReplica you want to kill from the list.\n3. Get a handle to the replica by running `replica_handle = ray.get_actor(\"NAME\", namespace=\"serve\")` in the Python environment.\n4. Kill the replica by running `ray.kill(replica_handle, no_restart=True)` in the Python environment.\n\nReplace \"NAME\" with the actual name of the replica you want to kill.",
       "question": "how do I kill a specific serve replica",
       "reasoning": "The generated answer is detailed, accurate, and provides a step-by-step guide on how to kill a specific serve replica. It is much more informative and helpful than the reference answer.",
       "reference_answer": "The context does not provide information on how to kill a specific serve replica.",
       "score": 5,
       "sources": [
        "https://docs.ray.io/en/master/serve/production-guide/fault-tolerance.html#deployment-replica-failure",
        "https://docs.ray.io/en/master/serve/production-guide/fault-tolerance.html#deployment-replica-failure",
        "https://docs.ray.io/en/master/serve/advanced-guides/dev-workflow.html#local-development-with-http-requests",
        "https://docs.ray.io/en/master/serve/api/index.html#delete-api-serve-deployments",
        "https://docs.ray.io/en/master/serve/production-guide/fault-tolerance.html#deployment-replica-failure",
        "https://docs.ray.io/en/master/serve/scaling-and-resource-allocation.html#autoscaling",
        "https://docs.ray.io/en/master/serve/production-guide/fault-tolerance.html#worker-node-failure",
        "https://docs.ray.io/en/master/serve/production-guide/fault-tolerance.html#httpproxy-failure",
        "https://docs.ray.io/en/master/serve/api/index.html#delete-api-serve-applications"
       ]
      },
      "text/plain": [
       "<IPython.core.display.JSON object>"
      ]
     },
     "metadata": {
      "application/json": {
       "expanded": false,
       "root": "root"
      }
     },
     "output_type": "display_data"
    },
    {
     "name": "stderr",
     "output_type": "stream",
     "text": [
      "100%|██████████| 177/177 [12:56<00:00,  4.39s/it]\n"
     ]
    }
   ],
   "source": [
    "# Experiment\n",
    "use_reranking = True\n",
    "num_chunks = 30  # increase number of chunks\n",
    "rerank_k = NUM_CHUNKS + LEXICAL_SEARCH_K\n",
    "for rerank_threshold in rerank_threshold_list:\n",
    "    experiment_name = f\"rerank-{rerank_threshold}\"\n",
    "    experiment_names.append(experiment_name)\n",
    "    run_experiment(\n",
    "        experiment_name=experiment_name, \n",
    "        chunk_size=CHUNK_SIZE, \n",
    "        chunk_overlap=CHUNK_OVERLAP, \n",
    "        num_chunks=num_chunks,\n",
    "        embedding_model_name=EMBEDDING_MODEL_NAME,\n",
    "        embedding_dim=EMBEDDING_DIMENSIONS[EMBEDDING_MODEL_NAME],\n",
    "        llm=LLM,\n",
    "        evaluator=EVALUATOR,\n",
    "        docs_dir=DOCS_DIR, \n",
    "        experiments_dir=EXPERIMENTS_DIR, \n",
    "        references_fp=REFERENCES_FILE_PATH,\n",
    "        use_lexical_search=USE_LEXICAL_SEARCH,\n",
    "        lexical_search_k=LEXICAL_SEARCH_K,\n",
    "        use_reranking=use_reranking,\n",
    "        rerank_threshold=rerank_threshold,\n",
    "        rerank_k=rerank_k,\n",
    "        num_samples=NUM_SAMPLES,\n",
    "        sql_dump_fp=SQL_DUMP_FP)"
   ]
  },
  {
   "cell_type": "code",
   "execution_count": null,
   "id": "166b11ce-df5b-46a4-949c-16d7df45ab6c",
   "metadata": {
    "tags": []
   },
   "outputs": [
    {
     "name": "stdout",
     "output_type": "stream",
     "text": [
      "rerank-0\n",
      "  retrieval score: 0.6666666666666666\n",
      "  quality score: 3.864406779661017\n",
      "\n",
      "rerank-0.3\n",
      "  retrieval score: 0.6892655367231638\n",
      "  quality score: 3.9124293785310735\n",
      "\n",
      "rerank-0.5\n",
      "  retrieval score: 0.7062146892655368\n",
      "  quality score: 3.9519774011299433\n",
      "\n",
      "rerank-0.7\n",
      "  retrieval score: 0.7231638418079096\n",
      "  quality score: 3.8813559322033897\n",
      "\n",
      "rerank-0.9\n",
      "  retrieval score: 0.7288135593220338\n",
      "  quality score: 3.940677966101695\n",
      "\n"
     ]
    },
    {
     "data": {
      "image/png": "[encoded data removed]",
      "text/plain": [
       "<Figure size 1000x300 with 1 Axes>"
      ]
     },
     "metadata": {},
     "output_type": "display_data"
    }
   ],
   "source": [
    "scores = {}\n",
    "for experiment_name in experiment_names:\n",
    "    scores[experiment_name] = print_experiment(experiment_name, EXPERIMENTS_DIR)\n",
    "plot_scores(scores=scores)"
   ]
  },
  {
   "cell_type": "code",
   "execution_count": null,
   "id": "65429a21-ee23-4d0a-9dee-60a4a4b09d09",
   "metadata": {
    "tags": []
   },
   "outputs": [],
   "source": [
    "original_num_chunks = NUM_CHUNKS\n",
    "NUM_CHUNKS = 30\n",
    "USE_RERANKING = True\n",
    "RERANK_THRESHOLD = 0.5\n",
    "RERANK_K = original_num_chunks + LEXICAL_SEARCH_K"
   ]
  },
  {
   "cell_type": "markdown",
   "id": "628021f8-e79b-46e5-a8e0-ca7deb3be134",
   "metadata": {},
   "source": [
    "**Note**: there is still a lot more to experiment with reranking (increasing the initial `num_chunks`, adding lexical search resutls *after* reranking, weighted reranking where we promote the top N classes, etc.)"
   ]
  },
  {
   "cell_type": "code",
   "execution_count": null,
   "id": "ab2471f9-bfd8-4271-b3a3-999b27f489f8",
   "metadata": {
    "tags": []
   },
   "outputs": [
    {
     "data": {
      "text/plain": [
       "[('gpt-4-1106-preview',\n",
       "  {'retrieval_score': 0.7288135593220338, 'quality_score': 4.209039548022599}),\n",
       " ('rerank-0.5',\n",
       "  {'retrieval_score': 0.7062146892655368,\n",
       "   'quality_score': 3.9519774011299433}),\n",
       " ('prompt-ignore-contexts',\n",
       "  {'retrieval_score': 0.7344632768361582, 'quality_score': 3.943502824858757})]"
      ]
     },
     "execution_count": null,
     "metadata": {},
     "output_type": "execute_result"
    }
   ],
   "source": [
    "# Top experiments (by quality and retrieval score)\n",
    "top_n = 3\n",
    "experiment_results = {}\n",
    "all_experiments = [d for d in Path(EXPERIMENTS_DIR, \"evaluations\").iterdir() if d.is_file()]\n",
    "for experiment_fp in all_experiments:\n",
    "    with open(str(experiment_fp), \"r\") as fp:\n",
    "        results = json.load(fp)\n",
    "    experiment_results[results[\"config\"][\"experiment_name\"]] = {\n",
    "        \"retrieval_score\": results[\"retrieval_score\"], \n",
    "        \"quality_score\": results[\"quality_score\"]}\n",
    "sorted(experiment_results.items(), key=lambda i: (i[1].get(\"quality_score\", float('inf')), i[1].get(\"retrieval_score\")), reverse=True)[:top_n]"
   ]
  },
  {
   "cell_type": "markdown",
   "id": "f916ea05-4b99-4024-9211-ed35bb8ac9dc",
   "metadata": {
    "tags": [],
    "toc-hr-collapsed": true
   },
   "source": [
    "# Cost analysis"
   ]
  },
  {
   "cell_type": "markdown",
   "id": "2c420359-c506-4257-b0d8-8b826134d001",
   "metadata": {},
   "source": [
    "Besides just performance, we also want to evaluate the cost of our configurations (especially given the high price points of larger LLMs). We’re going to break this down into prompt and sampled pricing. The prompt size is the number of characters in our system, assistant and user contents (which includes the retrieved contexts). And the sampled size is the number of characters the LLM generated in its response."
   ]
  },
  {
   "cell_type": "markdown",
   "id": "96c145a5-e97e-4811-ba12-c1a37d71c171",
   "metadata": {
    "tags": []
   },
   "source": [
    "**Note**: Our OSS models are served via [Anyscale Endpoints](https://endpoints.anyscale.com/)."
   ]
  },
  {
   "cell_type": "code",
   "execution_count": null,
   "id": "ca18129b-62db-49af-9be3-2444d0af5751",
   "metadata": {
    "tags": []
   },
   "outputs": [],
   "source": [
    "from rag.config import PRICING"
   ]
  },
  {
   "cell_type": "code",
   "execution_count": null,
   "id": "7f020340-9357-4a48-976b-cdac2e467351",
   "metadata": {
    "tags": []
   },
   "outputs": [],
   "source": [
    "def cost_analysis(experiment_name):\n",
    "    eval_fp = Path(ROOT_DIR, EXPERIMENTS_DIR, \"evaluations\", f\"{experiment_name}_{EVALUATOR}.json\")\n",
    "    with open(eval_fp, \"r\") as fp:\n",
    "        d = json.load(fp)\n",
    "    num_samples = len(d[\"results\"])\n",
    "    prompt_size, sampled_size = 0, 0\n",
    "    for result in d[\"results\"]:\n",
    "        prompt_size += get_num_tokens(result[\"question\"]) + \\\n",
    "            ((CHUNK_SIZE/5)*(4/3) * original_num_chunks)  # 5 chars / word, 1 token = 3/4 word\n",
    "        sampled_size += get_num_tokens(result[\"generated_answer\"])\n",
    "    total_cost = PRICING[experiment_name][\"prompt\"]/1e6 * prompt_size + PRICING[experiment_name][\"sampled\"]/1e6 * sampled_size\n",
    "    avg_cost = total_cost / num_samples\n",
    "    \n",
    "    print (experiment_name)\n",
    "    print (f\"  prompted tokens (avg): {int(prompt_size/num_samples)}\")\n",
    "    print (f\"  sampled tokens (avg): {int(sampled_size/num_samples)}\")\n",
    "    print (f\"  total cost: ${total_cost:.4f}\")\n",
    "    print (f\"  avg cost: ${avg_cost:.4f}\")\n",
    "    print ()\n",
    "    return avg_cost"
   ]
  },
  {
   "cell_type": "code",
   "execution_count": null,
   "id": "ee95574b-b355-4d5a-979b-467657bbd959",
   "metadata": {
    "tags": []
   },
   "outputs": [
    {
     "name": "stdout",
     "output_type": "stream",
     "text": [
      "gpt-3.5-turbo\n",
      "  prompted tokens (avg): 1695\n",
      "  sampled tokens (avg): 73\n",
      "  total cost: $0.4761\n",
      "  avg cost: $0.0027\n",
      "\n",
      "gpt-4\n",
      "  prompted tokens (avg): 1695\n",
      "  sampled tokens (avg): 111\n",
      "  total cost: $10.1884\n",
      "  avg cost: $0.0576\n",
      "\n",
      "gpt-4-1106-preview\n",
      "  prompted tokens (avg): 1695\n",
      "  sampled tokens (avg): 200\n",
      "  total cost: $4.0641\n",
      "  avg cost: $0.0230\n",
      "\n",
      "llama-2-7b-chat-hf\n",
      "  prompted tokens (avg): 1695\n",
      "  sampled tokens (avg): 248\n",
      "  total cost: $0.0516\n",
      "  avg cost: $0.0003\n",
      "\n",
      "llama-2-13b-chat-hf\n",
      "  prompted tokens (avg): 1695\n",
      "  sampled tokens (avg): 226\n",
      "  total cost: $0.0851\n",
      "  avg cost: $0.0005\n",
      "\n",
      "llama-2-70b-chat-hf\n",
      "  prompted tokens (avg): 1695\n",
      "  sampled tokens (avg): 218\n",
      "  total cost: $0.3388\n",
      "  avg cost: $0.0019\n",
      "\n",
      "codellama-34b-instruct-hf\n",
      "  prompted tokens (avg): 1695\n",
      "  sampled tokens (avg): 187\n",
      "  total cost: $0.3333\n",
      "  avg cost: $0.0019\n",
      "\n",
      "mistral-7b-instruct-v0.1\n",
      "  prompted tokens (avg): 1695\n",
      "  sampled tokens (avg): 135\n",
      "  total cost: $0.0486\n",
      "  avg cost: $0.0003\n",
      "\n",
      "mixtral-8x7b-instruct-v0.1\n",
      "  prompted tokens (avg): 1695\n",
      "  sampled tokens (avg): 180\n",
      "  total cost: $0.1661\n",
      "  avg cost: $0.0009\n",
      "\n"
     ]
    }
   ],
   "source": [
    "scores = {}\n",
    "for experiment_name in PRICING.keys():\n",
    "    scores[experiment_name] = print_experiment(experiment_name, EXPERIMENTS_DIR, verbose=False)\n",
    "    scores[experiment_name][\"average_cost\"] = cost_analysis(experiment_name=experiment_name)"
   ]
  },
  {
   "cell_type": "code",
   "execution_count": null,
   "id": "e58b0513-f630-47c2-a30f-aa900bfaa66c",
   "metadata": {
    "tags": []
   },
   "outputs": [
    {
     "data": {
      "image/png": "[encoded data removed]",
      "text/plain": [
       "<Figure size 1000x400 with 1 Axes>"
      ]
     },
     "metadata": {},
     "output_type": "display_data"
    }
   ],
   "source": [
    "# Prepare data for plotting\n",
    "experiment_names = list(scores.keys())\n",
    "average_costs = [scores[experiment_name][\"average_cost\"] for experiment_name in experiment_names]\n",
    "quality_scores = [scores[experiment_name][\"quality_score\"] for experiment_name in experiment_names]\n",
    "sorted_data = sorted(zip(quality_scores, average_costs, experiment_names))\n",
    "\n",
    "# Plotting\n",
    "plt.figure(figsize=(10, 4))\n",
    "for i, (q_score, avg_cost, exp_name) in enumerate(sorted_data):\n",
    "    plt.scatter(q_score, avg_cost, label=exp_name)\n",
    "    ha = \"left\"  # Horizontal alignment\n",
    "    va = \"bottom\"  # Vertical alignment\n",
    "    offset = 0.02  # Small offset for labels\n",
    "    if i > 0 and abs(sorted_data[i - 1][0] - q_score) < offset: ha = \"left\"  # Check left neighbor\n",
    "    if i < len(sorted_data) - 1 and abs(sorted_data[i + 1][0] - q_score) < offset: ha = \"right\"  # Check right neighbor\n",
    "    plt.text(q_score, avg_cost, exp_name, ha=ha, va=va, )\n",
    "\n",
    "# Add labels and title\n",
    "plt.xlabel(\"Quality Score\")\n",
    "plt.ylabel(\"Average cost / query ($)\")\n",
    "plt.legend(title=\"Experiments\", loc=\"upper left\", fontsize=8)\n",
    "plt.yscale(\"log\")\n",
    "plt.show()"
   ]
  },
  {
   "cell_type": "markdown",
   "id": "d03dabb0-5a77-42da-b6c7-a65e8a5920a7",
   "metadata": {},
   "source": [
    "**Note**: This cost analysis is performed with our original experiments before lexical search, reranking, etc. since we haven't run experiments with these improvements on the other OSS and closed source LLMs yet."
   ]
  },
  {
   "cell_type": "markdown",
   "id": "d223b361-4d14-4ea1-804b-0eb92eb1224e",
   "metadata": {
    "tags": []
   },
   "source": [
    "# Routing"
   ]
  },
  {
   "cell_type": "markdown",
   "id": "2463c757-f54e-4905-bd8b-d00a32c2ec7d",
   "metadata": {},
   "source": [
    "It seems that the most performant LLM, `gpt-4-turbo`, is also very expensive. While our OSS LLM (`mixtral-8x7b-instruct-v0.1`) is very close in quality but ~25X more cost-effective."
   ]
  },
  {
   "cell_type": "code",
   "execution_count": null,
   "id": "391b4116-4312-48ef-aa3d-2184d46ed64b",
   "metadata": {
    "tags": []
   },
   "outputs": [
    {
     "name": "stdout",
     "output_type": "stream",
     "text": [
      "Cost multiplier compared to mixtral-8x7b-instruct-v0.1\n",
      "  gpt-3.5-turbo: 2.87X\n",
      "  gpt-4: 61.35X\n",
      "  gpt-4-1106-preview: 24.47X\n",
      "  llama-2-7b-chat-hf: 0.31X\n",
      "  llama-2-13b-chat-hf: 0.51X\n",
      "  llama-2-70b-chat-hf: 2.04X\n",
      "  codellama-34b-instruct-hf: 2.01X\n",
      "  mistral-7b-instruct-v0.1: 0.29X\n",
      "  mixtral-8x7b-instruct-v0.1: 1.00X\n"
     ]
    }
   ],
   "source": [
    "# Cost multiplier\n",
    "chosen_model = LLM.split('/')[-1].lower()\n",
    "print (f\"Cost multiplier compared to {chosen_model}\")\n",
    "for model in scores:\n",
    "    print (f\"  {model}: {scores[model]['average_cost']/scores[chosen_model]['average_cost']:.2f}X\")"
   ]
  },
  {
   "cell_type": "markdown",
   "id": "29727066-6a67-4ff9-a4d4-b4517f5014c4",
   "metadata": {},
   "source": [
    "However, we want to be able to serve the most performant and cost-effective solution. We can close this gap in performance between open source and proprietary models by routing queries to the right model according to the complexity or topic of the query. For example, in our application, open source models perform really well on simple queries where the answer can be easily inferred from the retrieved context. However, the OSS models fall short for queries that involve reasoning, numbers or code examples. To identify the appropriate LLM to use, we can train a classifier that takes the query and routes it to the best model.\n",
    "\n",
    "<img width=\"800\" src=\"https://images.ctfassets.net/xjan103pcp94/7FWrvPPlIdz5fs8wQgxLFz/fdae368044275028f0544a3d252fcfe4/image15.png\">\n",
    "\n",
    "**Note**: In part 2 of this series, we’ll fine-tune our embedding models and OSS LLMs to make them even more performant.\n",
    "\n",
    "In order to implement this, we hand-annotated a [dataset of 1.8k queries](https://github.com/ray-project/llm-applications/blob/main/datasets/routing-dataset-train.jsonl) according to which model (`gpt-4` (label=0) or `codellama-34b` (label=1)) would be appropriate -- by default we route to OSS LLM and only if the query needs more advanced capabilities do we send the query to `gpt-4`. We then evaluate the performance of the model on a test set that has been scored with an evaluator."
   ]
  },
  {
   "cell_type": "markdown",
   "id": "1a731efa-7990-4856-a9e0-250be556505b",
   "metadata": {},
   "source": [
    "## Dataset"
   ]
  },
  {
   "cell_type": "markdown",
   "id": "d506e529-518b-4b37-bd81-4d5e7532b528",
   "metadata": {},
   "source": [
    "Let's first train the model on the training dataset [routing-dataset-training.jsonl](https://github.com/ray-project/llm-applications/blob/main/datasets/routing-dataset-train.jsonl):"
   ]
  },
  {
   "cell_type": "code",
   "execution_count": null,
   "id": "86e4a927-ab91-4189-97d2-35bd045c0360",
   "metadata": {
    "tags": []
   },
   "outputs": [],
   "source": [
    "with open(Path(ROOT_DIR, \"datasets\", \"routing-dataset-train.jsonl\")) as f:\n",
    "    records = [json.loads(l) for l in f]\n",
    "    texts = [record[\"question\"] for record in records]\n",
    "    labels = [record[\"target\"] for record in records]"
   ]
  },
  {
   "cell_type": "code",
   "execution_count": null,
   "id": "9d9a4d97-a39b-409e-9b45-ae609c9f651b",
   "metadata": {
    "tags": []
   },
   "outputs": [
    {
     "name": "stdout",
     "output_type": "stream",
     "text": [
      "Question for gpt-4:\n",
      " {'question': 'if I am inside of a anyscale cluster how do I get my cluster-env-build-id', 'target': 0}\n",
      "\n",
      "Question for codellama-34b:\n",
      " {'question': 'what is num_samples in tune?', 'target': 1}\n"
     ]
    }
   ],
   "source": [
    "# Sample records (1 = can be handled by OSS LLM)\n",
    "print (\"Question for gpt-4:\\n\", [record for record in records if record[\"target\"] == 0][0]) \n",
    "print (\"\\nQuestion for OSS LLM:\\n\", [record for record in records if record[\"target\"] == 1][0])"
   ]
  },
  {
   "cell_type": "markdown",
   "id": "ea873f02-d4e4-4bfa-b583-7d750c1144ff",
   "metadata": {},
   "source": [
    "## Modeling"
   ]
  },
  {
   "cell_type": "code",
   "execution_count": null,
   "id": "25404ad8-8300-4e6d-ac98-4117e4608128",
   "metadata": {
    "tags": []
   },
   "outputs": [],
   "source": [
    "import pickle\n",
    "from sklearn.pipeline import Pipeline\n",
    "from sklearn.feature_extraction.text import CountVectorizer\n",
    "from sklearn.linear_model import LogisticRegression"
   ]
  },
  {
   "cell_type": "code",
   "execution_count": null,
   "id": "3021c4fa-caf1-489d-90d5-cf1890214c0d",
   "metadata": {
    "tags": []
   },
   "outputs": [
    {
     "data": {
      "text/html": [
       "<style>#sk-container-id-10 {color: black;}#sk-container-id-10 pre{padding: 0;}#sk-container-id-10 div.sk-toggleable {background-color: white;}#sk-container-id-10 label.sk-toggleable__label {cursor: pointer;display: block;width: 100%;margin-bottom: 0;padding: 0.3em;box-sizing: border-box;text-align: center;}#sk-container-id-10 label.sk-toggleable__label-arrow:before {content: \"▸\";float: left;margin-right: 0.25em;color: #696969;}#sk-container-id-10 label.sk-toggleable__label-arrow:hover:before {color: black;}#sk-container-id-10 div.sk-estimator:hover label.sk-toggleable__label-arrow:before {color: black;}#sk-container-id-10 div.sk-toggleable__content {max-height: 0;max-width: 0;overflow: hidden;text-align: left;background-color: #f0f8ff;}#sk-container-id-10 div.sk-toggleable__content pre {margin: 0.2em;color: black;border-radius: 0.25em;background-color: #f0f8ff;}#sk-container-id-10 input.sk-toggleable__control:checked~div.sk-toggleable__content {max-height: 200px;max-width: 100%;overflow: auto;}#sk-container-id-10 input.sk-toggleable__control:checked~label.sk-toggleable__label-arrow:before {content: \"▾\";}#sk-container-id-10 div.sk-estimator input.sk-toggleable__control:checked~label.sk-toggleable__label {background-color: #d4ebff;}#sk-container-id-10 div.sk-label input.sk-toggleable__control:checked~label.sk-toggleable__label {background-color: #d4ebff;}#sk-container-id-10 input.sk-hidden--visually {border: 0;clip: rect(1px 1px 1px 1px);clip: rect(1px, 1px, 1px, 1px);height: 1px;margin: -1px;overflow: hidden;padding: 0;position: absolute;width: 1px;}#sk-container-id-10 div.sk-estimator {font-family: monospace;background-color: #f0f8ff;border: 1px dotted black;border-radius: 0.25em;box-sizing: border-box;margin-bottom: 0.5em;}#sk-container-id-10 div.sk-estimator:hover {background-color: #d4ebff;}#sk-container-id-10 div.sk-parallel-item::after {content: \"\";width: 100%;border-bottom: 1px solid gray;flex-grow: 1;}#sk-container-id-10 div.sk-label:hover label.sk-toggleable__label {background-color: #d4ebff;}#sk-container-id-10 div.sk-serial::before {content: \"\";position: absolute;border-left: 1px solid gray;box-sizing: border-box;top: 0;bottom: 0;left: 50%;z-index: 0;}#sk-container-id-10 div.sk-serial {display: flex;flex-direction: column;align-items: center;background-color: white;padding-right: 0.2em;padding-left: 0.2em;position: relative;}#sk-container-id-10 div.sk-item {position: relative;z-index: 1;}#sk-container-id-10 div.sk-parallel {display: flex;align-items: stretch;justify-content: center;background-color: white;position: relative;}#sk-container-id-10 div.sk-item::before, #sk-container-id-10 div.sk-parallel-item::before {content: \"\";position: absolute;border-left: 1px solid gray;box-sizing: border-box;top: 0;bottom: 0;left: 50%;z-index: -1;}#sk-container-id-10 div.sk-parallel-item {display: flex;flex-direction: column;z-index: 1;position: relative;background-color: white;}#sk-container-id-10 div.sk-parallel-item:first-child::after {align-self: flex-end;width: 50%;}#sk-container-id-10 div.sk-parallel-item:last-child::after {align-self: flex-start;width: 50%;}#sk-container-id-10 div.sk-parallel-item:only-child::after {width: 0;}#sk-container-id-10 div.sk-dashed-wrapped {border: 1px dashed gray;margin: 0 0.4em 0.5em 0.4em;box-sizing: border-box;padding-bottom: 0.4em;background-color: white;}#sk-container-id-10 div.sk-label label {font-family: monospace;font-weight: bold;display: inline-block;line-height: 1.2em;}#sk-container-id-10 div.sk-label-container {text-align: center;}#sk-container-id-10 div.sk-container {/* jupyter's `normalize.less` sets `[hidden] { display: none; }` but bootstrap.min.css set `[hidden] { display: none !important; }` so we also need the `!important` here to be able to override the default hidden behavior on the sphinx rendered scikit-learn.org. See: https://github.com/scikit-learn/scikit-learn/issues/21755 */display: inline-block !important;position: relative;}#sk-container-id-10 div.sk-text-repr-fallback {display: none;}</style><div id=\"sk-container-id-10\" class=\"sk-top-container\"><div class=\"sk-text-repr-fallback\"><pre>Pipeline(steps=[(&#x27;vectorizer&#x27;, CountVectorizer()),\n",
       "                (&#x27;classifier&#x27;, LogisticRegression(multi_class=&#x27;multinomial&#x27;))])</pre><b>In a Jupyter environment, please rerun this cell to show the HTML representation or trust the notebook. <br />On GitHub, the HTML representation is unable to render, please try loading this page with nbviewer.org.</b></div><div class=\"sk-container\" hidden><div class=\"sk-item sk-dashed-wrapped\"><div class=\"sk-label-container\"><div class=\"sk-label sk-toggleable\"><input class=\"sk-toggleable__control sk-hidden--visually\" id=\"sk-estimator-id-32\" type=\"checkbox\" ><label for=\"sk-estimator-id-32\" class=\"sk-toggleable__label sk-toggleable__label-arrow\">Pipeline</label><div class=\"sk-toggleable__content\"><pre>Pipeline(steps=[(&#x27;vectorizer&#x27;, CountVectorizer()),\n",
       "                (&#x27;classifier&#x27;, LogisticRegression(multi_class=&#x27;multinomial&#x27;))])</pre></div></div></div><div class=\"sk-serial\"><div class=\"sk-item\"><div class=\"sk-estimator sk-toggleable\"><input class=\"sk-toggleable__control sk-hidden--visually\" id=\"sk-estimator-id-33\" type=\"checkbox\" ><label for=\"sk-estimator-id-33\" class=\"sk-toggleable__label sk-toggleable__label-arrow\">CountVectorizer</label><div class=\"sk-toggleable__content\"><pre>CountVectorizer()</pre></div></div></div><div class=\"sk-item\"><div class=\"sk-estimator sk-toggleable\"><input class=\"sk-toggleable__control sk-hidden--visually\" id=\"sk-estimator-id-34\" type=\"checkbox\" ><label for=\"sk-estimator-id-34\" class=\"sk-toggleable__label sk-toggleable__label-arrow\">LogisticRegression</label><div class=\"sk-toggleable__content\"><pre>LogisticRegression(multi_class=&#x27;multinomial&#x27;)</pre></div></div></div></div></div></div></div>"
      ],
      "text/plain": [
       "Pipeline(steps=[('vectorizer', CountVectorizer()),\n",
       "                ('classifier', LogisticRegression(multi_class='multinomial'))])"
      ]
     },
     "execution_count": null,
     "metadata": {},
     "output_type": "execute_result"
    }
   ],
   "source": [
    "# Train classifier\n",
    "router = Pipeline([\n",
    "    (\"vectorizer\", CountVectorizer()),\n",
    "    (\"classifier\", LogisticRegression(multi_class=\"multinomial\", solver=\"lbfgs\"))\n",
    "])\n",
    "router.fit(texts, labels)"
   ]
  },
  {
   "cell_type": "markdown",
   "id": "f7570fc7-158b-4799-87fb-33c1298b9594",
   "metadata": {},
   "source": [
    "**Note**: we also trained a BERT classifier and performance was not as good as our logistic regression use case given the size of our dataset."
   ]
  },
  {
   "cell_type": "markdown",
   "id": "68dd8c1e-08b7-43ee-829a-f3c6c2e8d8b7",
   "metadata": {},
   "source": [
    "## Inference"
   ]
  },
  {
   "cell_type": "code",
   "execution_count": null,
   "id": "5ca1ab5d-9a68-4062-a9f9-0dc267b1abe6",
   "metadata": {
    "tags": []
   },
   "outputs": [],
   "source": [
    "# Router file path\n",
    "router_fp = Path(EFS_DIR, \"router.pkl\")"
   ]
  },
  {
   "cell_type": "code",
   "execution_count": null,
   "id": "b3b9169b-2534-4c55-bf4b-471a4e524ed9",
   "metadata": {
    "tags": []
   },
   "outputs": [],
   "source": [
    "# Save\n",
    "with open(router_fp, \"wb\") as file:\n",
    "    pickle.dump(router, file)"
   ]
  },
  {
   "cell_type": "code",
   "execution_count": null,
   "id": "82f07fc8-3cf6-4189-a8a4-593860a73acf",
   "metadata": {
    "tags": []
   },
   "outputs": [],
   "source": [
    "# Load\n",
    "with open(router_fp, \"rb\") as file:\n",
    "    router = pickle.load(file)"
   ]
  },
  {
   "cell_type": "code",
   "execution_count": null,
   "id": "57536c4d-34d8-48e1-9d86-b83a5d766409",
   "metadata": {
    "tags": []
   },
   "outputs": [
    {
     "name": "stdout",
     "output_type": "stream",
     "text": [
      "[OSS] What is the default batch size for map_batches?\n"
     ]
    }
   ],
   "source": [
    "# Inference\n",
    "router_map = {0: \"GPT-4\", 1: \"OSS\"}\n",
    "query = \"What is the default batch size for map_batches?\"\n",
    "print (f\"[{router_map[router.predict([query])[0]]}]\", query)"
   ]
  },
  {
   "cell_type": "markdown",
   "id": "77cc5449-5cfc-469d-9f84-42f4ebff4f3d",
   "metadata": {},
   "source": [
    "## Evaluation"
   ]
  },
  {
   "cell_type": "markdown",
   "id": "6cc6a7b8-427b-433c-98e3-c82b6ffaf042",
   "metadata": {},
   "source": [
    "Now let's evaluate the performance on the [test dataset](https://github.com/ray-project/llm-applications/blob/main/datasets/routing-dataset-test.jsonl):"
   ]
  },
  {
   "cell_type": "code",
   "execution_count": null,
   "id": "073421c5-662c-4774-b256-103e11d81361",
   "metadata": {
    "tags": []
   },
   "outputs": [],
   "source": [
    "import numpy as np\n",
    "import pickle\n",
    "from sklearn.metrics import accuracy_score, classification_report\n",
    "from sklearn.metrics import precision_recall_fscore_support"
   ]
  },
  {
   "cell_type": "code",
   "execution_count": null,
   "id": "15b20f4e-57dc-42a5-9fce-012ce2c672e1",
   "metadata": {
    "tags": []
   },
   "outputs": [],
   "source": [
    "# Load\n",
    "with open(router_fp, \"rb\") as file:\n",
    "    router = pickle.load(file)"
   ]
  },
  {
   "cell_type": "code",
   "execution_count": null,
   "id": "87181fbe-b56f-485e-8089-34a2b1de3f49",
   "metadata": {
    "tags": []
   },
   "outputs": [],
   "source": [
    "with open(Path(ROOT_DIR, \"datasets\", \"routing-dataset-test.jsonl\")) as f:\n",
    "    records = [json.loads(line) for line in f]\n",
    "    texts = [record[\"question\"] for record in records]\n",
    "    y_test = [record[\"target\"] for record in records]\n",
    "    score_test = [record[\"score\"] for record in records]"
   ]
  },
  {
   "cell_type": "code",
   "execution_count": null,
   "id": "4c2b3f1d-be35-4103-9aeb-ae8d562b3ee2",
   "metadata": {
    "tags": []
   },
   "outputs": [],
   "source": [
    "# Predictions\n",
    "y_pred = router.predict(texts)"
   ]
  },
  {
   "cell_type": "code",
   "execution_count": null,
   "id": "beddd2f0-80a3-4c3d-a66c-7977fb1c43bc",
   "metadata": {
    "tags": []
   },
   "outputs": [
    {
     "name": "stdout",
     "output_type": "stream",
     "text": [
      "{\n",
      "    \"precision\": 0.9191264005602239,\n",
      "    \"recall\": 0.9285714285714286,\n",
      "    \"f1\": 0.9226432439812495,\n",
      "    \"num_samples\": 574.0\n",
      "}\n"
     ]
    }
   ],
   "source": [
    "metrics = {}\n",
    "performance = precision_recall_fscore_support(y_test, y_pred, average=\"weighted\")\n",
    "metrics[\"precision\"] = performance[0]\n",
    "metrics[\"recall\"] = performance[1]\n",
    "metrics[\"f1\"] = performance[2]\n",
    "metrics[\"num_samples\"] = np.float64(len(y_test))\n",
    "print (json.dumps(metrics, indent=4))"
   ]
  },
  {
   "cell_type": "code",
   "execution_count": null,
   "id": "9deb50e5-5702-4740-a92c-602af580f572",
   "metadata": {
    "tags": []
   },
   "outputs": [
    {
     "name": "stdout",
     "output_type": "stream",
     "text": [
      "# total samples 574\n",
      "# samples for OSS models: 544 (94.8%)\n",
      "Performance on samples predicted for codellama/CodeLlama-34b-Instruct-hf: 3.87\n",
      "Performance on samples predicted for gpt-4: 3.55\n"
     ]
    }
   ],
   "source": [
    "print (\"# total samples\", len(y_pred))\n",
    "print(f\"# samples for OSS models: {sum(y_pred)} ({sum(y_pred)*100/len(y_pred):.1f}%)\")\n",
    "print(f\"Performance on samples predicted for {LLM}: {np.mean([score_test[i] for i, p in enumerate(y_pred) if p]):.2f}\")\n",
    "print(f\"Performance on samples predicted for gpt-4: {np.mean([score_test[i] for i, p in enumerate(y_pred) if not p]):.2f}\")"
   ]
  },
  {
   "cell_type": "markdown",
   "id": "ec755df6-2568-445c-a9b0-7f3fa30fa9d4",
   "metadata": {},
   "source": [
    "**Note**: For our dataset, a small logistic regression model is good enough to perform the routing. But if your use case is more complex, consider training a more complex model, like a BERT-based classifier to perform the classification. These models are still small enough that wouldn’t introduce too much latency. Be sure to check out this [guide](https://github.com/GokuMohandas/Made-With-ML) if you want to learn how to train and deploy supervised deep learning models."
   ]
  },
  {
   "cell_type": "markdown",
   "id": "a84b35b1-1342-47cb-a203-b8f24926cfab",
   "metadata": {
    "tags": []
   },
   "source": [
    "# Serving"
   ]
  },
  {
   "cell_type": "markdown",
   "id": "014a7e88-a8c1-4114-ae2a-0651363595da",
   "metadata": {},
   "source": [
    "Now we're ready to start serving our Ray Assistant using our best configuration. We're going to use [Ray Serve](https://docs.ray.io/en/latest/serve/index.html) with [FastAPI](https://fastapi.tiangolo.com/) to develop and scale our service. First, we'll define some data structures like `Query` and `Answer` to represent the inputs and outputs to our service. We will also define a small function to load our index (assumes that the respective SQL dump file already exists). Finally, we can define our `QueryAgent` and use it to serve `POST` requests with the query. And we can serve our agent at any deployment scale we wish using the [@serve.deployment](https://docs.ray.io/en/latest/serve/api/doc/ray.serve.Deployment.html) decorator where we can specify the number of replicas, compute resources, etc."
   ]
  },
  {
   "cell_type": "code",
   "execution_count": null,
   "id": "31cbea09-318f-49b7-864c-ba7b8072f5be",
   "metadata": {
    "tags": []
   },
   "outputs": [],
   "source": [
    "import pickle\n",
    "import requests\n",
    "from typing import List"
   ]
  },
  {
   "cell_type": "code",
   "execution_count": null,
   "id": "123e53fa-8b11-4781-91fd-0947a242e0d5",
   "metadata": {
    "tags": []
   },
   "outputs": [],
   "source": [
    "from fastapi import FastAPI\n",
    "from pydantic import BaseModel\n",
    "from ray import serve\n",
    "from rag.generate import QueryAgent\n",
    "from rag.index import build_or_load_index"
   ]
  },
  {
   "cell_type": "code",
   "execution_count": null,
   "id": "cab7b615-d03b-4fb2-b099-3a02dd7e8c2f",
   "metadata": {
    "tags": []
   },
   "outputs": [],
   "source": [
    "# Initialize application\n",
    "app = FastAPI()"
   ]
  },
  {
   "cell_type": "code",
   "execution_count": null,
   "id": "e6d7ab2c-4946-4c6e-92da-08450ebc5a68",
   "metadata": {
    "tags": []
   },
   "outputs": [],
   "source": [
    "class Query(BaseModel):\n",
    "    query: str"
   ]
  },
  {
   "cell_type": "code",
   "execution_count": null,
   "id": "00d51f9a-fff8-40d6-92d5-0d9984e311cc",
   "metadata": {
    "tags": []
   },
   "outputs": [],
   "source": [
    "class Answer(BaseModel):\n",
    "    question: str\n",
    "    sources: List[str]\n",
    "    answer: str\n",
    "    llm: str"
   ]
  },
  {
   "cell_type": "code",
   "execution_count": null,
   "id": "24aca110-8bff-4097-aaee-33a70043c73c",
   "metadata": {
    "tags": []
   },
   "outputs": [
    {
     "name": "stderr",
     "output_type": "stream",
     "text": [
      "DeprecationWarning: `route_prefix` in `@serve.deployment` has been deprecated. To specify a route prefix for an application, pass it into `serve.run` instead.\n"
     ]
    }
   ],
   "source": [
    "@serve.deployment(route_prefix=\"/\", num_replicas=1, ray_actor_options={\"num_cpus\": 6, \"num_gpus\": 1})\n",
    "@serve.ingress(app)\n",
    "class RayAssistantDeployment:\n",
    "    def __init__(self, chunk_size, chunk_overlap, num_chunks, \n",
    "                 embedding_model_name, embedding_dim,\n",
    "                 use_lexical_search, lexical_search_k, \n",
    "                 use_reranking, rerank_threshold, rerank_k,\n",
    "                 llm, sql_dump_fp=None):\n",
    "        \n",
    "        # Set up\n",
    "        chunks = build_or_load_index(\n",
    "            embedding_model_name=embedding_model_name, \n",
    "            embedding_dim=embedding_dim, \n",
    "            chunk_size=chunk_size, \n",
    "            chunk_overlap=chunk_overlap,\n",
    "            sql_dump_fp=sql_dump_fp,\n",
    "        )\n",
    "\n",
    "        # Lexical index\n",
    "        lexical_index = None\n",
    "        self.lexical_search_k = lexical_search_k\n",
    "        if use_lexical_search:\n",
    "            texts = [re.sub(r\"[^a-zA-Z0-9]\", \" \", chunk[1]).lower().split() for chunk in chunks]\n",
    "            lexical_index = BM25Okapi(texts)\n",
    "\n",
    "        # Reranker\n",
    "        reranker = None\n",
    "        self.rerank_threshold = rerank_threshold\n",
    "        self.rerank_k = rerank_k\n",
    "        if use_reranking:\n",
    "            reranker_fp = Path(EFS_DIR, \"reranker.pkl\")\n",
    "            with open(reranker_fp, \"rb\") as file:\n",
    "                reranker = pickle.load(file)\n",
    "\n",
    "        # Query agent\n",
    "        self.num_chunks = num_chunks\n",
    "        system_content = \"Answer the query using the context provided. Be succinct. \" \\\n",
    "            \"Contexts are organized in a list of dictionaries [{'text': <context>}, {'text': <context>}, ...]. \" \\\n",
    "            \"Feel free to ignore any contexts in the list that don't seem relevant to the query. \"\n",
    "        self.oss_agent = QueryAgent(\n",
    "            embedding_model_name=embedding_model_name,\n",
    "            chunks=chunks,\n",
    "            lexical_index=lexical_index,\n",
    "            reranker=reranker,\n",
    "            llm=llm,\n",
    "            max_context_length=MAX_CONTEXT_LENGTHS[llm],\n",
    "            system_content=system_content)\n",
    "        self.gpt_agent = QueryAgent(\n",
    "            embedding_model_name=embedding_model_name,\n",
    "            chunks=chunks,\n",
    "            lexical_index=lexical_index,\n",
    "            reranker=reranker,\n",
    "            llm=\"gpt-4\",\n",
    "            max_context_length=MAX_CONTEXT_LENGTHS[\"gpt-4\"],\n",
    "            system_content=system_content)\n",
    "\n",
    "        # Router\n",
    "        router_fp = Path(EFS_DIR, \"router.pkl\")\n",
    "        with open(router_fp, \"rb\") as file:\n",
    "            self.router = pickle.load(file)\n",
    "\n",
    "    @app.post(\"/query\")\n",
    "    def query(self, query: Query) -> Answer:\n",
    "        use_oss_agent = self.router.predict([query.query])[0]\n",
    "        agent = self.oss_agent if use_oss_agent else self.gpt_agent\n",
    "        result = agent(\n",
    "            query=query.query, num_chunks=self.num_chunks, \n",
    "            lexical_search_k=self.lexical_search_k, \n",
    "            rerank_threshold=self.rerank_threshold, \n",
    "            rerank_k=self.rerank_k, \n",
    "            stream=False)\n",
    "        return Answer.parse_obj(result)"
   ]
  },
  {
   "cell_type": "markdown",
   "id": "79d4b6eb-cdbc-46cb-ab3d-adc246f9da9c",
   "metadata": {},
   "source": [
    "**Note**: As we can see, Ray Serve makes [model composition](https://docs.ray.io/en/latest/serve/model_composition.html) extremely easy and we could continue to make this more fine-grained. For example, we can train a classifier to discern between queries for `mixtral-8x7b-instruct-v0.1`,` codellama-34b-instruct-hf` (for code generation) and `gpt-4` (for highly complex queries). Also, we can use streaming end-to-end to reduce the time a user has to wait for the answer. Check out the `/stream` method in `rag/serve.py`."
   ]
  },
  {
   "cell_type": "code",
   "execution_count": null,
   "id": "80a097e8-2cbb-4193-87cd-eca48a143301",
   "metadata": {
    "tags": []
   },
   "outputs": [
    {
     "name": "stderr",
     "output_type": "stream",
     "text": [
      "\u001b[2m\u001b[36m(ServeController pid=213991)\u001b[0m WARNING 2023-11-09 22:10:03,839 controller 213991 application_state.py:663 - The deployments ['RayAssistantDeployment'] are UNHEALTHY.\n",
      "\u001b[2m\u001b[36m(ServeController pid=213991)\u001b[0m INFO 2023-11-09 22:10:03,942 controller 213991 deployment_state.py:1390 - Deploying new version of deployment RayAssistantDeployment in application 'default'.\n",
      "\u001b[2m\u001b[36m(ServeController pid=213991)\u001b[0m INFO 2023-11-09 22:10:04,044 controller 213991 deployment_state.py:1679 - Adding 1 replica to deployment RayAssistantDeployment in application 'default'.\n",
      "\u001b[2m\u001b[36m(ServeReplica:default:RayAssistantDeployment pid=217138)\u001b[0m Special tokens have been added in the vocabulary, make sure the associated word embeddings are fine-tuned or trained.\n",
      "\u001b[2m\u001b[36m(ServeReplica:default:RayAssistantDeployment pid=217138)\u001b[0m Special tokens have been added in the vocabulary, make sure the associated word embeddings are fine-tuned or trained.\n",
      "\u001b[2m\u001b[36m(ServeReplica:default:RayAssistantDeployment pid=217138)\u001b[0m INFO 2023-11-09 22:10:27,795 RayAssistantDeployment default#RayAssistantDeployment#ZuxuxM 2dacbeb8-f591-48d6-a4fe-b86043d7ceff / default replica.py:749 - __CALL__ OK 0.2ms\n",
      "2023-11-09 22:10:27,934\tINFO router.py:1132 -- Using router <class 'ray.serve._private.router.PowerOfTwoChoicesReplicaScheduler'>.\n",
      "2023-11-09 22:10:27,940\tINFO router.py:473 -- Got updated replicas for deployment 'RayAssistantDeployment' in application 'default': {'default#RayAssistantDeployment#ZuxuxM'}.\n"
     ]
    },
    {
     "data": {
      "text/plain": [
       "RayServeSyncHandle(deployment='RayAssistantDeployment')"
      ]
     },
     "execution_count": null,
     "metadata": {},
     "output_type": "execute_result"
    }
   ],
   "source": [
    "# Deploy the Ray Serve application.\n",
    "deployment = RayAssistantDeployment.bind(\n",
    "    chunk_size=CHUNK_SIZE,\n",
    "    chunk_overlap=CHUNK_OVERLAP,\n",
    "    num_chunks=NUM_CHUNKS,\n",
    "    embedding_model_name=EMBEDDING_MODEL_NAME,\n",
    "    embedding_dim=EMBEDDING_DIMENSIONS[EMBEDDING_MODEL_NAME],\n",
    "    use_lexical_search=USE_LEXICAL_SEARCH,\n",
    "    lexical_search_k=LEXICAL_SEARCH_K, \n",
    "    use_reranking=USE_RERANKING, \n",
    "    rerank_threshold=RERANK_THRESHOLD, \n",
    "    rerank_k=RERANK_K,\n",
    "    llm=LLM,\n",
    "    sql_dump_fp=SQL_DUMP_FP)\n",
    "serve.run(deployment)"
   ]
  },
  {
   "cell_type": "code",
   "execution_count": null,
   "id": "0f37bd52-ee23-4451-950b-a4badc1c2e52",
   "metadata": {
    "tags": []
   },
   "outputs": [
    {
     "data": {
      "text/plain": [
       "{'question': 'What is the default batch size for map_batches?',\n",
       " 'sources': ['https://docs.ray.io/en/master/data/batch_inference.html#configuring-batch-size',\n",
       "  'https://docs.ray.io/en/master/data/transforming-data.html#configuring-batch-size',\n",
       "  'https://docs.ray.io/en/master/data/examples/pytorch_resnet_batch_prediction.html#model-inference',\n",
       "  'https://docs.ray.io/en/master/data/api/doc/ray.data.Dataset.map_batches.html#ray-data-dataset-map-batches',\n",
       "  'https://docs.ray.io/en/master/data/batch_inference.html#configuring-batch-size',\n",
       "  'https://docs.ray.io/en/master/data/examples/huggingface_vit_batch_prediction.html#step-3-scaling-up-to-the-full-dataset-with-ray-data',\n",
       "  'https://docs.ray.io/en/master/serve/advanced-guides/dyn-req-batch.html#tips-for-fine-tuning-batching-parameters',\n",
       "  'https://docs.ray.io/en/master/data/api/doc/ray.data.Dataset.map_batches.html#ray-data-dataset-map-batches',\n",
       "  'https://docs.ray.io/en/master/data/examples/batch_inference_object_detection.html#model-inference'],\n",
       " 'answer': '  The default batch size for map_batches is 4096.',\n",
       " 'llm': 'codellama/CodeLlama-34b-Instruct-hf'}"
      ]
     },
     "execution_count": null,
     "metadata": {},
     "output_type": "execute_result"
    },
    {
     "name": "stderr",
     "output_type": "stream",
     "text": [
      "\u001b[2m\u001b[36m(ServeReplica:default:RayAssistantDeployment pid=217138)\u001b[0m INFO 2023-11-09 22:10:35,329 RayAssistantDeployment default#RayAssistantDeployment#ZuxuxM 380d5b6f-c3f8-43fa-a3c9-c22d5b04b47d /query default replica.py:749 - __CALL__ OK 3430.1ms\n"
     ]
    }
   ],
   "source": [
    "# Inference\n",
    "data = {\"query\": \"What is the default batch size for map_batches?\"}\n",
    "response = requests.post(\"http://127.0.0.1:8000/query\", json=data)\n",
    "response.json()"
   ]
  },
  {
   "cell_type": "markdown",
   "id": "1f0bc8bd-5d8a-4936-8460-8715464ed230",
   "metadata": {},
   "source": [
    "**Note**: As we can see, Ray Serve makes [model composition](https://docs.ray.io/en/latest/serve/model_composition.html) extremely easy and we could continue to make this even more fine-grained with more workflow logic.\n",
    "\n",
    "Once our application is served, we’re free to use it anywhere we want. For example, we use it as a bot on our Slack channels and as a widget on our docs page (public release coming soon). We can use this to collect feedback from our users to continually improve the application (fine-tuning, UI/UX, etc.).\n",
    "\n",
    "<img width=\"600\" src=\"https://images.ctfassets.net/xjan103pcp94/7pyW8T7La5T51C8iXEwmAO/706dc8ed0ca75cdcbf971d9e74cd67b3/Screenshot_2023-10-24_at_12.56.39_PM.png\">"
   ]
  },
  {
   "cell_type": "code",
   "execution_count": null,
   "id": "74566075-7ad8-4269-8be5-5dc2602ef06b",
   "metadata": {
    "tags": []
   },
   "outputs": [
    {
     "name": "stderr",
     "output_type": "stream",
     "text": [
      "2023-11-09 22:10:41,238\tINFO router.py:473 -- Got updated replicas for deployment 'RayAssistantDeployment' in application 'default': set().\n",
      "\u001b[2m\u001b[36m(ServeController pid=213991)\u001b[0m INFO 2023-11-09 22:10:41,235 controller 213991 deployment_state.py:1707 - Removing 1 replica from deployment 'RayAssistantDeployment' in application 'default'.\n",
      "\u001b[2m\u001b[36m(ServeController pid=213991)\u001b[0m INFO 2023-11-09 22:10:43,848 controller 213991 deployment_state.py:2027 - Replica default#RayAssistantDeployment#ZuxuxM is stopped.\n"
     ]
    }
   ],
   "source": [
    "# Shutdown\n",
    "serve.shutdown()"
   ]
  },
  {
   "cell_type": "markdown",
   "id": "101dab0a-5a8d-4156-b6d2-2f38ff333add",
   "metadata": {},
   "source": [
    "# Data flywheel"
   ]
  },
  {
   "cell_type": "markdown",
   "id": "3d57ef4c-fa7c-491f-befe-f894ee036cab",
   "metadata": {},
   "source": [
    "Creating an application like this is not a one-time task. It's extremely important that we continue to iterate and keep our application up to date. This includes continually reindexing our data so that our application is working with the most up-to-date information. As well as rerunning our experiments to see if any of the decisions need to be altered. This process of continuous iteration can be achieved by mapping our workflows to [CI/CD pipelines](https://madewithml.com/courses/mlops/cicd/).\n",
    "\n",
    "A key part of iteration that goes beyond automated reindexing, evaluation, etc. involves fixing our data itself. In fact, we found that this is the **most** impactful lever (way beyond our retrieval and generation optimizations above) we could control. Here is an example workflow we've settled on:\n",
    "1. Users use the RAG application to ask questions about the product.\n",
    "2. Use feedback (👍/👎, visited source pages, top-k cosine scores, etc.) to identify underperforming queries.\n",
    "3. Inspect the retrieved resources, tokenization, etc. to decide if it's a shortcoming of retrieval, generation or the underlying data source.\n",
    "4. If something in the data can be improved, separated into sections/pages, etc. → fix it!\n",
    "5. Reindex and deploy a new version of the application."
   ]
  },
  {
   "cell_type": "markdown",
   "id": "cf3f9a4a-15bb-4567-82bb-e2a0808f1616",
   "metadata": {
    "tags": []
   },
   "source": [
    "# Impact"
   ]
  },
  {
   "cell_type": "markdown",
   "id": "615b2ad0-94a1-477c-92ee-6bdab3dcc99e",
   "metadata": {},
   "source": [
    "## Products and productivity"
   ]
  },
  {
   "cell_type": "markdown",
   "id": "6df6c44c-10e5-482f-a715-efd0b2c068a1",
   "metadata": {},
   "source": [
    "Building an LLM application like this has had a tremendous impact on our products and company. There were expected 1st order impacts in overall developer and user adoption for our products. The capability to interact and solve problems that our users experience in a self-serve and immediate manner is the type of feature that would improve the experience of any product. It makes it significantly easier for people to succeed and it elevated the perception around LLM applications from a **nice-to-have** to a **must-have**. "
   ]
  },
  {
   "cell_type": "markdown",
   "id": "fce8c9b5-cce0-467c-81b9-1aefcb7437d3",
   "metadata": {},
   "source": [
    "## Foundational agents"
   ]
  },
  {
   "cell_type": "markdown",
   "id": "e895c161-f035-49dc-84d5-1f70d2b65ef9",
   "metadata": {},
   "source": [
    "However, there were also some 2nd order impacts that we didn’t immediately realize. For example, when we further inspected user queries that yielded poor scores, often the issue existed because of a gap in our documentation. When we made the fix (ex. added the appropriate section to our docs), this improved our product and the LLM application itself — creating a very valuable feedback flywheel. Furthermore, when internal teams learned of the capabilities of our LLM application, this generated the development of highly valuable LLM applications that depend on this Ray docs LLM application as one of its **foundational agents** that it uses to perform its tasks."
   ]
  },
  {
   "cell_type": "markdown",
   "id": "5c79bcbe-89eb-469d-a809-acb780cec143",
   "metadata": {},
   "source": [
    "<img width=\"700\" src=\"https://images.ctfassets.net/xjan103pcp94/2UF2tSV3kmXtrzmqMsYrLF/76bcc71b481986eb6cb3b06d60582ec5/image18.png\">"
   ]
  },
  {
   "cell_type": "markdown",
   "id": "fc4b13ef-11a8-472d-85a5-48b480628e59",
   "metadata": {},
   "source": [
    "For example, we’ve internally developed a feature called Anyscale Doctor that helps developers diagnose and debug issues during development. Issues in code can be caused by a variety of reasons but when the issue is Ray related, the LLM application we built here is called to aid in resolving the particular issue."
   ]
  },
  {
   "cell_type": "markdown",
   "id": "0c61ff8d-d76b-47d5-8ae8-85d7aaf41b19",
   "metadata": {},
   "source": [
    "# Learn more"
   ]
  },
  {
   "cell_type": "markdown",
   "id": "6f451be7-3468-4dab-aed9-2e6621ad0a10",
   "metadata": {},
   "source": [
    "- If your team is investing heavily in developing LLM applications, [reach out](mailto:endpoints-help@anyscale.com) to us to learn more about how [Ray](https://github.com/ray-project/ray) and [Anyscale](http://anyscale.com/) can help you scale and productionize everything.\n",
    "- Start serving (+fine-tuning) OSS LLMs with [Anyscale Endpoints](https://www.anyscale.com/endpoints) ($1/M tokens for Llama-2-70b) w/ 1M free tokens trial.\n",
    "- If you need to deploy on your own private cloud, check out [Anyscale Private Endpoints](https://www.anyscale.com/endpoints#private).\n",
    "- Learn more about how companies like OpenAI, Netflix, Pinterest, Verizon, Instacart and others leverage Ray and Anyscale for their AI workloads at the [Ray Summit](https://raysummit.anyscale.com/).\n"
   ]
  }
 ],
 "metadata": {
  "kernelspec": {
   "display_name": "Python 3 (ipykernel)",
   "language": "python",
   "name": "python3"
  },
  "language_info": {
   "codemirror_mode": {
    "name": "ipython",
    "version": 3
   },
   "file_extension": ".py",
   "mimetype": "text/x-python",
   "name": "python",
   "nbconvert_exporter": "python",
   "pygments_lexer": "ipython3",
   "version": "3.10.8"
  }
 },
 "nbformat": 4,
 "nbformat_minor": 5
}
